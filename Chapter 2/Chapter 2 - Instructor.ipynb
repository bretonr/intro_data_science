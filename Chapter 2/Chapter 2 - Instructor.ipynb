{
 "cells": [
  {
   "cell_type": "code",
   "execution_count": 1,
   "metadata": {
    "scrolled": true
   },
   "outputs": [
    {
     "data": {
      "text/html": [
       "<style>.container { width:95% !important; }</style>"
      ],
      "text/plain": [
       "<IPython.core.display.HTML object>"
      ]
     },
     "metadata": {},
     "output_type": "display_data"
    },
    {
     "data": {
      "text/html": [
       "<link href=\"https://fonts.googleapis.com/css?family=Fira+Sans:300,300i,600,600i\" rel=\"stylesheet\">\n",
       "<link href=\"https://fonts.googleapis.com/css?family=Inconsolata\" rel=\"stylesheet\">\n",
       "<link href=\"https://fonts.googleapis.com/css?family=Titillium+Web:400,400i,700,700i\" rel=\"stylesheet\">\n",
       "\n",
       "\n",
       "<style>\n",
       "\n",
       ".container {\n",
       "    max-width:1000px !important;\n",
       "}\n",
       "\n",
       ".text_cell_render p {\n",
       "font-style: regular;\n",
       "font-family: 'Fira Sans', sans-serif;\n",
       "display: block;\n",
       "text-align: justify;\n",
       "}\n",
       "/*font-weight: 200;*/\n",
       "/*text-align: left;\n",
       "line-height: 100%;\n",
       "display: block;\n",
       "}*/\n",
       "a {\n",
       "color:#377bb5;\n",
       "}\n",
       ".text_cell_render h1 {\n",
       "/*font-size: 24pt;*/\n",
       "font-family: 'Titillium Web', sans-serif;\n",
       "font-weight: bold;\n",
       "margin-bottom: 0.1em;\n",
       "margin-top: 0.5em;\n",
       "color:#4a4a4a;\n",
       "}\n",
       ".text_cell_render h2 {\n",
       "/*font-size: 21pt;*/\n",
       "    font-family: 'Titillium Web', sans-serif;\n",
       "margin-bottom: 0.1em;\n",
       "margin-top: 0.5em;\n",
       "color:#595959;\n",
       "}\n",
       ".text_cell_render h3 {\n",
       "    font-family: 'Titillium Web', sans-serif;\n",
       "/*font-size: 19pt;*/\n",
       "margin-bottom: 0.1em;\n",
       "margin-top: 0.5em;\n",
       "color:#595959;\n",
       "}\n",
       ".text_cell_render h4 {\n",
       "    font-family: 'Titillium Web', sans-serif;\n",
       "/*font-size: 17pt;*/\n",
       "font-size: 110%;\n",
       "margin-bottom: 0.1em;\n",
       "margin-top: 0.5em;\n",
       "color:#595959;\n",
       "}\n",
       ".text_cell_render h5 {\n",
       "    font-family: 'Titillium Web', sans-serif;\n",
       "/*font-size: 15pt;*/\n",
       "margin-bottom: 0.1em;\n",
       "margin-top: 0.5em;\n",
       "color:#595959;\n",
       "}\n",
       "div.text_cell_render{\n",
       "font-style: regular;\n",
       "font-family: 'Fira Sans', sans-serif;\n",
       "line-height: 120%;\n",
       "font-size: 100%;\n",
       "font-weight: 400;\n",
       "text-align: justify;\n",
       "margin-left:0em;\n",
       "margin-right:0em;\n",
       "}\n",
       "code {\n",
       "font-family: 'Inconsolata', monospace;\n",
       "}\n",
       "pre {\n",
       "font-family: 'Inconsolata', monospace;\n",
       "}\n",
       "\n",
       "div.example {\n",
       "    font-family: 'Titillium Web', sans-serif;\n",
       "/*font-size: 15pt;*/\n",
       "font-weight: bold;\n",
       "font-variant: small-caps;\n",
       "text-decoration: underline;\n",
       "margin-bottom: 0.1em;\n",
       "margin-top: 0.3em;\n",
       "color:#595959;\n",
       "}\n",
       "\n",
       "div.queue {\n",
       "font-size: x-large;\n",
       "font-variant: small-caps;\n",
       "font-family: 'Titillium Web', sans-serif;\n",
       "font-weight: bold;\n",
       "/*margin-bottom: 0.1em;*/\n",
       "/*margin-top: 0.5em;*/\n",
       "margin: 10px;\n",
       "padding: 10px;\n",
       "color:#cc0000;\n",
       "border-style: solid none solid none;\n",
       "border-width: 2px;\n",
       "border-color:#cc0000;\n",
       "border-spacing: 10px;\n",
       "}\n",
       "\n",
       "div.opt_start {\n",
       "font-size: large;\n",
       "font-variant: small-caps;\n",
       "font-family: 'Titillium Web', sans-serif;\n",
       "font-weight: bold;\n",
       "/*margin-bottom: 0.1em;*/\n",
       "/*margin-top: 0.5em;*/\n",
       "margin: 10px;\n",
       "padding: 10px;\n",
       "color:#0000cc;\n",
       "border-style: solid none none none;\n",
       "border-width: 2px;\n",
       "border-color:#0000cc;\n",
       "border-spacing: 10px;\n",
       "}\n",
       "div.opt_end {\n",
       "font-size: large;\n",
       "font-variant: small-caps;\n",
       "font-family: 'Titillium Web', sans-serif;\n",
       "font-weight: bold;\n",
       "/*margin-bottom: 0.1em;*/\n",
       "/*margin-top: 0.5em;*/\n",
       "margin: 10px;\n",
       "padding: 10px;\n",
       "color:#0000cc;\n",
       "border-style: none none solid none;\n",
       "border-width: 2px;\n",
       "border-color:#0000cc;\n",
       "border-spacing: 10px;\n",
       "}\n",
       "\n",
       ".reveal h1 {\n",
       "font-family: 'Titillium Web', sans-serif;\n",
       "/*font-size: 24pt;*/\n",
       "font-weight: bold;\n",
       "margin-bottom: 0.1em;\n",
       "margin-top: 0.5em;\n",
       "color:#4a4a4a;\n",
       "}\n",
       ".reveal h2 {\n",
       "font-family: 'Titillium Web', sans-serif;\n",
       "/*font-size: 24pt;*/\n",
       "font-weight: bold;\n",
       "margin-bottom: 0.1em;\n",
       "margin-top: 0.5em;\n",
       "color:#595959;\n",
       "}\n",
       ".reveal h3 {\n",
       "font-family: 'Titillium Web', sans-serif;\n",
       "/*font-size: 24pt;*/\n",
       "font-weight: bold;\n",
       "margin-bottom: 0.1em;\n",
       "margin-top: 0.5em;\n",
       "color:#595959;\n",
       "}\n",
       ".reveal h4 {\n",
       "font-family: 'Titillium Web', sans-serif;\n",
       "font-size: 110%;\n",
       "font-weight: bold;\n",
       "margin-bottom: 0.1em;\n",
       "margin-top: 0.5em;\n",
       "color:#595959;\n",
       "}\n",
       ".reveal div.text_cell_render{\n",
       "line-height: 120%;\n",
       "font-size: 74%;\n",
       "font-weight: 400;\n",
       "text-align: justify;\n",
       "margin-left:0em;\n",
       "margin-right:0em;\n",
       "}\n",
       ".reveal .code_cell {\n",
       "    font-size: 92%;\n",
       "}\n",
       ".reveal code {\n",
       "font-family: 'Inconsolata', monospace;\n",
       "}\n",
       ".reveal pre {\n",
       "font-family: 'Inconsolata', monospace;\n",
       "}\n",
       "\n",
       ".CodeMirror{\n",
       "font-family: \"Inconsolata\", monospace;\n",
       "}\n",
       "\n",
       "</style>"
      ],
      "text/plain": [
       "<IPython.core.display.HTML object>"
      ]
     },
     "execution_count": 1,
     "metadata": {},
     "output_type": "execute_result"
    }
   ],
   "source": [
    "## Import required Python modules\n",
    "%matplotlib inline\n",
    "import matplotlib.pyplot as plt\n",
    "import numpy as np\n",
    "import scipy, scipy.stats\n",
    "import io\n",
    "import base64\n",
    "#from IPython.core.display import display\n",
    "from IPython.display import display, HTML, Image\n",
    "from urllib.request import urlopen\n",
    "\n",
    "try:\n",
    "    import astropy as apy\n",
    "    import astropy.table\n",
    "    _apy = True\n",
    "    #print('Loaded astropy')\n",
    "except:\n",
    "    _apy = False\n",
    "    #print('Could not load astropy')\n",
    "\n",
    "## Customising the font size of figures\n",
    "plt.rcParams.update({'font.size': 14})\n",
    "\n",
    "## Customising the look of the notebook\n",
    "display(HTML(\"<style>.container { width:95% !important; }</style>\"))\n",
    "## This custom file is adapted from https://github.com/lmarti/jupyter_custom/blob/master/custom.include\n",
    "HTML('custom.css')\n",
    "#HTML(urlopen('https://raw.githubusercontent.com/bretonr/intro_data_science/master/custom.css').read().decode('utf-8'))"
   ]
  },
  {
   "cell_type": "code",
   "execution_count": 2,
   "metadata": {
    "scrolled": true
   },
   "outputs": [
    {
     "data": {
      "text/html": [
       "<script>\n",
       "code_show=true; \n",
       "function code_toggle() {\n",
       " if (code_show){\n",
       " $('div.input').hide();\n",
       " } else {\n",
       " $('div.input').show();\n",
       " }\n",
       " code_show = !code_show\n",
       "} \n",
       "$( document ).ready(code_toggle);\n",
       "</script>\n",
       "<form action=\"javascript:code_toggle()\"><input type=\"submit\" value=\"Click here to toggle on/off the Python code.\"></form>"
      ],
      "text/plain": [
       "<IPython.core.display.HTML object>"
      ]
     },
     "execution_count": 2,
     "metadata": {},
     "output_type": "execute_result"
    }
   ],
   "source": [
    "## Adding a button to hide the Python source code\n",
    "HTML('''<script>\n",
    "code_show=true; \n",
    "function code_toggle() {\n",
    " if (code_show){\n",
    " $('div.input').hide();\n",
    " } else {\n",
    " $('div.input').show();\n",
    " }\n",
    " code_show = !code_show\n",
    "} \n",
    "$( document ).ready(code_toggle);\n",
    "</script>\n",
    "<form action=\"javascript:code_toggle()\"><input type=\"submit\" value=\"Click here to toggle on/off the Python code.\"></form>''')"
   ]
  },
  {
   "cell_type": "code",
   "execution_count": 3,
   "metadata": {},
   "outputs": [
    {
     "data": {
      "text/html": [
       "<script>\n",
       "queue_show=true;\n",
       "function queue_toggle() {\n",
       " if (queue_show){\n",
       " $('div.queue').hide();\n",
       " } else {\n",
       " $('div.queue').show();\n",
       " }\n",
       "queue_show = !queue_show\n",
       "} \n",
       "$( document ).ready(queue_toggle);\n",
       "</script>\n",
       "<form action=\"javascript:queue_toggle()\"><input type=\"submit\" value=\"Click here to toggle on/off the queues.\"></form>"
      ],
      "text/plain": [
       "<IPython.core.display.HTML object>"
      ]
     },
     "execution_count": 3,
     "metadata": {},
     "output_type": "execute_result"
    }
   ],
   "source": [
    "HTML('''<script>\n",
    "queue_show=true;\n",
    "function queue_toggle() {\n",
    " if (queue_show){\n",
    " $('div.queue').hide();\n",
    " } else {\n",
    " $('div.queue').show();\n",
    " }\n",
    "queue_show = !queue_show\n",
    "} \n",
    "$( document ).ready(queue_toggle);\n",
    "</script>\n",
    "<form action=\"javascript:queue_toggle()\"><input type=\"submit\" value=\"Click here to toggle on/off the queues.\"></form>''')"
   ]
  },
  {
   "cell_type": "markdown",
   "metadata": {},
   "source": [
    "<div class=\"container-fluid\">\n",
    "    <div class=\"row\">\n",
    "        <div class=\"col-md-8\" align=\"center\">\n",
    "            <h1>PHYS 10791: Introduction to Data Science</h1>\n",
    "            <!--<h3>2019-2020 Academic Year</h3><br>-->\n",
    "        </div>\n",
    "        <div class=\"col-md-3\">\n",
    "            <img align='center' style=\"border-width:0\" src=\"images/UoM_logo.png\"/>\n",
    "        </div>\n",
    "    </div>\n",
    "</div>\n",
    "\n",
    "<div class=\"container-fluid\">\n",
    "    <div class=\"row\">\n",
    "        <div class=\"col-md-2\" align=\"right\">\n",
    "            <b>Course instructors:&nbsp;&nbsp;</b>\n",
    "        </div>\n",
    "        <div class=\"col-md-9\" align=\"left\">\n",
    "            <a href=\"http://www.renebreton.org\">Prof. Rene Breton</a> - Twitter <a href=\"https://twitter.com/BretonRene\">@BretonRene</a><br>\n",
    "            <a href=\"http://www.hep.manchester.ac.uk/u/gersabec\">Dr. Marco Gersabeck</a> - Twitter <a href=\"https://twitter.com/MarcoGersabeck\">@MarcoGersabeck</a>\n",
    "        </div>\n",
    "    </div>\n",
    "</div>"
   ]
  },
  {
   "cell_type": "markdown",
   "metadata": {},
   "source": [
    "<div class=\"queue\">\n",
    "    Lecture 3 - 00:00\n",
    "</div>"
   ]
  },
  {
   "cell_type": "markdown",
   "metadata": {},
   "source": [
    "## 2.1 Probabilities and random variables"
   ]
  },
  {
   "cell_type": "markdown",
   "metadata": {},
   "source": [
    "### 2.1.1 Axioms of probability\n",
    "\n",
    "Repeated measurements => degree of randomness => probability\n",
    "\n",
    "Definitions:\n",
    "- $\\cap$: _intersection_, **'AND'**\n",
    "- $\\cup$: _union_, **'OR'**\n",
    "- $\\subset$: _subset_, set within bigger set\n",
    "- $\\emptyset$: empty _subset_\n",
    "- $\\bar A$: **'NOT'** the subset\n",
    "- $\\mid$: **given**, i.e. conditional to\n",
    "\n",
    "Probability following Kolmogorov (1933). Let us define set $\\Omega = \\{E_1, E_2, \\dots \\}$.\n",
    "\n",
    "For subset $A$ of $\\Omega$ such that $A \\subset \\Omega$: $P(A)$ is called probability and satisfies the three *axioms of probability*:\n",
    "\n",
    "1. For subset $A$ such that $A \\subset \\Omega$, $P(A) \\geq 0$\n",
    "2. For disjoint subsets $A$ and $B$ (i.e. $A \\cap B = \\emptyset$), $P(A \\cup B) = P(A) + P(B)$\n",
    "3. $P(\\Omega) = 1$\n",
    "\n",
    "The following properties can be derived from these axioms:\n",
    "\n",
    "- $P(\\bar A) = 1 - P(A)$, where $\\bar A$ is complement subset (**NOT**)\n",
    "- $P(A \\cup \\bar A) = 1$\n",
    "- $0 \\leq P(A) \\leq 1$\n",
    "- $P(\\emptyset) = 0$\n",
    "- If $A \\subset B$ then $P(A) \\leq P(B)$\n",
    "- $P(A \\cup B) = P(A) + P(B) - P(A \\cap B)$"
   ]
  },
  {
   "cell_type": "markdown",
   "metadata": {},
   "source": [
    "<div class=\"queue\">\n",
    "    Lecture 3 - 00:10\n",
    "</div>"
   ]
  },
  {
   "cell_type": "markdown",
   "metadata": {},
   "source": [
    "<div class=\"example\">Example 1</div>\n",
    "\n",
    "_Euler diagram_, illustrates a probability space.\n",
    "\n",
    "<img src=\"images/1024px-Conditional_probability.svg.png\" width=\"40%\">\n",
    "\n",
    "- $P(A) = 0.3 + 0.1 + 0.12 = 0.52$\n",
    "- $P(B_2) = 0.12 + 0.04 = 0.16$\n",
    "- $P(\\bar A) = 0.34 + 0.1 + 0.04 = 0.48 = 1 - 0.52$\n",
    "- $P(A \\cup B_2) = P(A) + P(B) - P(A \\cap B_2) = 0.52 + 0.16 - 0.12 = 0.56$"
   ]
  },
  {
   "cell_type": "markdown",
   "metadata": {},
   "source": [
    "<div class=\"queue\">\n",
    "    Lecture 3 - 00:15 - Problem Sheet 2, Problem 1 (Rene's household universe)\n",
    "</div>"
   ]
  },
  {
   "cell_type": "markdown",
   "metadata": {},
   "source": [
    "<div class=\"queue\">\n",
    "    Lecture 3 - 00:20\n",
    "</div>"
   ]
  },
  {
   "cell_type": "markdown",
   "metadata": {},
   "source": [
    "### 2.2.2 Bayes theorem"
   ]
  },
  {
   "cell_type": "markdown",
   "metadata": {},
   "source": [
    "#### Conditional probability\n",
    "Conditional probability of $A$ given $B$ is:\n",
    "\n",
    "\\begin{equation}\n",
    "  P(A \\mid B) = \\frac{P(A \\cap B)}{P(B)}\n",
    "\\end{equation}"
   ]
  },
  {
   "cell_type": "markdown",
   "metadata": {},
   "source": [
    "<div class=\"example\">Example 1</div>\n",
    "\n",
    "From Euler diagram:\n",
    "\n",
    "- $P(A \\mid B_1) = \\frac{0.1}{0.1} = 1$\n",
    "- $P(A \\mid B_2) = \\frac{0.12}{0.16} = 0.75$\n",
    "- $P(A \\mid B_3) = \\frac{0}{0.1} = 0$.\n",
    "- $P(A \\mid B) = \\frac{0.1 + 0.12}{0.1 + 0.12 + 0.04 + 0.1} = 0.61$"
   ]
  },
  {
   "cell_type": "markdown",
   "metadata": {},
   "source": [
    "#### Derivation of Bayes theorem\n",
    "\n",
    "Conditional probability of B given A:\n",
    "\n",
    "\\begin{equation}\n",
    "  P(B \\mid A) = \\frac{P(B \\cap A)}{P(A)}\n",
    "\\end{equation}\n",
    "\n",
    "However, $P(A \\cap B) = P(B \\cap A)$. Combine the two conditional probabilities:\n",
    "\n",
    "\\begin{eqnarray}\n",
    "  P(A \\mid B) &=& \\frac{P(A) P(B \\mid A)}{P(B)} \\\\\n",
    "         &=& \\frac{P(A) P(B \\mid A)}{\\sum_i P(B \\mid A_i) P(A_i)}\n",
    "\\end{eqnarray}\n",
    "\n",
    "Second form if $B$ is made of multiple subsets.\n",
    "\n",
    "**Bayes rule**. Often:\n",
    "\n",
    "- $P: P(A \\mid B)$, posterior\n",
    "- $I: P(A)$, prior\n",
    "- $\\mathcal{L}: P(B \\mid A)$, likelihood\n",
    "- $E: P(B)$, evidence\n",
    "\n",
    "Therefore:\n",
    "\n",
    "\\begin{equation}\n",
    "  P = \\frac{I \\mathcal{L}}{E}\n",
    "\\end{equation}"
   ]
  },
  {
   "cell_type": "markdown",
   "metadata": {},
   "source": [
    "<div class=\"queue\">\n",
    "    Lecture 3 - 00:25\n",
    "</div>"
   ]
  },
  {
   "cell_type": "markdown",
   "metadata": {},
   "source": [
    "### Case study: The mesmerising effect of Bayes' theorem\n",
    "\n",
    "Consider for the case of a certain type of cancer, which causes a specific set of symptoms to manifest in all individuals suffering from it. If an individual displays these symptoms, does it mean that they suffer from the said cancer?\n",
    "\n",
    "One of the surprising consequences of using Bayes' theorem to correctly perform statistical inference is that in certain situations it sometimes goes against our first intuition. More often than not, this is due to not correctly accounting for the prior probability (or not including it at all).\n",
    "\n",
    "The answer to the above question is that it is not 100% certain that the person has cancer. In fact, the probability can be suprisingly low. Why? We must consider the prevalence of thes symptom in the general population. It could be that other conditions also cause the same symptoms or, even, that some healthy individuals display it somehow.\n",
    "\n",
    "To answer such kind of problem is often easier with a table of outcomes. Let us imagine that 1 in 20,000 people suffer from this cancer and that the symptoms are seen in 100% of patients with this particular cancer. Let us add, however, that of the remaining 19,999, 2 also exhibit the particular symptom. Therefore:\n",
    "\n",
    "|       | C Yes | C No   | Total |\n",
    "|-------|-------|--------|-------|\n",
    "| S Yes | 1     | 2      | 3     |\n",
    "| S No  | 0     | 19997  | 19997 |\n",
    "| Total | 1     | 19999  | 20000 |\n",
    "\n",
    "Recasted in a mathematical way, the question is $P({\\rm cancer} | {\\rm symptom})$. We can readily see that the answer is $1/3$, or 33%.\n",
    "\n",
    "The full Bayesian calculation is:\n",
    "\\begin{eqnarray}\n",
    "  P({\\rm cancer} \\mid {\\rm symptom}) &=& \\frac{P({\\rm cancer}) P({\\rm symptom} \\mid {\\rm cancer})}{P({\\rm symptom})} \\\\\n",
    "                                     &=& \\frac{P({\\rm cancer}) P({\\rm symptom} \\mid {\\rm cancer})}{P({\\rm cancer}) P({\\rm symptom} \\mid {\\rm cancer}) + P({\\rm no cancer}) P({\\rm symptom} \\mid {\\rm no cancer})} \\\\\n",
    "                                     &=& \\frac{1/20000 \\cdot 1}{1/20000 \\cdot 1 + 19999/20000 \\cdot 2/19999} \\\\\n",
    "                                     &=& 0.333\n",
    "\\end{eqnarray}\n",
    "\n",
    "We therefore recover the 33%."
   ]
  },
  {
   "cell_type": "markdown",
   "metadata": {},
   "source": [
    "<div class=\"queue\">\n",
    "    Lecture 3 - 00:30 - Problem Sheet 2, Problem 2 (Screening test)\n",
    "</div>"
   ]
  },
  {
   "cell_type": "markdown",
   "metadata": {},
   "source": [
    "<div class=\"queue\">\n",
    "    Lecture 3 - 00:40\n",
    "</div>"
   ]
  },
  {
   "cell_type": "markdown",
   "metadata": {},
   "source": [
    "### Case study: The maths behind screening tests\n",
    "\n",
    "Let us investigate the maths behind medical screening tests...\n",
    "\n",
    "*An over-the-counter test is available to diagnose some particular disease. One sees the following package on a shelf. They purchase it and get a positive test result once administered at home. What is the probability that they suffer from this particular disease?*\n",
    "\n",
    "<img src=\"images/supertest.png\" width=\"30%\">\n",
    "\n",
    "After reading the small prints on the instruction manual, they find the following:\n",
    "\n",
    "```\n",
    "Disease BlahBlah is a rare condition contracted from aliens, which affects 0.1% of the population. Infected individuals produce a special protein that our test has been designed to detect. Controlled laboratory studies demonstrated a test accuracy of 99% on patients suffering from the disease and a 3% false positive rate on non-infected patients.\n",
    "```\n",
    "\n",
    "The naive answer to this question is that they have a 99% probability of suffering from the disease. However, the correct answer is actually more subtle, **Bayes rule comes to the rescue** to help us work it out.\n",
    "\n",
    "First, we need to know the fraction of the population that carries the disease. Let us consider for the example that 0.1% of the population is infected. That is, the prior probability to have the disease or not is:\n",
    "\n",
    "\\begin{eqnarray}\n",
    "  P({\\rm disease}) &=& 0.001 \\\\\n",
    "  P({\\rm no\\,disease}) &=& 0.999\n",
    "\\end{eqnarray}\n",
    "\n",
    "A test yields a positive result with probability 98% given that the person carries the disease:\n",
    "\n",
    "\\begin{eqnarray}\n",
    "  P({\\rm +} \\mid {\\rm disease}) &=& 0.99 \\\\\n",
    "  P({\\rm -} \\mid {\\rm disease}) &=& 0.01\n",
    "\\end{eqnarray}\n",
    "\n",
    "and a probability of 3% of people test positive even if they do not have the disease:\n",
    "\n",
    "\\begin{eqnarray}\n",
    "  P({\\rm +} \\mid {\\rm no\\,disease}) &=& 0.03 \\\\\n",
    "  P({\\rm -} \\mid {\\rm no\\,disease}) &=& 0.97\n",
    "\\end{eqnarray}\n",
    "\n",
    "The probability that someone taking the test has the disease if returning a positve result is therefore:\n",
    "\n",
    "\\begin{eqnarray}\n",
    "  P({\\rm disease} \\mid {\\rm +}) &=& \\frac{P({\\rm disease}) P({\\rm +} \\mid {\\rm disease})}{P({\\rm +})} \\\\\n",
    "  P({\\rm disease} \\mid {\\rm +}) &=& \\frac{P({\\rm disease}) P({\\rm +} \\mid {\\rm disease})}{P({\\rm disease}) P({\\rm +} \\mid {\\rm disease}) + P({\\rm no\\,disease}) P({\\rm +} \\mid {\\rm no\\,disease})} \\\\\n",
    "          &=& \\frac{0.001 \\cdot 0.99}{0.001 \\cdot 0.99 + 0.999 \\cdot 0.03} \\\\\n",
    "          &=& 0.032\n",
    "\\end{eqnarray}\n",
    "\n",
    "The answer is therefore 3.2%, not 98% as naively expected!"
   ]
  },
  {
   "cell_type": "markdown",
   "metadata": {},
   "source": [
    "<div class=\"queue\">\n",
    "    Lecture 3 - 00:45\n",
    "</div>"
   ]
  },
  {
   "cell_type": "markdown",
   "metadata": {},
   "source": [
    "## 2.3 Probability distributions"
   ]
  },
  {
   "cell_type": "markdown",
   "metadata": {},
   "source": [
    "### 2.3.1 General probability distributions"
   ]
  },
  {
   "cell_type": "markdown",
   "metadata": {},
   "source": [
    "#### Discrete probability distribution\n",
    "\n",
    "Observable $x \\in \\Omega$ can only take discrete values. **Probability mass function** (PMF) is probability of $x$:\n",
    "\n",
    "\\begin{equation}\n",
    "  f(x) \\,.\n",
    "\\end{equation}\n",
    "\n",
    "As per axiom 3:\n",
    "\\begin{equation}\n",
    "  \\sum_{x \\, \\in \\, \\Omega} f(x) = 1 \\,.\n",
    "\\end{equation}\n",
    "\n",
    "*Ex: Odds of rolling 6 on dice.*"
   ]
  },
  {
   "cell_type": "markdown",
   "metadata": {},
   "source": [
    "#### Continuous probability distribution\n",
    "\n",
    "Observable $x \\in \\Omega$ can take continuous values. **Probability density function** (PDF) is probability of $x$ in interval $[x,x+dx]$:\n",
    "\n",
    "\\begin{equation}\n",
    "  f(x) dx \\,.\n",
    "\\end{equation}\n",
    "\n",
    "As per axiom 3:\n",
    "\n",
    "\\begin{equation}\n",
    "  \\int_\\Omega f(x) dx = 1\n",
    "\\end{equation}\n",
    "\n",
    "*Ex: Odds of Manchester United winning Manchester derby against Manchester City.*"
   ]
  },
  {
   "cell_type": "markdown",
   "metadata": {},
   "source": [
    "<div class=\"queue\">\n",
    "    Lecture 4 - 00:00\n",
    "</div>"
   ]
  },
  {
   "cell_type": "markdown",
   "metadata": {},
   "source": [
    "### 2.3.2 Some important probability distributions"
   ]
  },
  {
   "cell_type": "markdown",
   "metadata": {},
   "source": [
    "#### Binomial distribution\n",
    "\n",
    "Process with identical trials with two outcomes.\n",
    "\n",
    "Ex:\n",
    "\n",
    "- Coin (head/tail)\n",
    "- Quality control (pass/fail)\n",
    "- Treatement in medecine (cure/no cure)\n",
    "\n",
    "Define:\n",
    "\n",
    "- $k$ number of successes\n",
    "- $n$ number of trials\n",
    "- $p$ probability of an individual success\n",
    "\n",
    "##### PMF\n",
    "\n",
    "\\begin{equation}\n",
    "  P(k;, n, p) = p^k (1-p)^{(n-k)} \\frac{n!}{k!(n-k)!}\n",
    "\\end{equation}\n",
    "\n",
    "##### Properties\n",
    "\n",
    "Mean: $np$\n",
    "\n",
    "Variance: $np(1-p)$"
   ]
  },
  {
   "cell_type": "markdown",
   "metadata": {},
   "source": [
    "<div class=\"example\">Example 1</div>\n",
    "\n",
    "Toss coin four times. Possible outcomes?\n",
    "\n",
    "| Outcome | Degeneracy | Probability |\n",
    "| :-----: | :--------: | :---------: |\n",
    "| HHHH    | 1          | 1/16        |\n",
    "| HHHT    | 4          | 1/4         |\n",
    "| HHTT    | 6          | 3/8         |\n",
    "| HTTT    | 4          | 1/4         |\n",
    "| TTTT    | 1          | 1/16        |\n",
    "\n",
    "What is the probability of having one head out of four fair coin toss?\n",
    "\n",
    "_The answer is $1/4$. Using the PMF:_\n",
    "\n",
    "\\begin{equation}\n",
    "  P(1; 4, 0.5) = 0.5^1 (1-0.5)^{4-1} \\frac{4!}{1! (4-1)!} = 0.25\n",
    "\\end{equation}"
   ]
  },
  {
   "cell_type": "markdown",
   "metadata": {},
   "source": [
    "<div class=\"example\">Example 2</div>\n",
    "\n",
    "What is the probability of having no more than one head out of four fair coin toss?\n",
    "\n",
    "\\begin{equation}\n",
    "  P(k \\le 1; n=4, p=0.5) = P(k=0) + P(k=1) = 1/16 + 1/4 = 0.3125\n",
    "\\end{equation}"
   ]
  },
  {
   "cell_type": "markdown",
   "metadata": {},
   "source": [
    "**Plotting the binomial distribution**"
   ]
  },
  {
   "cell_type": "code",
   "execution_count": 8,
   "metadata": {},
   "outputs": [
    {
     "data": {
      "image/png": "[encoded data removed]",
      "text/plain": [
       "<Figure size 864x576 with 1 Axes>"
      ]
     },
     "metadata": {
      "needs_background": "light"
     },
     "output_type": "display_data"
    }
   ],
   "source": [
    "## Generating the subplots\n",
    "fig, ax = plt.subplots(1, 1, figsize=(12,8))\n",
    "\n",
    "## Generating the PMF for three cases. Note that we use implicit array operations instead of looping through k values.\n",
    "n1 = 15\n",
    "k1 = np.arange(n1+1)\n",
    "p1 = 0.5\n",
    "prob1 = scipy.stats.binom.pmf(k1, n1, p1)\n",
    "\n",
    "n2 = 15\n",
    "k2 = np.arange(n2+1)\n",
    "p2 = 0.75\n",
    "prob2 = scipy.stats.binom.pmf(k2, n2, p2)\n",
    "\n",
    "n3 = 30\n",
    "k3 = np.arange(n3+1)\n",
    "p3 = 0.5\n",
    "prob3 = scipy.stats.binom.pmf(k3, n3, p3)\n",
    "\n",
    "## Plotting\n",
    "_ = ax.plot(k1, prob1, '.', ms=20, label='p=0.50, n=15')\n",
    "_ = ax.plot(k2, prob2, 's', ms=10, label='p=0.75, n=15')\n",
    "_ = ax.plot(k3, prob3, '^', ms=10, label='p=0.50, n=30')\n",
    "_ = ax.set_xlabel('Number of successes (k)')\n",
    "_ = ax.set_ylabel('Probability')\n",
    "_ = ax.legend()\n",
    "\n",
    "## We save the figure\n",
    "#fig.savefig('./images/binomial_pmf.pdf')"
   ]
  },
  {
   "cell_type": "markdown",
   "metadata": {},
   "source": [
    "<div class=\"queue\">\n",
    "    Lecture 4 - 00:10 - Problem Sheet 2, Problem 3 (Tossing fair coin)\n",
    "</div>"
   ]
  },
  {
   "cell_type": "markdown",
   "metadata": {},
   "source": [
    "<div class=\"queue\">\n",
    "    Lecture 4 - 00:15\n",
    "</div>"
   ]
  },
  {
   "cell_type": "markdown",
   "metadata": {},
   "source": [
    "#### Poisson distribution\n",
    "\n",
    "Process with number of events occurring in a given interval, with average occurance rate known and events independent.\n",
    "\n",
    "Ex:\n",
    "\n",
    "- Letters at home per day\n",
    "- Phone calls at call centre between 9 and 10 am\n",
    "- Number of X-ray photons received from binary system in a 1-min window\n",
    "\n",
    "Define:\n",
    "\n",
    "- $k$ number of events in interval\n",
    "- $\\lambda$ average event rate per interval\n",
    "\n",
    "##### PMF\n",
    "\n",
    "\\begin{equation}\n",
    "  P(k; \\lambda) = e^{-\\lambda} \\frac{\\lambda^k}{k!}\n",
    "\\end{equation}\n",
    "\n",
    "##### Properties\n",
    "\n",
    "Mean: $\\lambda$\n",
    "\n",
    "Variance: $\\lambda$"
   ]
  },
  {
   "cell_type": "markdown",
   "metadata": {},
   "source": [
    "<div class=\"example\">Example 1</div>\n",
    "\n",
    "In 1898, Russian economist Ladislaus Bortkiewicz published a book on statistics that included a study which has now become a classic example of Poisson statistics. The study looked into the number of annual deaths of soliders in the Prussian army by horse kicks from 1875 to 1894. In 14 different army cavalry corps, over this 20 years period, there were 196 deaths.\n",
    "\n",
    "| Year | GC  | C1  | C2  | C3  | C4  | C5  | C6  | C7  | C8  | C9  | C10 | C11 | C14 | C15 |\n",
    "| :--: | :-: | :-: | :-: | :-: | :-: | :-: | :-: | :-: | :-: | :-: | :-: | :-: | :-: | :-: |\n",
    "| 1875 | 0   | 0   | 0   | 0   | 0   | 0   | 0   | 1   | 1   | 0   | 0   | 0   | 1   | 0   |\n",
    "| 1876 | 2   | 0   | 0   | 0   | 1   | 0   | 0   | 0   | 0   | 0   | 0   | 0   | 1   | 1   |\n",
    "| 1877 | 2   | 0   | 0   | 0   | 0   | 0   | 1   | 1   | 0   | 0   | 1   | 0   | 2   | 0   |\n",
    "| 1878 | 1   | 2   | 2   | 1   | 1   | 0   | 0   | 0   | 0   | 0   | 1   | 0   | 1   | 0   |\n",
    "| 1879 | 0   | 0   | 0   | 1   | 1   | 2   | 2   | 0   | 1   | 0   | 0   | 2   | 1   | 0   |\n",
    "| 1880 | 0   | 3   | 2   | 1   | 1   | 1   | 0   | 0   | 0   | 2   | 1   | 4   | 3   | 0   |\n",
    "| 1881 | 1   | 0   | 0   | 2   | 1   | 0   | 0   | 1   | 0   | 1   | 0   | 0   | 0   | 0   |\n",
    "| 1882 | 1   | 2   | 0   | 0   | 0   | 0   | 1   | 0   | 1   | 1   | 2   | 1   | 4   | 1   |\n",
    "| 1883 | 0   | 0   | 1   | 2   | 0   | 1   | 2   | 1   | 0   | 1   | 0   | 3   | 0   | 0   |\n",
    "| 1884 | 3   | 0   | 1   | 0   | 0   | 0   | 0   | 1   | 0   | 0   | 2   | 0   | 1   | 1   |\n",
    "| 1885 | 0   | 0   | 0   | 0   | 0   | 0   | 1   | 0   | 0   | 2   | 0   | 1   | 0   | 1   |\n",
    "| 1886 | 2   | 1   | 0   | 0   | 1   | 1   | 1   | 0   | 0   | 1   | 0   | 1   | 3   | 0   |\n",
    "| 1887 | 1   | 1   | 2   | 1   | 0   | 0   | 3   | 2   | 1   | 1   | 0   | 1   | 2   | 0   |\n",
    "| 1888 | 0   | 1   | 1   | 0   | 0   | 1   | 1   | 0   | 0   | 0   | 0   | 1   | 1   | 0   |\n",
    "| 1889 | 0   | 0   | 1   | 1   | 0   | 1   | 1   | 0   | 0   | 1   | 2   | 2   | 0   | 2   |\n",
    "| 1890 | 1   | 2   | 0   | 2   | 0   | 1   | 1   | 2   | 0   | 2   | 1   | 1   | 2   | 2   |\n",
    "| 1891 | 0   | 0   | 0   | 1   | 1   | 1   | 0   | 1   | 1   | 0   | 3   | 3   | 1   | 0   |\n",
    "| 1892 | 1   | 3   | 2   | 0   | 1   | 1   | 3   | 0   | 1   | 1   | 0   | 1   | 1   | 0   |\n",
    "| 1893 | 0   | 1   | 0   | 0   | 0   | 1   | 0   | 2   | 0   | 0   | 1   | 3   | 0   | 0   |\n",
    "| 1894 | 1   | 0   | 0   | 0   | 0   | 0   | 0   | 0   | 1   | 0   | 1   | 1   | 0   | 0   |\n",
    "\n",
    "| number of deaths | number of occurrences |\n",
    "| :--------------: | :-------------------: |\n",
    "| 0                | 144                   |\n",
    "| 1                | 91                    |\n",
    "| 2                | 32                    |\n",
    "| 3                | 11                    |\n",
    "| 4                | 2                     |\n",
    "| 5                | 0                     |\n",
    "| 6                | 0                     |\n",
    "\n",
    "Can these data be described by Poisson?\n",
    "\n",
    "Death rate per corps per year is: $\\lambda = 196\\, {\\rm deaths}/(14\\, {\\rm corps}*20\\, {\\rm years}) = 196/280 = 0.7$.\n",
    "\n",
    "Probability of no deaths in a corps in a year is:\n",
    "\n",
    "\\begin{equation}\n",
    "    P(k=0; \\lambda=0.7) = e^{-0.7} \\frac{0.7^0}{0!} = 0.4966\n",
    "\\end{equation}\n",
    "\n",
    "How does it compare to the real data? 144 entries out of 280 with no recorded deaths, so $144/280 = 0.5142$."
   ]
  },
  {
   "cell_type": "markdown",
   "metadata": {},
   "source": [
    "**Plotting the Poisson distribution**"
   ]
  },
  {
   "cell_type": "code",
   "execution_count": 9,
   "metadata": {},
   "outputs": [
    {
     "data": {
      "image/png": "[encoded data removed]",
      "text/plain": [
       "<Figure size 864x576 with 1 Axes>"
      ]
     },
     "metadata": {
      "needs_background": "light"
     },
     "output_type": "display_data"
    }
   ],
   "source": [
    "## Generating the subplots\n",
    "fig, ax = plt.subplots(1, 1, figsize=(12,8))\n",
    "\n",
    "## Generating the PMF for three cases. Note that we use implicit array operations instead of looping through k values.\n",
    "n1 = 20\n",
    "k1 = np.arange(n1+1)\n",
    "rate1 = 1\n",
    "prob1 = scipy.stats.poisson.pmf(k1, rate1)\n",
    "\n",
    "n2 = 20\n",
    "k2 = np.arange(n2+1)\n",
    "rate2 = 5\n",
    "prob2 = scipy.stats.poisson.pmf(k2, rate2)\n",
    "\n",
    "n3 = 20\n",
    "k3 = np.arange(n3+1)\n",
    "rate3 = 10\n",
    "prob3 = scipy.stats.poisson.pmf(k3, rate3)\n",
    "\n",
    "## Plotting\n",
    "_ = ax.plot(k1, prob1, '.', ms=20, label='$\\lambda$=1')\n",
    "_ = ax.plot(k2, prob2, 's', ms=10, label='$\\lambda$=5')\n",
    "_ = ax.plot(k3, prob3, '^', ms=10, label='$\\lambda$=10')\n",
    "_ = ax.set_xlabel('Number of successes (k)')\n",
    "_ = ax.set_ylabel('Probability')\n",
    "_ = ax.legend()\n",
    "\n",
    "## We save the figure\n",
    "#fig.savefig('./images/poisson_pmf.pdf')"
   ]
  },
  {
   "cell_type": "markdown",
   "metadata": {},
   "source": [
    "<div class=\"queue\">\n",
    "    Lecture 4 - 00:25 - Problem Sheet 2, Problem 4 (Hurricane Harvey)\n",
    "</div>"
   ]
  },
  {
   "cell_type": "markdown",
   "metadata": {},
   "source": [
    "<div class=\"queue\">\n",
    "    Lecture 4 - 00:30\n",
    "</div>"
   ]
  },
  {
   "cell_type": "markdown",
   "metadata": {},
   "source": [
    "#### Gaussian distribution\n",
    "\n",
    "Also known as *normal distribution*. Process of continuous events, where we know the mean and standard deviation.\n",
    "\n",
    "Ex:\n",
    "\n",
    "- The mass of a bag of flour bought at the grocery store\n",
    "- The distribution of heights of students in a core physics lecture course\n",
    "- The gravitational constant derived from a pendulum experiment by the 1st year physics students\n",
    "\n",
    "Define:\n",
    "    \n",
    "- $\\mu$: mean\n",
    "- $\\sigma$: standard distribution\n",
    "\n",
    "##### PDF\n",
    "\\begin{equation}\n",
    "  P(x; \\mu, \\sigma) \\sim \\mathcal{N}(\\mu, \\sigma^2) = \\frac{1}{\\sigma \\sqrt{2\\pi}} e^{-\\frac{(x-\\mu)^2}{2\\sigma^2}}\n",
    "\\end{equation}\n",
    "\n",
    "##### Properties\n",
    "\n",
    "Mean, median, mode: $\\mu$\n",
    "\n",
    "Variance: $\\sigma^2$"
   ]
  },
  {
   "cell_type": "markdown",
   "metadata": {},
   "source": [
    "<div class=\"example\">Example 1</div>\n",
    "\n",
    "Antropomorphic statistics for the UK report an average adult female height of 161.9 cm with a standard deviation of 6.5 cm. Assuming that these data follow a Gaussian distribution, how likely is it that an adult female would be taller 174.9 cm?\n",
    "<img src=\"images/1920px-Standard_deviation_diagram.svg.png\" width=\"50%\">\n",
    "(Source: [M. W. Toews](https://commons.wikimedia.org/wiki/User:Mwtoews), [Standard deviation diagram](https://commons.wikimedia.org/wiki/File:Standard_deviation_diagram.svg), [CC BY 2.5](https://creativecommons.org/licenses/by/2.5/legalcode))\n",
    "\n",
    "The question is therefore $P({\\rm height} > 174.9 ; \\mu = 161.9, \\sigma = 6.5)$.\n",
    "\n",
    "Note that $174.9 - 161.9 = 13$, which is exactly $2 \\times 6.5 = 2 \\sigma$. Therefore, the probability is the area in the upper tail above $2\\sigma$. This is $2.1 + 0.1 = 2.2\\%$.\n",
    "\n",
    "_**Note**: any Physics student should know the area under the curve for the key 1, 2 and 3 $\\sigma$ intervals of the Gaussian distribution. Alternatively, it may be easier to remember that the area between $\\pm 1$, $\\pm 2$ and $\\pm 3 \\sigma$ are respectively $68.26$, $95.44$ and $99.72\\%$._"
   ]
  },
  {
   "cell_type": "markdown",
   "metadata": {},
   "source": [
    "**Plotting the Gaussian distribution**"
   ]
  },
  {
   "cell_type": "code",
   "execution_count": 10,
   "metadata": {},
   "outputs": [
    {
     "data": {
      "image/png": "[encoded data removed]",
      "text/plain": [
       "<Figure size 864x576 with 1 Axes>"
      ]
     },
     "metadata": {
      "needs_background": "light"
     },
     "output_type": "display_data"
    }
   ],
   "source": [
    "## Generating the subplots\n",
    "fig, ax = plt.subplots(1, 1, figsize=(12,8))\n",
    "\n",
    "## Generating the PMF for three cases. Note that we use implicit array operations instead of looping through k values.\n",
    "mu1 = 0.\n",
    "sigma1 = 1.\n",
    "x1 = np.linspace(-5,10,201)\n",
    "prob1 = scipy.stats.norm.pdf(x1, loc=mu1, scale=sigma1)\n",
    "\n",
    "mu2 = 0.\n",
    "sigma2 = 0.5\n",
    "x2 = np.linspace(-5,10,201)\n",
    "prob2 = scipy.stats.norm.pdf(x2, loc=mu2, scale=sigma2)\n",
    "\n",
    "mu3 = 3.\n",
    "sigma3 = 1.5\n",
    "x3 = np.linspace(-5,10,201)\n",
    "prob3 = scipy.stats.norm.pdf(x3, loc=mu3, scale=sigma3)\n",
    "\n",
    "## Plotting\n",
    "_ = ax.plot(x1, prob1, '-', lw=4, label='$\\mu=0.0$, $\\sigma=1.0$')\n",
    "_ = ax.plot(x2, prob2, '-', lw=4, label='$\\mu=0.0$, $\\sigma=0.5$')\n",
    "_ = ax.plot(x3, prob3, '-', lw=4, label='$\\mu=3.0$, $\\sigma=1.5$')\n",
    "_ = ax.set_xlabel('x')\n",
    "_ = ax.set_ylabel('Probability')\n",
    "_ = ax.legend()\n",
    "\n",
    "## We save the figure\n",
    "#fig.savefig('./images/gaussian_pdf.pdf')"
   ]
  },
  {
   "cell_type": "markdown",
   "metadata": {},
   "source": [
    "<div class=\"queue\">\n",
    "    Lecture 4 - 00:40 - Problem Sheet 2, Problem 5 (Hurricane Harvey)\n",
    "</div>"
   ]
  },
  {
   "cell_type": "markdown",
   "metadata": {},
   "source": [
    "<div class=\"queue\">\n",
    "    Lecture 4 - 00:45\n",
    "</div>"
   ]
  },
  {
   "cell_type": "markdown",
   "metadata": {},
   "source": [
    "### 2.3.3 Gaussian distribution as a limit of Binomial and Poisson distributions"
   ]
  },
  {
   "cell_type": "markdown",
   "metadata": {},
   "source": [
    "Poisson is extension of binomial where unknown number of trials and events go from discrete to continuous, but with a discrete number of successes. Ex: rolling a dice (discrete events) vs lightning flashes (time continuum).\n",
    "\n",
    "Both Binomial and Poisson distribution turn into Gaussian distributions in the limit where $n$ and $\\lambda$ are infinity.\n",
    "\n",
    "<img src=\"images/stats triad.png\" width=\"40%\">"
   ]
  },
  {
   "cell_type": "code",
   "execution_count": 11,
   "metadata": {},
   "outputs": [
    {
     "data": {
      "image/png": "[encoded data removed]",
      "text/plain": [
       "<Figure size 1152x432 with 2 Axes>"
      ]
     },
     "metadata": {
      "needs_background": "light"
     },
     "output_type": "display_data"
    }
   ],
   "source": [
    "## Generating the subplots\n",
    "fig, ax = plt.subplots(1, 2, figsize=(16,6))\n",
    "\n",
    "## Generating the PMF for three cases (binomial, Poisson and Gaussian).\n",
    "n1 = 10\n",
    "p1 = 0.5\n",
    "k1 = np.arange(n1*p1*3)\n",
    "binom1 = scipy.stats.binom.pmf(k1, n1, p1)\n",
    "\n",
    "rate1 = n1*p1\n",
    "poisson1 = scipy.stats.poisson.pmf(k1, rate1)\n",
    "\n",
    "mu1 = n1*p1\n",
    "sigma1 = np.sqrt(n1*p1*(1-p1))\n",
    "x1 = np.linspace(0,n1*p1*3,201)\n",
    "gauss1 = scipy.stats.norm.pdf(x1, loc=mu1, scale=sigma1)\n",
    "\n",
    "## Plotting\n",
    "_ = ax[0].plot(k1, binom1, '.', ms=20, label='Binomial $P(k;10,0.5)$')\n",
    "_ = ax[0].plot(k1, poisson1, 's', ms=10, label='Poisson $P(k;5)$')\n",
    "_ = ax[0].plot(x1, gauss1, '-', lw=4, label='Gaussian $\\mathcal{N}(5,2.5)$')\n",
    "_ = ax[0].set_xlabel('Number of successes (k)')\n",
    "_ = ax[0].set_ylabel('Probability')\n",
    "_ = ax[0].legend()\n",
    "\n",
    "## Generating the PMF for three cases (binomial, Poisson and Gaussian).\n",
    "n2 = 300\n",
    "p2 = 0.1\n",
    "k2 = np.arange(n2*p2*2)\n",
    "binom2 = scipy.stats.binom.pmf(k2, n2, p2)\n",
    "\n",
    "rate2 = n2*p2\n",
    "poisson2 = scipy.stats.poisson.pmf(k2, rate2)\n",
    "\n",
    "mu2 = n2*p2\n",
    "sigma2 = np.sqrt(n2*p2*(1-p2))\n",
    "x2 = np.linspace(0,n2*p2*2,201)\n",
    "gauss2 = scipy.stats.norm.pdf(x2, loc=mu2, scale=sigma2)\n",
    "\n",
    "## Plotting\n",
    "_ = ax[1].plot(k2, binom2, '.', ms=20, label='Binomial $P(k;300,0.1)$')\n",
    "_ = ax[1].plot(k2, poisson2, 's', ms=10, label='Poisson $P(k;30)$')\n",
    "_ = ax[1].plot(x2, gauss2, '-', lw=4, label='Gaussian $\\mathcal{N}(30,27)$')\n",
    "_ = ax[1].set_xlabel('Number of successes (k)')\n",
    "_ = ax[1].set_ylabel('Probability')\n",
    "_ = ax[1].legend()\n",
    "\n",
    "## We save the figure\n",
    "#fig.savefig('./images/gaussian_limit.pdf')"
   ]
  },
  {
   "cell_type": "markdown",
   "metadata": {},
   "source": [
    "<div class=\"well\" align=\"center\">\n",
    "    <div class=\"container-fluid\">\n",
    "        <div class=\"row\">\n",
    "            <div class=\"col-md-3\" align=\"center\">\n",
    "                <img align=\"center\" alt=\"Creative Commons License\" style=\"border-width:0\" src=\"https://i.creativecommons.org/l/by-nc-sa/4.0/88x31.png\" width=\"60%\">\n",
    "            </div>\n",
    "            <div class=\"col-md-8\">\n",
    "            This work is licensed under a <a href=\"http://creativecommons.org/licenses/by-nc-sa/4.0/\">Creative Commons Attribution-NonCommercial-ShareAlike 4.0 International License</a>).\n",
    "            </div>\n",
    "        </div>\n",
    "    </div>\n",
    "    <br>\n",
    "    <br>\n",
    "    <i>Note: The content of this Jupyter Notebook is provided for educational purposes only.</i>\n",
    "</div>"
   ]
  }
 ],
 "metadata": {
  "kernelspec": {
   "display_name": "Python 3 (ipykernel)",
   "language": "python",
   "name": "python3"
  },
  "language_info": {
   "codemirror_mode": {
    "name": "ipython",
    "version": 3
   },
   "file_extension": ".py",
   "mimetype": "text/x-python",
   "name": "python",
   "nbconvert_exporter": "python",
   "pygments_lexer": "ipython3",
   "version": "3.8.11"
  },
  "latex_envs": {
   "LaTeX_envs_menu_present": true,
   "autocomplete": true,
   "bibliofile": "biblio.bib",
   "cite_by": "apalike",
   "current_citInitial": 1,
   "eqLabelWithNumbers": true,
   "eqNumInitial": 1,
   "hotkeys": {
    "equation": "Ctrl-E",
    "itemize": "Ctrl-I"
   },
   "labels_anchors": false,
   "latex_user_defs": false,
   "report_style_numbering": false,
   "user_envs_cfg": false
  }
 },
 "nbformat": 4,
 "nbformat_minor": 4
}
