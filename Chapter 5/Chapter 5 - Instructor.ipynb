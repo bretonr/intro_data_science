{
 "cells": [
  {
   "cell_type": "code",
   "execution_count": 1,
   "metadata": {},
   "outputs": [
    {
     "data": {
      "text/html": [
       "<style>.container { width:95% !important; }</style>"
      ],
      "text/plain": [
       "<IPython.core.display.HTML object>"
      ]
     },
     "metadata": {},
     "output_type": "display_data"
    },
    {
     "data": {
      "text/html": [
       "<link href=\"https://fonts.googleapis.com/css?family=Fira+Sans:300,300i,600,600i\" rel=\"stylesheet\">\n",
       "<link href=\"https://fonts.googleapis.com/css?family=Inconsolata\" rel=\"stylesheet\">\n",
       "<link href=\"https://fonts.googleapis.com/css?family=Titillium+Web:400,400i,700,700i\" rel=\"stylesheet\">\n",
       "\n",
       "\n",
       "<style>\n",
       "\n",
       ".container {\n",
       "    max-width:1000px !important;\n",
       "}\n",
       "\n",
       ".text_cell_render p {\n",
       "font-style: regular;\n",
       "font-family: 'Fira Sans', sans-serif;\n",
       "display: block;\n",
       "text-align: justify;\n",
       "}\n",
       "/*font-weight: 200;*/\n",
       "/*text-align: left;\n",
       "line-height: 100%;\n",
       "display: block;\n",
       "}*/\n",
       "a {\n",
       "color:#377bb5;\n",
       "}\n",
       ".text_cell_render h1 {\n",
       "/*font-size: 24pt;*/\n",
       "font-family: 'Titillium Web', sans-serif;\n",
       "font-weight: bold;\n",
       "margin-bottom: 0.1em;\n",
       "margin-top: 0.5em;\n",
       "color:#4a4a4a;\n",
       "}\n",
       ".text_cell_render h2 {\n",
       "/*font-size: 21pt;*/\n",
       "    font-family: 'Titillium Web', sans-serif;\n",
       "margin-bottom: 0.1em;\n",
       "margin-top: 0.5em;\n",
       "color:#595959;\n",
       "}\n",
       ".text_cell_render h3 {\n",
       "    font-family: 'Titillium Web', sans-serif;\n",
       "/*font-size: 19pt;*/\n",
       "margin-bottom: 0.1em;\n",
       "margin-top: 0.5em;\n",
       "color:#595959;\n",
       "}\n",
       ".text_cell_render h4 {\n",
       "    font-family: 'Titillium Web', sans-serif;\n",
       "/*font-size: 17pt;*/\n",
       "font-size: 110%;\n",
       "margin-bottom: 0.1em;\n",
       "margin-top: 0.5em;\n",
       "color:#595959;\n",
       "}\n",
       ".text_cell_render h5 {\n",
       "    font-family: 'Titillium Web', sans-serif;\n",
       "/*font-size: 15pt;*/\n",
       "margin-bottom: 0.1em;\n",
       "margin-top: 0.5em;\n",
       "color:#595959;\n",
       "}\n",
       "div.text_cell_render{\n",
       "font-style: regular;\n",
       "font-family: 'Fira Sans', sans-serif;\n",
       "line-height: 120%;\n",
       "font-size: 100%;\n",
       "font-weight: 400;\n",
       "text-align: justify;\n",
       "margin-left:0em;\n",
       "margin-right:0em;\n",
       "}\n",
       "code {\n",
       "font-family: 'Inconsolata', monospace;\n",
       "}\n",
       "pre {\n",
       "font-family: 'Inconsolata', monospace;\n",
       "}\n",
       "\n",
       "div.example {\n",
       "    font-family: 'Titillium Web', sans-serif;\n",
       "/*font-size: 15pt;*/\n",
       "font-weight: bold;\n",
       "font-variant: small-caps;\n",
       "text-decoration: underline;\n",
       "margin-bottom: 0.1em;\n",
       "margin-top: 0.3em;\n",
       "color:#595959;\n",
       "}\n",
       "\n",
       "div.queue {\n",
       "font-size: x-large;\n",
       "font-variant: small-caps;\n",
       "font-family: 'Titillium Web', sans-serif;\n",
       "font-weight: bold;\n",
       "/*margin-bottom: 0.1em;*/\n",
       "/*margin-top: 0.5em;*/\n",
       "margin: 10px;\n",
       "padding: 10px;\n",
       "color:#cc0000;\n",
       "border-style: solid none solid none;\n",
       "border-width: 2px;\n",
       "border-color:#cc0000;\n",
       "border-spacing: 10px;\n",
       "}\n",
       "\n",
       "div.opt_start {\n",
       "font-size: large;\n",
       "font-variant: small-caps;\n",
       "font-family: 'Titillium Web', sans-serif;\n",
       "font-weight: bold;\n",
       "/*margin-bottom: 0.1em;*/\n",
       "/*margin-top: 0.5em;*/\n",
       "margin: 10px;\n",
       "padding: 10px;\n",
       "color:#0000cc;\n",
       "border-style: solid none none none;\n",
       "border-width: 2px;\n",
       "border-color:#0000cc;\n",
       "border-spacing: 10px;\n",
       "}\n",
       "div.opt_end {\n",
       "font-size: large;\n",
       "font-variant: small-caps;\n",
       "font-family: 'Titillium Web', sans-serif;\n",
       "font-weight: bold;\n",
       "/*margin-bottom: 0.1em;*/\n",
       "/*margin-top: 0.5em;*/\n",
       "margin: 10px;\n",
       "padding: 10px;\n",
       "color:#0000cc;\n",
       "border-style: none none solid none;\n",
       "border-width: 2px;\n",
       "border-color:#0000cc;\n",
       "border-spacing: 10px;\n",
       "}\n",
       "\n",
       ".reveal h1 {\n",
       "font-family: 'Titillium Web', sans-serif;\n",
       "/*font-size: 24pt;*/\n",
       "font-weight: bold;\n",
       "margin-bottom: 0.1em;\n",
       "margin-top: 0.5em;\n",
       "color:#4a4a4a;\n",
       "}\n",
       ".reveal h2 {\n",
       "font-family: 'Titillium Web', sans-serif;\n",
       "/*font-size: 24pt;*/\n",
       "font-weight: bold;\n",
       "margin-bottom: 0.1em;\n",
       "margin-top: 0.5em;\n",
       "color:#595959;\n",
       "}\n",
       ".reveal h3 {\n",
       "font-family: 'Titillium Web', sans-serif;\n",
       "/*font-size: 24pt;*/\n",
       "font-weight: bold;\n",
       "margin-bottom: 0.1em;\n",
       "margin-top: 0.5em;\n",
       "color:#595959;\n",
       "}\n",
       ".reveal h4 {\n",
       "font-family: 'Titillium Web', sans-serif;\n",
       "font-size: 110%;\n",
       "font-weight: bold;\n",
       "margin-bottom: 0.1em;\n",
       "margin-top: 0.5em;\n",
       "color:#595959;\n",
       "}\n",
       ".reveal div.text_cell_render{\n",
       "line-height: 120%;\n",
       "font-size: 74%;\n",
       "font-weight: 400;\n",
       "text-align: justify;\n",
       "margin-left:0em;\n",
       "margin-right:0em;\n",
       "}\n",
       ".reveal .code_cell {\n",
       "    font-size: 92%;\n",
       "}\n",
       ".reveal code {\n",
       "font-family: 'Inconsolata', monospace;\n",
       "}\n",
       ".reveal pre {\n",
       "font-family: 'Inconsolata', monospace;\n",
       "}\n",
       "\n",
       ".CodeMirror{\n",
       "font-family: \"Inconsolata\", monospace;\n",
       "}\n",
       "\n",
       "</style>"
      ],
      "text/plain": [
       "<IPython.core.display.HTML object>"
      ]
     },
     "execution_count": 1,
     "metadata": {},
     "output_type": "execute_result"
    }
   ],
   "source": [
    "## Import required Python modules\n",
    "%matplotlib inline\n",
    "import matplotlib.pyplot as plt\n",
    "import numpy as np\n",
    "import scipy, scipy.stats\n",
    "import io\n",
    "import base64\n",
    "#from IPython.core.display import display\n",
    "from IPython.display import display, HTML, Image\n",
    "from urllib.request import urlopen\n",
    "\n",
    "try:\n",
    "    import astropy as apy\n",
    "    import astropy.table\n",
    "    _apy = True\n",
    "    #print('Loaded astropy')\n",
    "except:\n",
    "    _apy = False\n",
    "    #print('Could not load astropy')\n",
    "\n",
    "## Customising the font size of figures\n",
    "plt.rcParams.update({'font.size': 14})\n",
    "\n",
    "## Customising the look of the notebook\n",
    "display(HTML(\"<style>.container { width:95% !important; }</style>\"))\n",
    "## This custom file is adapted from https://github.com/lmarti/jupyter_custom/blob/master/custom.include\n",
    "HTML('custom.css')\n",
    "#HTML(urlopen('https://raw.githubusercontent.com/bretonr/intro_data_science/master/custom.css').read().decode('utf-8'))"
   ]
  },
  {
   "cell_type": "code",
   "execution_count": 2,
   "metadata": {
    "scrolled": true
   },
   "outputs": [
    {
     "data": {
      "text/html": [
       "<script>\n",
       "code_show=true;\n",
       "function code_toggle() {\n",
       " if (code_show){\n",
       " $('div.input').hide();\n",
       " } else {\n",
       " $('div.input').show();\n",
       " }\n",
       " code_show = !code_show\n",
       "} \n",
       "$( document ).ready(code_toggle);\n",
       "</script>\n",
       "<form action=\"javascript:code_toggle()\"><input type=\"submit\" value=\"Click here to toggle on/off the Python code.\"></form>"
      ],
      "text/plain": [
       "<IPython.core.display.HTML object>"
      ]
     },
     "execution_count": 2,
     "metadata": {},
     "output_type": "execute_result"
    }
   ],
   "source": [
    "## Adding a button to hide the Python source code\n",
    "HTML('''<script>\n",
    "code_show=true;\n",
    "function code_toggle() {\n",
    " if (code_show){\n",
    " $('div.input').hide();\n",
    " } else {\n",
    " $('div.input').show();\n",
    " }\n",
    " code_show = !code_show\n",
    "} \n",
    "$( document ).ready(code_toggle);\n",
    "</script>\n",
    "<form action=\"javascript:code_toggle()\"><input type=\"submit\" value=\"Click here to toggle on/off the Python code.\"></form>''')"
   ]
  },
  {
   "cell_type": "code",
   "execution_count": 3,
   "metadata": {},
   "outputs": [
    {
     "data": {
      "text/html": [
       "<script>\n",
       "queue_show=true;\n",
       "function queue_toggle() {\n",
       " if (queue_show){\n",
       " $('div.queue').hide();\n",
       " } else {\n",
       " $('div.queue').show();\n",
       " }\n",
       "queue_show = !queue_show\n",
       "} \n",
       "$( document ).ready(queue_toggle);\n",
       "</script>\n",
       "<form action=\"javascript:queue_toggle()\"><input type=\"submit\" value=\"Click here to toggle on/off the queues.\"></form>"
      ],
      "text/plain": [
       "<IPython.core.display.HTML object>"
      ]
     },
     "execution_count": 3,
     "metadata": {},
     "output_type": "execute_result"
    }
   ],
   "source": [
    "HTML('''<script>\n",
    "queue_show=true;\n",
    "function queue_toggle() {\n",
    " if (queue_show){\n",
    " $('div.queue').hide();\n",
    " } else {\n",
    " $('div.queue').show();\n",
    " }\n",
    "queue_show = !queue_show\n",
    "} \n",
    "$( document ).ready(queue_toggle);\n",
    "</script>\n",
    "<form action=\"javascript:queue_toggle()\"><input type=\"submit\" value=\"Click here to toggle on/off the queues.\"></form>''')"
   ]
  },
  {
   "cell_type": "markdown",
   "metadata": {},
   "source": [
    "<div class=\"container-fluid\">\n",
    "    <div class=\"row\">\n",
    "        <div class=\"col-md-8\" align=\"center\">\n",
    "            <h1>PHYS 10791: Introduction to Data Science</h1>\n",
    "            <!--<h3>2019-2020 Academic Year</h3><br>-->\n",
    "        </div>\n",
    "        <div class=\"col-md-3\">\n",
    "            <img align='center' style=\"border-width:0\" src=\"images/UoM_logo.png\"/>\n",
    "        </div>\n",
    "    </div>\n",
    "</div>\n",
    "\n",
    "<div class=\"container-fluid\">\n",
    "    <div class=\"row\">\n",
    "        <div class=\"col-md-2\" align=\"right\">\n",
    "            <b>Course instructors:&nbsp;&nbsp;</b>\n",
    "        </div>\n",
    "        <div class=\"col-md-9\" align=\"left\">\n",
    "            <a href=\"http://www.renebreton.org\">Prof. Rene Breton</a> - Twitter <a href=\"https://twitter.com/BretonRene\">@BretonRene</a><br>\n",
    "            <a href=\"http://www.hep.manchester.ac.uk/u/gersabec\">Dr. Marco Gersabeck</a> - Twitter <a href=\"https://twitter.com/MarcoGersabeck\">@MarcoGersabeck</a>\n",
    "        </div>\n",
    "    </div>\n",
    "</div>"
   ]
  },
  {
   "cell_type": "markdown",
   "metadata": {},
   "source": [
    "<div class=\"queue\">\n",
    "    Lecture 9 - 00:00\n",
    "</div>"
   ]
  },
  {
   "cell_type": "markdown",
   "metadata": {},
   "source": [
    "<img src=\"images/frequentists_vs_bayesians_2x.png\" width=\"40%\">\n",
    "\n",
    "_[Source: XKCD](https://www.xkcd.com/1132/)_\n",
    "\n",
    "[Read the explanation on Explain XKCD](https://www.explainxkcd.com/wiki/index.php/1132:_Frequentists_vs._Bayesians)\n",
    "\n",
    "This carton relates to the [base rate fallacy](https://en.wikipedia.org/wiki/Base_rate_fallacy).\n",
    "\n",
    "Need more information about Bayes inference? How about reading [A Narwhal's Guide to Bayes' Rule](https://www.embedded.fm/blog/2016/9/1/a-narwhals-guide-to-bayes-rule)? This is a funny way to learn Bayes' rule."
   ]
  },
  {
   "cell_type": "markdown",
   "metadata": {},
   "source": [
    "<div class=\"queue\">\n",
    "    Lecture 9 - 00:05\n",
    "</div>"
   ]
  },
  {
   "cell_type": "markdown",
   "metadata": {},
   "source": [
    "## 5.1 Bayesian inference (part 2)"
   ]
  },
  {
   "cell_type": "markdown",
   "metadata": {},
   "source": [
    "### 5.1.1 Combining results"
   ]
  },
  {
   "cell_type": "markdown",
   "metadata": {},
   "source": [
    "'The joint probability of two independent events is equal to the product of their probabilities'.\n",
    "\n",
    "If we have $P(a \\mid D_1)$ from a first experiment and $P(a \\mid D_2)$ from a second experiment, their joint probability will be:\n",
    "\\begin{equation}\n",
    "  P(a \\mid D_1 \\cap D_2) = P(a \\mid D_1) \\, P(a \\mid D_2) \\,.\n",
    "\\end{equation}\n",
    "\n",
    "Two ways of calculating the joint probabilities:\n",
    "\n",
    "1. Calculated directly if we know their analytical representation.\n",
    "2. Calculated numerically using a point to point multiplication of the probabilities."
   ]
  },
  {
   "cell_type": "markdown",
   "metadata": {},
   "source": [
    "<div class=\"example\">Example 1: Combining the posterior probabilities 'analytically'</div>\n",
    "\n",
    "One of the 'holy grails' of cosmology is to detect the so-called B-mode polarisation in the cosmic microwave background. It turns out that their amplitude is related to the production of gravitational waves during the early Universe inflation in what is called the tensor-to-scalar ratio, $r$.\n",
    "\n",
    "<img src=\"images/CMB_polarisation.png\" width=\"60%\">\n",
    "\n",
    "_[Source: [WMAP](https://map.gsfc.nasa.gov)]_\n",
    "\n",
    "Several experiments have attempted to measure this effect without success. Nevertheless these non-detections can prove to be important for our understanding of physics, especially if it is theoretically possible for the value of $r$ to be zero.\n",
    "\n",
    "Imagine that a first experiment obtains a constraint on $r$ which follows a decreasing exponential: $P(r \\mid \\tau_1) = \\frac{1}{\\tau_1} e^{-\\frac{r}{\\tau_1}}$. From this we could evaluate an upper limit on $r$ corresponding to a certain confidence level (we will investigate this topic in future lectures).\n",
    "\n",
    "Imagine that a second, independent experiement obtains a constraint on $r$ which also follows a decreasing exponential: $P(r \\mid \\tau_2) = \\frac{1}{\\tau_2} e^{-\\frac{r}{\\tau_2}}$.\n",
    "\n",
    "What would be the joint constraint based on the two experiments? We can multiply the probabilities, and renormalise:\n",
    "\\begin{eqnarray}\n",
    "  P(r \\mid \\tau_1, \\tau_2) &=& P(r \\mid \\tau_1) \\, P(r \\mid \\tau_2) \\\\\n",
    "    &=& \\left(\\frac{1}{\\tau_1} + \\frac{1}{\\tau_2}\\right) \\exp \\left[-\\left(\\frac{1}{\\tau_1} + \\frac{1}{\\tau_2}\\right) r\\right] \\,.\n",
    "\\end{eqnarray}\n",
    "\n",
    "It is therefore clear that combining different experiments could improve the limits on $r$.\n",
    "\n",
    "_Note, however, that real-life situation is more complicated: distribution might not be exponential and systematic uncertainties might prevent upper limits from improving beyond a certain point._"
   ]
  },
  {
   "cell_type": "markdown",
   "metadata": {},
   "source": [
    "<div class=\"example\">Example 2: Combining the posterior probabilities 'numerically'</div>\n",
    "\n",
    "Below is the archetypical illustration of joint probability. This illustrates the joint constrainst from various cosmological experiments for the so-called lambda cold dark matter (aka lambda-CDM) model parameters. The joint constraint is showed near the centre. Clearly, this can only be calculated numerically using a point-to-point multiplication.\n",
    "\n",
    "<img src=\"images/cosmo_summary_allen11.png\" width=\"50%\">\n",
    "\n",
    "_[Source: Allen et al., 'Measuring cosmic distances with galaxy clusters', [arXiv:1307.8152](https://arxiv.org/abs/1307.8152)]_"
   ]
  },
  {
   "cell_type": "markdown",
   "metadata": {},
   "source": [
    "<div class=\"queue\">\n",
    "    Lecture 9 - 00:20\n",
    "</div>"
   ]
  },
  {
   "cell_type": "markdown",
   "metadata": {},
   "source": [
    "### 5.1.2 On the use of priors"
   ]
  },
  {
   "cell_type": "markdown",
   "metadata": {},
   "source": [
    "**Combining results by multiplying probabilities and using priors are completely interchangeable in the mathematical sense.**\n",
    "\n",
    "Due to priors and posteriors being independent of the data."
   ]
  },
  {
   "cell_type": "markdown",
   "metadata": {},
   "source": [
    "#### Flat priors\n",
    "\n",
    "Flat priors are constant (i.e. $I(a) = C$). Normalisation:\n",
    "\n",
    "\\begin{equation}\n",
    "  \\int_{a_{\\rm min}}^{a_{\\rm max}} C\\, {\\rm d}a = 1 \\,,\n",
    "\\end{equation}\n",
    "\n",
    "\n",
    "implies that $I = \\frac{1}{a_{\\rm max}-a_{\\rm min}}$. Generalisation where $a$ is multi-dimensional is $I = \\frac{1}{V_a}$, where $V_a$ is the hyper volume of parameter space occupied by $a$."
   ]
  },
  {
   "cell_type": "markdown",
   "metadata": {},
   "source": [
    "#### Improper priors\n",
    "\n",
    "There situations where the priors cannot be normalised to a finite value. This is the case for flat priors with unconstrained range (e.g. $(-\\infty,+\\infty)$ or $[0,+\\infty)$). We call them _improper priors_.\n",
    "\n",
    "Once again, because of the independence of the prior with respect to the parameter to optimise, it does not matter to calculate the MAP. Furthermore, the posterior probability can still be normalised as long as the likelihood itself can be normalised. An example would be if the improper prior is a constant line. If the likelihood is a Gaussian, then their product is a Gaussian and can be normalised."
   ]
  },
  {
   "cell_type": "markdown",
   "metadata": {},
   "source": [
    "<img src=\"images/bayesevol.png\" width=\"60%\">"
   ]
  },
  {
   "cell_type": "markdown",
   "metadata": {},
   "source": [
    "<div class=\"queue\">\n",
    "    Lecture 9 - 00:30\n",
    "</div>"
   ]
  },
  {
   "cell_type": "markdown",
   "metadata": {},
   "source": [
    "<div class=\"example\">Example 1: MAP of a simple lifetime</div>\n",
    "\n",
    "Let us recall the radioactive decay example from the previous chapter with the likelihood given by\n",
    "\n",
    "\\begin{equation}\n",
    "  \\mathcal{L}(t_i \\mid \\tau) = \\frac{1}{\\tau} e^{-t_i/\\tau} \\,.\n",
    "\\end{equation}\n",
    "\n",
    "What if there is a non-constant prior $I \\propto \\tau^{-1}$? We can no longer use MLE and need to use MAP instead. Hence\n",
    "\n",
    "\\begin{eqnarray}\n",
    "  P(\\tau \\mid t_i) &\\propto& I(\\tau) \\mathcal{L}(t_i \\mid \\tau) \\\\\n",
    "  &=& \\frac{1}{\\tau} \\prod_i^N \\frac{1}{\\tau} e^{-t_i/\\tau} \\,.\n",
    "\\end{eqnarray}\n",
    "\n",
    "The MAP estimator $\\widehat{\\tau}$ is obtained by differenciating the logarithm of the posterior:\n",
    "\n",
    "\\begin{eqnarray}\n",
    "  \\frac{\\partial \\ln P}{\\partial \\tau} &=& \\frac{\\partial}{\\partial \\tau} \\left[ -\\ln \\tau - \\sum_i^N \\left( \\ln \\tau +\\frac{t_i}{\\tau} \\right) \\right] \\\\\n",
    "                                   &=& \\frac{1}{\\tau} - \\sum_i^N \\left( \\frac{1}{\\tau} - \\frac{t_i}{\\tau^2} \\right) \\,.\n",
    "\\end{eqnarray}\n",
    "\n",
    "Setting the above equation to zero and solving for $\\tau$ allows us to obtain the MAP of $\\widehat{\\tau}$:\n",
    "\n",
    "\\begin{equation}\n",
    "  \\widehat{\\tau} = \\frac{1}{N-1} \\sum t_i \\,.\n",
    "\\end{equation}"
   ]
  },
  {
   "cell_type": "markdown",
   "metadata": {},
   "source": [
    "<div class=\"queue\">\n",
    "    Lecture 10 - 00:00\n",
    "</div>"
   ]
  },
  {
   "cell_type": "markdown",
   "metadata": {},
   "source": [
    "## 5.2 Least square"
   ]
  },
  {
   "cell_type": "markdown",
   "metadata": {},
   "source": [
    "### 5.2.1 Least square derivation"
   ]
  },
  {
   "cell_type": "markdown",
   "metadata": {},
   "source": [
    "Particular case: Gaussian likelihood distribution.\n",
    "\n",
    "Consider $(x_i,y_i)$ the independant and dependant variables. Let $\\sigma_i$ be the Gaussian deviation of $y_i$ with respect to the true value which can be mapped from $x$ using a function, $f(x;\\theta)$, that depends on some unknown parameters, $\\theta$.\n",
    "\n",
    "\\begin{equation}\n",
    "  \\mathcal{L}(y_i \\mid f(\\theta), \\theta, x_i, \\sigma_i) = \\frac{1}{\\sqrt{2\\pi} \\sigma_i} \\exp{\\left(-\\frac{\\left( y_i - f(x_i;\\theta) \\right)^2}{2\\sigma_i^2}\\right)}\n",
    "\\end{equation}\n",
    "\n",
    "Assuming flat priors:\n",
    "\n",
    "\\begin{eqnarray}\n",
    "  P(\\theta \\mid f(\\theta), y, x, \\sigma) &=& \\frac{I \\mathcal{L}(y \\mid \\theta)}{E} \\\\\n",
    "    &=& \\frac{I}{E} \\prod_i^N \\frac{1}{\\sqrt{2\\pi} \\sigma_i} \\exp{\\left(-\\frac{\\left( y_i - f(x_i;\\theta) \\right)^2}{2\\sigma_i^2}\\right)} \\,.\n",
    "\\end{eqnarray}\n",
    "\n",
    "Taking the logarithm:\n",
    "\n",
    "\\begin{equation}\n",
    "  \\ln P(\\theta \\mid f, y, x, \\sigma) = \\ln I - \\frac{N}{2} \\ln{(2\\pi)} - \\sum_i^N \\ln \\sigma_i - \\frac{1}{2} \\sum_i^N \\frac{\\left( y_i - f(x_i;\\theta) \\right)^2}{\\sigma_i^2} - \\ln E \\,.\n",
    "\\end{equation}\n",
    "\n",
    "Both $I$ and $E$ are independant of $\\theta$, hence MAP $\\equiv$ MLE.\n",
    "\n",
    "\\begin{equation}\n",
    "  \\max \\left[ \\ln P(\\theta \\mid f, x_i, \\sigma_i) \\right] = \\max \\left[ -\\frac{1}{2} \\sum_i^N \\frac{\\left( y_i - f(x_i;\\theta) \\right)^2}{\\sigma_i^2} \\right] = \\min \\left[ \\sum_i^N \\frac{\\left( y_i - f(x_i;\\theta) \\right)^2}{\\sigma_i^2} \\right] \\,.\n",
    "\\end{equation}\n",
    "\n",
    "We call it **chi-squared**, and the **method of least squares**.\n",
    "\n",
    "For the chi-squared, the minimum variance bound can be written:\n",
    "\n",
    "\\begin{eqnarray}\n",
    "  \\sigma^2_\\widehat{\\theta} &\\equiv& \\left[ \\left( -\\frac{\\partial^2 \\ln \\mathcal{L}}{\\partial \\theta^2} \\right)^{-1} \\right]_\\widehat{\\theta} \\\\\n",
    "  &=& \\left[ \\left( \\frac{1}{2} \\frac{\\partial^2 \\chi^2}{\\partial \\theta^2} \\right)^{-1} \\right]_\\widehat{\\theta} \\,.\n",
    "\\end{eqnarray}\n"
   ]
  },
  {
   "cell_type": "markdown",
   "metadata": {},
   "source": [
    "<div class=\"queue\">\n",
    "    Lecture 10 - 00:20\n",
    "</div>"
   ]
  },
  {
   "cell_type": "markdown",
   "metadata": {},
   "source": [
    "### 5.2.2 Linear least squares\n",
    "\n",
    "A particularly interesting are models which are linear functions of the $M$ parameters $\\theta_j$:\n",
    "\n",
    "\\begin{equation}\n",
    "  f(x_i; \\theta) = \\sum_j^M A_j(x_i) \\theta_j \\,,\n",
    "\\end{equation}"
   ]
  },
  {
   "cell_type": "markdown",
   "metadata": {},
   "source": [
    "<div class=\"example\">Example 1: $f(x; \\theta) = mx$ with constant uncertainties</div>\n",
    "\n",
    "Consider $f(x) = m x$, with constant errors $\\sigma$.\n",
    "\n",
    "\\begin{equation}\n",
    "  \\chi^2 = \\sum_i^N \\frac{(y_i - m x_i)^2}{\\sigma^2}\n",
    "\\end{equation}\n",
    "\n",
    "Differentiating with respect to $m$\n",
    "\n",
    "\\begin{equation}\n",
    "  \\frac{\\partial \\chi^2}{\\partial m} = \\sum_i^N \\left[ -2 x_i \\frac{(y_i - m x_i)}{\\sigma^2} \\right]\n",
    "\\end{equation}\n",
    "\n",
    "MLE estimator obtained by setting equal to 0:\n",
    "\n",
    "\\begin{eqnarray}\n",
    "  \\sum_i^N (x_i y_i - \\widehat{m} x_i^2) = 0 \\\\\n",
    "  \\sum_i^N x_i y_i = \\widehat{m} \\sum_i^N x_i^2 \\,.\n",
    "\\end{eqnarray}\n",
    "\n",
    "Solving for $\\widehat{m}$:\n",
    "\n",
    "\\begin{equation}\n",
    "  \\widehat{m} = \\frac{\\langle xy \\rangle}{\\langle x^2 \\rangle}\n",
    "\\end{equation}\n",
    "\n",
    "The variance is found from the inverse of Fisher:\n",
    "\n",
    "\\begin{eqnarray}\n",
    "  \\sigma^2_{\\widehat{m}} &=& \\left( \\frac{1}{2} \\frac{\\partial^2 \\chi^2}{\\partial m^2} \\right)^{-1} \\\\\n",
    "  &=& \\left( \\frac{\\sum_i^N x_i^2}{\\sigma^2} \\right)^{-1} \\\\\n",
    "  &=& \\frac{\\sigma^2}{N \\langle x^2 \\rangle} \\,.\n",
    "\\end{eqnarray}"
   ]
  },
  {
   "cell_type": "markdown",
   "metadata": {},
   "source": [
    "<div class=\"example\">Example 2: $f(x; \\theta) = mx + b$ with constant uncertainties</div>\n",
    "\n",
    "Consider $f(x) = m x + b$ with constant errors $\\sigma$.\n",
    "\n",
    "\\begin{equation}\n",
    "  \\chi^2 = \\sum_i^N \\frac{(y_i - m x_i - b)^2}{\\sigma^2}\n",
    "\\end{equation}\n",
    "\n",
    "Differentiating with respect to $m$\n",
    "\n",
    "\\begin{equation}\n",
    "  \\frac{\\partial \\chi^2}{\\partial m} = \\sum_i^N \\left[ -2 x_i \\frac{(y_i - m x_i - b)}{\\sigma^2} \\right] \\,.\n",
    "\\end{equation}\n",
    "\n",
    "Differentiating with respect to $b$\n",
    "\n",
    "\\begin{equation}\n",
    "  \\frac{\\partial \\chi^2}{\\partial b} = \\sum_i^N \\left[ -2 \\frac{(y_i - m x_i - b)}{\\sigma^2} \\right]\n",
    "\\end{equation}\n",
    "\n",
    "MLE estimator obtained by setting equal to 0:\n",
    "\n",
    "\\begin{eqnarray}\n",
    "  \\langle xy \\rangle - \\widehat{m}\\langle x^2 \\rangle - \\widehat{b}\\langle x \\rangle = 0 \\\\\n",
    "  \\langle y \\rangle - \\widehat{m}\\langle x \\rangle - \\widehat{b} = 0 \\,.\n",
    "\\end{eqnarray}\n",
    "\n",
    "Solving for $\\widehat{m}$ and $\\widehat{b}$:\n",
    "\n",
    "\\begin{eqnarray}\n",
    "  \\widehat{m} &=& \\frac{\\langle xy \\rangle - \\langle x \\rangle \\langle y \\rangle}{\\langle x^2 \\rangle - \\langle x \\rangle^2} = \\frac{\\operatorname{cov}(x,y)}{\\operatorname{Var}(x)} \\\\\n",
    "  \\widehat{b} &=& \\frac{\\langle x^2 \\rangle \\langle y \\rangle - \\langle x \\rangle \\langle xy \\rangle}{\\langle x^2 \\rangle - \\langle x \\rangle^2} = \\langle y \\rangle - \\widehat{m}\\langle x \\rangle \\,.\n",
    "\\end{eqnarray}\n",
    "\n",
    "We can also find the variance on the estimators, which is the Fisher information matrix. For $\\widehat{m}$ we have:\n",
    "\n",
    "\\begin{equation}\n",
    "  \\sigma^2_{\\widehat{m}} = \\frac{\\sigma^2}{N (\\langle x^2 \\rangle - \\langle x \\rangle^2)} \\,.\n",
    "\\end{equation}\n",
    "\n",
    "For $\\widehat{b}$ we have:\n",
    "\n",
    "\\begin{equation}\n",
    "  \\sigma^2_{\\widehat{b}} = \\frac{\\sigma^2 \\langle x^2 \\rangle}{N (\\langle x^2 \\rangle - \\langle x \\rangle^2)}\n",
    "\\end{equation}\n",
    "\n",
    "And for the covariance of $\\widehat{m}$ and $\\widehat{b}$ (i.e. the off-diagonal term):\n",
    "\n",
    "\\begin{equation}\n",
    "  \\operatorname{cov}(\\widehat{m},\\widehat{b}) = -\\frac{\\langle x \\rangle}{N (\\langle x^2 \\rangle - \\langle x \\rangle^2)} \\sigma^2 \\,.\n",
    "\\end{equation}\n",
    "\n",
    "The equation for $\\widehat{b}$ implies that the best fit goes through the centre of gravity $(\\langle x \\rangle,\\langle y \\rangle)$. Therefore, choosen the origin (i.e. intersect) near $\\langle x \\rangle$ will yield a smaller covariance between $\\widehat{m}$ and $\\widehat{b}$ and reduce numerical errors."
   ]
  },
  {
   "cell_type": "markdown",
   "metadata": {},
   "source": [
    "<div class=\"queue\">\n",
    "    Lecture 10 - 00:35\n",
    "</div>"
   ]
  },
  {
   "cell_type": "markdown",
   "metadata": {},
   "source": [
    "### 5.2.3 Chi-square distribution\n",
    "\n",
    "Just defined the chi-squared distribution. It is the probability distribution of the sum of the squares of $k$ independent standard normal random variables (i.e. having $\\mu = 0$ and $\\sigma = 1$). The PDF is given by:\n",
    "\n",
    "\\begin{equation}\n",
    "  \\chi^2_k \\equiv f(x;\\,k) =\n",
    "  \\begin{cases}\n",
    "    \\dfrac{x^{\\frac k 2 -1} e^{-\\frac x 2}}{2^{\\frac k 2} \\Gamma\\left(\\frac k 2 \\right)},  & x > 0; \\\\ 0, & \\text{otherwise}.\n",
    "  \\end{cases}\n",
    "\\end{equation}\n",
    "\n",
    "$k$ degrees of freedom ($k = N - M$), where $N$ data points and $M$ parameters.\n",
    "\n",
    "The mean of a $\\chi^2_k$ is $k$ and its variance is $2k$.\n",
    "\n",
    "CLT implies: large $k$ ($\\approx 30$), chi-squared becomes roughly Gaussian.\n",
    "\n",
    "Also: $\\chi^2_{k_1}$ + $\\chi^2_{k_2}$ is $\\chi^2_{k_1+k_2}$."
   ]
  },
  {
   "cell_type": "code",
   "execution_count": 4,
   "metadata": {
    "scrolled": false
   },
   "outputs": [
    {
     "data": {
      "image/png": "[encoded data removed]",
      "text/plain": [
       "<Figure size 864x576 with 1 Axes>"
      ]
     },
     "metadata": {
      "needs_background": "light"
     },
     "output_type": "display_data"
    }
   ],
   "source": [
    "## Displaying the chi2 distribution for different numbers of freedom\n",
    "x = np.linspace(0,10,101)\n",
    "dof = [1,2,3,4,6,9]\n",
    "\n",
    "fig, ax = plt.subplots(figsize=(12,8))\n",
    "for dof_ in dof:\n",
    "    chi2 = scipy.stats.chi2.pdf(x, dof_)\n",
    "    ax.plot(x, chi2, linewidth=3, label='k={}'.format(dof_))\n",
    "\n",
    "ax.legend()\n",
    "ax.set_title('$\\chi^2_k$')\n",
    "ax.set_xlabel('x')\n",
    "ax.set_ylabel('P(x; k)')\n",
    "ax.set_xlim(0, 10)\n",
    "ax.set_ylim(0, 0.5);"
   ]
  },
  {
   "cell_type": "markdown",
   "metadata": {},
   "source": [
    "<div class=\"queue\">\n",
    "    Lecture 10 - 00:40\n",
    "</div>"
   ]
  },
  {
   "cell_type": "markdown",
   "metadata": {},
   "source": [
    "### 5.2.4 Non-linear least squares\n",
    "\n",
    "When $f(x; \\theta)$ is a non-linear function of $\\theta$ (e.g. $e^{\\theta x}$, $\\sin{(\\theta x)}$), generally no analytic solution to solve the $M$ equations for each of the parameters in $\\theta$. The MLE must be computed numerically.\n",
    "\n",
    "Techniques to do so are beyond the scope of this course, but can involve gradient methods, simplex search, Monte Carlo, etc."
   ]
  },
  {
   "cell_type": "markdown",
   "metadata": {},
   "source": [
    "### 5.2.5 Best linear unbiased estimator\n",
    "\n",
    "The principles behind combining data have already been discussed previously. How about combining measurements with least square?\n",
    "\n",
    "Consider $N$ independent measurements $\\{y_i\\}$ with Gaussian errors $\\{\\sigma_i\\}$ of a quantity $\\theta$. In order to get the best average of all measurements we can minimize the $\\chi^2$:\n",
    "\\begin{equation}\n",
    "  \\chi^2 = \\sum_i^N \\left( \\frac{y_i - \\theta}{\\sigma_i} \\right)^2 \\,.\n",
    "\\end{equation}\n",
    "\n",
    "Taking the derivative:\n",
    "\\begin{equation}\n",
    "  \\frac{\\partial \\chi^2}{\\partial \\theta} = -2 \\sum_i^N \\frac{y_i - \\theta}{\\sigma_i^2} \\,.\n",
    "\\end{equation}\n",
    "\n",
    "Setting it to zero, we find the MLE:\n",
    "\\begin{equation}\n",
    "  \\widehat{\\theta} = \\frac{\\sum_i^N \\frac{y_i}{\\sigma_i^2}}{\\sum_i^n \\frac{1}{\\sigma_i^2}} \\,.\n",
    "\\end{equation}\n",
    "\n",
    "And the variance after taking the second derivative:\n",
    "\\begin{equation}\n",
    "  \\sigma^2_{\\widehat{\\theta}} = \\frac{1}{\\sum_i^N \\frac{1}{\\sigma_i^2}} \\,.\n",
    "\\end{equation}\n",
    "\n",
    "We note that the smaller the error on a measurement, the larger its importance on the average value."
   ]
  },
  {
   "cell_type": "markdown",
   "metadata": {},
   "source": [
    "### 5.2.6 Other topics\n",
    "\n",
    "We will not see them in this course, but other topics of interest are:\n",
    "\n",
    "- Least squares with boundary conditions (using Lagrange multipliers)\n",
    "- Least squares of binned data"
   ]
  },
  {
   "cell_type": "markdown",
   "metadata": {},
   "source": [
    "<div class=\"well\" align=\"center\">\n",
    "    <div class=\"container-fluid\">\n",
    "        <div class=\"row\">\n",
    "            <div class=\"col-md-3\" align=\"center\">\n",
    "                <img align=\"center\" alt=\"Creative Commons License\" style=\"border-width:0\" src=\"https://i.creativecommons.org/l/by-nc-sa/4.0/88x31.png\" width=\"60%\">\n",
    "            </div>\n",
    "            <div class=\"col-md-8\">\n",
    "            This work is licensed under a <a href=\"http://creativecommons.org/licenses/by-nc-sa/4.0/\">Creative Commons Attribution-NonCommercial-ShareAlike 4.0 International License</a>).\n",
    "            </div>\n",
    "        </div>\n",
    "    </div>\n",
    "    <br>\n",
    "    <br>\n",
    "    <i>Note: The content of this Jupyter Notebook is provided for educational purposes only.</i>\n",
    "</div>"
   ]
  }
 ],
 "metadata": {
  "kernelspec": {
   "display_name": "Python 3 (ipykernel)",
   "language": "python",
   "name": "python3"
  },
  "language_info": {
   "codemirror_mode": {
    "name": "ipython",
    "version": 3
   },
   "file_extension": ".py",
   "mimetype": "text/x-python",
   "name": "python",
   "nbconvert_exporter": "python",
   "pygments_lexer": "ipython3",
   "version": "3.8.11"
  },
  "latex_envs": {
   "LaTeX_envs_menu_present": true,
   "autocomplete": true,
   "bibliofile": "biblio.bib",
   "cite_by": "apalike",
   "current_citInitial": 1,
   "eqLabelWithNumbers": true,
   "eqNumInitial": 1,
   "hotkeys": {
    "equation": "Ctrl-E",
    "itemize": "Ctrl-I"
   },
   "labels_anchors": false,
   "latex_user_defs": false,
   "report_style_numbering": false,
   "user_envs_cfg": false
  }
 },
 "nbformat": 4,
 "nbformat_minor": 2
}
