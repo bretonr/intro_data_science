{
 "cells": [
  {
   "cell_type": "code",
   "execution_count": 2,
   "metadata": {},
   "outputs": [
    {
     "data": {
      "text/html": [
       "<link href=\"https://fonts.googleapis.com/css?family=Fira+Sans:300,300i,600,600i\" rel=\"stylesheet\">\n",
       "<link href=\"https://fonts.googleapis.com/css?family=Inconsolata\" rel=\"stylesheet\">\n",
       "<link href=\"https://fonts.googleapis.com/css?family=Titillium+Web:400,400i,700,700i\" rel=\"stylesheet\">\n",
       "\n",
       "\n",
       "<style>\n",
       "\n",
       ".container {\n",
       "    max-width:1000px !important;\n",
       "}\n",
       "\n",
       ".text_cell_render p {\n",
       "font-style: regular;\n",
       "font-family: 'Fira Sans', sans-serif;\n",
       "display: block;\n",
       "text-align: justify;\n",
       "}\n",
       "/*font-weight: 200;*/\n",
       "/*text-align: left;\n",
       "line-height: 100%;\n",
       "display: block;\n",
       "}*/\n",
       "a {\n",
       "color:#377bb5;\n",
       "}\n",
       ".text_cell_render h1 {\n",
       "/*font-size: 24pt;*/\n",
       "font-family: 'Titillium Web', sans-serif;\n",
       "font-weight: bold;\n",
       "margin-bottom: 0.1em;\n",
       "margin-top: 0.5em;\n",
       "color:#4a4a4a;\n",
       "}\n",
       ".text_cell_render h2 {\n",
       "/*font-size: 21pt;*/\n",
       "    font-family: 'Titillium Web', sans-serif;\n",
       "margin-bottom: 0.1em;\n",
       "margin-top: 0.5em;\n",
       "color:#595959;\n",
       "}\n",
       ".text_cell_render h3 {\n",
       "    font-family: 'Titillium Web', sans-serif;\n",
       "/*font-size: 19pt;*/\n",
       "margin-bottom: 0.1em;\n",
       "margin-top: 0.5em;\n",
       "color:#595959;\n",
       "}\n",
       ".text_cell_render h4 {\n",
       "    font-family: 'Titillium Web', sans-serif;\n",
       "/*font-size: 17pt;*/\n",
       "font-size: 110%;\n",
       "margin-bottom: 0.1em;\n",
       "margin-top: 0.5em;\n",
       "color:#595959;\n",
       "}\n",
       ".text_cell_render h5 {\n",
       "    font-family: 'Titillium Web', sans-serif;\n",
       "/*font-size: 15pt;*/\n",
       "margin-bottom: 0.1em;\n",
       "margin-top: 0.5em;\n",
       "color:#595959;\n",
       "}\n",
       "div.text_cell_render{\n",
       "font-style: regular;\n",
       "font-family: 'Fira Sans', sans-serif;\n",
       "line-height: 120%;\n",
       "font-size: 100%;\n",
       "font-weight: 400;\n",
       "text-align: justify;\n",
       "margin-left:0em;\n",
       "margin-right:0em;\n",
       "}\n",
       "code {\n",
       "font-family: 'Inconsolata', monospace;\n",
       "}\n",
       "pre {\n",
       "font-family: 'Inconsolata', monospace;\n",
       "}\n",
       "\n",
       "div.example {\n",
       "    font-family: 'Titillium Web', sans-serif;\n",
       "/*font-size: 15pt;*/\n",
       "font-weight: bold;\n",
       "font-variant: small-caps;\n",
       "text-decoration: underline;\n",
       "margin-bottom: 0.1em;\n",
       "margin-top: 0.3em;\n",
       "color:#595959;\n",
       "}\n",
       "\n",
       "div.queue {\n",
       "font-size: x-large;\n",
       "font-variant: small-caps;\n",
       "font-family: 'Titillium Web', sans-serif;\n",
       "font-weight: bold;\n",
       "/*margin-bottom: 0.1em;*/\n",
       "/*margin-top: 0.5em;*/\n",
       "margin: 10px;\n",
       "padding: 10px;\n",
       "color:#cc0000;\n",
       "border-style: solid none solid none;\n",
       "border-width: 2px;\n",
       "border-color:#cc0000;\n",
       "border-spacing: 10px;\n",
       "}\n",
       "\n",
       "div.opt_start {\n",
       "font-size: large;\n",
       "font-variant: small-caps;\n",
       "font-family: 'Titillium Web', sans-serif;\n",
       "font-weight: bold;\n",
       "/*margin-bottom: 0.1em;*/\n",
       "/*margin-top: 0.5em;*/\n",
       "margin: 10px;\n",
       "padding: 10px;\n",
       "color:#0000cc;\n",
       "border-style: solid none none none;\n",
       "border-width: 2px;\n",
       "border-color:#0000cc;\n",
       "border-spacing: 10px;\n",
       "}\n",
       "div.opt_end {\n",
       "font-size: large;\n",
       "font-variant: small-caps;\n",
       "font-family: 'Titillium Web', sans-serif;\n",
       "font-weight: bold;\n",
       "/*margin-bottom: 0.1em;*/\n",
       "/*margin-top: 0.5em;*/\n",
       "margin: 10px;\n",
       "padding: 10px;\n",
       "color:#0000cc;\n",
       "border-style: none none solid none;\n",
       "border-width: 2px;\n",
       "border-color:#0000cc;\n",
       "border-spacing: 10px;\n",
       "}\n",
       "\n",
       ".reveal h1 {\n",
       "font-family: 'Titillium Web', sans-serif;\n",
       "/*font-size: 24pt;*/\n",
       "font-weight: bold;\n",
       "margin-bottom: 0.1em;\n",
       "margin-top: 0.5em;\n",
       "color:#4a4a4a;\n",
       "}\n",
       ".reveal h2 {\n",
       "font-family: 'Titillium Web', sans-serif;\n",
       "/*font-size: 24pt;*/\n",
       "font-weight: bold;\n",
       "margin-bottom: 0.1em;\n",
       "margin-top: 0.5em;\n",
       "color:#595959;\n",
       "}\n",
       ".reveal h3 {\n",
       "font-family: 'Titillium Web', sans-serif;\n",
       "/*font-size: 24pt;*/\n",
       "font-weight: bold;\n",
       "margin-bottom: 0.1em;\n",
       "margin-top: 0.5em;\n",
       "color:#595959;\n",
       "}\n",
       ".reveal h4 {\n",
       "font-family: 'Titillium Web', sans-serif;\n",
       "font-size: 110%;\n",
       "font-weight: bold;\n",
       "margin-bottom: 0.1em;\n",
       "margin-top: 0.5em;\n",
       "color:#595959;\n",
       "}\n",
       ".reveal div.text_cell_render{\n",
       "line-height: 120%;\n",
       "font-size: 74%;\n",
       "font-weight: 400;\n",
       "text-align: justify;\n",
       "margin-left:0em;\n",
       "margin-right:0em;\n",
       "}\n",
       ".reveal .code_cell {\n",
       "    font-size: 92%;\n",
       "}\n",
       ".reveal code {\n",
       "font-family: 'Inconsolata', monospace;\n",
       "}\n",
       ".reveal pre {\n",
       "font-family: 'Inconsolata', monospace;\n",
       "}\n",
       "\n",
       ".CodeMirror{\n",
       "font-family: \"Inconsolata\", monospace;\n",
       "}\n",
       "\n",
       "</style>"
      ],
      "text/plain": [
       "<IPython.core.display.HTML object>"
      ]
     },
     "execution_count": 2,
     "metadata": {},
     "output_type": "execute_result"
    }
   ],
   "source": [
    "## Import required Python modules\n",
    "%matplotlib inline\n",
    "import matplotlib.pyplot as plt\n",
    "import numpy as np\n",
    "import scipy, scipy.stats\n",
    "import io\n",
    "import base64\n",
    "#from IPython.core.display import display\n",
    "from IPython.display import display, HTML, Image\n",
    "from urllib.request import urlopen\n",
    "\n",
    "try:\n",
    "    import astropy as apy\n",
    "    import astropy.table\n",
    "    _apy = True\n",
    "    #print('Loaded astropy')\n",
    "except:\n",
    "    _apy = False\n",
    "    #print('Could not load astropy')\n",
    "\n",
    "## Customising the font size of figures\n",
    "plt.rcParams.update({'font.size': 14})\n",
    "\n",
    "## Customising the look of the notebook\n",
    "## This custom file is adapted from https://github.com/lmarti/jupyter_custom/blob/master/custom.include\n",
    "HTML('custom.css')\n",
    "#HTML(urlopen('https://raw.githubusercontent.com/bretonr/intro_data_science/master/custom.css').read().decode('utf-8'))"
   ]
  },
  {
   "cell_type": "code",
   "execution_count": 3,
   "metadata": {},
   "outputs": [
    {
     "data": {
      "text/html": [
       "\n",
       "<script>\n",
       "    function toggleCodeCells() {\n",
       "      var codeCells = document.querySelectorAll('.jp-CodeCell');\n",
       "\n",
       "      codeCells.forEach(function(cell) {\n",
       "        var inputArea = cell.querySelector('.jp-InputArea');\n",
       "        if (inputArea) {\n",
       "          var currentDisplay = inputArea.style.display || getComputedStyle(inputArea).display;\n",
       "          inputArea.style.display = currentDisplay === 'none' ? '' : 'none';\n",
       "        }\n",
       "      });\n",
       "    }\n",
       "</script>\n",
       "\n",
       "<!-- Add a button to toggle visibility of input code cells -->\n",
       "<button onclick=\"toggleCodeCells()\">Toggle Code Cells</button>\n"
      ],
      "text/plain": [
       "<IPython.core.display.HTML object>"
      ]
     },
     "execution_count": 3,
     "metadata": {},
     "output_type": "execute_result"
    }
   ],
   "source": [
    "## Adding a button to toggle the Python source code visibility\n",
    "# HTML('''<script>\n",
    "# code_show=true;\n",
    "# function code_toggle() {\n",
    "#  if (code_show){\n",
    "#  $('div.input').hide();\n",
    "#  } else {\n",
    "#  $('div.input').show();\n",
    "#  }\n",
    "#  code_show = !code_show\n",
    "# } \n",
    "# $( document ).ready(code_toggle);\n",
    "# </script>\n",
    "# <form action=\"javascript:code_toggle()\"><input type=\"submit\" value=\"Click here to toggle on/off the Python code.\"></form>''')\n",
    "HTML('''\n",
    "<script>\n",
    "    function toggleCodeCells() {\n",
    "      var codeCells = document.querySelectorAll('.jp-CodeCell');\n",
    "\n",
    "      codeCells.forEach(function(cell) {\n",
    "        var inputArea = cell.querySelector('.jp-InputArea');\n",
    "        if (inputArea) {\n",
    "          var currentDisplay = inputArea.style.display || getComputedStyle(inputArea).display;\n",
    "          inputArea.style.display = currentDisplay === 'none' ? '' : 'none';\n",
    "        }\n",
    "      });\n",
    "    }\n",
    "</script>\n",
    "\n",
    "<!-- Add a button to toggle visibility of input code cells -->\n",
    "<button onclick=\"toggleCodeCells()\">Toggle Code Cells</button>\n",
    "''')"
   ]
  },
  {
   "cell_type": "code",
   "execution_count": 4,
   "metadata": {},
   "outputs": [
    {
     "data": {
      "text/html": [
       "\n",
       "<button id=\"toggleButton\" onclick=\"toggleQueue()\">Toggle Queue</button>\n",
       "\n",
       "<script>\n",
       "  var queueHidden = false;\n",
       "\n",
       "  function toggleQueue() {\n",
       "    var queueElements = document.querySelectorAll('div.queue');\n",
       "\n",
       "    for (var i = 0; i < queueElements.length; i++) {\n",
       "      if (queueHidden) {\n",
       "        queueElements[i].style.display = 'block';\n",
       "      } else {\n",
       "        queueElements[i].style.display = 'none';\n",
       "      }\n",
       "    }\n",
       "\n",
       "    queueHidden = !queueHidden;\n",
       "  }\n",
       "</script>\n"
      ],
      "text/plain": [
       "<IPython.core.display.HTML object>"
      ]
     },
     "execution_count": 4,
     "metadata": {},
     "output_type": "execute_result"
    }
   ],
   "source": [
    "## Adding a button to toggle the presentation queue visibility\n",
    "# HTML('''<script>\n",
    "# queue_show=true;\n",
    "# function queue_toggle() {\n",
    "#  if (queue_show){\n",
    "#  $('div.queue').hide();\n",
    "#  } else {\n",
    "#  $('div.queue').show();\n",
    "#  }\n",
    "# queue_show = !queue_show\n",
    "# } \n",
    "# $( document ).ready(queue_toggle);\n",
    "# </script>\n",
    "# <form action=\"javascript:queue_toggle()\"><input type=\"submit\" value=\"Click here to toggle on/off the queues.\"></form>''')\n",
    "HTML('''\n",
    "<button id=\"toggleButton\" onclick=\"toggleQueue()\">Toggle Queue</button>\n",
    "\n",
    "<script>\n",
    "  var queueHidden = false;\n",
    "\n",
    "  function toggleQueue() {\n",
    "    var queueElements = document.querySelectorAll('div.queue');\n",
    "\n",
    "    for (var i = 0; i < queueElements.length; i++) {\n",
    "      if (queueHidden) {\n",
    "        queueElements[i].style.display = 'block';\n",
    "      } else {\n",
    "        queueElements[i].style.display = 'none';\n",
    "      }\n",
    "    }\n",
    "\n",
    "    queueHidden = !queueHidden;\n",
    "  }\n",
    "</script>\n",
    "''')"
   ]
  },
  {
   "cell_type": "markdown",
   "metadata": {},
   "source": [
    "<div class=\"container-fluid\">\n",
    "    <div class=\"row\">\n",
    "        <div class=\"col-md-8\" align=\"center\">\n",
    "            <h1>PHYS 10791: Introduction to Data Science</h1>\n",
    "            <!--<h3>2019-2020 Academic Year</h3><br>-->\n",
    "        </div>\n",
    "        <div class=\"col-md-3\">\n",
    "            <img align='center' style=\"border-width:0\" src=\"images/UoM_logo.png\"/>\n",
    "        </div>\n",
    "    </div>\n",
    "</div>\n",
    "\n",
    "<div class=\"container-fluid\">\n",
    "    <div class=\"row\">\n",
    "        <div class=\"col-md-2\" align=\"right\">\n",
    "            <b>Course instructors:&nbsp;&nbsp;</b>\n",
    "        </div>\n",
    "        <div class=\"col-md-9\" align=\"left\">\n",
    "            <a href=\"http://www.renebreton.org\">Prof. Rene Breton</a> - Twitter <a href=\"https://twitter.com/BretonRene\">@BretonRene</a><br>\n",
    "            <a href=\"http://www.hep.manchester.ac.uk/u/gersabec\">Dr. Marco Gersabeck</a> - Twitter <a href=\"https://twitter.com/MarcoGersabeck\">@MarcoGersabeck</a>\n",
    "        </div>\n",
    "    </div>\n",
    "</div>"
   ]
  },
  {
   "cell_type": "markdown",
   "metadata": {},
   "source": [
    "<div class=\"queue\">\n",
    "    Lecture 5 - 00:00\n",
    "</div>"
   ]
  },
  {
   "cell_type": "markdown",
   "metadata": {},
   "source": [
    "## 3.1 Law of large numbers and central limit theorem"
   ]
  },
  {
   "cell_type": "markdown",
   "metadata": {},
   "source": [
    "### 3.1.1 The law of large numbers"
   ]
  },
  {
   "cell_type": "markdown",
   "metadata": {},
   "source": [
    "The law of large numbers essentially says that the sample mean tends to the population mean when the sample size tends to infinity:\n",
    "\n",
    "\\begin{equation}\n",
    "  \\langle X_N \\rangle = \\frac{1}{N} \\sum_{i=1}^{N} X_i \\to \\mu \\quad {\\rm for} \\quad N \\to \\infty\n",
    "\\end{equation}"
   ]
  },
  {
   "cell_type": "markdown",
   "metadata": {},
   "source": [
    "### 3.1.2 The central limit theorem"
   ]
  },
  {
   "cell_type": "markdown",
   "metadata": {},
   "source": [
    "The central limit theorem (CLT) implies that:\n",
    "\n",
    "\\begin{equation}\n",
    "    \\lim_{N \\to \\infty} \\sum_{i=1}^N X_i \\xrightarrow{d} \\mathcal{N}(\\mu_N,s_N^2) \\quad ,\n",
    "\\end{equation}\n",
    "\n",
    "with\n",
    "\n",
    "\\begin{equation}\n",
    "    \\mu_N = \\sum_{i=1}^N \\mu_i \\quad ,\n",
    "\\end{equation}\n",
    "\n",
    "and\n",
    "\n",
    "\\begin{equation}\n",
    "    s_N^2 = \\sum_{i=1}^N \\sigma_i^2 \\quad .\n",
    "\\end{equation}\n",
    "\n",
    "The sum of a large number of random variates should distribute as a normal distribution with a mean equal to the sum of the means from which the random variates are drawn, and a variance equal to the sum of the variances from which the random variates are drawn.\n",
    "\n",
    "When $\\mu_i = \\mu$ and $\\sigma_i^2 = \\sigma^2$), we have\n",
    "\n",
    "\\begin{equation}\n",
    "    \\lim_{N \\to \\infty} \\sum_{i=1}^N X_i \\xrightarrow{d} \\mathcal{N}(N\\mu,N\\sigma^2) \\quad .\n",
    "\\end{equation}"
   ]
  },
  {
   "cell_type": "markdown",
   "metadata": {},
   "source": [
    "<div class=\"queue\">\n",
    "    Lecture 5 - 00:10\n",
    "</div>"
   ]
  },
  {
   "cell_type": "markdown",
   "metadata": {},
   "source": [
    "### Case study: Wizard trick"
   ]
  },
  {
   "cell_type": "markdown",
   "metadata": {},
   "source": [
    "Is it possible to turn random numbers drawn from a uniform distribution into a normal distribution?\n",
    "\n",
    "<span style=\"text-decoration: underline\">Case 1:</span> Imagine you draw 10,000 numbers from a uniform distribution in the range $[0,1[$.\n",
    "\n",
    "<span style=\"text-decoration: underline\">Case 2:</span> Imagine you draw another 10,000 uniform numbers just like above and add pairs together.\n",
    "\n",
    "<span style=\"text-decoration: underline\">Case 3:</span> Imagine you draw another 10,000 uniform numbers and add them to the previous pairs.\n",
    "\n",
    "<span style=\"text-decoration: underline\">Case 4:</span> Imagine you draw another 7 sets of 10,000 uniform numbers just like above and add them to the tripplets in order to have the sum of 10 uniform numbers.\n",
    "\n",
    "What does the distribution of each case look like?"
   ]
  },
  {
   "cell_type": "code",
   "execution_count": 5,
   "metadata": {},
   "outputs": [
    {
     "data": {
      "image/png": "[encoded data removed]",
      "text/plain": [
       "<Figure size 1600x1000 with 4 Axes>"
      ]
     },
     "metadata": {},
     "output_type": "display_data"
    }
   ],
   "source": [
    "## We generate sets of random numbers drawn from a uniform distribution in the range [0,1[.\n",
    "uniform_sets = np.random.uniform(size=(10,10000))\n",
    "\n",
    "mu1 = uniform_sets[0].mean()\n",
    "mu2 = uniform_sets[:2].sum(0).mean()\n",
    "mu3 = uniform_sets[:3].sum(0).mean()\n",
    "mu10 = uniform_sets.sum(0).mean()\n",
    "std1 = uniform_sets[0].std()\n",
    "std2 = uniform_sets[:2].sum(0).std()\n",
    "std3 = uniform_sets[:3].sum(0).std()\n",
    "std10 = uniform_sets.sum(0).std()\n",
    "\n",
    "fig,ax = plt.subplots(2, 2, figsize=[16,10])\n",
    "_ = ax[0,0].hist(uniform_sets[0], bins=20, range=[0,1])\n",
    "_ = ax[0,1].hist(uniform_sets[:2].sum(0), bins=40, range=[0,2])\n",
    "_ = ax[1,0].hist(uniform_sets[:3].sum(0), bins=60, range=[0,3])\n",
    "_ = ax[1,1].hist(uniform_sets.sum(0), bins=200, range=[0,10])\n",
    "_ = ax[0,0].set_title('Case 1 ($x_i$)'.format(mu1, std1))\n",
    "_ = ax[0,1].set_title('Case 2 ($x_i + x_j$)'.format(mu2, std2))\n",
    "_ = ax[1,0].set_title('Case 3 ($x_i + x_j + x_k$)'.format(mu3, std3))\n",
    "_ = ax[1,1].set_title('Case 4 ($x_i + ...$)'.format(mu10, std10))\n",
    "_ = ax[0,0].text(0.02, 0.9, 'Observed\\n  mean: {:.3f}\\n  std: {:.3f}'.format(mu1 , std1 ), transform=ax[0,0].transAxes, size=14, verticalalignment='top')\n",
    "_ = ax[0,1].text(0.02, 0.9, 'Observed\\n  mean: {:.3f}\\n  std: {:.3f}'.format(mu2 , std2 ), transform=ax[0,1].transAxes, size=14, verticalalignment='top')\n",
    "_ = ax[1,0].text(0.02, 0.9, 'Observed\\n  mean: {:.3f}\\n  std: {:.3f}'.format(mu3 , std3 ), transform=ax[1,0].transAxes, size=14, verticalalignment='top')\n",
    "_ = ax[1,1].text(0.02, 0.9, 'Observed\\n  mean: {:.3f}\\n  std: {:.3f}'.format(mu10, std10), transform=ax[1,1].transAxes, size=14, verticalalignment='top')\n",
    "_ = ax[0,0].text(0.7, 0.9, 'Expected\\n  mean: {:.3f}\\n  std: {:.3f}'.format(0.5 , 1/np.sqrt(12)), transform=ax[0,0].transAxes, size=14, verticalalignment='top')\n",
    "_ = ax[0,1].text(0.7, 0.9, 'Expected\\n  mean: {:.3f}\\n  std: {:.3f}'.format(1.0 , np.sqrt(2/12)), transform=ax[0,1].transAxes, size=14, verticalalignment='top')\n",
    "_ = ax[1,0].text(0.7, 0.9, 'Expected\\n  mean: {:.3f}\\n  std: {:.3f}'.format(1.5 , np.sqrt(3/12)), transform=ax[1,0].transAxes, size=14, verticalalignment='top')\n",
    "_ = ax[1,1].text(0.7, 0.9, 'Expected\\n  mean: {:.3f}\\n  std: {:.3f}'.format(5.0 , np.sqrt(10/12)), transform=ax[1,1].transAxes, size=14, verticalalignment='top')\n",
    "_ = ax[0,0].set_ylim(0,900)\n",
    "_ = fig.subplots_adjust(0.125, 0.2, 0.9, 0.9, 0.2, 0.4)\n"
   ]
  },
  {
   "cell_type": "markdown",
   "metadata": {},
   "source": [
    "<span style=\"text-decoration: underline\">Lesson 1:</span>\n",
    "> As expected, the Case 1 scenario is just a flat distribution with mean $0.5$ and variance equal to $1/12$ (_can you calculate them?_). For the other cases, according to the CLT, the predicted mean should be $N\\mu = N/2$ and the variance $N\\sigma = N/12$. The experiment agrees remarkably well with the prediction.\n",
    "\n",
    "<span style=\"text-decoration: underline\">Lesson 2:</span>\n",
    "> The other important prediction of CLT is that the distribution will increasingly resemble a Gaussian as the number of summed random variables increases. This is clearly the case as we go from a uniform distribution in Case 1, to a triangular distribution in Case 2, to something more rounded in Case 3, to a very Gaussian looking one in Case 4. _As a side note, each distribution can be computed exactly: they are the convolution of $N$ top-hat functions. Something to remember when you do convolutions..._\n",
    "\n",
    "<span style=\"text-decoration: underline\">Lesson 3:</span>\n",
    "> The mean and standard deviations only depend on the number of random variables that are summed. However, how close the observed values agree with the expected values relies on another principle... the law of large numbers.\n",
    "\n",
    "**It is almost magical... we have have turned flat numbers into a normal distribution.**"
   ]
  },
  {
   "cell_type": "markdown",
   "metadata": {},
   "source": [
    "<div class=\"queue\">\n",
    "    Lecture 5 - 00:30\n",
    "</div>"
   ]
  },
  {
   "cell_type": "markdown",
   "metadata": {},
   "source": [
    "## 3.2 Parameter estimation"
   ]
  },
  {
   "cell_type": "markdown",
   "metadata": {},
   "source": [
    "#### Expectation values\n",
    "\n",
    "Expectation of a function $a(x)$ (or value) under normalised PDF $\\mathcal{L}(x)$. In the continuous case:\n",
    "\n",
    "\\begin{equation}\n",
    "  E\\left[ a(x) \\right] = \\int_\\Omega a(x) \\mathcal{L}(x) {\\rm d}x \\,.\n",
    "\\end{equation}\n",
    "\n",
    "Discrete case:\n",
    "\n",
    "\\begin{equation}\n",
    "  E\\left[ a(x) \\right] = \\sum_i^N a(x_N) \\mathcal{L}(x_N) \\,.\n",
    "\\end{equation}\n",
    "\n",
    "_Note: $\\langle a \\rangle = E \\left[a\\right]$._"
   ]
  },
  {
   "cell_type": "markdown",
   "metadata": {},
   "source": [
    "#### Common formulas involving expectation values\n",
    "\n",
    "Here are some basic properties involving the expectation value and variance. We define $X$ and $Y$ as _independent and uncorrelated_ variates, $\\alpha$ as a constant, and recalling $V(X)$ the variance of $X$:\n",
    "\n",
    "- $E\\left[\\alpha+X\\right] = \\alpha + E\\left[X\\right]$\n",
    "- $E\\left[\\alpha X\\right] = \\alpha E\\left[X\\right]$\n",
    "- $E\\left[X+Y\\right] = E\\left[X\\right] + E\\left[Y\\right]$\n",
    "- $E\\left[XY\\right] = E\\left[X\\right] E\\left[Y\\right]$\n",
    "\n",
    "\n",
    "- $V(X) = E\\left[\\left(X - E\\left[X\\right]\\right)^2\\right] = E\\left[X^2\\right] - E\\left[X\\right]^2$\n",
    "- $V(\\alpha + X) = V(X)$\n",
    "- $V(\\alpha X) = \\alpha^2 V(X)$\n",
    "- $V(X+Y) = V(X-Y) = V(X)+V(Y)$\n",
    "- $V(XY) = E\\left[X^2\\right] E\\left[Y^2\\right] - E\\left[X\\right]^2 E\\left[Y\\right]^2$"
   ]
  },
  {
   "cell_type": "markdown",
   "metadata": {},
   "source": [
    "<div class=\"queue\">\n",
    "    Lecture 5 - 00:40\n",
    "</div>"
   ]
  },
  {
   "cell_type": "markdown",
   "metadata": {},
   "source": [
    "### 3.2.1 Definition\n",
    "\n",
    "**Estimator**: procedure that is applied to random variates and gives a numeric value for a parameter and/or a property of the parent population/distribution from which these variates are sampled. _[Barlow, Chapter 5]_"
   ]
  },
  {
   "cell_type": "markdown",
   "metadata": {},
   "source": [
    "<div class=\"example\">Example 1</div>\n",
    "\n",
    "Suppose you want to find the average height of Physics and Astronomy students at Manchester. Here are 8 possibles options:\n",
    "\n",
    "1. Add up all the heights and divide by N.\n",
    "2. Add up a set of 10 heights and divide by 10.\n",
    "3. Add all the heights and divide by N - 1.\n",
    "4. Throw away the data and give the answer as 180 cm.\n",
    "5. Multiply all the heights and take the Nth root (i.e. geometric mean).\n",
    "6. Choose the most common height (i.e. the mode).\n",
    "7. Add the tallest and shortest heights, and divide by 2.\n",
    "8. Add up the second, fourth, sixth, etc., heights and divide by N/2 for N even, and (N-1)/2 for N odd."
   ]
  },
  {
   "cell_type": "markdown",
   "metadata": {},
   "source": [
    "### 3.2.2 Properties\n",
    "\n",
    "A 'good' estimator fulfills the following criteria:\n",
    "\n",
    "1. Consistent\n",
    "2. Unbiased\n",
    "3. Efficient"
   ]
  },
  {
   "cell_type": "markdown",
   "metadata": {},
   "source": [
    "<div class=\"queue\">\n",
    "    Lecture 6 - 00:00\n",
    "</div>"
   ]
  },
  {
   "cell_type": "markdown",
   "metadata": {
    "collapsed": true,
    "jupyter": {
     "outputs_hidden": true
    }
   },
   "source": [
    "#### Consistent\n",
    "\n",
    "Tends to the true value as $N \\to \\infty$:\n",
    "\n",
    "\\begin{equation}\n",
    "  \\lim_{N \\to \\infty} \\widehat{a} = a \\,.\n",
    "\\end{equation}\n",
    "\n",
    "Typical test is for error of estimator (i.e. variance) to tend to zero as $N \\to \\infty$:\n",
    "\n",
    "\\begin{equation}\n",
    "  \\lim_{N \\to \\infty} V(\\widehat{a}) = 0 \\,.\n",
    "\\end{equation}"
   ]
  },
  {
   "cell_type": "markdown",
   "metadata": {},
   "source": [
    "<div class=\"example\">Example 1</div>\n",
    "\n",
    "Option 1 is consistent:\n",
    "\n",
    "\\begin{equation}\n",
    "  \\widehat{\\mu} = \\frac{X_1 + X_2 + X_3 + \\dots + X_N}{N} = \\langle X \\rangle \\,,\n",
    "\\end{equation}\n",
    "\n",
    "since for $N \\to \\infty$ the law of large unmbers ensures that $\\langle X \\rangle \\to \\mu$."
   ]
  },
  {
   "cell_type": "markdown",
   "metadata": {},
   "source": [
    "Alternatively\n",
    "\n",
    "\\begin{eqnarray}\n",
    "    V(\\hat{\\mu}) &=& V\\left(\\frac{X_1 + X_2 + X_3 + \\dots + X_N}{N}\\right) \\\\\n",
    "                 &=& \\frac{1}{N^2} \\left( V(X_1) + V(X_2) + V(X_3) + \\dots + V(X_N) \\right) \\\\\n",
    "                 &=& \\frac{1}{N^2} N V(X) \\\\\n",
    "                 &=& \\frac{V(X)}{N} \\\\\n",
    "\\end{eqnarray}\n",
    "\n",
    "We can see that $\\lim_{N \\to \\infty} V(\\widehat{a}) = 0$."
   ]
  },
  {
   "cell_type": "markdown",
   "metadata": {},
   "source": [
    "#### Unbiased\n",
    "\n",
    "Expectation value is equal to the true value:\n",
    "\n",
    "\\begin{equation}\n",
    "  E\\left[ \\widehat{a} \\right] = a \\,.\n",
    "\\end{equation}"
   ]
  },
  {
   "cell_type": "markdown",
   "metadata": {},
   "source": [
    "<div class=\"example\">Example 1</div>\n",
    "\n",
    "From the previous example, we can show that Option 1 is unbiased:\n",
    "\n",
    "\\begin{eqnarray}\n",
    "  E \\left[ \\widehat{\\mu} \\right] &=& E\\left[ \\frac{X_1 + X_2 + X_3 + \\dots + X_N}{N} \\right] \\\\\n",
    "                               &=& \\frac{E\\left[X_1\\right] + E\\left[X_2\\right] + E\\left[X_3\\right] + \\dots + E\\left[X_N\\right]}{N} \\\\\n",
    "                               &=& \\frac{N E\\left[X\\right]}{N} \\\\\n",
    "                               &=& \\mu \\,.\n",
    "\\end{eqnarray}"
   ]
  },
  {
   "cell_type": "markdown",
   "metadata": {},
   "source": [
    "#### Efficient\n",
    "\n",
    "Better of two estimators is the one with smallest variance."
   ]
  },
  {
   "cell_type": "markdown",
   "metadata": {},
   "source": [
    "<div class=\"example\">Example 1</div>\n",
    "\n",
    "Option 1 is efficent using the variance:\n",
    "\n",
    "\\begin{equation}\n",
    "  V(\\widehat{\\mu}) = \\frac{\\sigma^2}{N} \\,.\n",
    "\\end{equation}\n",
    "\n",
    "This follows from CLT. Here $\\sigma$ is variance of a single measurement and $V(\\widehat{\\mu})$ is variance of the mean. Known as the standard deviation of the mean."
   ]
  },
  {
   "cell_type": "markdown",
   "metadata": {},
   "source": [
    "<div class=\"queue\">\n",
    "    Lecture 6 - 00:20\n",
    "</div>"
   ]
  },
  {
   "cell_type": "markdown",
   "metadata": {},
   "source": [
    "### 3.2.3 Some basic estimators"
   ]
  },
  {
   "cell_type": "markdown",
   "metadata": {},
   "source": [
    "<div class=\"example\">Example 1: Variance with known mean</div>\n",
    "\n",
    "True mean $\\mu$ is known:\n",
    "\\begin{equation}\n",
    "  \\widehat{V(X)} \\equiv \\widehat{\\sigma^2} = \\frac{1}{N} \\sum (X_i - \\mu)^2 \\,.\n",
    "\\end{equation}\n",
    "\n",
    "**Unbiased**:\n",
    "\n",
    "\\begin{eqnarray}\n",
    "  E\\left[ \\widehat{\\sigma^2} \\right] &=& E\\left[ \\frac{1}{N} \\sum (X_i - \\mu)^2 \\right] \\\\\n",
    "                                     &=& \\frac{1}{N} \\sum E\\left[ \\left(X_i - \\mu \\right)^2 \\right] \\\\\n",
    "                                     &=& \\frac{1}{N} \\sum V(X_i) \\quad \\textrm{by the definition of variance} \\\\\n",
    "                                     &=& \\frac{1}{N} N \\sigma^2 = \\sigma^2 \\,.\n",
    "\\end{eqnarray}\n",
    "\n",
    "**Consistent**:\n",
    "\n",
    "\\begin{eqnarray}\n",
    "  V(\\widehat{\\sigma^2}) &=& V \\left( \\frac{1}{N} \\sum (X_i - \\mu)^2 \\right) \\\\\n",
    "                        &=& \\frac{1}{N^2} V \\left( \\sum (X_i - \\mu)^2 \\right) \\\\\n",
    "                        &=& \\frac{1}{N^2} \\sum V (X_i - \\mu)^2 \\\\\n",
    "                        &=& \\frac{1}{N^2} \\left( \\sum E\\left[ (X_i - \\mu)^4 \\right] - \\sum E\\left[ (X_i - \\mu)^2 \\right]^2 \\right) \\\\\n",
    "                        &=& \\frac{1}{N^2} \\left( \\sum 3\\sigma^4 - \\sum (\\sigma^2)^2 \\right) \\quad \\textrm{see note below} \\\\\n",
    "                        &=& \\frac{1}{N^2} \\sum 2 \\sigma^4 \\\\\n",
    "                        &=& \\frac{1}{N^2} 2N\\sigma^4 \\\\\n",
    "                        &=& \\frac{2\\sigma^4}{N}\n",
    "\\end{eqnarray}\n",
    "\n",
    "In the limit of $N \\to \\infty$, this equation will clearly go to zero.\n",
    "\n",
    "*Note: assumed normally distributed, and use kurtosis identity:*\n",
    "\\begin{eqnarray}\n",
    "    \\kappa &=& \\frac{E\\left[ (X_i - \\mu)^4 \\right]}{\\sigma^4} - 3 \\\\\n",
    "           &=& 0 \\quad \\textrm{for a Gaussian} \\\\\n",
    "   &\\therefore{}& E\\left[ (X_i - \\mu)^4 \\right] = 3\\sigma^4\n",
    "\\end{eqnarray}"
   ]
  },
  {
   "cell_type": "markdown",
   "metadata": {},
   "source": [
    "<div class=\"queue\">\n",
    "    Lecture 6 - 00:35\n",
    "</div>"
   ]
  },
  {
   "cell_type": "markdown",
   "metadata": {},
   "source": [
    "<div class=\"example\">Example 2: Variance with unknown mean</div>\n",
    "\n",
    "True mean $\\mu$ unknown, use sample mean $\\langle X \\rangle$:\n",
    "\n",
    "\\begin{equation}\n",
    "  \\widehat{V(x)} \\equiv \\widehat{s^2_{\\rm uncorr}} = \\frac{1}{N} \\sum \\left(X_i - \\langle X \\rangle\\right)^2 \\,.\n",
    "\\end{equation}\n",
    "\n",
    "**Biased**:\n",
    "\n",
    "\\begin{eqnarray}\n",
    "  E\\left[ \\widehat{s^2_{\\rm uncorr}} \\right] &=& \\frac{1}{N} E\\left[ \\sum (X_i - \\langle X \\rangle )^2 \\right] \\\\\n",
    "                                 &=& \\frac{1}{N} \\sum E\\left[ X_i^2 - \\langle X \\rangle^2 \\right] \\\\\n",
    "                                 &=& \\frac{N}{N} E\\left[ (X_i^2 - \\mu^2) - (\\langle X \\rangle^2 - \\mu^2) \\right] \\\\\n",
    "                                 &=& V(X) - V(\\langle X \\rangle) \\\\\n",
    "                                 &=& V(X) - V(X)/N \\\\\n",
    "                                 &=& \\frac{N-1}{N} V(X) \\neq V(X)\n",
    "\\end{eqnarray}\n",
    "\n",
    "*Note: used CLT for $V(\\langle X \\rangle) = V(X)/N$.*\n",
    "\n",
    "Could make it unbiased using correction factor:\n",
    "\n",
    "\\begin{equation}\n",
    "  \\widehat{V(X)} = s^2 = \\frac{1}{N-1} \\sum (X_i - \\langle X \\rangle)^2 \\,.\n",
    "\\end{equation}\n",
    "\n",
    "Correction known as **Bessel's correction**."
   ]
  },
  {
   "cell_type": "markdown",
   "metadata": {},
   "source": [
    "<div class=\"well\" align=\"center\">\n",
    "    <div class=\"container-fluid\">\n",
    "        <div class=\"row\">\n",
    "            <div class=\"col-md-3\" align=\"center\">\n",
    "                <img align=\"center\" alt=\"Creative Commons License\" style=\"border-width:0\" src=\"https://i.creativecommons.org/l/by-nc-sa/4.0/88x31.png\" width=\"60%\">\n",
    "            </div>\n",
    "            <div class=\"col-md-8\">\n",
    "            This work is licensed under a <a href=\"http://creativecommons.org/licenses/by-nc-sa/4.0/\">Creative Commons Attribution-NonCommercial-ShareAlike 4.0 International License</a>).\n",
    "            </div>\n",
    "        </div>\n",
    "    </div>\n",
    "    <br>\n",
    "    <br>\n",
    "    <i>Note: The content of this Jupyter Notebook is provided for educational purposes only.</i>\n",
    "</div>"
   ]
  }
 ],
 "metadata": {
  "kernelspec": {
   "display_name": "Python 3 (ipykernel)",
   "language": "python",
   "name": "python3"
  },
  "language_info": {
   "codemirror_mode": {
    "name": "ipython",
    "version": 3
   },
   "file_extension": ".py",
   "mimetype": "text/x-python",
   "name": "python",
   "nbconvert_exporter": "python",
   "pygments_lexer": "ipython3",
   "version": "3.10.9"
  },
  "latex_envs": {
   "LaTeX_envs_menu_present": true,
   "autocomplete": true,
   "bibliofile": "biblio.bib",
   "cite_by": "apalike",
   "current_citInitial": 1,
   "eqLabelWithNumbers": true,
   "eqNumInitial": 1,
   "hotkeys": {
    "equation": "Ctrl-E",
    "itemize": "Ctrl-I"
   },
   "labels_anchors": false,
   "latex_user_defs": false,
   "report_style_numbering": false,
   "user_envs_cfg": false
  }
 },
 "nbformat": 4,
 "nbformat_minor": 4
}
