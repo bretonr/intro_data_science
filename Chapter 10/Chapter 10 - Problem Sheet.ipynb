{
 "cells": [
  {
   "cell_type": "code",
   "execution_count": 1,
   "metadata": {},
   "outputs": [
    {
     "data": {
      "text/html": [
       "<style>.container { width:95% !important; }</style>"
      ],
      "text/plain": [
       "<IPython.core.display.HTML object>"
      ]
     },
     "metadata": {},
     "output_type": "display_data"
    },
    {
     "data": {
      "text/html": [
       "custom.css"
      ],
      "text/plain": [
       "<IPython.core.display.HTML object>"
      ]
     },
     "execution_count": 1,
     "metadata": {},
     "output_type": "execute_result"
    }
   ],
   "source": [
    "## Import required Python modules\n",
    "%matplotlib inline\n",
    "import matplotlib.pyplot as plt\n",
    "import numpy as np\n",
    "import scipy, scipy.stats\n",
    "import io\n",
    "import base64\n",
    "#from IPython.core.display import display\n",
    "from IPython.display import display, HTML, Image\n",
    "from urllib.request import urlopen\n",
    "\n",
    "try:\n",
    "    import astropy as apy\n",
    "    import astropy.table\n",
    "    _apy = True\n",
    "    #print('Loaded astropy')\n",
    "except:\n",
    "    _apy = False\n",
    "    #print('Could not load astropy')\n",
    "\n",
    "## Customising the font size of figures\n",
    "plt.rcParams.update({'font.size': 14})\n",
    "\n",
    "## Customising the look of the notebook\n",
    "display(HTML(\"<style>.container { width:95% !important; }</style>\"))\n",
    "## This custom file is adapted from https://github.com/lmarti/jupyter_custom/blob/master/custom.include\n",
    "HTML('custom.css')\n",
    "#HTML(urlopen('https://raw.githubusercontent.com/bretonr/intro_data_science/master/custom.css').read().decode('utf-8'))"
   ]
  },
  {
   "cell_type": "code",
   "execution_count": 5,
   "metadata": {},
   "outputs": [],
   "source": [
    "## Custom imports\n",
    "from scipy.stats import binom, poisson, chi2, norm, uniform\n",
    "from scipy.optimize import curve_fit\n",
    "from math import ceil, pi\n",
    "from numpy import exp\n",
    "from matplotlib.collections import PatchCollection\n",
    "from matplotlib.patches import Circle, Rectangle\n",
    "from matplotlib.colors import makeMappingArray\n",
    "from matplotlib.cm import jet\n",
    "import pandas as pd\n",
    "from tqdm import trange"
   ]
  },
  {
   "cell_type": "code",
   "execution_count": 3,
   "metadata": {
    "scrolled": true
   },
   "outputs": [
    {
     "data": {
      "text/html": [
       "<script>\n",
       "code_show=true;\n",
       "function code_toggle() {\n",
       " if (code_show){\n",
       " $('div.input').hide();\n",
       " } else {\n",
       " $('div.input').show();\n",
       " }\n",
       " code_show = !code_show\n",
       "} \n",
       "$( document ).ready(code_toggle);\n",
       "</script>\n",
       "<form action=\"javascript:code_toggle()\"><input type=\"submit\" value=\"Click here to toggle on/off the Python code.\"></form>"
      ],
      "text/plain": [
       "<IPython.core.display.HTML object>"
      ]
     },
     "execution_count": 3,
     "metadata": {},
     "output_type": "execute_result"
    }
   ],
   "source": [
    "## Adding a button to hide the Python source code\n",
    "HTML('''<script>\n",
    "code_show=true;\n",
    "function code_toggle() {\n",
    " if (code_show){\n",
    " $('div.input').hide();\n",
    " } else {\n",
    " $('div.input').show();\n",
    " }\n",
    " code_show = !code_show\n",
    "} \n",
    "$( document ).ready(code_toggle);\n",
    "</script>\n",
    "<form action=\"javascript:code_toggle()\"><input type=\"submit\" value=\"Click here to toggle on/off the Python code.\"></form>''')"
   ]
  },
  {
   "cell_type": "markdown",
   "metadata": {},
   "source": [
    "<div class=\"container-fluid\">\n",
    "    <div class=\"row\">\n",
    "        <div class=\"col-md-8\" align=\"center\">\n",
    "            <h1>PHYS 10791: Introduction to Data Science</h1>\n",
    "            <!--<h3>2019-2020 Academic Year</h3><br>-->\n",
    "        </div>\n",
    "        <div class=\"col-md-3\">\n",
    "            <img align='center' style=\"border-width:0\" src=\"images/UoM_logo.png\"/>\n",
    "        </div>\n",
    "    </div>\n",
    "</div>\n",
    "\n",
    "<div class=\"container-fluid\">\n",
    "    <div class=\"row\">\n",
    "        <div class=\"col-md-2\" align=\"right\">\n",
    "            <b>Course instructors:&nbsp;&nbsp;</b>\n",
    "        </div>\n",
    "        <div class=\"col-md-9\" align=\"left\">\n",
    "            <a href=\"http://www.renebreton.org\">Prof. Rene Breton</a> - Twitter <a href=\"https://twitter.com/BretonRene\">@BretonRene</a><br>\n",
    "            <a href=\"http://www.hep.manchester.ac.uk/u/gersabec\">Dr. Marco Gersabeck</a> - Twitter <a href=\"https://twitter.com/MarcoGersabeck\">@MarcoGersabeck</a>\n",
    "        </div>\n",
    "    </div>\n",
    "</div>"
   ]
  },
  {
   "cell_type": "markdown",
   "metadata": {},
   "source": [
    "# Chapter 10 - Problem Sheet"
   ]
  },
  {
   "cell_type": "markdown",
   "metadata": {
    "slideshow": {
     "slide_type": "slide"
    }
   },
   "source": [
    "### Problem 1\n",
    "\n",
    "#### Problem 1.1\n",
    "\n",
    "The construction of Feldman-Cousins intervals involves the calculation of $\\mu_{best}$, i.e. the value of the true variable that maximises the probability for a given value of the measured variable. For a Poisson distribution, this is the value of the mean $\\lambda$ that maximises $P(k;\\lambda)$ for a given $k$.\n",
    "\n",
    "Show that for a given $k$ the Poisson probability $P(k;\\lambda)$ is maximal with $\\lambda=k$.\n",
    "\n",
    "#### Problem 1.2\n",
    "\n",
    "Another way to come to the same conclusion and a generally useful piece of information about Poisson probabilities is the mode of the Poisson probability mass function.\n",
    "\n",
    "By considering the probabilities of elements around the mode show:\n",
    "- that for integer values of $\\lambda$ the mode is both $k=\\lambda$ and $k=\\lambda-1$; and\n",
    "- that for non-integer values of $\\lambda=n+\\delta$, with integer $n$ and $0<\\delta<1$, the mode is $k=n$."
   ]
  },
  {
   "cell_type": "markdown",
   "metadata": {
    "slideshow": {
     "slide_type": "slide"
    }
   },
   "source": [
    "### Solution 1\n",
    "\n",
    "All solutions require the Poisson probability mass function\n",
    "\n",
    "$$P(k;\\lambda)=e^{-\\lambda}\\frac{\\lambda^k}{k!}.$$\n",
    "\n",
    "#### Solution 1.1\n",
    "\n",
    "The derivative with respect to $\\lambda$ of the probability is\n",
    "\n",
    "$$\\frac{d}{d\\lambda}P(k;\\lambda)=-P(k;\\lambda)+\\frac{k}{\\lambda}P(k;\\lambda),$$\n",
    "\n",
    "and setting this to zero gives\n",
    "\n",
    "$$\\lambda=k.$$\n",
    "\n",
    "#### Solution 1.2\n",
    "\n",
    "For integer values of $\\lambda$:\n",
    "\n",
    "$$\\frac{P(k=\\lambda-2;\\lambda)}{P(k=\\lambda-1;\\lambda)} = \\frac{\\lambda^{\\lambda-2}}{\\lambda^{\\lambda-1}}\\frac{(\\lambda-1)!}{(\\lambda-2)!}=\\frac{1}{\\lambda}\\frac{\\lambda-1}{1}<1,$$\n",
    "$$\\frac{P(k=\\lambda-1;\\lambda)}{P(k=\\lambda;\\lambda)} = \\frac{\\lambda^{\\lambda-1}}{\\lambda^{\\lambda}}\\frac{\\lambda!}{(\\lambda-1)!}=\\frac{1}{\\lambda}\\frac{\\lambda}{1}=1,$$\n",
    "$$\\frac{P(k=\\lambda+1;\\lambda)}{P(k=\\lambda;\\lambda)} = \\frac{\\lambda^{\\lambda+1}}{\\lambda^{\\lambda}}\\frac{\\lambda!}{(\\lambda+1)!}=\\frac{\\lambda}{1}\\frac{1}{\\lambda+1}<1.$$\n",
    "\n",
    "For non-integer values of $\\lambda=n+\\delta$, with integer $n$ and $0<\\delta<1$:\n",
    "$$\\frac{P(k=n-1;\\lambda)}{P(k=n;\\lambda)} = \\frac{\\lambda^{n-1}}{\\lambda^{n}}\\frac{n!}{(n-1)!}=\\frac{1}{\\lambda}\\frac{n}{1}<1,$$\n",
    "$$\\frac{P(k=n+1;\\lambda)}{P(k=n;\\lambda)} = \\frac{\\lambda^{n+1}}{\\lambda^{n}}\\frac{n!}{(n+1)!}=\\frac{\\lambda}{1}\\frac{1}{n+1}<1.$$"
   ]
  },
  {
   "cell_type": "markdown",
   "metadata": {},
   "source": [
    "<div class=\"well\" align=\"center\">\n",
    "    <div class=\"container-fluid\">\n",
    "        <div class=\"row\">\n",
    "            <div class=\"col-md-3\" align=\"center\">\n",
    "                <img align=\"center\" alt=\"Creative Commons License\" style=\"border-width:0\" src=\"https://i.creativecommons.org/l/by-nc-sa/4.0/88x31.png\" width=\"60%\">\n",
    "            </div>\n",
    "            <div class=\"col-md-8\">\n",
    "            This work is licensed under a <a href=\"http://creativecommons.org/licenses/by-nc-sa/4.0/\">Creative Commons Attribution-NonCommercial-ShareAlike 4.0 International License</a>).\n",
    "            </div>\n",
    "        </div>\n",
    "    </div>\n",
    "    <br>\n",
    "    <br>\n",
    "    <i>Note: The content of this Jupyter Notebook is provided for educational purposes only.</i>\n",
    "</div>"
   ]
  }
 ],
 "metadata": {
  "kernelspec": {
   "display_name": "Python 3",
   "language": "python",
   "name": "python3"
  },
  "language_info": {
   "codemirror_mode": {
    "name": "ipython",
    "version": 3
   },
   "file_extension": ".py",
   "mimetype": "text/x-python",
   "name": "python",
   "nbconvert_exporter": "python",
   "pygments_lexer": "ipython3",
   "version": "3.8.6"
  }
 },
 "nbformat": 4,
 "nbformat_minor": 4
}
