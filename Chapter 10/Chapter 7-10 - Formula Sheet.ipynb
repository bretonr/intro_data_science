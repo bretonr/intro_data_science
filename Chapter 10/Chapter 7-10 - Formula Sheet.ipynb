{
 "cells": [
  {
   "cell_type": "code",
   "execution_count": 1,
   "metadata": {},
   "outputs": [
    {
     "data": {
      "text/html": [
       "<style>.container { width:95% !important; }</style>"
      ],
      "text/plain": [
       "<IPython.core.display.HTML object>"
      ]
     },
     "metadata": {},
     "output_type": "display_data"
    },
    {
     "data": {
      "text/html": [
       "<link href=\"https://fonts.googleapis.com/css?family=Fira+Sans:300,300i,600,600i\" rel=\"stylesheet\">\n",
       "<link href=\"https://fonts.googleapis.com/css?family=Inconsolata\" rel=\"stylesheet\">\n",
       "<link href=\"https://fonts.googleapis.com/css?family=Titillium+Web:400,400i,700,700i\" rel=\"stylesheet\">\n",
       "\n",
       "\n",
       "<style>\n",
       "\n",
       ".container {\n",
       "    max-width:1000px !important;\n",
       "}\n",
       "\n",
       ".text_cell_render p {\n",
       "font-style: regular;\n",
       "font-family: 'Fira Sans', sans-serif;\n",
       "display: block;\n",
       "text-align: justify;\n",
       "}\n",
       "/*font-weight: 200;*/\n",
       "/*text-align: left;\n",
       "line-height: 100%;\n",
       "display: block;\n",
       "}*/\n",
       "a {\n",
       "color:#377bb5;\n",
       "}\n",
       ".text_cell_render h1 {\n",
       "/*font-size: 24pt;*/\n",
       "font-family: 'Titillium Web', sans-serif;\n",
       "font-weight: bold;\n",
       "margin-bottom: 0.1em;\n",
       "margin-top: 0.5em;\n",
       "color:#4a4a4a;\n",
       "}\n",
       ".text_cell_render h2 {\n",
       "/*font-size: 21pt;*/\n",
       "    font-family: 'Titillium Web', sans-serif;\n",
       "margin-bottom: 0.1em;\n",
       "margin-top: 0.5em;\n",
       "color:#595959;\n",
       "}\n",
       ".text_cell_render h3 {\n",
       "    font-family: 'Titillium Web', sans-serif;\n",
       "/*font-size: 19pt;*/\n",
       "margin-bottom: 0.1em;\n",
       "margin-top: 0.5em;\n",
       "color:#595959;\n",
       "}\n",
       ".text_cell_render h4 {\n",
       "    font-family: 'Titillium Web', sans-serif;\n",
       "/*font-size: 17pt;*/\n",
       "font-size: 110%;\n",
       "margin-bottom: 0.1em;\n",
       "margin-top: 0.5em;\n",
       "color:#595959;\n",
       "}\n",
       ".text_cell_render h5 {\n",
       "    font-family: 'Titillium Web', sans-serif;\n",
       "/*font-size: 15pt;*/\n",
       "margin-bottom: 0.1em;\n",
       "margin-top: 0.5em;\n",
       "color:#595959;\n",
       "}\n",
       "div.text_cell_render{\n",
       "font-style: regular;\n",
       "font-family: 'Fira Sans', sans-serif;\n",
       "line-height: 120%;\n",
       "font-size: 100%;\n",
       "font-weight: 400;\n",
       "text-align: justify;\n",
       "margin-left:0em;\n",
       "margin-right:0em;\n",
       "}\n",
       "code {\n",
       "font-family: 'Inconsolata', monospace;\n",
       "}\n",
       "pre {\n",
       "font-family: 'Inconsolata', monospace;\n",
       "}\n",
       "\n",
       "div.example {\n",
       "    font-family: 'Titillium Web', sans-serif;\n",
       "/*font-size: 15pt;*/\n",
       "font-weight: bold;\n",
       "font-variant: small-caps;\n",
       "text-decoration: underline;\n",
       "margin-bottom: 0.1em;\n",
       "margin-top: 0.3em;\n",
       "color:#595959;\n",
       "}\n",
       "\n",
       "div.queue {\n",
       "font-size: x-large;\n",
       "font-variant: small-caps;\n",
       "font-family: 'Titillium Web', sans-serif;\n",
       "font-weight: bold;\n",
       "/*margin-bottom: 0.1em;*/\n",
       "/*margin-top: 0.5em;*/\n",
       "margin: 10px;\n",
       "padding: 10px;\n",
       "color:#cc0000;\n",
       "border-style: solid none solid none;\n",
       "border-width: 2px;\n",
       "border-color:#cc0000;\n",
       "border-spacing: 10px;\n",
       "}\n",
       "\n",
       "div.opt_start {\n",
       "font-size: large;\n",
       "font-variant: small-caps;\n",
       "font-family: 'Titillium Web', sans-serif;\n",
       "font-weight: bold;\n",
       "/*margin-bottom: 0.1em;*/\n",
       "/*margin-top: 0.5em;*/\n",
       "margin: 10px;\n",
       "padding: 10px;\n",
       "color:#0000cc;\n",
       "border-style: solid none none none;\n",
       "border-width: 2px;\n",
       "border-color:#0000cc;\n",
       "border-spacing: 10px;\n",
       "}\n",
       "div.opt_end {\n",
       "font-size: large;\n",
       "font-variant: small-caps;\n",
       "font-family: 'Titillium Web', sans-serif;\n",
       "font-weight: bold;\n",
       "/*margin-bottom: 0.1em;*/\n",
       "/*margin-top: 0.5em;*/\n",
       "margin: 10px;\n",
       "padding: 10px;\n",
       "color:#0000cc;\n",
       "border-style: none none solid none;\n",
       "border-width: 2px;\n",
       "border-color:#0000cc;\n",
       "border-spacing: 10px;\n",
       "}\n",
       "\n",
       ".reveal h1 {\n",
       "font-family: 'Titillium Web', sans-serif;\n",
       "/*font-size: 24pt;*/\n",
       "font-weight: bold;\n",
       "margin-bottom: 0.1em;\n",
       "margin-top: 0.5em;\n",
       "color:#4a4a4a;\n",
       "}\n",
       ".reveal h2 {\n",
       "font-family: 'Titillium Web', sans-serif;\n",
       "/*font-size: 24pt;*/\n",
       "font-weight: bold;\n",
       "margin-bottom: 0.1em;\n",
       "margin-top: 0.5em;\n",
       "color:#595959;\n",
       "}\n",
       ".reveal h3 {\n",
       "font-family: 'Titillium Web', sans-serif;\n",
       "/*font-size: 24pt;*/\n",
       "font-weight: bold;\n",
       "margin-bottom: 0.1em;\n",
       "margin-top: 0.5em;\n",
       "color:#595959;\n",
       "}\n",
       ".reveal h4 {\n",
       "font-family: 'Titillium Web', sans-serif;\n",
       "font-size: 110%;\n",
       "font-weight: bold;\n",
       "margin-bottom: 0.1em;\n",
       "margin-top: 0.5em;\n",
       "color:#595959;\n",
       "}\n",
       ".reveal div.text_cell_render{\n",
       "line-height: 120%;\n",
       "font-size: 74%;\n",
       "font-weight: 400;\n",
       "text-align: justify;\n",
       "margin-left:0em;\n",
       "margin-right:0em;\n",
       "}\n",
       ".reveal .code_cell {\n",
       "    font-size: 92%;\n",
       "}\n",
       ".reveal code {\n",
       "font-family: 'Inconsolata', monospace;\n",
       "}\n",
       ".reveal pre {\n",
       "font-family: 'Inconsolata', monospace;\n",
       "}\n",
       "\n",
       ".CodeMirror{\n",
       "font-family: \"Inconsolata\", monospace;\n",
       "}\n",
       "\n",
       "</style>"
      ],
      "text/plain": [
       "<IPython.core.display.HTML object>"
      ]
     },
     "execution_count": 1,
     "metadata": {},
     "output_type": "execute_result"
    }
   ],
   "source": [
    "## Import required Python modules\n",
    "%matplotlib inline\n",
    "import matplotlib.pyplot as plt\n",
    "import numpy as np\n",
    "import scipy, scipy.stats\n",
    "import io\n",
    "import base64\n",
    "#from IPython.core.display import display\n",
    "from IPython.display import display, HTML, Image\n",
    "from urllib.request import urlopen\n",
    "\n",
    "try:\n",
    "    import astropy as apy\n",
    "    import astropy.table\n",
    "    _apy = True\n",
    "    #print('Loaded astropy')\n",
    "except:\n",
    "    _apy = False\n",
    "    #print('Could not load astropy')\n",
    "\n",
    "## Customising the font size of figures\n",
    "plt.rcParams.update({'font.size': 14})\n",
    "\n",
    "## Customising the look of the notebook\n",
    "display(HTML(\"<style>.container { width:95% !important; }</style>\"))\n",
    "## This custom file is adapted from https://github.com/lmarti/jupyter_custom/blob/master/custom.include\n",
    "HTML('custom.css')\n",
    "#HTML(urlopen('https://raw.githubusercontent.com/bretonr/intro_data_science/master/custom.css').read().decode('utf-8'))"
   ]
  },
  {
   "cell_type": "code",
   "execution_count": 2,
   "metadata": {},
   "outputs": [],
   "source": [
    "## Custom imports\n",
    "from scipy.stats import binom, poisson, chi2, norm, uniform\n",
    "from scipy.optimize import curve_fit\n",
    "from math import ceil, pi\n",
    "from numpy import exp\n",
    "from matplotlib.collections import PatchCollection\n",
    "from matplotlib.patches import Circle, Rectangle\n",
    "#from matplotlib.colors import makeMappingArray\n",
    "from matplotlib.cm import jet\n",
    "import pandas as pd\n",
    "from tqdm import trange"
   ]
  },
  {
   "cell_type": "code",
   "execution_count": 3,
   "metadata": {
    "scrolled": true
   },
   "outputs": [
    {
     "data": {
      "text/html": [
       "<script>\n",
       "code_show=true;\n",
       "function code_toggle() {\n",
       " if (code_show){\n",
       " $('div.input').hide();\n",
       " } else {\n",
       " $('div.input').show();\n",
       " }\n",
       " code_show = !code_show\n",
       "} \n",
       "$( document ).ready(code_toggle);\n",
       "</script>\n",
       "<form action=\"javascript:code_toggle()\"><input type=\"submit\" value=\"Click here to toggle on/off the Python code.\"></form>"
      ],
      "text/plain": [
       "<IPython.core.display.HTML object>"
      ]
     },
     "execution_count": 3,
     "metadata": {},
     "output_type": "execute_result"
    }
   ],
   "source": [
    "## Adding a button to hide the Python source code\n",
    "HTML('''<script>\n",
    "code_show=true;\n",
    "function code_toggle() {\n",
    " if (code_show){\n",
    " $('div.input').hide();\n",
    " } else {\n",
    " $('div.input').show();\n",
    " }\n",
    " code_show = !code_show\n",
    "} \n",
    "$( document ).ready(code_toggle);\n",
    "</script>\n",
    "<form action=\"javascript:code_toggle()\"><input type=\"submit\" value=\"Click here to toggle on/off the Python code.\"></form>''')"
   ]
  },
  {
   "cell_type": "markdown",
   "metadata": {},
   "source": [
    "<div class=\"container-fluid\">\n",
    "    <div class=\"row\">\n",
    "        <div class=\"col-md-8\" align=\"center\">\n",
    "            <h1>PHYS 10792: Introduction to Data Science</h1>\n",
    "            <!--<h3>2019-2020 Academic Year</h3><br>-->\n",
    "        </div>\n",
    "        <div class=\"col-md-3\">\n",
    "            <img align='center' style=\"border-width:0\" src=\"images/UoM_logo.png\"/>\n",
    "        </div>\n",
    "    </div>\n",
    "</div>\n",
    "\n",
    "<div class=\"container-fluid\">\n",
    "    <div class=\"row\">\n",
    "        <div class=\"col-md-2\" align=\"right\">\n",
    "            <b>Course instructors:&nbsp;&nbsp;</b>\n",
    "        </div>\n",
    "        <div class=\"col-md-9\" align=\"left\">\n",
    "            <a href=\"http://www.ajmarkwick.net/\">Dr. Andrew Markwick</a> - Twitter <a href=\"https://twitter.com/AndrewMarkwick\">@AndrewMarkwick</a><br>\n",
    "            <a href=\"http://www.hep.manchester.ac.uk/u/gersabec\">Prof. Marco Gersabeck</a> - Twitter <a href=\"https://twitter.com/MarcoGersabeck\">@MarcoGersabeck</a>\n",
    "        </div>\n",
    "    </div>\n",
    "</div>"
   ]
  },
  {
   "cell_type": "markdown",
   "metadata": {},
   "source": [
    "# Chapters 7-10 - Formula Sheet"
   ]
  },
  {
   "cell_type": "markdown",
   "metadata": {
    "slideshow": {
     "slide_type": "slide"
    }
   },
   "source": [
    "### 7.2 Chi-squared test\n",
    "\n",
    "#### 7.2.1 General formulae\n",
    "\n",
    "The formulae below are a recap from Chapter 5.\n",
    "\n",
    "Main formula to calculate $\\chi^2$:\n",
    "\n",
    "$$\\chi^2=\\sum_{i=1}^n\\frac{(y_i-f(x_i))^2}{\\sigma_i^2}.$$\n",
    "\n",
    "Main formula on which test is based:\n",
    "\n",
    "$${\\rm Prob}(\\chi^2;N)=\\int_{\\chi^2}^{\\infty}P(\\chi'^2;N)d\\chi'^2.$$\n",
    "\n",
    "Need to distinguish $n$ and $N$."
   ]
  },
  {
   "cell_type": "markdown",
   "metadata": {
    "slideshow": {
     "slide_type": "slide"
    }
   },
   "source": [
    "#### 7.2.2 Application\n",
    "\n",
    "Setting a threshold of $\\chi^2$ or $\\chi^2/N$ requires taking into account the corresponding probability.\n",
    "\n",
    "As a consequence, a unique $\\chi^2/N$ threshold for all $N$ does not make sense."
   ]
  },
  {
   "cell_type": "markdown",
   "metadata": {
    "slideshow": {
     "slide_type": "slide"
    }
   },
   "source": [
    "#### 7.4.1 Comparing samples with known $\\sigma$\n",
    "\n",
    "$$x_1-x_2=0?$$ \n",
    "\n",
    "The variance of the difference is\n",
    "\n",
    "$$V_{12} = \\sigma_1^2 + \\sigma_2^2.$$\n",
    "\n",
    "Compare the difference, $x_1-x_2$, to the combined uncertainty $\\sigma_{12} = \\sqrt{V_{12}}$."
   ]
  },
  {
   "cell_type": "markdown",
   "metadata": {
    "slideshow": {
     "slide_type": "slide"
    }
   },
   "source": [
    "### 7.5 Kolmogorov-Smirnov test and its application to the two-sample problem\n",
    "\n",
    "#### 7.5.1 The Kolmogorov-Smirnov test\n",
    "\n",
    "The KS test is based on normalised cumulative distributions and evaluating their greatest difference.\n",
    "\n",
    "$$D=max|{\\rm cum}(x)-{\\rm cum}(P)|.$$\n",
    "\n",
    "This needs to be normalised for the sample size.\n",
    "\n",
    "$$d = D \\sqrt{N}.$$\n",
    "\n",
    "The value of $d$ then needs to be compared to a table of critical values, $c$, to determine the level, $\\alpha$, beyond which the statement that both distributions are compatible is rejected, i.e. you require $d<c(\\alpha)$. (The tabulated values for $c(\\alpha)$ do not need to be learned by heart)"
   ]
  },
  {
   "cell_type": "markdown",
   "metadata": {
    "slideshow": {
     "slide_type": "slide"
    }
   },
   "source": [
    "#### 7.5.2 The Kolmogorov-Smirnov test with two samples\n",
    "\n",
    "For a two-sample test the formula becomes\n",
    "\n",
    "$$D={\\rm max}|{\\rm cum}(x)-{\\rm cum}(y)|,$$\n",
    "\n",
    "with the normalisation\n",
    "\n",
    "$$d=\\sqrt{\\frac{N_xN_y}{N_x+N_y}}D.$$"
   ]
  },
  {
   "cell_type": "markdown",
   "metadata": {
    "slideshow": {
     "slide_type": "slide"
    }
   },
   "source": [
    "#### 8.1.4 Type I/II errors\n",
    "\n",
    "The two cases where there is a mismatch between the hypothesis being true or false and the decision taken based on the test are called Type I and Type II error according to the following pattern:\n",
    "\n",
    "| Hypothesis \\ Decision | accept | reject |\n",
    "|:-------------------|:----------:|:----------:|\n",
    "| **true** | :) | Type I error |\n",
    "| **false** | Type II error | :) |"
   ]
  },
  {
   "cell_type": "markdown",
   "metadata": {
    "slideshow": {
     "slide_type": "slide"
    }
   },
   "source": [
    "#### 8.1.5 Significance and Power\n",
    "\n",
    "**Significance**\n",
    "\n",
    "Type I errors are inevitable and the rate at which they occur is called significance.\n",
    "The significance, $\\alpha$, is the integral of the probability distribution of the hypothesis over the rejection region:\n",
    "\n",
    "$$\\alpha=\\int_{Reject}P_H(x)dx.$$"
   ]
  },
  {
   "cell_type": "markdown",
   "metadata": {
    "slideshow": {
     "slide_type": "slide"
    }
   },
   "source": [
    "**Power**\n",
    "\n",
    "Considering the alternative hypothesis, we can define the integral of the probability distribution of the alternative hypothesis over the acceptance region, in other words the rate of Type II errors, as\n",
    "\n",
    "$$\\beta=\\int_{Accept}P_A(x)dx,$$\n",
    "\n",
    "or, by integrating of the rejection region as above, we get\n",
    "\n",
    "$$1-\\beta=\\int_{Reject}P_A(x)dx,$$\n",
    "\n",
    "where $1-\\beta$ is called the power of the test."
   ]
  },
  {
   "cell_type": "markdown",
   "metadata": {},
   "source": [
    "#### 8.2.1 Hypothesis tests with a discrete distribution\n",
    "\n",
    "In a Poisson test of the hypothesis that a counting experiment results in a count compatible with a certain mean $\\lambda$ or smaller is:\n",
    "$$1-\\alpha\\lt\\int_{Accept}Poisson(x;\\lambda)dx=\\sum_{x=0}^{n}Poisson(x;\\lambda)$$\n",
    "for significance $\\alpha$ and $n$ the limit of the acceptance region. "
   ]
  },
  {
   "cell_type": "markdown",
   "metadata": {},
   "source": [
    "#### 9.1.3 Subjective probability\n",
    "\n",
    "$$P({\\rm theory}\\,|\\,{\\rm result})=\\frac{P({\\rm result}\\,|\\,{\\rm theory})}{P({\\rm result}\\,|\\,{\\rm theory})P({\\rm theory})+P({\\rm result}\\,|\\,{\\rm not~theory})[1-P({\\rm theory})]}P({\\rm theory}).$$\n",
    "\n",
    "If a result is equally likely regardless of whether or not the theory is true, i.e. $P({\\rm result}\\,|\\,{\\rm theory})=P({\\rm result}\\,|\\,{\\rm not~theory})$, there is no information gain as this results in $P({\\rm theory}\\,|\\,{\\rm result})=P({\\rm theory}).$\n",
    "\n",
    "The other extreme is that the result is much more likely to occur if the theory is true, i.e. $P({\\rm result}\\,|\\,{\\rm theory})\\gg P({\\rm result}\\,|\\,{\\rm not~theory})$, which leads to the observation of the result being highly predictive as $P({\\rm theory}\\,|\\,{\\rm result})\\approx 1$."
   ]
  },
  {
   "cell_type": "code",
   "execution_count": 4,
   "metadata": {
    "scrolled": true
   },
   "outputs": [
    {
     "name": "stdout",
     "output_type": "stream",
     "text": [
      "sigma | C.L.       | to remember\n",
      "-------------------------------------\n",
      "    1 | 0.683      | 68%\n",
      "    2 | 0.954      | 95%\n",
      "    3 | 0.9973     | 99.7%\n",
      "    4 | 0.999937   | < 1 in 10,000\n",
      "    5 | 0.99999943 | < 1 in 1,000,000\n",
      "\n",
      "C.L. | sigma\n",
      "------------\n",
      "0.90 | 1.64\n",
      "0.95 | 1.96\n"
     ]
    }
   ],
   "source": [
    "# get the CL corresponding to a given range +/- n sigma\n",
    "def CLfromSigma(n):\n",
    "    return norm.cdf(n)-norm.cdf(-n)\n",
    "\n",
    "# get the +/- n sigma range corresponding to a given CL\n",
    "def SigmaFromCL(cl):\n",
    "    return norm.ppf(1-0.5*(1-cl))\n",
    "\n",
    "print('sigma | C.L.       | to remember')\n",
    "print('-------------------------------------')\n",
    "n = 1\n",
    "cl = CLfromSigma(n)\n",
    "e = 1-cl\n",
    "digits = abs(ceil(np.log10(e)))+3\n",
    "print('{:5d} | {:.{width}f}      | 68%'.format(n,cl,width=digits))\n",
    "n = 2\n",
    "cl = CLfromSigma(n)\n",
    "e = 1-cl\n",
    "digits = abs(ceil(np.log10(e)))+2\n",
    "print('{:5d} | {:.{width}f}      | 95%'.format(n,cl,width=digits))\n",
    "n = 3\n",
    "cl = CLfromSigma(n)\n",
    "e = 1-cl\n",
    "digits = abs(ceil(np.log10(e)))+2\n",
    "print('{:5d} | {:.{width}f}     | 99.7%'.format(n,cl,width=digits))\n",
    "n = 4\n",
    "cl = CLfromSigma(n)\n",
    "e = 1-cl\n",
    "digits = abs(ceil(np.log10(e)))+2\n",
    "print('{:5d} | {:.{width}f}   | < 1 in 10,000'.format(n,cl,width=digits))\n",
    "n = 5\n",
    "cl = CLfromSigma(n)\n",
    "e = 1-cl\n",
    "digits = abs(ceil(np.log10(e)))+2\n",
    "print('{:5d} | {:.{width}f} | < 1 in 1,000,000'.format(n,cl,width=digits))\n",
    "\n",
    "    \n",
    "print()\n",
    "print('C.L. | sigma')\n",
    "print('------------')\n",
    "for cl in [0.90,0.95]:\n",
    "    n = SigmaFromCL(cl)\n",
    "    print('{:4.2f} | {:.2f}'.format(cl,n))"
   ]
  },
  {
   "cell_type": "markdown",
   "metadata": {},
   "source": [
    "### 9.3 Examples of confidence intervals\n",
    "\n",
    "#### 9.3.1 Binomial confidence intervals\n",
    "\n",
    "The confidence interval covered by the range $k_-$ to $k_+$ is _at least_ $C$. This is given by the following constructions\n",
    "\n",
    "$$\\sum_{k=0}^{k_+}P(k;p,n)\\geq 1-(1-C)/2.$$\n",
    "\n",
    "and\n",
    "\n",
    "$$\\sum_{k=k_-}^{n}P(k;p,n)\\geq 1-(1-C)/2.$$\n",
    "\n",
    "If we are to construct bands with $C=0.9$, these two equations mean that we have to construct one-sided intervals that each cover at least $0.95$.\n",
    "Their intersection, i.e. the range $k_-$ to $k_+$ will then cover at least $0.9$.\n",
    "\n",
    "Finally, if $m$ successes are observed, the limits on the true probability interval can be assigned with $p_-$ and $p_+$ given by\n",
    "\n",
    "$$\\sum_{k=m+1}^{n}P(k;p_+,n)= 1-(1-C)/2,$$\n",
    "\n",
    "and\n",
    "\n",
    "$$\\sum_{k=0}^{m-1}P(k;p_-,n)= 1-(1-C)/2.$$\n",
    "\n",
    "In practice, these are the outward-facing corners of the confidence belt at a position $k=m$. These are also known as the _Clopper-Pearson confidence limits_."
   ]
  },
  {
   "cell_type": "markdown",
   "metadata": {},
   "source": [
    "#### 9.3.2 Poisson confidence intervals\n",
    "\n",
    "To construct intervals of confidence level $C$, we need the greatest value of $k_-$ that satisfies for a given $\\lambda$\n",
    "\n",
    "$$\\sum_{k=k_-}^\\infty P(k;\\lambda)\\geq 1-(1-C)/2.$$\n",
    "\n",
    "This is equivalent to\n",
    "\n",
    "$$\\sum_{k=0}^{k_--1} P(k;\\lambda) \\leq (1-C)/2,$$\n",
    "\n",
    "which is easier to calculate.\n",
    "\n",
    "Accordingly, we require the smallest $k_+$ that satisfies for a given $\\lambda$\n",
    "\n",
    "$$\\sum_{k=0}^{k_+} P(k;\\lambda) \\geq 1-(1-C)/2.$$"
   ]
  },
  {
   "cell_type": "markdown",
   "metadata": {
    "slideshow": {
     "slide_type": "slide"
    }
   },
   "source": [
    "### 10.1 Coverage\n",
    "\n",
    "#### 10.1.1 Definition of coverage\n",
    "\n",
    "The construction of confidence belts, which we discussed previously, is based on defining horizontal intervals according to a certain confidence level $C$. These can be constructed as central confidence intervals according to\n",
    "\n",
    "$$P(x<x_1|\\mu)=P(x>x_2|\\mu)=(1-C)/2,$$\n",
    "\n",
    "or as upper confidence limit intervals\n",
    "\n",
    "$$P(x<x_1|\\mu)=1-C.$$\n",
    "\n",
    "For a given measured value of $x_0$, these then lead to an interval for $\\mu$ with\n",
    "\n",
    "$$P(\\mu\\in[\\mu_1,\\mu_2])=C.$$\n",
    "\n",
    "This statement means that the unknown true value of $\\mu$, $\\mu_t$ lies within the interval $[\\mu_1,\\mu_2]$ in a fraction $C$ of the experiments conducted."
   ]
  },
  {
   "cell_type": "markdown",
   "metadata": {
    "slideshow": {
     "slide_type": "fragment"
    }
   },
   "source": [
    "#### 10.1.2 Measurement of a constrained quantity\n",
    "\n",
    "Bayesian construction with a normalisation that takes the physical limit of $\\mu>0$ into account.\n",
    "\n",
    "$$P(\\mu|x)=\\frac{e^{-(x-\\mu)^2/2\\sigma^2}}{\\int_0^\\infty e^{-(x-\\mu')^2/2\\sigma^2}d\\mu'}(\\mu>0).$$\n",
    "\n",
    "This construction will then lead to one limit being zero, i.e. we set an upper limit. "
   ]
  },
  {
   "cell_type": "markdown",
   "metadata": {},
   "source": [
    "<div class=\"well\" align=\"center\">\n",
    "    <div class=\"container-fluid\">\n",
    "        <div class=\"row\">\n",
    "            <div class=\"col-md-3\" align=\"center\">\n",
    "                <img align=\"center\" alt=\"Creative Commons License\" style=\"border-width:0\" src=\"https://i.creativecommons.org/l/by-nc-sa/4.0/88x31.png\" width=\"60%\">\n",
    "            </div>\n",
    "            <div class=\"col-md-8\">\n",
    "            This work is licensed under a <a href=\"http://creativecommons.org/licenses/by-nc-sa/4.0/\">Creative Commons Attribution-NonCommercial-ShareAlike 4.0 International License</a>).\n",
    "            </div>\n",
    "        </div>\n",
    "    </div>\n",
    "    <br>\n",
    "    <br>\n",
    "    <i>Note: The content of this Jupyter Notebook is provided for educational purposes only.</i>\n",
    "</div>"
   ]
  }
 ],
 "metadata": {
  "kernelspec": {
   "display_name": "Python 3",
   "language": "python",
   "name": "python3"
  },
  "language_info": {
   "codemirror_mode": {
    "name": "ipython",
    "version": 3
   },
   "file_extension": ".py",
   "mimetype": "text/x-python",
   "name": "python",
   "nbconvert_exporter": "python",
   "pygments_lexer": "ipython3",
   "version": "3.10.8"
  }
 },
 "nbformat": 4,
 "nbformat_minor": 4
}
