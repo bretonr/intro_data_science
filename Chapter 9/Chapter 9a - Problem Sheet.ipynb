{
 "cells": [
  {
   "cell_type": "code",
   "execution_count": 1,
   "metadata": {
    "scrolled": true
   },
   "outputs": [
    {
     "data": {
      "text/html": [
       "<style>.container { width:95% !important; }</style>"
      ],
      "text/plain": [
       "<IPython.core.display.HTML object>"
      ]
     },
     "metadata": {},
     "output_type": "display_data"
    },
    {
     "data": {
      "text/html": [
       "<link href=\"https://fonts.googleapis.com/css?family=Fira+Sans:300,300i,600,600i\" rel=\"stylesheet\">\n",
       "<link href=\"https://fonts.googleapis.com/css?family=Inconsolata\" rel=\"stylesheet\">\n",
       "<link href=\"https://fonts.googleapis.com/css?family=Titillium+Web:400,400i,700,700i\" rel=\"stylesheet\">\n",
       "\n",
       "\n",
       "<style>\n",
       "\n",
       ".container {\n",
       "    max-width:1000px !important;\n",
       "}\n",
       "\n",
       ".text_cell_render p {\n",
       "font-style: regular;\n",
       "font-family: 'Fira Sans', sans-serif;\n",
       "display: block;\n",
       "text-align: justify;\n",
       "}\n",
       "/*font-weight: 200;*/\n",
       "/*text-align: left;\n",
       "line-height: 100%;\n",
       "display: block;\n",
       "}*/\n",
       "a {\n",
       "color:#377bb5;\n",
       "}\n",
       ".text_cell_render h1 {\n",
       "/*font-size: 24pt;*/\n",
       "font-family: 'Titillium Web', sans-serif;\n",
       "font-weight: bold;\n",
       "margin-bottom: 0.1em;\n",
       "margin-top: 0.5em;\n",
       "color:#4a4a4a;\n",
       "}\n",
       ".text_cell_render h2 {\n",
       "/*font-size: 21pt;*/\n",
       "    font-family: 'Titillium Web', sans-serif;\n",
       "margin-bottom: 0.1em;\n",
       "margin-top: 0.5em;\n",
       "color:#595959;\n",
       "}\n",
       ".text_cell_render h3 {\n",
       "    font-family: 'Titillium Web', sans-serif;\n",
       "/*font-size: 19pt;*/\n",
       "margin-bottom: 0.1em;\n",
       "margin-top: 0.5em;\n",
       "color:#595959;\n",
       "}\n",
       ".text_cell_render h4 {\n",
       "    font-family: 'Titillium Web', sans-serif;\n",
       "/*font-size: 17pt;*/\n",
       "font-size: 110%;\n",
       "margin-bottom: 0.1em;\n",
       "margin-top: 0.5em;\n",
       "color:#595959;\n",
       "}\n",
       ".text_cell_render h5 {\n",
       "    font-family: 'Titillium Web', sans-serif;\n",
       "/*font-size: 15pt;*/\n",
       "margin-bottom: 0.1em;\n",
       "margin-top: 0.5em;\n",
       "color:#595959;\n",
       "}\n",
       "div.text_cell_render{\n",
       "font-style: regular;\n",
       "font-family: 'Fira Sans', sans-serif;\n",
       "line-height: 120%;\n",
       "font-size: 100%;\n",
       "font-weight: 400;\n",
       "text-align: justify;\n",
       "margin-left:0em;\n",
       "margin-right:0em;\n",
       "}\n",
       "code {\n",
       "font-family: 'Inconsolata', monospace;\n",
       "}\n",
       "pre {\n",
       "font-family: 'Inconsolata', monospace;\n",
       "}\n",
       "\n",
       "div.example {\n",
       "    font-family: 'Titillium Web', sans-serif;\n",
       "/*font-size: 15pt;*/\n",
       "font-weight: bold;\n",
       "font-variant: small-caps;\n",
       "text-decoration: underline;\n",
       "margin-bottom: 0.1em;\n",
       "margin-top: 0.3em;\n",
       "color:#595959;\n",
       "}\n",
       "\n",
       "div.queue {\n",
       "font-size: x-large;\n",
       "font-variant: small-caps;\n",
       "font-family: 'Titillium Web', sans-serif;\n",
       "font-weight: bold;\n",
       "/*margin-bottom: 0.1em;*/\n",
       "/*margin-top: 0.5em;*/\n",
       "margin: 10px;\n",
       "padding: 10px;\n",
       "color:#cc0000;\n",
       "border-style: solid none solid none;\n",
       "border-width: 2px;\n",
       "border-color:#cc0000;\n",
       "border-spacing: 10px;\n",
       "}\n",
       "\n",
       "div.opt_start {\n",
       "font-size: large;\n",
       "font-variant: small-caps;\n",
       "font-family: 'Titillium Web', sans-serif;\n",
       "font-weight: bold;\n",
       "/*margin-bottom: 0.1em;*/\n",
       "/*margin-top: 0.5em;*/\n",
       "margin: 10px;\n",
       "padding: 10px;\n",
       "color:#0000cc;\n",
       "border-style: solid none none none;\n",
       "border-width: 2px;\n",
       "border-color:#0000cc;\n",
       "border-spacing: 10px;\n",
       "}\n",
       "div.opt_end {\n",
       "font-size: large;\n",
       "font-variant: small-caps;\n",
       "font-family: 'Titillium Web', sans-serif;\n",
       "font-weight: bold;\n",
       "/*margin-bottom: 0.1em;*/\n",
       "/*margin-top: 0.5em;*/\n",
       "margin: 10px;\n",
       "padding: 10px;\n",
       "color:#0000cc;\n",
       "border-style: none none solid none;\n",
       "border-width: 2px;\n",
       "border-color:#0000cc;\n",
       "border-spacing: 10px;\n",
       "}\n",
       "\n",
       ".reveal h1 {\n",
       "font-family: 'Titillium Web', sans-serif;\n",
       "/*font-size: 24pt;*/\n",
       "font-weight: bold;\n",
       "margin-bottom: 0.1em;\n",
       "margin-top: 0.5em;\n",
       "color:#4a4a4a;\n",
       "}\n",
       ".reveal h2 {\n",
       "font-family: 'Titillium Web', sans-serif;\n",
       "/*font-size: 24pt;*/\n",
       "font-weight: bold;\n",
       "margin-bottom: 0.1em;\n",
       "margin-top: 0.5em;\n",
       "color:#595959;\n",
       "}\n",
       ".reveal h3 {\n",
       "font-family: 'Titillium Web', sans-serif;\n",
       "/*font-size: 24pt;*/\n",
       "font-weight: bold;\n",
       "margin-bottom: 0.1em;\n",
       "margin-top: 0.5em;\n",
       "color:#595959;\n",
       "}\n",
       ".reveal h4 {\n",
       "font-family: 'Titillium Web', sans-serif;\n",
       "font-size: 110%;\n",
       "font-weight: bold;\n",
       "margin-bottom: 0.1em;\n",
       "margin-top: 0.5em;\n",
       "color:#595959;\n",
       "}\n",
       ".reveal div.text_cell_render{\n",
       "line-height: 120%;\n",
       "font-size: 74%;\n",
       "font-weight: 400;\n",
       "text-align: justify;\n",
       "margin-left:0em;\n",
       "margin-right:0em;\n",
       "}\n",
       ".reveal .code_cell {\n",
       "    font-size: 92%;\n",
       "}\n",
       ".reveal code {\n",
       "font-family: 'Inconsolata', monospace;\n",
       "}\n",
       ".reveal pre {\n",
       "font-family: 'Inconsolata', monospace;\n",
       "}\n",
       "\n",
       ".CodeMirror{\n",
       "font-family: \"Inconsolata\", monospace;\n",
       "}\n",
       "\n",
       "</style>"
      ],
      "text/plain": [
       "<IPython.core.display.HTML object>"
      ]
     },
     "execution_count": 1,
     "metadata": {},
     "output_type": "execute_result"
    }
   ],
   "source": [
    "## Import required Python modules\n",
    "%matplotlib inline\n",
    "import matplotlib.pyplot as plt\n",
    "import numpy as np\n",
    "import scipy, scipy.stats\n",
    "import io\n",
    "import base64\n",
    "#from IPython.core.display import display\n",
    "from IPython.display import display, HTML, Image\n",
    "from urllib.request import urlopen\n",
    "\n",
    "try:\n",
    "    import astropy as apy\n",
    "    import astropy.table\n",
    "    _apy = True\n",
    "    #print('Loaded astropy')\n",
    "except:\n",
    "    _apy = False\n",
    "    #print('Could not load astropy')\n",
    "\n",
    "## Customising the font size of figures\n",
    "plt.rcParams.update({'font.size': 14})\n",
    "\n",
    "## Customising the look of the notebook\n",
    "display(HTML(\"<style>.container { width:95% !important; }</style>\"))\n",
    "## This custom file is adapted from https://github.com/lmarti/jupyter_custom/blob/master/custom.include\n",
    "HTML('custom.css')\n",
    "#HTML(urlopen('https://raw.githubusercontent.com/bretonr/intro_data_science/master/custom.css').read().decode('utf-8'))"
   ]
  },
  {
   "cell_type": "code",
   "execution_count": 2,
   "metadata": {},
   "outputs": [],
   "source": [
    "## Custom imports\n",
    "from matplotlib.cm import jet\n",
    "from math import ceil, pi\n",
    "from scipy.stats import poisson, norm, binom\n",
    "from matplotlib.collections import PatchCollection\n",
    "from matplotlib.patches import Circle, Rectangle"
   ]
  },
  {
   "cell_type": "code",
   "execution_count": 3,
   "metadata": {
    "scrolled": true
   },
   "outputs": [
    {
     "data": {
      "text/html": [
       "<script>\n",
       "code_show=true;\n",
       "function code_toggle() {\n",
       " if (code_show){\n",
       " $('div.input').hide();\n",
       " } else {\n",
       " $('div.input').show();\n",
       " }\n",
       " code_show = !code_show\n",
       "} \n",
       "$( document ).ready(code_toggle);\n",
       "</script>\n",
       "<form action=\"javascript:code_toggle()\"><input type=\"submit\" value=\"Click here to toggle on/off the Python code.\"></form>"
      ],
      "text/plain": [
       "<IPython.core.display.HTML object>"
      ]
     },
     "execution_count": 3,
     "metadata": {},
     "output_type": "execute_result"
    }
   ],
   "source": [
    "## Adding a button to hide the Python source code\n",
    "HTML('''<script>\n",
    "code_show=true;\n",
    "function code_toggle() {\n",
    " if (code_show){\n",
    " $('div.input').hide();\n",
    " } else {\n",
    " $('div.input').show();\n",
    " }\n",
    " code_show = !code_show\n",
    "} \n",
    "$( document ).ready(code_toggle);\n",
    "</script>\n",
    "<form action=\"javascript:code_toggle()\"><input type=\"submit\" value=\"Click here to toggle on/off the Python code.\"></form>''')"
   ]
  },
  {
   "cell_type": "markdown",
   "metadata": {},
   "source": [
    "<div class=\"container-fluid\">\n",
    "    <div class=\"row\">\n",
    "        <div class=\"col-md-8\" align=\"center\">\n",
    "            <h1>PHYS 10792: Introduction to Data Science</h1>\n",
    "            <!--<h3>2019-2020 Academic Year</h3><br>-->\n",
    "        </div>\n",
    "        <div class=\"col-md-3\">\n",
    "            <img align='center' style=\"border-width:0\" src=\"images/UoM_logo.png\"/>\n",
    "        </div>\n",
    "    </div>\n",
    "</div>\n",
    "\n",
    "<div class=\"container-fluid\">\n",
    "    <div class=\"row\">\n",
    "        <div class=\"col-md-2\" align=\"right\">\n",
    "            <b>Course instructors:&nbsp;&nbsp;</b>\n",
    "        </div>\n",
    "        <div class=\"col-md-9\" align=\"left\">\n",
    "            <a href=\"http://www.ajmarkwick.net/\">Dr. Andrew Markwick</a> - Twitter <a href=\"https://twitter.com/AndrewMarkwick\">@AndrewMarkwick</a><br>\n",
    "            <a href=\"http://www.hep.manchester.ac.uk/u/gersabec\">Prof. Marco Gersabeck</a> - Twitter <a href=\"https://twitter.com/MarcoGersabeck\">@MarcoGersabeck</a>\n",
    "        </div>\n",
    "    </div>\n",
    "</div>"
   ]
  },
  {
   "cell_type": "markdown",
   "metadata": {},
   "source": [
    "## Problem Sheet 9a"
   ]
  },
  {
   "cell_type": "markdown",
   "metadata": {},
   "source": [
    "### Problem 1: Probabilities\n",
    "\n",
    "#### Problem 1.1\n",
    "\n",
    "In a lab experiment 300 students measure the weight of the same object. On average, they measure a weight of 1 kg. The variance of their measurements is $10^{-4}$ kg$^2$. \n",
    "- What is the error on the mean derived from the results of all students?\n",
    "- The measurement uncertainty of the scales used by the students is stated as 5 g. What do you conclude from this?\n",
    "- The lowest value measured by any of the students is 968 g. Does this agree with your expectations from the cohort of measurements?\n",
    "\n",
    "#### Problem 1.2\n",
    "\n",
    "An experiment to count muons reaching the earth's surface from cosmic rays is conducted by 120 students. The average expected count rate is 1 per cm$^2$ and per minute. The students start their experiment at 15:20 on a Friday and end the count at 10:00 on the following Monday. Their detectors have a survace area of 0.5 cm by 5.0 cm.\n",
    "- What average count and sample standard deviation do you expect?\n",
    "- How many of the students would you expect to have a count of 200 or more above the average?"
   ]
  },
  {
   "cell_type": "markdown",
   "metadata": {},
   "source": [
    "### Solution to Problem 1\n",
    "\n",
    "#### Solution 1.1\n",
    "\n",
    "- The error on the mean is the sample standard deviation divided by the square-root of the number of elements in the sample. The sample standard deviation is the square-root of the variance, hence the error is: $\\sigma=\\sqrt{V}/\\sqrt{N}=10^{-2}~{\\rm kg}/\\sqrt{300}=0.577~{\\rm g}$.\n",
    "- The sample standard deviation, which is $10~{\\rm g}$ according to the previous answer, should correspond to the uncertainty of individual measurements. The fact that the uncertainty is stated as being half of that value indicates that the stated uncertainty is too small.\n",
    "- Assuming a Gaussian distribution, we can expect $99.7\\%$ to lie within $\\pm3\\sigma$ of the distribution, which corresponds to 299 of the 300 measurements giving results in the range $[970~{\\rm g},1030~{\\rm g}]$. While we do not know the distribution of results greater than the mean, having the lowest result just outside the $3\\sigma$ range seems credible.\n",
    "\n",
    "#### Solution 1.2\n",
    "\n",
    "- 4000 minutes and 2.5 cm$^2$ mean the expected count is 10,000. The standard deviation is therefore $\\sigma=\\sqrt{N}=100$.\n",
    "- A count of 200 above the mean corresponds to 2 standard deviations. We would expect $5\\%$ to lie outside two standard deviations either below or above the mean, so $2.5\\%$ should have a count of 200 or more above the average. This corresponds to 3 students."
   ]
  },
  {
   "cell_type": "markdown",
   "metadata": {},
   "source": [
    "### Problem 2: Confidence belts\n",
    "\n",
    "#### Problem 2.1\n",
    "Produce a $95\\%$ central interval confidence belt for a Gaussian distribution describing the mass measurement from a set of scales with a dish in which the objects to be measured are placed. Assume that the measured value includes the mass of the dish of 20 g (known exactly) with the true value corresponding to the mass of the content of the dish. Assume further that the measurement uncertainty has a constant component of 1 g and a variable component of $0.05\\times m$, where $m$ is the true mass (these components add linearly).\n",
    "- Sketch the corresponding confidence belt.\n",
    "- Determine the $95\\%$ intervals for the true mass based on assumed measured masses of 27 g and 54 g."
   ]
  },
  {
   "cell_type": "markdown",
   "metadata": {},
   "source": [
    "### Solution to Problem 2\n",
    "\n",
    "#### Solution 2.1\n",
    "\n",
    "- The horizontal interval boundaries for a true value of $y$ are given by $x_\\pm=d+y\\pm{}s(c+my)$, for the dish weight, $d=20~{\\rm g}$, the Gaussian scale factor, $s=1.96$, the constant error component, $c=1~{\\rm g}$, and the variable error component factor, $m=0.05$."
   ]
  },
  {
   "cell_type": "code",
   "execution_count": 4,
   "metadata": {},
   "outputs": [
    {
     "data": {
      "image/png": "[encoded data removed]",
      "text/plain": [
       "<Figure size 864x432 with 1 Axes>"
      ]
     },
     "metadata": {
      "needs_background": "light"
     },
     "output_type": "display_data"
    }
   ],
   "source": [
    "import matplotlib.pyplot as plt\n",
    "\n",
    "# Define values\n",
    "d = 20\n",
    "c = 1\n",
    "m = 0.05\n",
    "s = 1.96\n",
    "y1 = 0\n",
    "y2 = 100\n",
    "\n",
    "# Calculate confidence band boundaries\n",
    "x1 = d+y1+s*(c+m*y1) \n",
    "x2 = d+y2+s*(c+m*y2)\n",
    "x3 = d+y1-s*(c+m*y1)\n",
    "x4 = d+y2-s*(c+m*y2)\n",
    "\n",
    "# Plot confidence belt\n",
    "fig,ax = plt.subplots(figsize=(12,6))\n",
    "ax.plot([x1,x2],[y1,y2], '-', label='Binomial PMF', color='tab:blue')\n",
    "ax.plot([x3,x4],[y1,y2], '-', label='Binomial PMF', color='tab:blue')\n",
    "ax.fill([x3,x1,x2,x4],[y1,y1,y2,y2], color='tab:blue', alpha=0.3)\n",
    "\n",
    "# Font sizes\n",
    "ax.set_xlabel('measured value in g', fontsize=18)\n",
    "ax.set_ylabel('true value in g', fontsize=18)\n",
    "ax.tick_params(axis='both', which='major', labelsize=18)"
   ]
  },
  {
   "cell_type": "markdown",
   "metadata": {},
   "source": [
    "- Solving the above equations for $y$ gives the true intervals, and for a measurement of $27~{\\rm g}$ the range is $4.6$ to $9.9~{\\rm g}$, for a measurement of $54~{\\rm g}$ the range is $29.2$ to $39.9~{\\rm g}$."
   ]
  },
  {
   "cell_type": "code",
   "execution_count": 5,
   "metadata": {
    "scrolled": false
   },
   "outputs": [
    {
     "name": "stdout",
     "output_type": "stream",
     "text": [
      "For a measurement of 27 the range is 4.590163934426229 9.933481152993348\n",
      "For a measurement of 54 the range is 29.180327868852455 39.866962305986696\n"
     ]
    },
    {
     "data": {
      "image/png": "[encoded data removed]",
      "text/plain": [
       "<Figure size 864x432 with 1 Axes>"
      ]
     },
     "metadata": {
      "needs_background": "light"
     },
     "output_type": "display_data"
    }
   ],
   "source": [
    "import matplotlib.pyplot as plt\n",
    "\n",
    "# Define values\n",
    "d = 20\n",
    "c = 1\n",
    "m = 0.05\n",
    "s = 1.96\n",
    "y1 = 0\n",
    "y2 = 100\n",
    "\n",
    "# Calculate confidence band boundaries\n",
    "x1 = d+y1+s*(c+m*y1) \n",
    "x2 = d+y2+s*(c+m*y2)\n",
    "x3 = d+y1-s*(c+m*y1)\n",
    "x4 = d+y2-s*(c+m*y2)\n",
    "\n",
    "# Measured values\n",
    "meas1 = 27\n",
    "meas2 = 54\n",
    "\n",
    "# Calculate true value ranges from measured values by inverting equations above\n",
    "# x = d+s*c + y * (1+s*m) ==> y = (x-d-s*c)/(1+s*m) with [s --> -s] for ymin/ymax\n",
    "ymin1 = (meas1-d-s*c)/(1+s*m)\n",
    "ymax1 = (meas1-d+s*c)/(1-s*m)\n",
    "ymin2 = (meas2-d-s*c)/(1+s*m)\n",
    "ymax2 = (meas2-d+s*c)/(1-s*m)\n",
    "\n",
    "# Print results\n",
    "print('For a measurement of',meas1,'the range is',ymin1,ymax1)\n",
    "print('For a measurement of',meas2,'the range is',ymin2,ymax2)\n",
    "\n",
    "# Plot confidence belt\n",
    "fig,ax = plt.subplots(figsize=(12,6))\n",
    "ax.plot([x1,x2],[y1,y2], '-', label='Binomial PMF', color='tab:blue')\n",
    "ax.plot([x3,x4],[y1,y2], '-', label='Binomial PMF', color='tab:blue')\n",
    "ax.fill([x3,x1,x2,x4],[y1,y1,y2,y2], color='tab:blue', alpha=0.3)\n",
    "\n",
    "# Plot first measurement\n",
    "ax.plot([meas1,meas1],[y1,y2],color='tab:orange')\n",
    "ax.plot([0,meas1],[ymin1,ymin1],color='tab:orange')\n",
    "ax.plot([0,meas1],[ymax1,ymax1],color='tab:orange')\n",
    "\n",
    "# Plot second measurement\n",
    "ax.plot([meas2,meas2],[y1,y2],color='tab:green')\n",
    "ax.plot([0,meas2],[ymin2,ymin2],color='tab:green')\n",
    "ax.plot([0,meas2],[ymax2,ymax2],color='tab:green')\n",
    "\n",
    "# Font sizes\n",
    "ax.set_xlabel('measured value in g', fontsize=18)\n",
    "ax.set_ylabel('true value in g', fontsize=18)\n",
    "ax.tick_params(axis='both', which='major', labelsize=18)\n"
   ]
  },
  {
   "cell_type": "markdown",
   "metadata": {},
   "source": [
    "<div class=\"well\" align=\"center\">\n",
    "    <div class=\"container-fluid\">\n",
    "        <div class=\"row\">\n",
    "            <div class=\"col-md-3\" align=\"center\">\n",
    "                <img align=\"center\" alt=\"Creative Commons License\" style=\"border-width:0\" src=\"https://licensebuttons.net/l/by-nc-sa/4.0/88x31.png\" width=\"60%\">\n",
    "            </div>\n",
    "            <div class=\"col-md-8\">\n",
    "            This work is licensed under a <a href=\"http://creativecommons.org/licenses/by-nc-sa/4.0/\">Creative Commons Attribution-NonCommercial-ShareAlike 4.0 International License</a>).\n",
    "            </div>\n",
    "        </div>\n",
    "    </div>\n",
    "    <br>\n",
    "    <br>\n",
    "    <i>Note: The content of this Jupyter Notebook is provided for educational purposes only.</i>\n",
    "</div>"
   ]
  }
 ],
 "metadata": {
  "kernelspec": {
   "display_name": "Python 3",
   "language": "python",
   "name": "python3"
  },
  "language_info": {
   "codemirror_mode": {
    "name": "ipython",
    "version": 3
   },
   "file_extension": ".py",
   "mimetype": "text/x-python",
   "name": "python",
   "nbconvert_exporter": "python",
   "pygments_lexer": "ipython3",
   "version": "3.10.8"
  }
 },
 "nbformat": 4,
 "nbformat_minor": 4
}
