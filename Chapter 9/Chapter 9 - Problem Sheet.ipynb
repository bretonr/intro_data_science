{
 "cells": [
  {
   "cell_type": "code",
   "execution_count": 1,
   "metadata": {
    "scrolled": true
   },
   "outputs": [
    {
     "data": {
      "text/html": [
       "<style>.container { width:95% !important; }</style>"
      ],
      "text/plain": [
       "<IPython.core.display.HTML object>"
      ]
     },
     "metadata": {},
     "output_type": "display_data"
    },
    {
     "data": {
      "text/html": [
       "custom.css"
      ],
      "text/plain": [
       "<IPython.core.display.HTML object>"
      ]
     },
     "execution_count": 1,
     "metadata": {},
     "output_type": "execute_result"
    }
   ],
   "source": [
    "## Import required Python modules\n",
    "%matplotlib inline\n",
    "import matplotlib.pyplot as plt\n",
    "import numpy as np\n",
    "import scipy, scipy.stats\n",
    "import io\n",
    "import base64\n",
    "#from IPython.core.display import display\n",
    "from IPython.display import display, HTML, Image\n",
    "from urllib.request import urlopen\n",
    "\n",
    "try:\n",
    "    import astropy as apy\n",
    "    import astropy.table\n",
    "    _apy = True\n",
    "    #print('Loaded astropy')\n",
    "except:\n",
    "    _apy = False\n",
    "    #print('Could not load astropy')\n",
    "\n",
    "## Customising the font size of figures\n",
    "plt.rcParams.update({'font.size': 14})\n",
    "\n",
    "## Customising the look of the notebook\n",
    "display(HTML(\"<style>.container { width:95% !important; }</style>\"))\n",
    "## This custom file is adapted from https://github.com/lmarti/jupyter_custom/blob/master/custom.include\n",
    "HTML('custom.css')\n",
    "#HTML(urlopen('https://raw.githubusercontent.com/bretonr/intro_data_science/master/custom.css').read().decode('utf-8'))"
   ]
  },
  {
   "cell_type": "code",
   "execution_count": 2,
   "metadata": {},
   "outputs": [],
   "source": [
    "## Custom imports\n",
    "from matplotlib.cm import jet\n",
    "from math import ceil, pi\n",
    "from scipy.stats import poisson, norm, binom\n",
    "from matplotlib.collections import PatchCollection\n",
    "from matplotlib.patches import Circle, Rectangle"
   ]
  },
  {
   "cell_type": "code",
   "execution_count": 3,
   "metadata": {
    "scrolled": true
   },
   "outputs": [
    {
     "data": {
      "text/html": [
       "<script>\n",
       "code_show=true;\n",
       "function code_toggle() {\n",
       " if (code_show){\n",
       " $('div.input').hide();\n",
       " } else {\n",
       " $('div.input').show();\n",
       " }\n",
       " code_show = !code_show\n",
       "} \n",
       "$( document ).ready(code_toggle);\n",
       "</script>\n",
       "<form action=\"javascript:code_toggle()\"><input type=\"submit\" value=\"Click here to toggle on/off the Python code.\"></form>"
      ],
      "text/plain": [
       "<IPython.core.display.HTML object>"
      ]
     },
     "execution_count": 3,
     "metadata": {},
     "output_type": "execute_result"
    }
   ],
   "source": [
    "## Adding a button to hide the Python source code\n",
    "HTML('''<script>\n",
    "code_show=true;\n",
    "function code_toggle() {\n",
    " if (code_show){\n",
    " $('div.input').hide();\n",
    " } else {\n",
    " $('div.input').show();\n",
    " }\n",
    " code_show = !code_show\n",
    "} \n",
    "$( document ).ready(code_toggle);\n",
    "</script>\n",
    "<form action=\"javascript:code_toggle()\"><input type=\"submit\" value=\"Click here to toggle on/off the Python code.\"></form>''')"
   ]
  },
  {
   "cell_type": "markdown",
   "metadata": {},
   "source": [
    "<div class=\"container-fluid\">\n",
    "    <div class=\"row\">\n",
    "        <div class=\"col-md-8\" align=\"center\">\n",
    "            <h1>PHYS 10791: Introduction to Data Science</h1>\n",
    "            <!--<h3>2019-2020 Academic Year</h3><br>-->\n",
    "        </div>\n",
    "        <div class=\"col-md-3\">\n",
    "            <img align='center' style=\"border-width:0\" src=\"images/UoM_logo.png\"/>\n",
    "        </div>\n",
    "    </div>\n",
    "</div>\n",
    "\n",
    "<div class=\"container-fluid\">\n",
    "    <div class=\"row\">\n",
    "        <div class=\"col-md-2\" align=\"right\">\n",
    "            <b>Course instructors:&nbsp;&nbsp;</b>\n",
    "        </div>\n",
    "        <div class=\"col-md-9\" align=\"left\">\n",
    "            <a href=\"http://www.renebreton.org\">Prof. Rene Breton</a> - Twitter <a href=\"https://twitter.com/BretonRene\">@BretonRene</a><br>\n",
    "            <a href=\"http://www.hep.manchester.ac.uk/u/gersabec\">Dr. Marco Gersabeck</a> - Twitter <a href=\"https://twitter.com/MarcoGersabeck\">@MarcoGersabeck</a>\n",
    "        </div>\n",
    "    </div>\n",
    "</div>"
   ]
  },
  {
   "cell_type": "markdown",
   "metadata": {},
   "source": [
    "## Problem Sheet 9"
   ]
  },
  {
   "cell_type": "markdown",
   "metadata": {},
   "source": [
    "### Problem 1: Probabilities\n",
    "\n",
    "#### Problem 1.1\n",
    "\n",
    "In a lab experiment 300 students measure the weight of the same object. On average, they measure a weight of 1 kg. The variance of their measurements is $10^{-4}$ kg. \n",
    "- What is the error on the mean derived from the results of all students?\n",
    "- The measurement uncertainty of the scales used by the students is stated as 5 g. What do you conclude from this?\n",
    "- The lowest value measured by any of the students is 968 g. Does this agree with your expectations from the cohort of measurements?\n",
    "\n",
    "#### Problem 1.2\n",
    "\n",
    "An experiment to count muons reaching the earth's surface from cosmic rays is conducted by 120 students. The average expected count rate is 1 per cm$^2$ and per minute. The students start their experiment at 15:20 on a Friday and end the count at 10:00 on the following Monday. Their detectors have a survace area of 0.5 cm by 5.0 cm.\n",
    "- What average count and sample standard deviation do you expect?\n",
    "- How many of the students would you expect to have a count of 200 or more above the average?"
   ]
  },
  {
   "cell_type": "markdown",
   "metadata": {},
   "source": [
    "#### Solution to 1.1\n",
    "- The error on the mean is the standard deviation divided by the square root of the number of measurements. The standard deviation is $\\sigma=\\sqrt{V}=10^{-2}$ kg. Therefore, the error on the mean is $\\sigma/\\sqrt{N}=10^{-2}/\\sqrt{300}=0.00058$ kg.\n",
    "- The stated uncertainty is half the sample standard deviation of the students' measurements. Either, the manufacturer was promising more than they delivered or there is a signficant additional source of uncertainty that has to be taken into account.\n",
    "- We would expect $99.7\\%$ of the students' results to lie within $\\pm3\\sigma$ of the mean, i.e. within the range $970-1030$ g. Among 300 students we would expect 1 measurement to lie outside this range, so the lowest value being just outside this range fits perfectly.\n",
    "\n",
    "#### Solution to 1.2\n",
    "- 4000 minutes and 2.5 cm$^2$ mean the expected count is 10,000. The standard deviation is therefore $\\sigma=\\sqrt{N}=100$.\n",
    "- A count of 200 above the mean corresponds to 2 standard deviations. We would expect $5\\%$ to lie outside two standard deviations either below or above the mean, so $2.5\\%$ should have a count of 200 or more above the average. This corresponds to 3 students."
   ]
  },
  {
   "cell_type": "markdown",
   "metadata": {},
   "source": [
    "### Problem 2: Confidence belts\n",
    "\n",
    "#### Problem 2.1\n",
    "You want to produce a $90\\%$ upper limit confidence belt for a Poisson distribution. Calculate the lower limits of the confidence intervals, $k_-$, for the following true means:\n",
    "- $\\lambda=2.0$\n",
    "- $\\lambda=2.3$\n",
    "- $\\lambda=2.4$\n",
    "- $\\lambda=7.5$\n",
    "\n",
    "#### Problem 2.2\n",
    "\n",
    "The plot below shows the $80\\%$ central interval belt for a Poisson distribution. Derive the $80\\%$ intervals for the true mean for measurements of\n",
    "- $k=0$\n",
    "- $k=4$\n",
    "- $k=10$\n",
    "\n",
    "What is the largest observed count rate that can be interpreted based on this plot as shown?\n",
    "\n",
    "<img src=\"images/Poisson_belt_80.png\" width=80%>"
   ]
  },
  {
   "cell_type": "markdown",
   "metadata": {},
   "source": [
    "### Solution to Problem 2\n",
    "\n",
    "#### Solution to 2.1\n",
    "We need to find the largest $k$ for which $\\sum_{i=0}^k e^{-\\lambda}\\lambda^k/k!<1-C$ and the confidence interval will start at the subsequent count, therefore $k_-=k+1$. The list below are the probabilities for the elements starting with $k=0$:\n",
    "- $\\lambda=2.0$: 0.135: $k_-=0$\n",
    "- $\\lambda=2.3$: 0.1003: $k_-=0$\n",
    "- $\\lambda=2.4$: 0.091, 0.218: $k_-=1$\n",
    "- $\\lambda=7.5$: 0.0006, 0.0041, 0.0156, 0.0389, 0.0729: $k_-=4$\n",
    "\n",
    "#### Solution to 2.2\n",
    "The intervals for the true values of $\\lambda$ are read off as the outward-facing corners of the confidence belts where this is intersected by a vertical line through the measured count. They can only be read off approximately by eye, so don't worry if you obtained values that are one or two tenth off.\n",
    "- $k=0$: $[0.0,2.3]$\n",
    "- $k=4$: $[1.8,8.0]$\n",
    "- $k=10$: $[6.3,15.4]$\n",
    "\n",
    "The largest count rate that can be interpreted is $k=13$ as the upper end of the interval for $k=14$ is not visible on the plot."
   ]
  },
  {
   "cell_type": "markdown",
   "metadata": {},
   "source": [
    "<div class=\"well\" align=\"center\">\n",
    "    <div class=\"container-fluid\">\n",
    "        <div class=\"row\">\n",
    "            <div class=\"col-md-3\" align=\"center\">\n",
    "                <img align=\"center\" alt=\"Creative Commons License\" style=\"border-width:0\" src=\"https://licensebuttons.net/l/by-nc-sa/4.0/88x31.png\" width=\"60%\">\n",
    "            </div>\n",
    "            <div class=\"col-md-8\">\n",
    "            This work is licensed under a <a href=\"http://creativecommons.org/licenses/by-nc-sa/4.0/\">Creative Commons Attribution-NonCommercial-ShareAlike 4.0 International License</a>).\n",
    "            </div>\n",
    "        </div>\n",
    "    </div>\n",
    "    <br>\n",
    "    <br>\n",
    "    <i>Note: The content of this Jupyter Notebook is provided for educational purposes only.</i>\n",
    "</div>"
   ]
  }
 ],
 "metadata": {
  "kernelspec": {
   "display_name": "Python 3",
   "language": "python",
   "name": "python3"
  },
  "language_info": {
   "codemirror_mode": {
    "name": "ipython",
    "version": 3
   },
   "file_extension": ".py",
   "mimetype": "text/x-python",
   "name": "python",
   "nbconvert_exporter": "python",
   "pygments_lexer": "ipython3",
   "version": "3.8.6"
  }
 },
 "nbformat": 4,
 "nbformat_minor": 4
}
