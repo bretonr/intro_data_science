{
 "cells": [
  {
   "cell_type": "code",
   "execution_count": 2,
   "metadata": {
    "scrolled": true
   },
   "outputs": [
    {
     "data": {
      "text/html": [
       "<style>.container { width:95% !important; }</style>"
      ],
      "text/plain": [
       "<IPython.core.display.HTML object>"
      ]
     },
     "metadata": {},
     "output_type": "display_data"
    },
    {
     "data": {
      "text/html": [
       "<link href=\"https://fonts.googleapis.com/css?family=Fira+Sans:300,300i,600,600i\" rel=\"stylesheet\">\n",
       "<link href=\"https://fonts.googleapis.com/css?family=Inconsolata\" rel=\"stylesheet\">\n",
       "<link href=\"https://fonts.googleapis.com/css?family=Titillium+Web:400,400i,700,700i\" rel=\"stylesheet\">\n",
       "\n",
       "\n",
       "<style>\n",
       "\n",
       ".text_cell_render p {\n",
       "font-style: regular;\n",
       "font-family: 'Fira Sans', sans-serif;\n",
       "display: block;\n",
       "text-align: justify;\n",
       "}\n",
       "/*font-weight: 200;*/\n",
       "/*text-align: left;\n",
       "line-height: 100%;\n",
       "display: block;\n",
       "}*/\n",
       "a {\n",
       "color:#377bb5;\n",
       "}\n",
       ".text_cell_render h1 {\n",
       "/*font-size: 24pt;*/\n",
       "font-family: 'Titillium Web', sans-serif;\n",
       "font-weight: bold;\n",
       "margin-bottom: 0.1em;\n",
       "margin-top: 0.5em;\n",
       "color:#4a4a4a;\n",
       "}\n",
       ".text_cell_render h2 {\n",
       "/*font-size: 21pt;*/\n",
       "    font-family: 'Titillium Web', sans-serif;\n",
       "margin-bottom: 0.1em;\n",
       "margin-top: 0.3em;\n",
       "color:#595959;\n",
       "}\n",
       ".text_cell_render h3 {\n",
       "    font-family: 'Titillium Web', sans-serif;\n",
       "/*font-size: 19pt;*/\n",
       "margin-bottom: 0.1em;\n",
       "margin-top: 0.3em;\n",
       "color:#595959;\n",
       "}\n",
       ".text_cell_render h4 {\n",
       "    font-family: 'Titillium Web', sans-serif;\n",
       "/*font-size: 17pt;*/\n",
       "margin-bottom: 0.1em;\n",
       "margin-top: 0.3em;\n",
       "color:#595959;\n",
       "}\n",
       ".text_cell_render h5 {\n",
       "    font-family: 'Titillium Web', sans-serif;\n",
       "/*font-size: 15pt;*/\n",
       "margin-bottom: 0.1em;\n",
       "margin-top: 0.3em;\n",
       "color:#595959;\n",
       "}\n",
       "div.text_cell_render{\n",
       "font-style: regular;\n",
       "font-family: 'Fira Sans', sans-serif;\n",
       "line-height: 120%;\n",
       "font-size: 100%;\n",
       "font-weight: 400;\n",
       "text-align: justify;\n",
       "margin-left:0em;\n",
       "margin-right:0em;\n",
       "}\n",
       "code {\n",
       "font-family: 'Inconsolata', monospace;\n",
       "}\n",
       "pre {\n",
       "font-family: 'Inconsolata', monospace;\n",
       "}\n",
       "\n",
       "div.example {\n",
       "    font-family: 'Titillium Web', sans-serif;\n",
       "/*font-size: 15pt;*/\n",
       "font-weight: bold;\n",
       "font-variant: small-caps;\n",
       "text-decoration: underline;\n",
       "margin-bottom: 0.1em;\n",
       "margin-top: 0.3em;\n",
       "color:#595959;\n",
       "}\n",
       "\n",
       "div.queue {\n",
       "font-size: x-large;\n",
       "font-variant: small-caps;\n",
       "font-family: 'Titillium Web', sans-serif;\n",
       "font-weight: bold;\n",
       "/*margin-bottom: 0.1em;*/\n",
       "/*margin-top: 0.5em;*/\n",
       "margin: 10px;\n",
       "padding: 10px;\n",
       "color:#cc0000;\n",
       "border-style: solid none solid none;\n",
       "border-width: 2px;\n",
       "border-color:#cc0000;\n",
       "border-spacing: 10px;\n",
       "}\n",
       "\n",
       ".reveal h1 {\n",
       "font-family: 'Titillium Web', sans-serif;\n",
       "/*font-size: 24pt;*/\n",
       "font-weight: bold;\n",
       "margin-bottom: 0.1em;\n",
       "margin-top: 0.5em;\n",
       "color:#4a4a4a;\n",
       "}\n",
       ".reveal h2 {\n",
       "font-family: 'Titillium Web', sans-serif;\n",
       "/*font-size: 24pt;*/\n",
       "font-weight: bold;\n",
       "margin-bottom: 0.1em;\n",
       "margin-top: 0.5em;\n",
       "color:#595959;\n",
       "}\n",
       ".reveal h3 {\n",
       "font-family: 'Titillium Web', sans-serif;\n",
       "/*font-size: 24pt;*/\n",
       "font-weight: bold;\n",
       "margin-bottom: 0.1em;\n",
       "margin-top: 0.5em;\n",
       "color:#595959;\n",
       "}\n",
       ".reveal h4 {\n",
       "font-family: 'Titillium Web', sans-serif;\n",
       "font-weight: bold;\n",
       "margin-bottom: 0.1em;\n",
       "margin-top: 0.5em;\n",
       "color:#595959;\n",
       "}\n",
       ".reveal div.text_cell_render{\n",
       "line-height: 120%;\n",
       "font-size: 74%;\n",
       "font-weight: 400;\n",
       "text-align: justify;\n",
       "margin-left:0em;\n",
       "margin-right:0em;\n",
       "}\n",
       ".reveal .code_cell {\n",
       "    font-size: 92%;\n",
       "}\n",
       ".reveal code {\n",
       "font-family: 'Inconsolata', monospace;\n",
       "}\n",
       ".reveal pre {\n",
       "font-family: 'Inconsolata', monospace;\n",
       "}\n",
       "\n",
       ".CodeMirror{\n",
       "font-family: \"Inconsolata\", monospace;\n",
       "}\n",
       "\n",
       "</style>"
      ],
      "text/plain": [
       "<IPython.core.display.HTML object>"
      ]
     },
     "execution_count": 2,
     "metadata": {},
     "output_type": "execute_result"
    }
   ],
   "source": [
    "## Import required Python modules\n",
    "%matplotlib inline\n",
    "import matplotlib.pyplot as plt\n",
    "import numpy as np\n",
    "import scipy, scipy.stats\n",
    "import io\n",
    "import base64\n",
    "#from IPython.core.display import display\n",
    "from IPython.display import display, HTML, Image\n",
    "from urllib.request import urlopen\n",
    "\n",
    "try:\n",
    "    import astropy as apy\n",
    "    import astropy.table\n",
    "    _apy = True\n",
    "    #print('Loaded astropy')\n",
    "except:\n",
    "    _apy = False\n",
    "    #print('Could not load astropy')\n",
    "\n",
    "## Customising the font size of figures\n",
    "plt.rcParams.update({'font.size': 14})\n",
    "\n",
    "## Customising the look of the notebook\n",
    "display(HTML(\"<style>.container { width:95% !important; }</style>\"))\n",
    "## This custom file is adapted from https://github.com/lmarti/jupyter_custom/blob/master/custom.include\n",
    "HTML('custom.css')\n",
    "#HTML(urlopen('https://raw.githubusercontent.com/bretonr/intro_data_science/master/custom.css').read().decode('utf-8'))"
   ]
  },
  {
   "cell_type": "code",
   "execution_count": 3,
   "metadata": {},
   "outputs": [
    {
     "data": {
      "text/html": [
       "<script>\n",
       "code_show=true;\n",
       "function code_toggle() {\n",
       " if (code_show){\n",
       " $('div.input').hide();\n",
       " } else {\n",
       " $('div.input').show();\n",
       " }\n",
       " code_show = !code_show\n",
       "} \n",
       "$( document ).ready(code_toggle);\n",
       "</script>\n",
       "<form action=\"javascript:code_toggle()\"><input type=\"submit\" value=\"Click here to toggle on/off the Python code.\"></form>"
      ],
      "text/plain": [
       "<IPython.core.display.HTML object>"
      ]
     },
     "execution_count": 3,
     "metadata": {},
     "output_type": "execute_result"
    }
   ],
   "source": [
    "## Adding a button to hide the Python source code\n",
    "HTML('''<script>\n",
    "code_show=true;\n",
    "function code_toggle() {\n",
    " if (code_show){\n",
    " $('div.input').hide();\n",
    " } else {\n",
    " $('div.input').show();\n",
    " }\n",
    " code_show = !code_show\n",
    "} \n",
    "$( document ).ready(code_toggle);\n",
    "</script>\n",
    "<form action=\"javascript:code_toggle()\"><input type=\"submit\" value=\"Click here to toggle on/off the Python code.\"></form>''')"
   ]
  },
  {
   "cell_type": "markdown",
   "metadata": {},
   "source": [
    "<div class=\"container-fluid\">\n",
    "    <div class=\"row\">\n",
    "        <div class=\"col-md-8\" align=\"center\">\n",
    "            <h1>PHYS 10791: Introduction to Data Science</h1>\n",
    "            <!--<h3>2019-2020 Academic Year</h3><br>-->\n",
    "        </div>\n",
    "        <div class=\"col-md-3\">\n",
    "            <img align='center' style=\"border-width:0\" src=\"images/UoM_logo.png\"/>\n",
    "        </div>\n",
    "    </div>\n",
    "</div>\n",
    "\n",
    "<div class=\"container-fluid\">\n",
    "    <div class=\"row\">\n",
    "        <div class=\"col-md-2\" align=\"right\">\n",
    "            <b>Course instructors:&nbsp;&nbsp;</b>\n",
    "        </div>\n",
    "        <div class=\"col-md-9\" align=\"left\">\n",
    "            <a href=\"http://www.renebreton.org\">Prof. Rene Breton</a> - Twitter <a href=\"https://twitter.com/BretonRene\">@BretonRene</a><br>\n",
    "            <a href=\"http://www.hep.manchester.ac.uk/u/gersabec\">Dr. Marco Gersabeck</a> - Twitter <a href=\"https://twitter.com/MarcoGersabeck\">@MarcoGersabeck</a>\n",
    "        </div>\n",
    "    </div>\n",
    "</div>"
   ]
  },
  {
   "cell_type": "markdown",
   "metadata": {},
   "source": [
    "# Chapter 1"
   ]
  },
  {
   "cell_type": "markdown",
   "metadata": {},
   "source": [
    "## Problem 1\n",
    "\n",
    "Consider the data below:\n",
    "\n",
    "| x | y  |\n",
    "|---|----|\n",
    "| 7 | 19 |\n",
    "|14 | 30 |\n",
    "| 8 | 22 |\n",
    "| 7 | 18 |\n",
    "|14 | 32 |\n",
    "|12 | 30 |\n",
    "|10 | 25 |\n",
    "|13 | 26 |\n",
    "| 9 | 26 |\n",
    "|10 | 25 |"
   ]
  },
  {
   "cell_type": "markdown",
   "metadata": {},
   "source": [
    "#### Tasks\n",
    "\n",
    "1. Calculate the arithmetic mean for column $x$\n",
    "2. Calculate the geometric mean for column $x$.\n",
    "3. Calculate the harmonic mean for column $x$.\n",
    "4. Calculate the RMS for column $x$.\n",
    "5. Calculate the median for column $x$.\n",
    "6. Calculate the uncorrected standard deviation for column $x$\n",
    "7. Calculate the population standard deviation for column $x$, given that the true mean is 10.\n",
    "8. Calculate the skewness for column $x$.\n",
    "9. Calculate the kurtosis for column $x$.\n",
    "10. Calculate the covariance matrix for this dataset.\n",
    "11. Calculate the correlation coefficient between $x$ and $y$."
   ]
  },
  {
   "cell_type": "markdown",
   "metadata": {},
   "source": [
    "# Chapter 2"
   ]
  },
  {
   "cell_type": "markdown",
   "metadata": {},
   "source": [
    "## Problem 1\n",
    "\n",
    "<img align='center' style=\"border-width:0\" src=\"images/euler.png\" width=\"400\"/>"
   ]
  },
  {
   "cell_type": "markdown",
   "metadata": {},
   "source": [
    "#### Tasks\n",
    "Calculate the following probabilities:\n",
    "\n",
    "1. $P(\\Omega)$\n",
    "2. $P(A1 \\mid B)$\n",
    "3. $P(A2 \\cap B)$\n",
    "4. $P(A2 \\cup A3)$\n",
    "5. $P(A2 \\cup A3 \\mid B)$\n",
    "6. $P(\\bar B)$"
   ]
  },
  {
   "cell_type": "markdown",
   "metadata": {},
   "source": [
    "## Problem 2\n",
    "\n",
    "After her daily breakfast, Poutine the cat always stares through the window to plan her day. She is desperate to spend time outside, but doesn't want to do so if it rains. Poutine is a clever data science and knows all about Bayes theorem. From information gathered from reading her iPaw (a cat-friendly version of an iPhone), Poutine know that:\n",
    "- 50% of all rainy days start off cloudy\n",
    "- Cloudy mornings are common; 40% of days start cloudy\n",
    "- November is usually a rainy month; 17 of 30 days tend to be rainy\n",
    "\n",
    "What is the probability that Poutine would go outside on a November day given that she observed cloud in the morning?"
   ]
  },
  {
   "cell_type": "markdown",
   "metadata": {},
   "source": [
    "## Problem 3\n",
    "\n",
    "New detectors for the LHCb upgrade are being built at Manchester. Some mass-produced electronic components need to undergo quality testing before being full assembled. A particular component is quoted by the manufacturer to report a value exceeding the tolerance only once every 100 measurements.<br><br>\n",
    "\n",
    "#### Tasks\n",
    "1. How likely is the component not meeting the manufacturer standards if it fails to report an accurate measurement twice in 100 tests?\n",
    "2. How many tests with no failure are required in order to be 95% certain that the component meets the manufacturer standards?"
   ]
  },
  {
   "cell_type": "markdown",
   "metadata": {},
   "source": [
    "## Problem 4\n",
    "\n",
    "Supernovae release more than 99% of their energy via neutrino emission. Models predicts that these neutrinos should be emitted over a short time interval, say 10 seconds.\n",
    "\n",
    "#### Tasks\n",
    "1. If the background neutrino detection rate by a certain detector is 400 per hour for the full sky, what would be the average detection rate in 10 seconds for an area of the sky equal to 2 steradians? (This area is chosen to represent the accuracy to which a neutrino can be localised in the sky)\n",
    "2. If a neutrino is detected from a particular region of the sky how likely is it that one would wait 10 seconds before detecting another?\n",
    "3. If 3 neutrinos are detected within a 10-second interval from a region of the sky coincident with a supernova shortly after the event, how likely were these neutrinos produced by the supernova?"
   ]
  },
  {
   "cell_type": "markdown",
   "metadata": {},
   "source": [
    "## Problem 5\n",
    "\n",
    "Your favourite online delivery company claims that 95.44% of their customers have their goods delivered within the allocated 30-minute delivery window. You need to plan an upcoming delivery on the day of an Introduction to Data Science lecture and absolutely don't want to miss the start to see an update on Rene's chickens and Poutine the cat. How long before the lecture time must the delivery window end in order to be 99.86% certain that you won't be distracted during the lecture?"
   ]
  },
  {
   "cell_type": "markdown",
   "metadata": {},
   "source": [
    "# Chapter 3"
   ]
  },
  {
   "cell_type": "markdown",
   "metadata": {},
   "source": [
    "## Problem 1\n",
    "\n",
    "You are a data analyst working for an automobile trading company. On a particular car model, 30% of cars aged 5 years and older have developed an issue with the engine which makes the resell value drop by £1000. Instead, the company has implemented a £1000 cash-back policy for any customer purchasing such car if they encounter the faulty engine problem within 6 months of the purchase.<br><br>\n",
    "\n",
    "##### Tasks\n",
    "1. What needs to be the resell price in order to ensure that the company breaks even on average?\n",
    "2. Given its actual condition a car will resell for price slightly above or lower than the expected price. If a standard deviation of £200 is observed in the actual resell price compared to the forecasted value, irrespective of the engine issue, how should the resell price from the previous question be adjusted to ensure that the company breaks even on average?\n",
    "3. If 100 of these cars are sold in a year, what is the probability that would you make at least £4000 profit in total?\n",
    "4. Bonus: What would you need to do in order to ensure that you have less than 2.28% probability of losing money?\n",
    "5. Extra bonus: your predicted resell price is a statistical estimator of the true value of the vehicle. Which property of a 'good' estimator do you affect by implementing the modification from the previous question in order to make a profit? Why?"
   ]
  },
  {
   "cell_type": "markdown",
   "metadata": {},
   "source": [
    "# Chapter 4"
   ]
  },
  {
   "cell_type": "markdown",
   "metadata": {},
   "source": [
    "## Problem 1\n",
    "\n",
    "The Pareto distribution was originally introduced by the Italian scientist of the same name to describe the allocation of wealth in society, where a large number of individuals have a low wealth and the largest proportion of the wealth belongs to a minority. The Pareto distribution can be written as $\\mathcal{L}(x \\mid \\theta, x_0) = \\theta x_0^\\theta x^{-\\theta-1}$.<br><br>\n",
    "\n",
    "##### Tasks\n",
    "1. Write an expression for the joint likelihood of multiple data points $x = \\{x_1, x_2, \\dots, x_i, \\dots, x_N\\}$.\n",
    "2. Derive an expression for the Maximum Likelihood Estimator of $\\theta$ for this problem, $\\widehat{\\theta}$.\n",
    "3. Derive an expression for the error on $\\widehat{\\theta}$, $\\sigma_{\\widehat{\\theta}}$, using the minimum variance bound principle.\n",
    "4. Evaluate $\\widehat{\\theta}$ and $\\sigma_{\\widehat{\\theta}}$ if the observed values are $x = \\{3.52, 2.07, 2.23, 2.26, 2.90, 2.33, 2.04, 3.59, 3.29, 4.23\\}$, givent that $x_0 = 2$."
   ]
  },
  {
   "cell_type": "markdown",
   "metadata": {},
   "source": [
    "# Chapter 5"
   ]
  },
  {
   "cell_type": "markdown",
   "metadata": {},
   "source": [
    "## Problem 1\n",
    "\n",
    "Two independent experiments attempt to measure a certain quantity, $a$. The table below provides the tabulated value of their posterior distribution, $P_1(a)$ and $P_2(a)$, as a function of the quantity, $a$.\n",
    "\n",
    "| a | P1(a) | P2(a) |\n",
    "|---|-------|-------|\n",
    "| 0 | 1.000 | 0.043 |\n",
    "| 1 | 0.716 | 0.135 |\n",
    "| 2 | 0.513 | 0.324 |\n",
    "| 3 | 0.367 | 0.606 |\n",
    "| 4 | 0.263 | 0.882 |\n",
    "| 5 | 0.188 | 1.000 |\n",
    "| 6 | 0.135 | 0.882 |\n",
    "| 7 | 0.096 | 0.606 |\n",
    "| 8 | 0.069 | 0.324 |\n",
    "| 9 | 0.049 | 0.135 |\n",
    "\n",
    "<br><br>\n",
    "##### Tasks\n",
    "1. What is the joint posterior probility of the two experiments?\n",
    "2. What is the maximum a posteriori value, $\\widehat{a}$, from each experiment?\n",
    "3. What is the maximum a posteriori value, $\\widehat{a}$, from the joint results?"
   ]
  },
  {
   "cell_type": "markdown",
   "metadata": {},
   "source": [
    "## Problem 2\n",
    "\n",
    "Two independent experiments attempt to measure a certain quantity, $a$. The equations below provide their posterior probability distributions:\n",
    "\\begin{eqnarray}\n",
    "    P_1(a) &=& \\frac{1}{3} e^{-a/3} \\\\\n",
    "    P_2(a) &=& \\frac{1}{2 \\sqrt{2 \\pi}} e^{-\\frac{\\left(a-5\\right)^2}{8}} \\,.\n",
    "\\end{eqnarray}\n",
    "<br><br>\n",
    "\n",
    "##### Tasks\n",
    "1. What is the joint posterior probility of the two experiments?\n",
    "2. What is the maximum a posteriori value, $\\widehat{a}$, from each experiment?\n",
    "3. What is the maximum a posteriori value, $\\widehat{a}$, from the joint results?"
   ]
  },
  {
   "cell_type": "markdown",
   "metadata": {},
   "source": [
    "## Problem 3\n",
    "\n",
    "You are provided with the following measurements from a free-fall experiment. A ball, initially at rest, falls from a height $y_0$ to the ground and a high-speed camera records the height as a function of time. The uncertainty on each height measurement is assumed to be the same and equal to 0.05 m. Times are in seconds and heights in meters.\n",
    "\n",
    "| t   | y    |\n",
    "|-----|------|\n",
    "| 0.1 | 2.91 |\n",
    "| 0.2 | 2.77 |\n",
    "| 0.3 | 2.61 |\n",
    "| 0.4 | 2.24 |\n",
    "| 0.5 | 1.85 |\n",
    "| 0.6 | 1.27 |\n",
    "| 0.7 | 0.64 |\n",
    "<br><br>\n",
    "\n",
    "##### Tasks\n",
    "1. Write the equation which describes the predicted height as a function of time, $f(t)$.\n",
    "2. What are the two parameters in the model?\n",
    "3. Justify why you can use the chi-squared minimisation to find the most likely value of the two parameters.\n",
    "4. Write the equation of the chi-square for this problem.\n",
    "5. Derive an expression for the most likely value of each parameter.\n",
    "6. Evaluate the most likely value of each parameter given the data provided above. (Note: this probably gets a bit tedious without using a computer so understanding the principle is more important.)\n",
    "7. Derive an expression for the uncertainty on each parameter.\n",
    "8. Evaluate the uncertainty on each parameter given the data provided above. (Note: this probably gets a bit tedious without using a computer so understanding the principle is more important.)\n",
    "9. Does the measurement of the gravitational constant agree with the accepted value?"
   ]
  },
  {
   "cell_type": "markdown",
   "metadata": {},
   "source": [
    "# Chapter 6"
   ]
  },
  {
   "cell_type": "markdown",
   "metadata": {},
   "source": [
    "## Problem 1\n",
    "\n",
    "In an experiment about circular motion, you measure the $x$ and $y$ coordinates of an object as a function of time with respect to the centre of rotation. Each of these quantities has an uncertainty given by $\\sigma_x$ and $\\sigma_y$, respectively. At any point in time, the object is subjected to a purely tangential force of magnitude $F$ which has an uncertainty $\\sigma_F$. You are interested in the magnitude and direction of the torque, $\\tau$ and $\\theta_\\tau$, experienced by the object at each point in time.\n",
    "\n",
    "_Recall that $\\vec{\\tau} = \\vec{r} \\times \\vec{F}$._\n",
    "\n",
    "Derive an expression for the magnitude of the torque and its uncertainty, $\\tau$ and $\\sigma_\\tau$."
   ]
  },
  {
   "cell_type": "markdown",
   "metadata": {},
   "source": [
    "## Problem 2\n",
    "\n",
    "Using a seed value $n_0 = 42$, generate the first 5 random integers using the linear congruential generator which has the following parameters:\n",
    "- Multiplier $a = 7$\n",
    "- Increment $c = 3$\n",
    "- Modulus $m = 101$"
   ]
  },
  {
   "cell_type": "markdown",
   "metadata": {},
   "source": [
    "## Problem 3\n",
    "\n",
    "In this problem you will look into calculating the following integral: $\\int_1^3 x^2 {\\rm d}x$.<br><br>\n",
    "\n",
    "##### Tasks\n",
    "1. Calculate the integral analytically.\n",
    "2. Calculate the integral using the trapezoid method using 5 intervals.\n",
    "3. Calculate the integral using the crude Monte Carlo method using the following sequence of random integers, which were generated using a linear congruential generator having a modulus $m = 101$: $n_i = \\{95, 62, 33, 32, 25\\}$.\n",
    "4. Calculate the integral using the rejection sampling integration. Use the previous sequence of random integers to obtain your random $x_i$. Use the following sequence of integers to generate your $u_i$; these are also drawn from an LCG with a modulus of 101: $m_i = \\{77, 37, 60, 19, 35\\}$."
   ]
  },
  {
   "cell_type": "markdown",
   "metadata": {},
   "source": [
    "## Problem 4\n",
    "\n",
    "Consider the probability distribution $p(x) = A x^2$ defined in the range $x = [1, 3]$. Use the inverse transform sampling method to draw random numbers from this distribution. To do so, use the following sequence of random integers, which were generated using a linear congruential generator having a modulus $m = 101$: $n_i = \\{95, 62, 33, 32, 25\\}$."
   ]
  },
  {
   "cell_type": "markdown",
   "metadata": {},
   "source": [
    "<div class=\"well\" align=\"center\">\n",
    "    <div class=\"container-fluid\">\n",
    "        <div class=\"row\">\n",
    "            <div class=\"col-md-3\" align=\"center\">\n",
    "                <img align=\"center\" alt=\"Creative Commons License\" style=\"border-width:0\" src=\"https://i.creativecommons.org/l/by-nc-sa/4.0/88x31.png\" width=\"60%\">\n",
    "            </div>\n",
    "            <div class=\"col-md-8\">\n",
    "            This work is licensed under a <a href=\"http://creativecommons.org/licenses/by-nc-sa/4.0/\">Creative Commons Attribution-NonCommercial-ShareAlike 4.0 International License</a>).\n",
    "            </div>\n",
    "        </div>\n",
    "    </div>\n",
    "    <br>\n",
    "    <br>\n",
    "    <i>Note: The content of this Jupyter Notebook is provided for educational purposes only.</i>\n",
    "</div>"
   ]
  }
 ],
 "metadata": {
  "celltoolbar": "Raw Cell Format",
  "kernelspec": {
   "display_name": "Python 3",
   "language": "python",
   "name": "python3"
  },
  "language_info": {
   "codemirror_mode": {
    "name": "ipython",
    "version": 3
   },
   "file_extension": ".py",
   "mimetype": "text/x-python",
   "name": "python",
   "nbconvert_exporter": "python",
   "pygments_lexer": "ipython3",
   "version": "3.8.5"
  },
  "latex_envs": {
   "LaTeX_envs_menu_present": true,
   "autocomplete": true,
   "bibliofile": "biblio.bib",
   "cite_by": "apalike",
   "current_citInitial": 1,
   "eqLabelWithNumbers": true,
   "eqNumInitial": 1,
   "hotkeys": {
    "equation": "Ctrl-E",
    "itemize": "Ctrl-I"
   },
   "labels_anchors": false,
   "latex_user_defs": false,
   "report_style_numbering": false,
   "user_envs_cfg": false
  }
 },
 "nbformat": 4,
 "nbformat_minor": 4
}
