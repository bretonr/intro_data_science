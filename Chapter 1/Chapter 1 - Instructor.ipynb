{
 "cells": [
  {
   "cell_type": "code",
   "execution_count": 1,
   "metadata": {
    "scrolled": true,
    "slideshow": {
     "slide_type": "-"
    }
   },
   "outputs": [
    {
     "data": {
      "text/html": [
       "<link href=\"https://fonts.googleapis.com/css?family=Fira+Sans:300,300i,600,600i\" rel=\"stylesheet\">\n",
       "<link href=\"https://fonts.googleapis.com/css?family=Inconsolata\" rel=\"stylesheet\">\n",
       "<link href=\"https://fonts.googleapis.com/css?family=Titillium+Web:400,400i,700,700i\" rel=\"stylesheet\">\n",
       "\n",
       "\n",
       "<style>\n",
       "\n",
       ".container {\n",
       "    max-width:1000px !important;\n",
       "}\n",
       "\n",
       ".text_cell_render p {\n",
       "font-style: regular;\n",
       "font-family: 'Fira Sans', sans-serif;\n",
       "display: block;\n",
       "text-align: justify;\n",
       "}\n",
       "/*font-weight: 200;*/\n",
       "/*text-align: left;\n",
       "line-height: 100%;\n",
       "display: block;\n",
       "}*/\n",
       "a {\n",
       "color:#377bb5;\n",
       "}\n",
       ".text_cell_render h1 {\n",
       "/*font-size: 24pt;*/\n",
       "font-family: 'Titillium Web', sans-serif;\n",
       "font-weight: bold;\n",
       "margin-bottom: 0.1em;\n",
       "margin-top: 0.5em;\n",
       "color:#4a4a4a;\n",
       "}\n",
       ".text_cell_render h2 {\n",
       "/*font-size: 21pt;*/\n",
       "    font-family: 'Titillium Web', sans-serif;\n",
       "margin-bottom: 0.1em;\n",
       "margin-top: 0.5em;\n",
       "color:#595959;\n",
       "}\n",
       ".text_cell_render h3 {\n",
       "    font-family: 'Titillium Web', sans-serif;\n",
       "/*font-size: 19pt;*/\n",
       "margin-bottom: 0.1em;\n",
       "margin-top: 0.5em;\n",
       "color:#595959;\n",
       "}\n",
       ".text_cell_render h4 {\n",
       "    font-family: 'Titillium Web', sans-serif;\n",
       "/*font-size: 17pt;*/\n",
       "font-size: 110%;\n",
       "margin-bottom: 0.1em;\n",
       "margin-top: 0.5em;\n",
       "color:#595959;\n",
       "}\n",
       ".text_cell_render h5 {\n",
       "    font-family: 'Titillium Web', sans-serif;\n",
       "/*font-size: 15pt;*/\n",
       "margin-bottom: 0.1em;\n",
       "margin-top: 0.5em;\n",
       "color:#595959;\n",
       "}\n",
       "div.text_cell_render{\n",
       "font-style: regular;\n",
       "font-family: 'Fira Sans', sans-serif;\n",
       "line-height: 120%;\n",
       "font-size: 100%;\n",
       "font-weight: 400;\n",
       "text-align: justify;\n",
       "margin-left:0em;\n",
       "margin-right:0em;\n",
       "}\n",
       "code {\n",
       "font-family: 'Inconsolata', monospace;\n",
       "}\n",
       "pre {\n",
       "font-family: 'Inconsolata', monospace;\n",
       "}\n",
       "\n",
       "div.example {\n",
       "    font-family: 'Titillium Web', sans-serif;\n",
       "/*font-size: 15pt;*/\n",
       "font-weight: bold;\n",
       "font-variant: small-caps;\n",
       "text-decoration: underline;\n",
       "margin-bottom: 0.1em;\n",
       "margin-top: 0.3em;\n",
       "color:#595959;\n",
       "}\n",
       "\n",
       "div.queue {\n",
       "font-size: x-large;\n",
       "font-variant: small-caps;\n",
       "font-family: 'Titillium Web', sans-serif;\n",
       "font-weight: bold;\n",
       "/*margin-bottom: 0.1em;*/\n",
       "/*margin-top: 0.5em;*/\n",
       "margin: 10px;\n",
       "padding: 10px;\n",
       "color:#cc0000;\n",
       "border-style: solid none solid none;\n",
       "border-width: 2px;\n",
       "border-color:#cc0000;\n",
       "border-spacing: 10px;\n",
       "}\n",
       "\n",
       "div.opt_start {\n",
       "font-size: large;\n",
       "font-variant: small-caps;\n",
       "font-family: 'Titillium Web', sans-serif;\n",
       "font-weight: bold;\n",
       "/*margin-bottom: 0.1em;*/\n",
       "/*margin-top: 0.5em;*/\n",
       "margin: 10px;\n",
       "padding: 10px;\n",
       "color:#0000cc;\n",
       "border-style: solid none none none;\n",
       "border-width: 2px;\n",
       "border-color:#0000cc;\n",
       "border-spacing: 10px;\n",
       "}\n",
       "div.opt_end {\n",
       "font-size: large;\n",
       "font-variant: small-caps;\n",
       "font-family: 'Titillium Web', sans-serif;\n",
       "font-weight: bold;\n",
       "/*margin-bottom: 0.1em;*/\n",
       "/*margin-top: 0.5em;*/\n",
       "margin: 10px;\n",
       "padding: 10px;\n",
       "color:#0000cc;\n",
       "border-style: none none solid none;\n",
       "border-width: 2px;\n",
       "border-color:#0000cc;\n",
       "border-spacing: 10px;\n",
       "}\n",
       "\n",
       ".reveal h1 {\n",
       "font-family: 'Titillium Web', sans-serif;\n",
       "/*font-size: 24pt;*/\n",
       "font-weight: bold;\n",
       "margin-bottom: 0.1em;\n",
       "margin-top: 0.5em;\n",
       "color:#4a4a4a;\n",
       "}\n",
       ".reveal h2 {\n",
       "font-family: 'Titillium Web', sans-serif;\n",
       "/*font-size: 24pt;*/\n",
       "font-weight: bold;\n",
       "margin-bottom: 0.1em;\n",
       "margin-top: 0.5em;\n",
       "color:#595959;\n",
       "}\n",
       ".reveal h3 {\n",
       "font-family: 'Titillium Web', sans-serif;\n",
       "/*font-size: 24pt;*/\n",
       "font-weight: bold;\n",
       "margin-bottom: 0.1em;\n",
       "margin-top: 0.5em;\n",
       "color:#595959;\n",
       "}\n",
       ".reveal h4 {\n",
       "font-family: 'Titillium Web', sans-serif;\n",
       "font-size: 110%;\n",
       "font-weight: bold;\n",
       "margin-bottom: 0.1em;\n",
       "margin-top: 0.5em;\n",
       "color:#595959;\n",
       "}\n",
       ".reveal div.text_cell_render{\n",
       "line-height: 120%;\n",
       "font-size: 74%;\n",
       "font-weight: 400;\n",
       "text-align: justify;\n",
       "margin-left:0em;\n",
       "margin-right:0em;\n",
       "}\n",
       ".reveal .code_cell {\n",
       "    font-size: 92%;\n",
       "}\n",
       ".reveal code {\n",
       "font-family: 'Inconsolata', monospace;\n",
       "}\n",
       ".reveal pre {\n",
       "font-family: 'Inconsolata', monospace;\n",
       "}\n",
       "\n",
       ".CodeMirror{\n",
       "font-family: \"Inconsolata\", monospace;\n",
       "}\n",
       "\n",
       "</style>"
      ],
      "text/plain": [
       "<IPython.core.display.HTML object>"
      ]
     },
     "execution_count": 1,
     "metadata": {},
     "output_type": "execute_result"
    }
   ],
   "source": [
    "## Import required Python modules\n",
    "%matplotlib inline\n",
    "import matplotlib.pyplot as plt\n",
    "import numpy as np\n",
    "import scipy, scipy.stats\n",
    "import io\n",
    "import base64\n",
    "#from IPython.core.display import display\n",
    "from IPython.display import display, HTML, Image\n",
    "from urllib.request import urlopen\n",
    "\n",
    "try:\n",
    "    import astropy as apy\n",
    "    import astropy.table\n",
    "    _apy = True\n",
    "    #print('Loaded astropy')\n",
    "except:\n",
    "    _apy = False\n",
    "    #print('Could not load astropy')\n",
    "\n",
    "## Customising the font size of figures\n",
    "plt.rcParams.update({'font.size': 14})\n",
    "\n",
    "## Customising the look of the notebook\n",
    "## This custom file is adapted from https://github.com/lmarti/jupyter_custom/blob/master/custom.include\n",
    "HTML('custom.css')\n",
    "#HTML(urlopen('https://raw.githubusercontent.com/bretonr/intro_data_science/master/custom.css').read().decode('utf-8'))"
   ]
  },
  {
   "cell_type": "code",
   "execution_count": 2,
   "metadata": {
    "slideshow": {
     "slide_type": "-"
    }
   },
   "outputs": [
    {
     "data": {
      "text/html": [
       "\n",
       "<script>\n",
       "    function toggleCodeCells() {\n",
       "      var codeCells = document.querySelectorAll('.jp-CodeCell');\n",
       "\n",
       "      codeCells.forEach(function(cell) {\n",
       "        var inputArea = cell.querySelector('.jp-InputArea');\n",
       "        if (inputArea) {\n",
       "          var currentDisplay = inputArea.style.display || getComputedStyle(inputArea).display;\n",
       "          inputArea.style.display = currentDisplay === 'none' ? '' : 'none';\n",
       "        }\n",
       "      });\n",
       "    }\n",
       "</script>\n",
       "\n",
       "<!-- Add a button to toggle visibility of input code cells -->\n",
       "<button onclick=\"toggleCodeCells()\">Toggle Code Cells</button>\n"
      ],
      "text/plain": [
       "<IPython.core.display.HTML object>"
      ]
     },
     "execution_count": 2,
     "metadata": {},
     "output_type": "execute_result"
    }
   ],
   "source": [
    "HTML('''\n",
    "<script>\n",
    "    function toggleCodeCells() {\n",
    "      var codeCells = document.querySelectorAll('.jp-CodeCell');\n",
    "\n",
    "      codeCells.forEach(function(cell) {\n",
    "        var inputArea = cell.querySelector('.jp-InputArea');\n",
    "        if (inputArea) {\n",
    "          var currentDisplay = inputArea.style.display || getComputedStyle(inputArea).display;\n",
    "          inputArea.style.display = currentDisplay === 'none' ? '' : 'none';\n",
    "        }\n",
    "      });\n",
    "    }\n",
    "</script>\n",
    "\n",
    "<!-- Add a button to toggle visibility of input code cells -->\n",
    "<button onclick=\"toggleCodeCells()\">Toggle Code Cells</button>\n",
    "''')"
   ]
  },
  {
   "cell_type": "code",
   "execution_count": 3,
   "metadata": {
    "slideshow": {
     "slide_type": "-"
    },
    "tags": []
   },
   "outputs": [
    {
     "data": {
      "text/html": [
       "\n",
       "<button id=\"toggleButton\" onclick=\"toggleQueue()\">Toggle Queue</button>\n",
       "\n",
       "<script>\n",
       "  var queueHidden = false;\n",
       "\n",
       "  function toggleQueue() {\n",
       "    var queueElements = document.querySelectorAll('div.queue');\n",
       "\n",
       "    for (var i = 0; i < queueElements.length; i++) {\n",
       "      if (queueHidden) {\n",
       "        queueElements[i].style.display = 'block';\n",
       "      } else {\n",
       "        queueElements[i].style.display = 'none';\n",
       "      }\n",
       "    }\n",
       "\n",
       "    queueHidden = !queueHidden;\n",
       "  }\n",
       "</script>\n"
      ],
      "text/plain": [
       "<IPython.core.display.HTML object>"
      ]
     },
     "execution_count": 3,
     "metadata": {},
     "output_type": "execute_result"
    }
   ],
   "source": [
    "HTML('''\n",
    "<button id=\"toggleButton\" onclick=\"toggleQueue()\">Toggle Queue</button>\n",
    "\n",
    "<script>\n",
    "  var queueHidden = false;\n",
    "\n",
    "  function toggleQueue() {\n",
    "    var queueElements = document.querySelectorAll('div.queue');\n",
    "\n",
    "    for (var i = 0; i < queueElements.length; i++) {\n",
    "      if (queueHidden) {\n",
    "        queueElements[i].style.display = 'block';\n",
    "      } else {\n",
    "        queueElements[i].style.display = 'none';\n",
    "      }\n",
    "    }\n",
    "\n",
    "    queueHidden = !queueHidden;\n",
    "  }\n",
    "</script>\n",
    "''')"
   ]
  },
  {
   "cell_type": "markdown",
   "metadata": {
    "slideshow": {
     "slide_type": "-"
    }
   },
   "source": [
    "<div class=\"container-fluid\">\n",
    "    <div class=\"row\">\n",
    "        <div class=\"col-md-8\" align=\"center\">\n",
    "            <h1>PHYS 10791: Introduction to Data Science</h1>\n",
    "            <!--<h3>2019-2020 Academic Year</h3><br>-->\n",
    "        </div>\n",
    "        <div class=\"col-md-3\">\n",
    "            <img align='center' style=\"border-width:0\" src=\"images/UoM_logo.png\"/>\n",
    "        </div>\n",
    "    </div>\n",
    "</div>\n",
    "\n",
    "<div class=\"container-fluid\">\n",
    "    <div class=\"row\">\n",
    "        <div class=\"col-md-2\" align=\"right\">\n",
    "            <b>Course instructors:&nbsp;&nbsp;</b>\n",
    "        </div>\n",
    "        <div class=\"col-md-9\" align=\"left\">\n",
    "            <a href=\"http://www.renebreton.org\">Prof. Rene Breton</a> - Twitter <a href=\"https://twitter.com/BretonRene\">@BretonRene</a><br>\n",
    "            <a href=\"http://www.hep.manchester.ac.uk/u/gersabec\">Dr. Marco Gersabeck</a> - Twitter <a href=\"https://twitter.com/MarcoGersabeck\">@MarcoGersabeck</a>\n",
    "        </div>\n",
    "    </div>\n",
    "</div>"
   ]
  },
  {
   "cell_type": "markdown",
   "metadata": {},
   "source": [
    "## Syllabus\n",
    "\n",
    "1. **Probabilities and interpretations**\n",
    "2. Probability distributions\n",
    "3. Parameter estimation\n",
    "4. Maximum likelihood\n",
    "5. Least square, chi2, correlations\n",
    "6. Monte Carlo basics\n",
    "7. Goodness of fit tests\n",
    "8. Hypothesis testing\n",
    "9. Probability and confidence level\n",
    "10. Limit setting\n",
    "11. Introduction to multivariate analysis techniques"
   ]
  },
  {
   "cell_type": "markdown",
   "metadata": {},
   "source": [
    "# Chapter 1\n",
    "\n",
    "## Topics\n",
    "\n",
    "**[1.1 Probabilities and Interpretation](#1.1-Probabilities-and-Interpretation)**\n",
    "- 1.1.1 Statistics and probabilities\n",
    "- **Case study**: Cancer research breakthrough\n",
    "\n",
    "**[1.2 Basics of presentation of data](#1.2-Basics-of-presentation-of-data)**\n",
    "- ~~1.2.1 Data presentation~~ *(non-examinable content)*\n",
    "- 1.2.2 Measures of central tendency\n",
    "    - Arithmetic mean\n",
    "    - Geometric mean\n",
    "    - Harmonic mean\n",
    "    - Root mean square\n",
    "    - Median\n",
    "    - Mode\n",
    "- 1.2.3 Measures of dispersion\n",
    "    - Variance and standard deviation\n",
    "    - Mean absolute deviation\n",
    "- 1.2.4 Other indicators\n",
    "    - Skewness\n",
    "    - Kurtosis\n",
    "- 1.2.5 Multiple variables\n",
    "    - Covariance\n",
    "    - Correlation\n",
    "    - Covariance matrix\n",
    "- **Case study**: Correlation does not imply causation"
   ]
  },
  {
   "cell_type": "markdown",
   "metadata": {
    "slideshow": {
     "slide_type": "-"
    }
   },
   "source": [
    "<div class=\"queue\">\n",
    "    Lecture 1 - 00:00    --    Cover syllabus and general admin stuff first\n",
    "</div>"
   ]
  },
  {
   "cell_type": "markdown",
   "metadata": {
    "slideshow": {
     "slide_type": "-"
    }
   },
   "source": [
    "## 1.1 Probabilities and Interpretation"
   ]
  },
  {
   "cell_type": "markdown",
   "metadata": {
    "slideshow": {
     "slide_type": "-"
    }
   },
   "source": [
    "### 1.1.1 Statistics and probabilities\n"
   ]
  },
  {
   "cell_type": "markdown",
   "metadata": {
    "slideshow": {
     "slide_type": "-"
    }
   },
   "source": [
    "#### Context\n",
    "\n",
    "*Statistics is a tool*. [Barlow]\n",
    "\n",
    "Statistics and data analysis form the building blocks of **data science**."
   ]
  },
  {
   "cell_type": "markdown",
   "metadata": {},
   "source": [
    "<div class=\"queue\">\n",
    "    Lecture 1 - 00:10\n",
    "</div>"
   ]
  },
  {
   "cell_type": "markdown",
   "metadata": {
    "slideshow": {
     "slide_type": "-"
    }
   },
   "source": [
    "### Case study: Cancer research breakthrough\n",
    "\n",
    "New interesting development for the detection of cancer.\n",
    "\n",
    "\n",
    "<table>\n",
    "<tr>\n",
    "    <td>BBC Report</td>\n",
    "    <td>Article in Science</td>\n",
    "</tr>\n",
    "<tr>\n",
    "    <td width=\"40%\" style=\"vertical-align: top\"><img src=\"images/cancerBBC.screen.png\"></td>\n",
    "    <td width=\"40%\" style=\"vertical-align: top\"><img src=\"images/cancerScience.screen.png\"> <br><br> <div style=\"text-align: center\">BBC QR Code</div><img src=\"images/cancerBBC.qrcode.png\"> <br><br><br> <div style=\"text-align: center\">Science QR Code</div><img src=\"images/cancerScience.qrcode.png\"></td>\n",
    "</tr>\n",
    "<tr>\n",
    "    <td>Source: <a href=\"http://www.bbc.co.uk/news/health-42736764\">BBC</a></td>\n",
    "    <td>Source: <a href=\"http://science.sciencemag.org/content/early/2018/01/17/science.aar3247\">Science</a></td>\n",
    "</tr>\n",
    "</table>\n",
    "\n",
    "Great development for cancer research\n",
    "\n",
    "Need some caution:\n",
    "1. News: 70% success rate is the median success rate of the study. Article: success rate for Stage I, Stage II and Stage III cancers are 43%, 73% and 78%, respectively.\n",
    "2. Article (abstract): specificity (i.e. 1-false positive rate) of the test is 99.14%.\n",
    "\n",
    "The latter implies that a healthy (non-cancerous) adult tested for most of their adult life (40 years) would have a 29% chance of being tested positive. How did we get this?\n",
    "\n",
    "> We want to calculate the chance of not getting a false positive in 40 years.\n",
    "\n",
    "> The chance of not being controlled as false positive in one year is $0.9914$. This means that the chance of not being controlled as false positive after 40 years is the product of the probabilities for each year: $0.9914^{40}$.\n",
    "\n",
    "> Finally, the chance of getting a false positive after 40 years is $1 - 0.9914^{40} = 0.29$.\n",
    "\n",
    "This might cause issues if entire population is tested every year..."
   ]
  },
  {
   "cell_type": "markdown",
   "metadata": {},
   "source": [
    "<div class=\"queue\">\n",
    "    Lecture 1 - 00:15\n",
    "</div>"
   ]
  },
  {
   "cell_type": "markdown",
   "metadata": {
    "slideshow": {
     "slide_type": "-"
    }
   },
   "source": [
    "## 1.2 Basics of presentation of data"
   ]
  },
  {
   "cell_type": "markdown",
   "metadata": {
    "slideshow": {
     "slide_type": "-"
    }
   },
   "source": [
    "### 1.2.1 Data presentation"
   ]
  },
  {
   "cell_type": "markdown",
   "metadata": {
    "slideshow": {
     "slide_type": "-"
    }
   },
   "source": [
    "#### Description of data\n",
    "\n",
    "Two types of data:\n",
    "- Qualitative / non-numeric: e.g. food preference\n",
    "- Quantitative / numeric: e.g. length of an object\n",
    "\n",
    "Quantitative data divided into two subtypes:\n",
    "- Discrete: e.g. number of photons detected\n",
    "- Continuous: e.g. mass of galaxies"
   ]
  },
  {
   "cell_type": "markdown",
   "metadata": {},
   "source": [
    "<div class=\"queue\">\n",
    "    Lecture 1 - 00:20\n",
    "</div>"
   ]
  },
  {
   "cell_type": "markdown",
   "metadata": {
    "slideshow": {
     "slide_type": "-"
    }
   },
   "source": [
    "### 1.2.2 Measures of central tendency\n",
    "\n",
    "Useful to describe a dataset/distribution with a single number.\n",
    "\n",
    "We define a dataset containing N elements as:\n",
    "\n",
    "\\begin{equation}\n",
    "  S = \\{x_1, x_2, x_3,...,x_N\\}\n",
    "\\end{equation}"
   ]
  },
  {
   "cell_type": "code",
   "execution_count": 4,
   "metadata": {},
   "outputs": [
    {
     "name": "stdout",
     "output_type": "stream",
     "text": [
      "Example dataset\n",
      "x = {4, 1, 3, 9, 5, 4, 4, 6, 2, 4, 7, 7, 4, 3, 2}\n",
      "\n",
      "Binned data:\n",
      "value:  0, 1, 2, 3, 4, 5, 6, 7, 8, 9\n",
      "weight: 0, 1, 2, 2, 5, 1, 1, 2, 0, 1\n"
     ]
    },
    {
     "data": {
      "image/png": "[encoded data removed]",
      "text/plain": [
       "<Figure size 1000x600 with 1 Axes>"
      ]
     },
     "metadata": {},
     "output_type": "display_data"
    }
   ],
   "source": [
    "## Define a set of data\n",
    "#x = np.random.poisson(4, size=15)\n",
    "x = np.array([4, 1, 3, 9, 5, 4, 4, 6, 2, 4, 7, 7, 4, 3, 2])\n",
    "print('Example dataset')\n",
    "print('x = {' + ', '.join(['{}'.format(xi) for xi in x]) + '}')\n",
    "\n",
    "fig,ax = plt.subplots(figsize=[10,6])\n",
    "weights, bins, patches = ax.hist(x, range=[0,10], bins=10, align='left')\n",
    "weights = weights.astype(int)\n",
    "bins = bins[:-1].astype(int)\n",
    "ax.set_xlabel('Value')\n",
    "ax.set_ylabel('Count')\n",
    "ax.set_xlim([0,10]);\n",
    "\n",
    "print('')\n",
    "print('Binned data:')\n",
    "print('value:  ' + ', '.join(['{}'.format(b) for b in bins]))\n",
    "print('weight: ' + ', '.join(['{}'.format(w) for w in weights]))"
   ]
  },
  {
   "cell_type": "markdown",
   "metadata": {},
   "source": [
    "#### Arithmetic mean\n",
    "Also called mean or average:\n",
    "\\begin{equation}\n",
    "    \\langle x \\rangle = \\frac{1}{N} \\sum_{i=1}^{N} x_i\n",
    "\\end{equation}"
   ]
  },
  {
   "cell_type": "markdown",
   "metadata": {},
   "source": [
    "#### Geometric mean\n",
    "Average side length of hyper-volume\n",
    "\\begin{equation}\n",
    "    {\\rm GM} = \\left( \\prod_{i=1}^{N} x_i \\right)^{\\frac{1}{N}}\n",
    "\\end{equation}\n",
    "\n",
    "Also referred to log-average:\n",
    "\\begin{equation}\n",
    "  {\\rm GM} = \\left( \\prod_{i=1}^{N} x_i \\right)^{\\frac{1}{N}} = \\exp \\left[ \\frac{1}{N} \\sum_{i=1}^{N} \\ln x_i \\right]\n",
    "\\end{equation}\n",
    "\n",
    "_**Note:**_ More numerically stable."
   ]
  },
  {
   "cell_type": "markdown",
   "metadata": {},
   "source": [
    "#### Harmonic mean\n",
    "\\begin{equation}\n",
    "    H = \\frac{N}{\\sum_{i=1}^{N} \\frac{1}{x_i}}\n",
    "\\end{equation}\n",
    "\n",
    "Harmonic mean, H, is a Schur-concave function:\n",
    "\\begin{equation}\n",
    "  \\min(x_1,...,x_N) \\leq H \\leq N \\min(x_1,...,x_N) .\n",
    "\\end{equation}"
   ]
  },
  {
   "cell_type": "markdown",
   "metadata": {},
   "source": [
    "#### Root mean square\n",
    "\\begin{equation}\n",
    "    {\\rm RMS} = \\sqrt{\\frac{\\sum_{i=1}^{N} x_i^2}{N}}\n",
    "\\end{equation}"
   ]
  },
  {
   "cell_type": "markdown",
   "metadata": {},
   "source": [
    "#### Median\n",
    "Middle point with equal probability on both sides.\n",
    "\n",
    "Discrete dataset, order elements in increasing value and\n",
    "- If odd number of elements: the median is the middle element.\n",
    "- If even number of elements: the median is defined as the average of the two middle elements.\n",
    "\n",
    "Continuous distribution, the median is where the probability below is equal to that above."
   ]
  },
  {
   "cell_type": "markdown",
   "metadata": {},
   "source": [
    "#### Mode\n",
    "Most likely value\n",
    "    - Discrete distributions: most common value\n",
    "    - Continuous distributions: maximum of the probability distribution function"
   ]
  },
  {
   "cell_type": "markdown",
   "metadata": {},
   "source": [
    "#### Binned/weighted data and continuous distributions\n",
    "\n",
    "For binned/weighted data, we must account for the number of points in each bin (e.g. 'weight')\n",
    "\\begin{equation}\n",
    "  \\langle x \\rangle = \\frac{ \\sum_{j=1}^{J} n_j x_j }{ \\sum_{j=1}^{J} n_j }\n",
    "\\end{equation}\n",
    "\n",
    "For discrete data this is a sum; for continuous data the sums become integrals\n",
    "\\begin{equation}\n",
    "  \\langle x \\rangle = \\frac{ \\int_{x_{\\rm min}}^{x_{\\rm max}} n(x) x {\\rm d}x }{ \\int_{x_{\\rm min}}^{x_{\\rm max}} n(x) {\\rm d}x }\n",
    "\\end{equation}"
   ]
  },
  {
   "cell_type": "markdown",
   "metadata": {},
   "source": [
    "Below is a comparison of the arithmetic mean, median and mode for two distributions having the same median.\n",
    "\n",
    "<img src=\"images/Comparison_mean_median_mode.svg\" width=\"50%\">\n",
    "\n",
    "(Source: [Cmglee](https://commons.wikimedia.org/wiki/User:Cmglee), [Comparison mean median mode](https://commons.wikimedia.org/wiki/File:Comparison_mean_median_mode.svg), [CC BY-SA 3.0](https://creativecommons.org/licenses/by-sa/3.0/legalcode))"
   ]
  },
  {
   "cell_type": "markdown",
   "metadata": {},
   "source": [
    "<div class=\"queue\">\n",
    "    Lecture 1 - 00:35\n",
    "</div>"
   ]
  },
  {
   "cell_type": "markdown",
   "metadata": {},
   "source": [
    "### 1.2.3 Measures of dispersion\n",
    "\n",
    "Characterises the spread of a dataset/distribution with a single number."
   ]
  },
  {
   "cell_type": "markdown",
   "metadata": {},
   "source": [
    "#### Variance and standard deviation\n",
    "\n",
    "*Population variance* and *population standard deviation*:\n",
    "\n",
    "\\begin{equation}\n",
    "  V(x) = \\sigma^2 = \\frac{1}{N} \\sum_{i=1}^N (x_i - \\mu)^2 \\,,\n",
    "\\end{equation}\n",
    "\n",
    "where $\\mu$ is the mean of the population (i.e. the true mean).\n",
    "\n",
    "*Sample variance* and *sample standard distribution* uses the mean from the samples instead, \\langle x \\rangle:\n",
    "\n",
    "\\begin{equation}\n",
    "  s^2_{\\rm uncorr} = \\frac{1}{N} \\sum_{i=1}^N (x_i - \\langle x \\rangle)^2 \\,.\n",
    "\\end{equation}\n",
    "\n",
    "For small dataset, this is biased. Normalise by a factor $N-1$ instead of $N$:\n",
    "\n",
    "\\begin{equation}\n",
    "  s^2_{\\rm corr} = \\frac{1}{N-1} \\sum_{i=1}^N (x_i - \\langle x \\rangle)^2 \\,.\n",
    "\\end{equation}\n",
    "\n",
    "Definition with $N-1$ factor: **corrected/unbiased sample variance**\n",
    "\n",
    "Definition with $N$ factor: **uncorrected/biased sample variance**"
   ]
  },
  {
   "cell_type": "markdown",
   "metadata": {},
   "source": [
    "#### Mean absolute deviation\n",
    "\n",
    "\\begin{equation}\n",
    "  {\\rm MAD} = \\frac{1}{N} \\sum_{i=1}^N \\left| x_i - \\langle x \\rangle \\right|\n",
    "\\end{equation}\n",
    "\n",
    "More robust to outliers."
   ]
  },
  {
   "cell_type": "markdown",
   "metadata": {},
   "source": [
    "<div class=\"queue\">\n",
    "    Lecture 2 - 00:00\n",
    "</div>"
   ]
  },
  {
   "cell_type": "markdown",
   "metadata": {},
   "source": [
    "### 1.2.4 Other indicators"
   ]
  },
  {
   "cell_type": "markdown",
   "metadata": {},
   "source": [
    "#### Skewness\n",
    "\n",
    "Measures the asymmetry.\n",
    "\n",
    "\\begin{equation}\n",
    "  \\gamma = \\frac{1}{\\sigma^3} \\langle \\left(x_i - \\langle x \\rangle \\right)^3 \\rangle = \\frac{1}{N \\sigma^3} \\sum_{i=1}^N (x_i - \\langle x \\rangle)^3\n",
    "\\end{equation}\n",
    "\n",
    "Negative implies longer tail to the left. Positive implies the opposite behaviour.\n",
    "\n",
    "<img src=\"images/Negative_and_positive_skew_diagrams_(English).svg\" width=\"75%\">\n",
    "\n",
    "(Source: [Rodolfo Hermans (Godot)](https://en.wikipedia.org/wiki/User:Rodolfo_Hermans), [Negative and positive skew diagrams (English)](https://commons.wikimedia.org/wiki/File:Negative_and_positive_skew_diagrams_%28English%29.svg), [CC BY-SA 3.0](https://creativecommons.org/licenses/by-sa/3.0/legalcode))"
   ]
  },
  {
   "cell_type": "markdown",
   "metadata": {},
   "source": [
    "#### Kurtosis\n",
    "\n",
    "The *kurtosis* measures 'boxiness':\n",
    "\n",
    "\\begin{equation}\n",
    "  \\kappa = \\frac{1}{\\sigma^4} \\langle \\left(x_i - \\langle x \\rangle \\right)^4 \\rangle - 3 = \\frac{1}{N \\sigma^4} \\sum_{i=1}^N (x_i - \\langle x \\rangle)^4 - 3\n",
    "\\end{equation}\n",
    "\n",
    "Positive kurtosis implies more concentrated around the mean. Negative kurtosis implies more spread in the tails.\n",
    "\n",
    "<img src=\"images/Standard_symmetric_pdfs.png\" width=\"50%\">\n",
    "\n",
    "(Source: [MarkSweep](https://commons.wikimedia.org/wiki/User:MarkSweep), [Standard symmetric pdfs](https://commons.wikimedia.org/wiki/File:Standard_symmetric_pdfs.png), [Wikimedia Commons](https://commons.wikimedia.org/wiki/Template:PD-self))"
   ]
  },
  {
   "cell_type": "markdown",
   "metadata": {},
   "source": [
    "<div class=\"queue\">\n",
    "    Lecture 2 - 00:10\n",
    "</div>"
   ]
  },
  {
   "cell_type": "markdown",
   "metadata": {},
   "source": [
    "### 1.2.5 Multiple variables\n",
    "\n",
    "A dataset can contain multiple variables:\n",
    "\n",
    "\\begin{equation}\n",
    "  S = \\{(x_1, y_1, z_1), (x_2, y_2, z_2), (x_3, y_3, z_3), \\dots , (x_N, y_N, z_N)\\}\n",
    "\\end{equation}"
   ]
  },
  {
   "cell_type": "markdown",
   "metadata": {},
   "source": [
    "#### Covariance\n",
    "\n",
    "Measure of joint variability of two random variables.Extension of variance.\n",
    "\n",
    "\\begin{equation}\n",
    "  \\operatorname{cov}(x,y) = \\frac{1}{N} \\sum_{i=1}^N (x_i - \\langle x \\rangle)(y_i - \\langle y \\rangle)\n",
    "\\end{equation}\n",
    "\n",
    "_**Note: Population vs sample covariance. Also, uncorrected/biased ($1/N$) or the corrected/unbiased ($1/(N-1)$) pre-factor.**_"
   ]
  },
  {
   "cell_type": "markdown",
   "metadata": {},
   "source": [
    "#### Correlation\n",
    "\n",
    "Covariance has dimensions $[x][y]$. *Correlation* is dimensionless and sometimes more practical:\n",
    "\n",
    "\\begin{equation}\n",
    "  \\rho = \\frac{\\operatorname{cov}(x,y)}{\\sigma_x \\sigma_y}\n",
    "\\end{equation}\n",
    "\n",
    "Value between -1 and +1.\n",
    "\n",
    "_**Note: Consistent use of covariance and standard deviation (i.e. 'population' or 'sample'). Pre-factor (corrected or uncorrected) cancels out.**_\n",
    "\n",
    "1. The correlation is not affected by the mean value of data points (i.e. it is translation invariant).\n",
    "2. The correlation reflects the coupling between the two quantities, but is independent of the slope due to the normalisation by the standard deviations (i.e. it is scale invariant). (Note the the middle figure has an undefined correlation due to $\\sigma_y = 0$.)\n",
    "3. The correlation does not capture nonlinear coupling between the parameters.\n",
    "\n",
    "<img src=\"images/1024px-Correlation_examples2.svg.png\" width=\"75%\">\n",
    "\n",
    "(Source: [DenisBoigelot](https://commons.wikimedia.org/wiki/User:DenisBoigelot), [Correlation examples2](https://commons.wikimedia.org/wiki/File:Correlation_examples2.svg), [CC0 1.0](https://creativecommons.org/publicdomain/zero/1.0/legalcode))"
   ]
  },
  {
   "cell_type": "markdown",
   "metadata": {},
   "source": [
    "#### Covariance matrix\n",
    "\n",
    "Handy way to represent combination of covariance in multiple dimensions.\n",
    "\n",
    "\\begin{equation}\n",
    "  \\Sigma = \n",
    "  \\begin{bmatrix}\n",
    "    \\operatorname{cov}(X_1,X_1) & \\operatorname{cov}(X_1,X_2) & \\operatorname{cov}(X_1,X_3) & \\dots  & \\operatorname{cov}(X_1,X_n) \\\\\n",
    "    \\operatorname{cov}(X_2,X_1) & \\operatorname{cov}(X_2,X_2) & \\operatorname{cov}(X_2,X_3) & \\dots  & \\operatorname{cov}(X_2,X_n) \\\\\n",
    "    \\vdots       & \\vdots & \\vdots & \\ddots & \\vdots \\\\\n",
    "    \\operatorname{cov}(X_n,X_1) & \\operatorname{cov}(X_n,X_2) & \\operatorname{cov}(X_n,X_3) & \\dots  & \\operatorname{cov}(X_n,X_n)\n",
    "  \\end{bmatrix}\n",
    "\\end{equation}\n",
    "\n",
    "Always symmetric and positive-semidefinite."
   ]
  },
  {
   "cell_type": "markdown",
   "metadata": {},
   "source": [
    "<div class=\"queue\">\n",
    "    Lecture 2 - 00:30\n",
    "</div>"
   ]
  },
  {
   "cell_type": "markdown",
   "metadata": {},
   "source": [
    "### Case study: Correlation does not imply causation"
   ]
  },
  {
   "cell_type": "markdown",
   "metadata": {},
   "source": [
    "```\n",
    "In statistics, many statistical tests calculate correlations between variables and when two variables are found to be correlated, it is tempting to assume that this shows that one variable causes the other.\n",
    "```\n",
    "<div style=\"text-align: right\">(Source: <a href=\"https://en.wikipedia.org/wiki/Correlation_does_not_imply_causation\">Wikipedia</a>)</div>\n",
    "\n"
   ]
  },
  {
   "cell_type": "markdown",
   "metadata": {},
   "source": [
    "#### The ice cream and drowning classic\n",
    "\n",
    "*As ice cream sales increase, the rate of drowning deaths increases sharply.*\n",
    "\n",
    "*Therefore, ice cream consumption causes drowning.*\n",
    "\n",
    "<img src=\"images/Ice_Cream_and_Drowning_nolabels.png\" width=\"75%\">"
   ]
  },
  {
   "cell_type": "markdown",
   "metadata": {},
   "source": [
    "Of course, eating ice cream does not causes a higher risk of drowning. The example fails to recognise that more people are exposed to water-related activities in the hot summer months when they are also likely to eat ice cream. Here, the _two variables are correlated because they share a common cause_.\n",
    "\n",
    "The figure below provides crucial information about the hidden underlying link.\n",
    "\n",
    "<img src=\"images/Ice_Cream_and_Drowning_labels.png\" width=\"75%\">"
   ]
  },
  {
   "cell_type": "markdown",
   "metadata": {},
   "source": [
    "<div class=\"queue\">\n",
    "    Lecture 2 - 00:40\n",
    "</div>"
   ]
  },
  {
   "cell_type": "markdown",
   "metadata": {},
   "source": [
    "#### Predicting your course mark\n",
    "\n",
    "Here are data from the 2018 edition of PHYS 10792 Introduction to Data Science. There is a stricking correlation between the overall grade and the coursework grade.\n",
    "\n",
    "<img src=\"images/Assign_Exam.png\" width=\"50%\">\n",
    "\n",
    "Is there a causation between these two quantities? One could claim that this has to do with how 'good' your are academically. However...\n",
    "\n",
    "<img src=\"images/Grade_Missed.png\" width=\"50%\">\n",
    "\n",
    "The figure above shows a clear link between the overall grade and the number of missed assignments. It appears that how much you engage with the course has a strong influence on how well you do. This is a very important distinction as it has nothing to do, at least to first order, with your 'academic proficiency'."
   ]
  },
  {
   "cell_type": "markdown",
   "metadata": {},
   "source": [
    "<div class=\"well\" align=\"center\">\n",
    "    <div class=\"container-fluid\">\n",
    "        <div class=\"row\">\n",
    "            <div class=\"col-md-3\" align=\"center\">\n",
    "                <img align=\"center\" alt=\"Creative Commons License\" style=\"border-width:0\" src=\"https://i.creativecommons.org/l/by-nc-sa/4.0/88x31.png\" width=\"60%\">\n",
    "            </div>\n",
    "            <div class=\"col-md-8\">\n",
    "            This work is licensed under a <a href=\"http://creativecommons.org/licenses/by-nc-sa/4.0/\">Creative Commons Attribution-NonCommercial-ShareAlike 4.0 International License</a>).\n",
    "            </div>\n",
    "        </div>\n",
    "    </div>\n",
    "    <br>\n",
    "    <br>\n",
    "    <i>Note: The content of this Jupyter Notebook is provided for educational purposes only.</i>\n",
    "</div>"
   ]
  }
 ],
 "metadata": {
  "kernelspec": {
   "display_name": "Python 3 (ipykernel)",
   "language": "python",
   "name": "python3"
  },
  "language_info": {
   "codemirror_mode": {
    "name": "ipython",
    "version": 3
   },
   "file_extension": ".py",
   "mimetype": "text/x-python",
   "name": "python",
   "nbconvert_exporter": "python",
   "pygments_lexer": "ipython3",
   "version": "3.10.11"
  },
  "latex_envs": {
   "LaTeX_envs_menu_present": true,
   "autocomplete": true,
   "bibliofile": "biblio.bib",
   "cite_by": "apalike",
   "current_citInitial": 1,
   "eqLabelWithNumbers": true,
   "eqNumInitial": 1,
   "hotkeys": {
    "equation": "Ctrl-E",
    "itemize": "Ctrl-I"
   },
   "labels_anchors": false,
   "latex_user_defs": false,
   "report_style_numbering": false,
   "user_envs_cfg": false
  }
 },
 "nbformat": 4,
 "nbformat_minor": 4
}
