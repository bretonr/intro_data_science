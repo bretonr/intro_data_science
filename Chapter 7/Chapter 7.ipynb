{
 "cells": [
  {
   "cell_type": "code",
   "execution_count": 1,
   "metadata": {},
   "outputs": [
    {
     "data": {
      "text/html": [
       "<style>.container { width:95% !important; }</style>"
      ],
      "text/plain": [
       "<IPython.core.display.HTML object>"
      ]
     },
     "metadata": {},
     "output_type": "display_data"
    },
    {
     "data": {
      "text/html": [
       "<link href=\"https://fonts.googleapis.com/css?family=Fira+Sans:300,300i,600,600i\" rel=\"stylesheet\">\n",
       "<link href=\"https://fonts.googleapis.com/css?family=Inconsolata\" rel=\"stylesheet\">\n",
       "<link href=\"https://fonts.googleapis.com/css?family=Titillium+Web:400,400i,700,700i\" rel=\"stylesheet\">\n",
       "\n",
       "\n",
       "<style>\n",
       "\n",
       ".text_cell_render p {\n",
       "font-style: regular;\n",
       "font-family: 'Fira Sans', sans-serif;\n",
       "display: block;\n",
       "text-align: justify;\n",
       "}\n",
       "/*font-weight: 200;*/\n",
       "/*text-align: left;\n",
       "line-height: 100%;\n",
       "display: block;\n",
       "}*/\n",
       "a {\n",
       "color:#377bb5;\n",
       "}\n",
       ".text_cell_render h1 {\n",
       "/*font-size: 24pt;*/\n",
       "font-family: 'Titillium Web', sans-serif;\n",
       "font-weight: bold;\n",
       "margin-bottom: 0.1em;\n",
       "margin-top: 0.5em;\n",
       "color:#4a4a4a;\n",
       "}\n",
       ".text_cell_render h2 {\n",
       "/*font-size: 21pt;*/\n",
       "    font-family: 'Titillium Web', sans-serif;\n",
       "margin-bottom: 0.1em;\n",
       "margin-top: 0.3em;\n",
       "color:#595959;\n",
       "}\n",
       ".text_cell_render h3 {\n",
       "    font-family: 'Titillium Web', sans-serif;\n",
       "/*font-size: 19pt;*/\n",
       "margin-bottom: 0.1em;\n",
       "margin-top: 0.3em;\n",
       "color:#595959;\n",
       "}\n",
       ".text_cell_render h4 {\n",
       "    font-family: 'Titillium Web', sans-serif;\n",
       "/*font-size: 17pt;*/\n",
       "margin-bottom: 0.1em;\n",
       "margin-top: 0.3em;\n",
       "color:#595959;\n",
       "}\n",
       ".text_cell_render h5 {\n",
       "    font-family: 'Titillium Web', sans-serif;\n",
       "/*font-size: 15pt;*/\n",
       "margin-bottom: 0.1em;\n",
       "margin-top: 0.3em;\n",
       "color:#595959;\n",
       "}\n",
       "div.text_cell_render{\n",
       "font-style: regular;\n",
       "font-family: 'Fira Sans', sans-serif;\n",
       "line-height: 120%;\n",
       "font-size: 100%;\n",
       "font-weight: 400;\n",
       "text-align: justify;\n",
       "margin-left:0em;\n",
       "margin-right:0em;\n",
       "}\n",
       "code {\n",
       "font-family: 'Inconsolata', monospace;\n",
       "}\n",
       "pre {\n",
       "font-family: 'Inconsolata', monospace;\n",
       "}\n",
       "\n",
       "div.example {\n",
       "    font-family: 'Titillium Web', sans-serif;\n",
       "/*font-size: 15pt;*/\n",
       "font-weight: bold;\n",
       "font-variant: small-caps;\n",
       "text-decoration: underline;\n",
       "margin-bottom: 0.1em;\n",
       "margin-top: 0.3em;\n",
       "color:#595959;\n",
       "}\n",
       "\n",
       "div.queue {\n",
       "font-size: x-large;\n",
       "font-variant: small-caps;\n",
       "font-family: 'Titillium Web', sans-serif;\n",
       "font-weight: bold;\n",
       "/*margin-bottom: 0.1em;*/\n",
       "/*margin-top: 0.5em;*/\n",
       "margin: 10px;\n",
       "padding: 10px;\n",
       "color:#cc0000;\n",
       "border-style: solid none solid none;\n",
       "border-width: 2px;\n",
       "border-color:#cc0000;\n",
       "border-spacing: 10px;\n",
       "}\n",
       "\n",
       ".reveal h1 {\n",
       "font-family: 'Titillium Web', sans-serif;\n",
       "/*font-size: 24pt;*/\n",
       "font-weight: bold;\n",
       "margin-bottom: 0.1em;\n",
       "margin-top: 0.5em;\n",
       "color:#4a4a4a;\n",
       "}\n",
       ".reveal h2 {\n",
       "font-family: 'Titillium Web', sans-serif;\n",
       "/*font-size: 24pt;*/\n",
       "font-weight: bold;\n",
       "margin-bottom: 0.1em;\n",
       "margin-top: 0.5em;\n",
       "color:#595959;\n",
       "}\n",
       ".reveal h3 {\n",
       "font-family: 'Titillium Web', sans-serif;\n",
       "/*font-size: 24pt;*/\n",
       "font-weight: bold;\n",
       "margin-bottom: 0.1em;\n",
       "margin-top: 0.5em;\n",
       "color:#595959;\n",
       "}\n",
       ".reveal h4 {\n",
       "font-family: 'Titillium Web', sans-serif;\n",
       "font-weight: bold;\n",
       "margin-bottom: 0.1em;\n",
       "margin-top: 0.5em;\n",
       "color:#595959;\n",
       "}\n",
       ".reveal div.text_cell_render{\n",
       "line-height: 120%;\n",
       "font-size: 74%;\n",
       "font-weight: 400;\n",
       "text-align: justify;\n",
       "margin-left:0em;\n",
       "margin-right:0em;\n",
       "}\n",
       ".reveal .code_cell {\n",
       "    font-size: 92%;\n",
       "}\n",
       ".reveal code {\n",
       "font-family: 'Inconsolata', monospace;\n",
       "}\n",
       ".reveal pre {\n",
       "font-family: 'Inconsolata', monospace;\n",
       "}\n",
       "\n",
       ".CodeMirror{\n",
       "font-family: \"Inconsolata\", monospace;\n",
       "}\n",
       "\n",
       "</style>"
      ],
      "text/plain": [
       "<IPython.core.display.HTML object>"
      ]
     },
     "execution_count": 1,
     "metadata": {},
     "output_type": "execute_result"
    }
   ],
   "source": [
    "## Import required Python modules\n",
    "%matplotlib inline\n",
    "import matplotlib.pyplot as plt\n",
    "import numpy as np\n",
    "import scipy, scipy.stats\n",
    "import io\n",
    "import base64\n",
    "#from IPython.core.display import display\n",
    "from IPython.display import display, HTML, Image\n",
    "from urllib.request import urlopen\n",
    "\n",
    "try:\n",
    "    import astropy as apy\n",
    "    import astropy.table\n",
    "    _apy = True\n",
    "    #print('Loaded astropy')\n",
    "except:\n",
    "    _apy = False\n",
    "    #print('Could not load astropy')\n",
    "\n",
    "## Customising the font size of figures\n",
    "plt.rcParams.update({'font.size': 14})\n",
    "\n",
    "## Customising the look of the notebook\n",
    "display(HTML(\"<style>.container { width:95% !important; }</style>\"))\n",
    "## This custom file is adapted from https://github.com/lmarti/jupyter_custom/blob/master/custom.include\n",
    "HTML('custom.css')\n",
    "#HTML(urlopen('https://raw.githubusercontent.com/bretonr/intro_data_science/master/custom.css').read().decode('utf-8'))"
   ]
  },
  {
   "cell_type": "code",
   "execution_count": 2,
   "metadata": {},
   "outputs": [],
   "source": [
    "## Custom imports\n",
    "from scipy.stats import binom, poisson, chi2, norm, uniform\n",
    "from scipy.optimize import curve_fit\n",
    "from math import ceil, pi\n",
    "from numpy import exp\n",
    "from matplotlib.collections import PatchCollection\n",
    "from matplotlib.patches import Circle, Rectangle\n",
    "from matplotlib.colors import makeMappingArray"
   ]
  },
  {
   "cell_type": "code",
   "execution_count": 3,
   "metadata": {
    "scrolled": true
   },
   "outputs": [
    {
     "data": {
      "text/html": [
       "<script>\n",
       "code_show=true;\n",
       "function code_toggle() {\n",
       " if (code_show){\n",
       " $('div.input').hide();\n",
       " } else {\n",
       " $('div.input').show();\n",
       " }\n",
       " code_show = !code_show\n",
       "} \n",
       "$( document ).ready(code_toggle);\n",
       "</script>\n",
       "<form action=\"javascript:code_toggle()\"><input type=\"submit\" value=\"Click here to toggle on/off the Python code.\"></form>"
      ],
      "text/plain": [
       "<IPython.core.display.HTML object>"
      ]
     },
     "execution_count": 3,
     "metadata": {},
     "output_type": "execute_result"
    }
   ],
   "source": [
    "## Adding a button to hide the Python source code\n",
    "HTML('''<script>\n",
    "code_show=true;\n",
    "function code_toggle() {\n",
    " if (code_show){\n",
    " $('div.input').hide();\n",
    " } else {\n",
    " $('div.input').show();\n",
    " }\n",
    " code_show = !code_show\n",
    "} \n",
    "$( document ).ready(code_toggle);\n",
    "</script>\n",
    "<form action=\"javascript:code_toggle()\"><input type=\"submit\" value=\"Click here to toggle on/off the Python code.\"></form>''')"
   ]
  },
  {
   "cell_type": "markdown",
   "metadata": {},
   "source": [
    "<div class=\"container-fluid\">\n",
    "    <div class=\"row\">\n",
    "        <div class=\"col-md-9\" align=\"center\">\n",
    "            <h1>PHYS10791: Introduction to Data Science</h1>\n",
    "            <!--<h3>2019-2020 Academic Year</h3><br>-->\n",
    "        </div>\n",
    "        <div class=\"col-md-3\">\n",
    "            <img align='center' style=\"border-width:0\" src=\"images/UoM_logo.png\"/>\n",
    "        </div>\n",
    "    </div>\n",
    "</div>\n",
    "\n",
    "<div class=\"container-fluid\">\n",
    "    <div class=\"row\">\n",
    "        <div class=\"col-md-3\" align=\"right\">\n",
    "            <b>Course instructors:&nbsp;&nbsp;</b>\n",
    "        </div>\n",
    "        <div class=\"col-md-9\" align=\"left\">\n",
    "            <a href=\"http://www.renebreton.org\">Prof. Rene Breton</a> - Twitter <a href=\"https://twitter.com/BretonRene\">@BretonRene</a><br>\n",
    "            <a href=\"http://www.hep.manchester.ac.uk/u/gersabec\">Dr. Marco Gersabeck</a> - Twitter <a href=\"https://twitter.com/MarcoGersabeck\">@MarcoGersabeck</a>\n",
    "        </div>\n",
    "    </div>\n",
    "</div>"
   ]
  },
  {
   "cell_type": "markdown",
   "metadata": {},
   "source": [
    "# Chapter 7\n",
    "\n",
    "## Syllabus\n",
    "\n",
    "1. Probabilities and interpretations\n",
    "2. Probability distributions\n",
    "3. Parameter estimation\n",
    "4. Maximum likelihood\n",
    "5. Least square, chi2, correlations\n",
    "6. Monte Carlo basics\n",
    "7. **Goodness of fit tests**\n",
    "8. Hypothesis testing\n",
    "9. Probability and confidence level\n",
    "10. Limit setting\n",
    "11. Introduction to multivariate analysis techniques"
   ]
  },
  {
   "cell_type": "markdown",
   "metadata": {},
   "source": [
    "## Topics\n",
    "\n",
    "**[7 Goodness of fit tests](#7-Goodness-of-fit-tests)**\n",
    "\n",
    "**[7.1 Introduction](#7.1-Introduction)**\n",
    "\n",
    "**[7.2 Chi-squared test](#7.2-Chi-squared-test)**\n",
    "- 7.2.1 General formulae\n",
    "- 7.2.2 Application\n",
    "- 7.2.3 Rescaling $\\chi^2$ distributions\n",
    "\n",
    "**[7.3 Comparing fit models](#7.3-Comparing-fit-models)**\n",
    "- 7.3.1 Definitions\n",
    "- 7.3.2 Interpretation\n",
    "- 7.3.3 Examples\n",
    "\n",
    "**[7.4 Two sample problem](#7.4-Two-sample-problem)**\n",
    "- 7.4.1 Comparing samples with known $\\sigma$\n",
    "\n",
    "**[7.5 Kolmogorov-Smirnov test and its application to the two-sample problem](#7.5-Kolmogorov-Smirnov-test-and-its-application-to-the-two-sample-problem)**\n",
    "- 7.5.1 The Kolmogorov-Smirnov test\n",
    "- 7.5.2 Kolmogorov-Smirnov test with two samples"
   ]
  },
  {
   "cell_type": "markdown",
   "metadata": {
    "slideshow": {
     "slide_type": "slide"
    }
   },
   "source": [
    "### 7.1 Introduction\n",
    "\n",
    "Many experiments extract their results by fitting a parametrisation of the observables to the data distribution. While fits can generally be convinced to converge and thereby give an answer the question arises of how trustworthy such results are.\n",
    "\n",
    "This section will cover different approaches for assessing the goodness of fits. The fits themselves were discussed in Chapters 4 and 5. Essentially, goodness of fit tests can be interpreted as hypothesis tests as well, which will become clear in Chapter 8, but which is not required for the understanding of this Chapter."
   ]
  },
  {
   "cell_type": "markdown",
   "metadata": {
    "slideshow": {
     "slide_type": "slide"
    }
   },
   "source": [
    "### 7.2 Chi-squared test\n",
    "\n",
    "#### 7.2.1 General formulae\n",
    "\n",
    "The formulae below are a recap from Chapter 5.\n",
    "\n",
    "The $\\chi^2$ test is the most widely used goodness of fit test. In general, for sets of $n$ measurements $x_i$ and $y_i$, where $x_i$ is known precisely and $y_i$ is measured with uncertainty $\\sigma_i$, the $\\chi^2$ value is defined for the fit function $f(x_i)$ as\n",
    "\n",
    "$$\\chi^2=\\sum_{i=1}^n\\frac{(y_i-f(x_i))^2}{\\sigma_i^2}.$$\n",
    "\n",
    "This function you should be able to recall. The $\\chi^2$ function shows that each measurement will contribute roughly $1$ to the total $\\chi^2$ assuming that the measured values fluctuate around the function values with a spread corresponding to their $\\sigma$. Hence, $\\chi^2$ is expected to take a value of roughly $n$; however, we will discuss this more accurately below.\n",
    "\n",
    "More generally, one can write the $\\chi^2$ formula as a matrix equation, which includes correlations between measurements, as\n",
    "\n",
    "$$\\chi^2=({\\bf y}-{\\bf f})^{\\rm T}{\\bf V}^{-1}({\\bf y}-{\\bf f}),$$\n",
    "\n",
    "where ${\\bf V}$ is the covariance matrix of the measurements, but we will not need this within this lecture course.\n",
    "\n",
    "The probability distribution for $\\chi^2$ is given by\n",
    "\n",
    "$$P(\\chi^2;N)=\\frac{2^{-N/2}}{\\Gamma(N/2)}\\chi^{N-2}e^{-\\chi^2/2},$$\n",
    "\n",
    "where $N$ is the number of degrees of freedom. These are in principle the number of measurements $n$, but they are reduced by each of the free parameters of the fit function $k$, such that $N=n-k$. This is because each of the fit parameters is optimised to minimise the $\\chi^2$ during the fitting process. If any of the function parameters are not fitted but rather fixed to a specific value, the number of degrees of freedom should _not_ be reduced for these fixed parameters.\n",
    "\n",
    "This can be used to calculate the $\\chi^2$ probability, which is the probability of a random value of the $\\chi^2$ distribution taking a value greater than a specified threshold.\n",
    "\n",
    "$${\\rm Prob}(\\chi^2;N)=\\int_{\\chi^2}^{\\infty}P(\\chi'^2;N)d\\chi'^2.$$\n",
    "\n",
    "One interpretation is, if you conduct a large number of fits with an appropriate model to independent datasets, each with $N$ degrees of freedom, then the $\\chi^2$ probability corresponds to the fraction of fits that result in a $\\chi^2$ value greater than the threshold.\n",
    "\n",
    "Let's have a look at it:"
   ]
  },
  {
   "cell_type": "code",
   "execution_count": 4,
   "metadata": {
    "slideshow": {
     "slide_type": "slide"
    }
   },
   "outputs": [
    {
     "data": {
      "image/png": "[encoded data removed]",
      "text/plain": [
       "<Figure size 1152x576 with 1 Axes>"
      ]
     },
     "metadata": {
      "needs_background": "light"
     },
     "output_type": "display_data"
    }
   ],
   "source": [
    "x = np.linspace(0, 3, 300)\n",
    "fig,ax = plt.subplots(figsize=(16, 8))\n",
    "ndfs=[1,2,5,10,20,50,100,200]\n",
    "for df,c in zip(ndfs,plt.get_cmap('tab10').colors):\n",
    "    xdf = x*df\n",
    "    if df != 5:\n",
    "        ax.plot(x, chi2.pdf(xdf, df)*df,'r-', color=c, lw=3, alpha=0.3, label='N='+str(df))\n",
    "    else:\n",
    "        ax.plot(x, chi2.pdf(xdf, df)*df,'r-', color=c, lw=3, alpha=1., label='N='+str(df))\n",
    "ax.legend(loc=5)\n",
    "ax.set_xlabel('$\\chi^2$/N')\n",
    "ax.set_ylabel('P($\\chi^2$;N)')\n",
    "plt.show()"
   ]
  },
  {
   "cell_type": "markdown",
   "metadata": {
    "slideshow": {
     "slide_type": "fragment"
    }
   },
   "source": [
    "This plot shows $\\chi^2$ probability density functions for various degrees of freedom (N). For ease of comparison the $x$ axis has been scaled by N."
   ]
  },
  {
   "cell_type": "markdown",
   "metadata": {
    "slideshow": {
     "slide_type": "fragment"
    }
   },
   "source": [
    "We can see that the mean indeed is approximately the number of degrees of freedom. However, the variance of the distribution differs strongly with N."
   ]
  },
  {
   "cell_type": "markdown",
   "metadata": {},
   "source": [
    "$~$\n",
    "\n",
    "$~$\n",
    "\n",
    "$~$\n",
    "\n",
    "$~$\n",
    "\n",
    "$~$\n",
    "\n",
    "$~$\n",
    "\n",
    "$~$\n",
    "\n",
    "$~$\n",
    "\n",
    "$~$\n",
    "\n",
    "$~$\n",
    "\n",
    "$~$\n",
    "\n",
    "$~$\n",
    "\n"
   ]
  },
  {
   "cell_type": "markdown",
   "metadata": {
    "slideshow": {
     "slide_type": "slide"
    }
   },
   "source": [
    "#### 7.2.2 Application\n",
    "\n",
    "One often comes across statements like \"$\\chi^2/N<1.5$ indicates a good fit\". This is rather pointless as the significance of this statement varies strongly with N. The following shows the probabilities of a fluctuation of the $\\chi^2$ test exceeding this threshold for different degrees of freedom."
   ]
  },
  {
   "cell_type": "code",
   "execution_count": 5,
   "metadata": {
    "slideshow": {
     "slide_type": "fragment"
    }
   },
   "outputs": [
    {
     "name": "stdout",
     "output_type": "stream",
     "text": [
      "  N Prob chi2>1.5N\n",
      "  1 0.220671\n",
      "  2 0.223130\n",
      "  5 0.186030\n",
      " 10 0.132062\n",
      " 20 0.069854\n",
      " 50 0.012597\n",
      "100 0.000904\n",
      "200 0.000006\n"
     ]
    }
   ],
   "source": [
    "print('{0:3} {1:8}'.format('  N','Prob chi2>1.5N'))\n",
    "limits = [1.5*n for n in ndfs]\n",
    "for n,p in zip(ndfs,chi2.cdf(limits, ndfs)):\n",
    "    print('{0:3d} {1:8f}'.format(n,1-p))"
   ]
  },
  {
   "cell_type": "markdown",
   "metadata": {
    "slideshow": {
     "slide_type": "slide"
    }
   },
   "source": [
    "So rather than fixing a useless limit in $\\chi^2/N$, we should fix the desired significance and deduce the corresponding acceptable limit in $\\chi^2$ (or $\\chi^2/N$). So let's have a look how this pans out for a limit of $1\\%$. This means that the integral of the $\\chi^2$ distribution for a given value of $N$ from $0$ to the upper limit quoted below is equal to $1 - 0.01 = 0.99$."
   ]
  },
  {
   "cell_type": "code",
   "execution_count": 6,
   "metadata": {
    "slideshow": {
     "slide_type": "fragment"
    }
   },
   "outputs": [
    {
     "name": "stdout",
     "output_type": "stream",
     "text": [
      "  N max. chi^2/N\n",
      "  1 6.634897\n",
      "  2 4.605170\n",
      "  5 3.017254\n",
      " 10 2.320925\n",
      " 20 1.878312\n",
      " 50 1.523078\n",
      "100 1.358067\n",
      "200 1.247226\n"
     ]
    }
   ],
   "source": [
    "print('{0:3} {1:8}'.format('  N','max. chi^2/N'))\n",
    "for n,p in zip(ndfs,chi2.ppf(0.99, ndfs)):\n",
    "    print('{0:3d} {1:8f}'.format(n,p/n))"
   ]
  },
  {
   "cell_type": "markdown",
   "metadata": {
    "slideshow": {
     "slide_type": "slide"
    }
   },
   "source": [
    "##### Example: fit to un-binned dataset\n",
    "\n",
    "Having worked out how to set an acceptance threshold we can now have a look at how this applies to a concrete dataset.\n",
    "\n",
    "In the example below we have data points randomly distributed between 0 and 1 with $y$ values that are randomly distributed around 1. As a fit function we use a parabola. As this function has 3 parameters, we use as the number of degrees of freedom the number of measurement points minus 3."
   ]
  },
  {
   "cell_type": "code",
   "execution_count": 7,
   "metadata": {
    "slideshow": {
     "slide_type": "slide"
    }
   },
   "outputs": [
    {
     "data": {
      "image/png": "[encoded data removed]",
      "text/plain": [
       "<Figure size 1152x576 with 1 Axes>"
      ]
     },
     "metadata": {
      "needs_background": "light"
     },
     "output_type": "display_data"
    },
    {
     "name": "stdout",
     "output_type": "stream",
     "text": [
      "Fit function: [0]-[1]*(x-[2])^2\n",
      "Fit results:\n",
      "Par. 0: 1.08742 +/- 0.45309\n",
      "Par. 1: 0.06302 +/- 0.36848\n",
      "Par. 2: 1.68061 +/- 6.65558\n",
      "The fit chi2 is 18.0 for 20 measurements and 3 fit parameters, i.e. 17 degrees of freedom.\n",
      "The corresponding probability is Prob(18.0,17)=38.62635%.\n"
     ]
    }
   ],
   "source": [
    "def fitf(x,a,b,c):\n",
    "    # Par a: Minimum height\n",
    "    # Par b: Parabola width\n",
    "    # Par c: Minimum position\n",
    "    return a-b*(x-c)**2\n",
    "\n",
    "# measurement\n",
    "sigma = 0.1\n",
    "nmeas = 20\n",
    "xx = uniform.rvs(size=nmeas)\n",
    "yy = [1+x for x in norm.rvs(scale=sigma,size=nmeas)]\n",
    "\n",
    "# fitting\n",
    "popt, pcov = curve_fit(fitf, xx, yy)\n",
    "\n",
    "# get values to plot\n",
    "fx = [x/100. for x in range(101)]\n",
    "fy = [fitf(x,popt[0],popt[1],popt[2]) for x in fx]\n",
    "\n",
    "# chi2 calculation\n",
    "c2 = 0\n",
    "for x,y in zip(xx,yy):\n",
    "    c2 += ((y-fitf(x,popt[0],popt[1],popt[2]))/sigma)**2\n",
    "\n",
    "# plotting\n",
    "fig,ax = plt.subplots(figsize=(16, 8))\n",
    "ax.errorbar(xx, yy, yerr=[sigma]*nmeas, fmt='o')\n",
    "ax.plot(fx,fy)\n",
    "plt.show()\n",
    "\n",
    "# printing output\n",
    "print('Fit function: [0]-[1]*(x-[2])^2')\n",
    "print('Fit results:')\n",
    "for p in range(3):\n",
    "    print('Par. {0}: {1:.5f} +/- {2:.5f}'.format(p,popt[p],pcov[p][p]**0.5))\n",
    "print('The fit chi2 is {0:3.1f} for {1} measurements and 3 fit parameters, i.e. {2} degrees of freedom.'.format(c2,nmeas,nmeas-3))\n",
    "print('The corresponding probability is Prob({0:.1f},{1})={2:.5f}%.'.format(c2,nmeas-3,100*(1-chi2.cdf(c2,nmeas-3))))"
   ]
  },
  {
   "cell_type": "markdown",
   "metadata": {
    "slideshow": {
     "slide_type": "slide"
    }
   },
   "source": [
    "##### Example: fit to binned dataset\n",
    "\n",
    "In principle things are very similar for a binned dataset, i.e. when the fitted data are represented in a histogram. The main difference is that the number of degrees of freedom is no longer given by the number of elements in the dataset but rather by the number of bins of the histogram. The reduction by the number of fit parameters is unchanged.\n",
    "\n",
    "A second difference is the uncertainty used in the $\\chi^2$ calculation. This is no longer the uncertainty of the individual entries contributing to the histogram, but the uncertainty on the cumulative content of each bin. For a counting experiment with sufficiently many counts the uncertainty would be the square root of the number of counts in each bin.\n",
    "\n",
    "So let's have a look how this pans out in an example. We generate a dataset that is drawn from a normal distribution and fit this with a Gaussian function."
   ]
  },
  {
   "cell_type": "code",
   "execution_count": 8,
   "metadata": {
    "slideshow": {
     "slide_type": "slide"
    }
   },
   "outputs": [
    {
     "data": {
      "image/png": "[encoded data removed]",
      "text/plain": [
       "<Figure size 1152x576 with 1 Axes>"
      ]
     },
     "metadata": {
      "needs_background": "light"
     },
     "output_type": "display_data"
    },
    {
     "name": "stdout",
     "output_type": "stream",
     "text": [
      "Fit function: [0]/(sqrt(2pi)*[2])*exp(-0.5*(x-[1])^2/[2]^2)\n",
      "Fit results:\n",
      "Par. 0: 252.96239 +/- 6.78124\n",
      "Par. 1: 0.05227 +/- 0.03177\n",
      "Par. 2: 1.02726 +/- 0.03185\n",
      "The fit chi2 is 20.7 for 24 bins and 3 fit parameters,i.e. 21 degrees of freedom.\n",
      "The corresponding probability is Prob(20.7,21)=48.02226%.\n"
     ]
    }
   ],
   "source": [
    "def fitf(x,n,m,s):\n",
    "    return n/(2*pi)**0.5/s*exp(-(x-m)**2/2/s**2)\n",
    "\n",
    "# generate data\n",
    "dd = norm.rvs(size=1000)\n",
    "\n",
    "# plot data and store in histogram\n",
    "nbins = 24\n",
    "xmin = -3\n",
    "xmax = 3\n",
    "fig,ax = plt.subplots(1,1,figsize=(16, 8))\n",
    "hist,edges,patches = plt.hist(dd,bins=nbins,range=(xmin,xmax))\n",
    "binw = edges[1]-edges[0]\n",
    "bincentres = [x+0.5*binw for x in edges[:-1]]\n",
    "\n",
    "popt,pcov = curve_fit(fitf,bincentres,hist)\n",
    "\n",
    "# chi2 calculation\n",
    "c2 = 0\n",
    "for x,y in zip(bincentres,hist):\n",
    "    if 0 < y:\n",
    "        c2 += ((y-fitf(x,popt[0],popt[1],popt[2]))/y**0.5)**2\n",
    "\n",
    "# get values to plot\n",
    "fx = [xmin+(xmax-xmin)*x/100. for x in range(101)]\n",
    "fy = [fitf(x,popt[0],popt[1],popt[2]) for x in fx]\n",
    "ax.plot(fx,fy,lw=3)\n",
    "    \n",
    "plt.show()\n",
    "\n",
    "# print output\n",
    "print('Fit function: [0]/(sqrt(2pi)*[2])*exp(-0.5*(x-[1])^2/[2]^2)')\n",
    "print('Fit results:')\n",
    "for p in range(3):\n",
    "    print('Par. {0}: {1:.5f} +/- {2:.5f}'.format(p,popt[p],pcov[p][p]**0.5))\n",
    "print('The fit chi2 is {0:3.1f} for {1} bins and 3 fit parameters,i.e. {2} degrees of freedom.'.format(c2,nbins,nbins-3))\n",
    "print('The corresponding probability is Prob({0:.1f},{1})={2:.5f}%.'.format(c2,nbins-3,100*(1-chi2.cdf(c2,nbins-3))))\n"
   ]
  },
  {
   "cell_type": "markdown",
   "metadata": {
    "slideshow": {
     "slide_type": "slide"
    }
   },
   "source": [
    "As we know the expected shape we can also fix the parameters of the function and test the agreement of this with the data. In this case the number of degrees of freedom is not reduced by the number of parameters."
   ]
  },
  {
   "cell_type": "code",
   "execution_count": 9,
   "metadata": {
    "slideshow": {
     "slide_type": "fragment"
    }
   },
   "outputs": [
    {
     "name": "stdout",
     "output_type": "stream",
     "text": [
      "The fit chi2 is 18.0 for 24 bins,i.e. 24 degrees of freedom.\n",
      "The corresponding probability is Prob(18.0,24)=80.52836%.\n"
     ]
    }
   ],
   "source": [
    "# chi2 calculation\n",
    "c2 = 0\n",
    "for x,y in zip(bincentres,hist):\n",
    "    if 0 < y:\n",
    "        c2 += ((y-fitf(x,250,0,1))/y**0.5)**2\n",
    "\n",
    "# print output\n",
    "print('The fit chi2 is {0:3.1f} for {1} bins,i.e. {1} degrees of freedom.'.format(c2,nbins))\n",
    "print('The corresponding probability is Prob({0:.1f},{1})={2:.5f}%.'.format(c2,nbins,100*(1-chi2.cdf(c2,nbins))))"
   ]
  },
  {
   "cell_type": "markdown",
   "metadata": {},
   "source": [
    "$~$\n",
    "\n",
    "$~$\n",
    "\n",
    "$~$\n",
    "\n",
    "$~$\n",
    "\n",
    "$~$\n",
    "\n",
    "$~$\n",
    "\n",
    "$~$\n",
    "\n",
    "$~$\n",
    "\n",
    "$~$\n",
    "\n",
    "$~$\n",
    "\n",
    "$~$\n",
    "\n",
    "$~$\n",
    "\n"
   ]
  },
  {
   "cell_type": "markdown",
   "metadata": {
    "slideshow": {
     "slide_type": "slide"
    }
   },
   "source": [
    "#### 7.2.3 Rescaling $\\chi^2$ distributions\n",
    "\n",
    "[SECTION 7.2.3 WILL NOT BE COVERED IN THE LECTURE AND IS NOT EXAMINABLE]\n",
    "\n",
    "As we have seen, the distribution of $\\chi^2/N$ has a mean of roughly 1, independent of $N$. In some cases when several measurements are being combined to extract their average or a more complicated derived result one can be confronted with the situation that the measurements do not agree particularly well according to a $\\chi^2$ test. \n",
    "\n",
    "The plot below shows several measurements of the $K^\\pm$ meson mass in units of ${\\rm MeV}/c^2$. It is apparent that they do not agree perfectly. The grey band indicates the world average extracted from these measurements.\n",
    "\n",
    "<img src=\"images/Kplus_mass_reduced.png\" width=60%>\n",
    "Source: <a href=\"http://pdglive.lbl.gov/DataBlock.action?node=S010M&init=0\">C. Patrigiani et al. (Particle Data Group), 2017 Review of Particle Physics, Chin. Phys. C, 40 (2016) 100001 and 2017 update</a>"
   ]
  },
  {
   "cell_type": "markdown",
   "metadata": {
    "slideshow": {
     "slide_type": "slide"
    }
   },
   "source": [
    "If none of the input measurements can be dismissed and all uncertainties appear to have been assessed correctly, one is faced with two choices:\n",
    "- Either one performs the combination as planned and just notes the tension between the measurements without doing anything about it,\n",
    "- Or one inflates the uncertainty of the combination to account for the poor level of agreement of the inputs.\n",
    "\n",
    "In the latter case the question arises by how much to inflate the uncertainty. A commonly used approach in this case is to scale the input uncertainties by exactly the amount that is required to bring the reduced $\\chi^2$ to $\\chi^2/N=1$. This is achieved by the following scaling\n",
    "\n",
    "$$\\sigma^{\\rm scaled}=\\sqrt{\\chi^2/N}\\sigma^{\\rm measured}.$$\n",
    "\n",
    "This procedure relies on the two assumptions that:\n",
    "- the model is correct (this is particularly relevant when fitting a more complex model to the data to extract an underlying parameter rather than simply calculating a mean), and that\n",
    "- only the scaling of the data uncertainties is unknown (i.e. there is no other conceivable way of reconciling the measurements). \n",
    "\n",
    "It is worth noting that this scaling does not change the central value of the average."
   ]
  },
  {
   "cell_type": "markdown",
   "metadata": {
    "slideshow": {
     "slide_type": "slide"
    }
   },
   "source": [
    "The Particle Data Group (PDG) applies this scaling to their averages. They scrutinise all candidate input measurements and discard any that are deemed to be inappropriate for inclusion in the average. This can be simply because the measurement has been superseded by another one that is included or because it is considered to be of inferior quality for some reason.\n",
    "\n",
    "The application of this procedure to the $K^\\pm$ mass looks as follows. \n",
    "\n",
    "<img src=\"images/Kplus_mass.png\" width=80%>\n",
    "\n",
    "You may note that the scale factor of $2.4$ corresponds to $\\sqrt{22.4/4}$. This is because the PDG exclude measurements with too large uncertainties from the calculation of their scaling factors as they might affect the $\\chi^2$ significantly without actually having much impact on the average. In this case, this is the case for _Lum 81_ and so the number of degrees of freedom is $5-1=4$, where the reduction of $1$ is to account for the average that is a fit parameter."
   ]
  },
  {
   "cell_type": "markdown",
   "metadata": {},
   "source": [
    "$~$\n",
    "\n",
    "$~$\n",
    "\n",
    "$~$\n",
    "\n",
    "$~$\n",
    "\n",
    "$~$\n",
    "\n",
    "$~$\n",
    "\n",
    "$~$\n",
    "\n",
    "$~$\n",
    "\n",
    "$~$\n",
    "\n",
    "$~$\n",
    "\n",
    "$~$\n",
    "\n",
    "$~$\n",
    "\n"
   ]
  },
  {
   "cell_type": "markdown",
   "metadata": {},
   "source": [
    "### 7.3 Comparing fit models\n",
    "\n",
    "When fitting data, one is often faced with a choice of fit models. The most important criterion for selecting a specific model is its meaningfulness in terms of its physics interpretation. When this is not sufficient to identify a preferred model, it is helpful to apply statistical methods. This section describes two such methods, which are closely related.\n",
    "\n",
    "Both methods aim to describe the relative amount of information lost by fitting with a particular model. The information loss itself cannot be quantified without some knowledge of the true underlying distributions, which is used in the Kullback Leibler divergence, but that is beyond the scope of this course. The relative information loss allows the comparison of two or more models and to judge whether they are of comparable quality or whether one should be preferred on statistical grounds.\n",
    "\n",
    "Sources:\n",
    "- Behnke et al., Chapter 12.2.3.3\n",
    "- https://en.wikipedia.org/wiki/Akaike_information_criterion\n",
    "- https://en.wikipedia.org/wiki/Bayesian_information_criterion"
   ]
  },
  {
   "cell_type": "markdown",
   "metadata": {},
   "source": [
    "#### 7.3.1 Definitions\n",
    "\n",
    "##### The Akaike Information Criterion\n",
    "\n",
    "The Akaike Information Criterion (AIC), named after Hirotugu Akaike, is defined as\n",
    "\n",
    "$$AIC \\equiv -2\\ln {\\mathcal L}(x|\\hat{a},M) + 2k,$$\n",
    "\n",
    "where $\\hat{a}$ is the parameter set that maximises the likelihood for model $M$, which has $k$ parameters. In a least-squares fit with constant errors of the measurements, this contributes $1$ to the count of parameters."
   ]
  },
  {
   "cell_type": "markdown",
   "metadata": {},
   "source": [
    "##### The Bayesian Information Criterion\n",
    "\n",
    "The Bayesian Information Criterion (BIC), or Schwarz Information Criterion (SIC) named after Gideon E. Schwarz, is defined as\n",
    "\n",
    "$$BIC \\equiv -2\\ln {\\mathcal L}(x|\\hat{a},M) + k\\ln n,$$\n",
    "\n",
    "where $\\hat{a}$ is the parameter set that maximises the likelihood for model $M$, which has $k$ parameters and $n$ data points. The BIC is valid for data sets and models for which $n\\gg k$."
   ]
  },
  {
   "cell_type": "markdown",
   "metadata": {},
   "source": [
    "#### 7.3.2 Interpretation\n",
    "\n",
    "Both crtieria compare the maximum likelihood value to the complexity of the model. The difference lies in the penalty terms they apply. The AIC involves solely the number of model parameters, while the BIC penalty term is a combination of the number of parameters and the number of data points. The larger the data set, the larger the required change in maximum likelihood to favour a model according to the BIC.\n",
    "\n",
    "Only the BIC is guaranteed to identify the true model among a set of candidates, but in practice this may be of little relevance if it is unlikely that the true model can be identified. Both methods can serve as useful guides in choosing a model.\n",
    "\n",
    "In the case of a least-squares minimisation the two criteria can be written as\n",
    "\n",
    "$$AIC = \\chi^2 + 2k,$$\n",
    "\n",
    "and\n",
    "\n",
    "$$BIC = \\chi^2 + k\\ln n.$$\n",
    "\n",
    "The probability for a model $i$ minimising the information loss is proportional to\n",
    "\n",
    "$$e^{(AIC_{\\rm min} - AIC_i)/2},$$\n",
    "\n",
    "where $AIC_{\\rm min}$ is the result for the model with the lowest $AIC$ value and $AIC_i$ is the result for model $i$. A difference in $AIC$ values of $2$ corresponds to a probability of $0.37$, a difference of $5$ to $0.08$, and a difference of $10$ to $0.007$. The same holds for the BIC."
   ]
  },
  {
   "cell_type": "markdown",
   "metadata": {},
   "source": [
    "#### 7.3.3 Example\n",
    "\n",
    "The following example goes back to the $\\chi^2$ test above and examines the usefulness of the parabola as a fit model compared to a constant."
   ]
  },
  {
   "cell_type": "code",
   "execution_count": 10,
   "metadata": {
    "slideshow": {
     "slide_type": "slide"
    }
   },
   "outputs": [
    {
     "data": {
      "image/png": "[encoded data removed]",
      "text/plain": [
       "<Figure size 1152x576 with 1 Axes>"
      ]
     },
     "metadata": {
      "needs_background": "light"
     },
     "output_type": "display_data"
    },
    {
     "name": "stdout",
     "output_type": "stream",
     "text": [
      "Parabola: chi2 = 85.2, AIC = 93.2, BIC = 103.6.\n",
      "Constant: chi2 = 86.3, AIC = 90.3, BIC = 95.5.\n",
      "Delta AIC probability = 0.230, Delta BIC probability = 0.017.\n"
     ]
    }
   ],
   "source": [
    "def fitf_par(x,a,b,c):\n",
    "    # Par a: Minimum height\n",
    "    # Par b: Parabola width\n",
    "    # Par c: Minimum position\n",
    "    return a-b*(x-c)**2\n",
    "\n",
    "def fitf_const(x,a):\n",
    "    # Par a: Constant height\n",
    "    return a\n",
    "\n",
    "# measurement\n",
    "sigma = 0.1\n",
    "nmeas = 100\n",
    "xx = uniform.rvs(size=nmeas)\n",
    "yy = [1+x for x in norm.rvs(scale=sigma,size=nmeas)]\n",
    "\n",
    "\n",
    "# fitting parabola\n",
    "poptp, pcovp = curve_fit(fitf_par, xx, yy)\n",
    "\n",
    "# get values to plot\n",
    "fx = [x/100. for x in range(101)]\n",
    "fyp = [fitf_par(x,poptp[0],poptp[1],poptp[2]) for x in fx]\n",
    "\n",
    "# chi2 calculation parabola\n",
    "c2p = 0\n",
    "for x,y in zip(xx,yy):\n",
    "    c2p += ((y-fitf_par(x,poptp[0],poptp[1],poptp[2]))/sigma)**2\n",
    "aicp = c2p + 2*4\n",
    "bicp = c2p + 4*np.log(nmeas)\n",
    "    \n",
    "# fitting constant\n",
    "poptc, pcovc = curve_fit(fitf_const, xx, yy)\n",
    "\n",
    "# get values to plot\n",
    "fyc = [fitf_const(x,poptc[0]) for x in fx]\n",
    "\n",
    "# chi2 calculation contant\n",
    "c2c = 0\n",
    "for x,y in zip(xx,yy):\n",
    "    c2c += ((y-fitf_const(x,poptc[0]))/sigma)**2\n",
    "aicc = c2c + 2*2\n",
    "bicc = c2c + 2*np.log(nmeas)\n",
    "\n",
    "   \n",
    "    \n",
    "# plotting\n",
    "fig,ax = plt.subplots(figsize=(16, 8))\n",
    "ax.errorbar(xx, yy, yerr=[sigma]*nmeas, fmt='o')\n",
    "ax.plot(fx,fyp)\n",
    "ax.plot(fx,fyc)\n",
    "plt.show()\n",
    "\n",
    "# printing output\n",
    "print('Parabola: chi2 = {0:3.1f}, AIC = {1:3.1f}, BIC = {2:3.1f}.'.format(c2p,aicp,bicp))\n",
    "print('Constant: chi2 = {0:3.1f}, AIC = {1:3.1f}, BIC = {2:3.1f}.'.format(c2c,aicc,bicc))\n",
    "print('Delta AIC probability = {0:1.3f}, Delta BIC probability = {1:1.3f}.'.format(exp(-0.5*(np.abs(aicc-aicp))),exp(-0.5*(np.abs(bicc-bicp)))))"
   ]
  },
  {
   "cell_type": "markdown",
   "metadata": {},
   "source": [
    "$~$\n",
    "\n",
    "$~$\n",
    "\n",
    "$~$\n",
    "\n",
    "$~$\n",
    "\n",
    "$~$\n",
    "\n",
    "$~$\n",
    "\n",
    "$~$\n",
    "\n",
    "$~$\n",
    "\n",
    "$~$\n",
    "\n",
    "$~$\n",
    "\n",
    "$~$\n",
    "\n",
    "$~$\n",
    "\n"
   ]
  },
  {
   "cell_type": "markdown",
   "metadata": {
    "slideshow": {
     "slide_type": "slide"
    }
   },
   "source": [
    "### 7.4 Two-sample problem\n",
    "\n",
    "We often encounter situations where, rather than comparing a dataset to a fit curve, we need to compare two datasets. The questions asked can vary, from the comparison of a single parameter describing an aspect of their shape, e.g. mean or width, to a general comparison of whether two distributions agree with being drawn from a single parent distribution. "
   ]
  },
  {
   "cell_type": "markdown",
   "metadata": {
    "slideshow": {
     "slide_type": "slide"
    }
   },
   "source": [
    "#### 7.4.1 Comparing samples with known $\\sigma$\n",
    "\n",
    "One encounters quite frequently the scenario that two measurement outcomes have to be compared and checked whether they are compatible with each other. Let us assume here that the uncertainty of the measurements is known. \n",
    "\n",
    "You measure results $x_1$ and $x_2$ and want to compare whether they are compatible. Their resolutions are $\\sigma_1$ and $\\sigma_2$.\n",
    "\n",
    "This is equivalent to testing whether their difference, \n",
    "\n",
    "$$x_1-x_2,$$ \n",
    "\n",
    "is compatible with zero.\n",
    "\n",
    "The variance of the difference is\n",
    "\n",
    "$$V_{12} = \\sigma_1^2 + \\sigma_2^2,$$\n",
    "\n",
    "so essetially we want to compare the difference, $x_1-x_2$, to the combined uncertainty $\\sigma_{12} = \\sqrt{V_{12}}$."
   ]
  },
  {
   "cell_type": "markdown",
   "metadata": {
    "slideshow": {
     "slide_type": "slide"
    }
   },
   "source": [
    "#### Example 1: Two measurements with different known resolution\n",
    "\n",
    "Suppose you conduct a lab experiment in pairs and you and your partner apply different methods to measure the same quantity.\n",
    "\n",
    "As an example, let's assume you measure the height of a building. One method is a free-fall experiment where you drop a stone down the side of the building (with all necessary safety precautions) and measure the time it takes to reach the bottom. The second method is triangulation from a point nearby.\n",
    "\n",
    "The first method yields a height of $(25.4\\pm0.4)$m, and the second $(24.0\\pm0.3)$m.\n",
    "\n",
    "The difference of the measurements is $1.4$m and the combined uncertainty is $0.5$m, so the discrepancy is at the level of $2.8$ standard deviations. This corresponds to a confidence level of $99.49\\%$ (see e.g. Barlow Table 3.2 or the calculation below)."
   ]
  },
  {
   "cell_type": "code",
   "execution_count": 11,
   "metadata": {
    "slideshow": {
     "slide_type": "-"
    }
   },
   "outputs": [
    {
     "name": "stdout",
     "output_type": "stream",
     "text": [
      "99.49%\n"
     ]
    }
   ],
   "source": [
    "# norm.cdf(sigma) returns the integral of a normal distribution from -infinity to sigma\n",
    "# here we want the integral from -sigma to +sigma\n",
    "print(\"{0:.2f}%\".format( 100 * ( 1 - ( 1 - norm.cdf(2.8) ) * 2 ) ) )"
   ]
  },
  {
   "cell_type": "markdown",
   "metadata": {
    "slideshow": {
     "slide_type": "slide"
    }
   },
   "source": [
    "### 7.5 Kolmogorov-Smirnov test and its application to the two-sample problem\n",
    "\n",
    "#### 7.5.1 The Kolmogorov-Smirnov test\n",
    "\n",
    "The Kolmogorov-Smirnov (KS) test is used for comparing a distribution of data events to a given distribution. This distribution needs to be fully defined rather than fitted to the data as the KS test has no means of taking into account the reduction in the number of degrees of freedom.\n",
    "\n",
    "The KS test is based on constructing cumulative distributions both of your data, ${\\rm cum}(x)$, and of the function to be compared to the data, ${\\rm cum}(P)$,. Both should be normalised such that the cumulative distributions go from 0 to 1. You then need to find the largest difference between the two cumulative distributions, i.e.\n",
    "\n",
    "$$D=max|{\\rm cum}(x)-{\\rm cum}(P)|.$$\n",
    "\n",
    "Finally, we need to account for the sample size as this drives the agreement of the two distributions. Hence, we scale $D$ and introduce\n",
    "\n",
    "$$d = D \\sqrt{N}.$$\n",
    "\n",
    "The value of $d$ then needs to be compared to a table of critical values, $c$, to determine the level, $\\alpha$, beyond which the statement that both distributions are compatible is rejected, i.e. you require $d<c(\\alpha)$.\n",
    "\n",
    "| &nbsp; &nbsp; &nbsp; &nbsp; &nbsp; &nbsp; $c(\\alpha)$ | &nbsp; $\\alpha$ &nbsp; |\n",
    "|------|------|\n",
    "| 1.63 | 0.01 |\n",
    "| 1.36 | 0.05 |\n",
    "| 1.22 | 0.10 |\n",
    "| 1.07 | 0.20 |"
   ]
  },
  {
   "cell_type": "markdown",
   "metadata": {
    "slideshow": {
     "slide_type": "slide"
    }
   },
   "source": [
    "##### Example\n",
    "\n",
    "We can now apply this to a dataset. Let's choose 20 $x$ values according to a uniform distribution, similar to those used in the example above. They should be drawn from a uniform distribution between 0 and 1, so the cumulative distribution, ${\\rm cum}(P)$, is a straight line. The cumulative distribution of the data, ${\\rm cum}(x)$, is a step function that increases by $1/N$ at the position of each data point, where $N$ is the total number of data points in the set."
   ]
  },
  {
   "cell_type": "code",
   "execution_count": 12,
   "metadata": {
    "slideshow": {
     "slide_type": "slide"
    }
   },
   "outputs": [
    {
     "data": {
      "image/png": "[encoded data removed]",
      "text/plain": [
       "<Figure size 1152x576 with 3 Axes>"
      ]
     },
     "metadata": {
      "needs_background": "light"
     },
     "output_type": "display_data"
    },
    {
     "name": "stdout",
     "output_type": "stream",
     "text": [
      "The KS test output for 20 entries is D=0.155 and d=0.693.\n"
     ]
    }
   ],
   "source": [
    "# x axis points for plotting and evaluation of the difference\n",
    "xKS = [x/1000. for x in range(1001)]\n",
    "\n",
    "# cum(P), in this case the same as x\n",
    "fKS = xKS\n",
    "\n",
    "# sort the data and build cumulative distribution on the set of x axis points\n",
    "nmeas=20\n",
    "xx = uniform.rvs(size=nmeas)\n",
    "xx.sort()\n",
    "inc = 1./len(xx)\n",
    "cumX = 0\n",
    "n = 0\n",
    "cKS = []\n",
    "for x in xx:\n",
    "    while x > xKS[n]:\n",
    "        cKS.append(cumX)\n",
    "        n+=1\n",
    "    cumX += inc\n",
    "for nn in range(1001-len(cKS)):\n",
    "    cKS.append(cumX)\n",
    "\n",
    "# calculate difference dataset, the maximum of which is the KS test statistic\n",
    "dKS = [abs(x-y) for x,y in zip(fKS,cKS)]\n",
    "\n",
    "# plotting\n",
    "fig,ax = plt.subplots(3,1,figsize=(16, 8))\n",
    "ax[0].plot(xx, [1]*len(xx), 'P')\n",
    "ax[1].plot(xKS,fKS)\n",
    "ax[1].plot(xKS,cKS)\n",
    "ax[2].plot(xKS,dKS)\n",
    "ax[0].set_xlim(ax[1].get_xlim())\n",
    "plt.show()\n",
    "\n",
    "# print output\n",
    "print('The KS test output for {0} entries is D={1:.3f} and d={2:.3f}.'.format(len(xx),max(dKS),max(dKS)*len(xx)**0.5))"
   ]
  },
  {
   "cell_type": "markdown",
   "metadata": {
    "slideshow": {
     "slide_type": "slide"
    }
   },
   "source": [
    "#### 7.5.2 The Kolmogorov-Smirnov test with two samples\n",
    "\n",
    "The KS test can also be applied to the two-sample problem. Instead of comparing a distribution of discrete events with a continuous distribution one can also compare two discrete distributions.\n",
    "\n",
    "In this case one creates two staircase-like cumulative distributions, ${\\rm cum}(x)$ and ${\\rm cum}(y)$, that cover the two samples of $N_x$ and $N_y$ events. Once more, we need to find the largest difference between these distributions, \n",
    "\n",
    "$$D={\\rm max}|{\\rm cum}(x)-{\\rm cum}(y)|.$$\n",
    "\n",
    "In this case, the appropriate scaling is achieved by\n",
    "\n",
    "$$d=\\sqrt{\\frac{N_xN_y}{N_x+N_y}}D.$$\n",
    "\n",
    "The critical values are the same as those given before and are repeated here for convenience.\n",
    "\n",
    "\n",
    "| &nbsp; &nbsp; &nbsp; &nbsp; &nbsp; &nbsp; $c(\\alpha)$ | &nbsp; $\\alpha$ &nbsp; |\n",
    "|-----|-----|\n",
    "|  1.63 | 0.01 |\n",
    "|  1.36 | 0.05 |\n",
    "|  1.22 | 0.10 |\n",
    "|  1.07 | 0.20 |\n",
    "\n",
    "The following example compares two distributions that are drawn from a Gaussian distribution with $\\mu=0.5$, $\\sigma=0.1$, and $N_x=20$, $N_y=300$."
   ]
  },
  {
   "cell_type": "code",
   "execution_count": 13,
   "metadata": {
    "slideshow": {
     "slide_type": "slide"
    }
   },
   "outputs": [
    {
     "data": {
      "image/png": "[encoded data removed]",
      "text/plain": [
       "<Figure size 1152x576 with 3 Axes>"
      ]
     },
     "metadata": {
      "needs_background": "light"
     },
     "output_type": "display_data"
    },
    {
     "name": "stdout",
     "output_type": "stream",
     "text": [
      "The KS test output for 20 and 300 entries is D=0.253 and d=1.097.\n"
     ]
    }
   ],
   "source": [
    "# measurement\n",
    "mu = 0.5\n",
    "sigma = 0.1\n",
    "nmeas = 20\n",
    "offset = 0.0\n",
    "xx1 = norm.rvs(loc = mu+offset, scale = sigma, size=nmeas)\n",
    "xx2 = norm.rvs(loc = mu, scale = sigma, size=nmeas*15)\n",
    "yy1 = [1]*(nmeas)\n",
    "yy2 = [2]*(nmeas*15)\n",
    "\n",
    "# x axis points for plotting and evaluation of the difference\n",
    "nSamples = 10000\n",
    "xKS = [1.*x/nSamples for x in range(nSamples+1)]\n",
    "\n",
    "def getCumX(xx,xKS):\n",
    "    # sort the data and build cumulative distribution on the set of x axis points\n",
    "    xx.sort()\n",
    "    inc = 1./len(xx)\n",
    "    cumX = 0\n",
    "    n = 0\n",
    "    cKS = []\n",
    "    for x in xx:\n",
    "        while x > xKS[n]:\n",
    "            #print(n,cumX)\n",
    "            cKS.append(cumX)\n",
    "            n+=1\n",
    "        cumX += inc\n",
    "    for nn in range(nSamples+1-len(cKS)):\n",
    "        cKS.append(cumX)\n",
    "    return cKS\n",
    "\n",
    "cKS1 = getCumX(xx1,xKS)\n",
    "cKS2 = getCumX(xx2,xKS)\n",
    "\n",
    "# calculate difference dataset, the maximum of which is the KS test statistic\n",
    "dKS = [abs(x-y) for x,y in zip(cKS1,cKS2)]\n",
    "\n",
    "# plotting\n",
    "fig,ax = plt.subplots(3,1,figsize=(16, 8))\n",
    "ax[0].plot(xx1, yy1, '+')\n",
    "ax[0].plot(xx2, yy2, '+')\n",
    "ax[1].plot(xKS,cKS1)\n",
    "ax[1].plot(xKS,cKS2)\n",
    "ax[2].plot(xKS,dKS)\n",
    "ax[0].set_xlim(ax[1].get_xlim())\n",
    "ax[0].set_yticks([])\n",
    "ax[1].set_ylabel('Cumulative')\n",
    "ax[2].set_ylabel('Difference')\n",
    "y,x=max(zip(dKS,xKS))\n",
    "ax[2].plot(x,y, 'o')\n",
    "\n",
    "plt.show()\n",
    "\n",
    "# print output\n",
    "n1 = len(xx1)\n",
    "n2 = len(xx2)\n",
    "print('The KS test output for {0} and {1} entries is D={2:.3f} and d={3:.3f}.'.format(n1,n2,max(dKS),max(dKS)*(n1*n2/(n1+n2))**0.5))"
   ]
  },
  {
   "cell_type": "markdown",
   "metadata": {},
   "source": [
    "<div class=\"well\" align=\"center\">\n",
    "    <div class=\"container-fluid\">\n",
    "        <div class=\"row\">\n",
    "            <div class=\"col-md-3\" align=\"center\">\n",
    "                <img align=\"center\" alt=\"Creative Commons License\" style=\"border-width:0\" src=\"https://i.creativecommons.org/l/by-nc-sa/4.0/88x31.png\" width=\"60%\">\n",
    "            </div>\n",
    "            <div class=\"col-md-8\">\n",
    "            This work is licensed under a <a href=\"http://creativecommons.org/licenses/by-nc-sa/4.0/\">Creative Commons Attribution-NonCommercial-ShareAlike 4.0 International License</a>).\n",
    "            </div>\n",
    "        </div>\n",
    "    </div>\n",
    "    <br>\n",
    "    <br>\n",
    "    <i>Note: The content of this Jupyter Notebook is provided for educational purposes only.</i>\n",
    "</div>"
   ]
  }
 ],
 "metadata": {
  "kernelspec": {
   "display_name": "Python 3",
   "language": "python",
   "name": "python3"
  },
  "language_info": {
   "codemirror_mode": {
    "name": "ipython",
    "version": 3
   },
   "file_extension": ".py",
   "mimetype": "text/x-python",
   "name": "python",
   "nbconvert_exporter": "python",
   "pygments_lexer": "ipython3",
   "version": "3.8.5"
  }
 },
 "nbformat": 4,
 "nbformat_minor": 4
}
