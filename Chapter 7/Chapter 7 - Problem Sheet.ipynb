{
 "cells": [
  {
   "cell_type": "code",
   "execution_count": 4,
   "metadata": {},
   "outputs": [
    {
     "data": {
      "text/html": [
       "<style>.container { width:95% !important; }</style>"
      ],
      "text/plain": [
       "<IPython.core.display.HTML object>"
      ]
     },
     "metadata": {},
     "output_type": "display_data"
    },
    {
     "data": {
      "text/html": [
       "custom.css"
      ],
      "text/plain": [
       "<IPython.core.display.HTML object>"
      ]
     },
     "execution_count": 4,
     "metadata": {},
     "output_type": "execute_result"
    }
   ],
   "source": [
    "## Import required Python modules\n",
    "%matplotlib inline\n",
    "import matplotlib.pyplot as plt\n",
    "import numpy as np\n",
    "import scipy, scipy.stats\n",
    "import io\n",
    "import base64\n",
    "#from IPython.core.display import display\n",
    "from IPython.display import display, HTML, Image\n",
    "from urllib.request import urlopen\n",
    "\n",
    "try:\n",
    "    import astropy as apy\n",
    "    import astropy.table\n",
    "    _apy = True\n",
    "    #print('Loaded astropy')\n",
    "except:\n",
    "    _apy = False\n",
    "    #print('Could not load astropy')\n",
    "\n",
    "## Customising the font size of figures\n",
    "plt.rcParams.update({'font.size': 14})\n",
    "\n",
    "## Customising the look of the notebook\n",
    "display(HTML(\"<style>.container { width:95% !important; }</style>\"))\n",
    "## This custom file is adapted from https://github.com/lmarti/jupyter_custom/blob/master/custom.include\n",
    "HTML('custom.css')\n",
    "#HTML(urlopen('https://raw.githubusercontent.com/bretonr/intro_data_science/master/custom.css').read().decode('utf-8'))"
   ]
  },
  {
   "cell_type": "code",
   "execution_count": 5,
   "metadata": {},
   "outputs": [],
   "source": [
    "## Custom imports\n",
    "from scipy.stats import binom, poisson, chi2, norm, uniform\n",
    "from scipy.optimize import curve_fit\n",
    "from math import ceil, pi\n",
    "from numpy import exp\n",
    "from matplotlib.collections import PatchCollection\n",
    "from matplotlib.patches import Circle, Rectangle\n",
    "from matplotlib.colors import makeMappingArray"
   ]
  },
  {
   "cell_type": "code",
   "execution_count": 16,
   "metadata": {
    "scrolled": true
   },
   "outputs": [
    {
     "data": {
      "text/html": [
       "<script>\n",
       "code_show=true;\n",
       "function code_toggle() {\n",
       " if (code_show){\n",
       " $('div.input').hide();\n",
       " } else {\n",
       " $('div.input').show();\n",
       " }\n",
       " code_show = !code_show\n",
       "} \n",
       "$( document ).ready(code_toggle);\n",
       "</script>\n",
       "<form action=\"javascript:code_toggle()\"><input type=\"submit\" value=\"Click here to toggle on/off the Python code.\"></form>"
      ],
      "text/plain": [
       "<IPython.core.display.HTML object>"
      ]
     },
     "execution_count": 16,
     "metadata": {},
     "output_type": "execute_result"
    }
   ],
   "source": [
    "## Adding a button to hide the Python source code\n",
    "HTML('''<script>\n",
    "code_show=true;\n",
    "function code_toggle() {\n",
    " if (code_show){\n",
    " $('div.input').hide();\n",
    " } else {\n",
    " $('div.input').show();\n",
    " }\n",
    " code_show = !code_show\n",
    "} \n",
    "$( document ).ready(code_toggle);\n",
    "</script>\n",
    "<form action=\"javascript:code_toggle()\"><input type=\"submit\" value=\"Click here to toggle on/off the Python code.\"></form>''')"
   ]
  },
  {
   "cell_type": "markdown",
   "metadata": {},
   "source": [
    "<div class=\"container-fluid\">\n",
    "    <div class=\"row\">\n",
    "        <div class=\"col-md-8\" align=\"center\">\n",
    "            <h1>PHYS 10791: Introduction to Data Science</h1>\n",
    "            <!--<h3>2019-2020 Academic Year</h3><br>-->\n",
    "        </div>\n",
    "        <div class=\"col-md-3\">\n",
    "            <img align='center' style=\"border-width:0\" src=\"images/UoM_logo.png\"/>\n",
    "        </div>\n",
    "    </div>\n",
    "</div>\n",
    "\n",
    "<div class=\"container-fluid\">\n",
    "    <div class=\"row\">\n",
    "        <div class=\"col-md-2\" align=\"right\">\n",
    "            <b>Course instructors:&nbsp;&nbsp;</b>\n",
    "        </div>\n",
    "        <div class=\"col-md-9\" align=\"left\">\n",
    "            <a href=\"http://www.renebreton.org\">Prof. Rene Breton</a> - Twitter <a href=\"https://twitter.com/BretonRene\">@BretonRene</a><br>\n",
    "            <a href=\"http://www.hep.manchester.ac.uk/u/gersabec\">Dr. Marco Gersabeck</a> - Twitter <a href=\"https://twitter.com/MarcoGersabeck\">@MarcoGersabeck</a>\n",
    "        </div>\n",
    "    </div>\n",
    "</div>"
   ]
  },
  {
   "cell_type": "markdown",
   "metadata": {},
   "source": [
    "# Chapter 7 - Problem Sheet"
   ]
  },
  {
   "cell_type": "markdown",
   "metadata": {},
   "source": [
    "### Problem 1: $\\chi^2$ test\n",
    "\n",
    "Tables to help with this problem are given below.\n",
    "\n",
    "#### Problem 1.1:\n",
    "You conduct a series $\\chi^2$ tests resulting in $\\chi^2$ values of 34, 37, and 40 for 25 degrees of freedom. Which of these results would you accept when checking against a probability of at least $5\\%$ to exceed the $\\chi^2$ value in question?\n",
    "\n",
    "#### Problem 1.2:\n",
    "You are conducting 50 experiments involving one $\\chi^2$ test each. \n",
    "- If you conducted these tests with a $5\\%$ probability as used in the previous problem, how many experiments would you expect to fail due to random fluctuations?\n",
    "- What would a reasonable probability be for your $\\chi^2$ tests to avoid random rejections of your experiments?\n",
    "- If your experiments have 50 degrees of freedom, what would the largest acceptable $\\chi^2$ value be?"
   ]
  },
  {
   "cell_type": "code",
   "execution_count": 37,
   "metadata": {},
   "outputs": [
    {
     "name": "stdout",
     "output_type": "stream",
     "text": [
      "This table gives probabilities for exceeding the chi2/NDF value at the top of the column for the NDF at the beginning of the row.\n",
      "N \\ chi2/N [ 1.    1.02  1.05  1.1   1.25  1.5   1.75  2.    3.    5.    7.5  10.  ]\n",
      "         1 [0.317 0.313 0.306 0.294 0.264 0.221 0.186 0.157 0.083 0.025 0.006 0.002]\n",
      "         2 [0.368 0.361 0.35  0.333 0.287 0.223 0.174 0.135 0.05  0.007 0.001 0.   ]\n",
      "         3 [0.392 0.382 0.369 0.348 0.29  0.212 0.154 0.112 0.029 0.002 0.    0.   ]\n",
      "         4 [0.406 0.395 0.38  0.355 0.287 0.199 0.136 0.092 0.017 0.    0.    0.   ]\n",
      "         5 [0.416 0.404 0.386 0.358 0.283 0.186 0.119 0.075 0.01  0.    0.    0.   ]\n",
      "         6 [0.423 0.41  0.39  0.359 0.277 0.174 0.105 0.062 0.006 0.    0.    0.   ]\n",
      "         7 [0.429 0.414 0.393 0.36  0.271 0.162 0.093 0.051 0.004 0.    0.    0.   ]\n",
      "         8 [0.433 0.418 0.395 0.359 0.265 0.151 0.082 0.042 0.002 0.    0.    0.   ]\n",
      "         9 [0.437 0.421 0.397 0.359 0.259 0.141 0.072 0.035 0.001 0.    0.    0.   ]\n",
      "        10 [0.44  0.423 0.398 0.358 0.253 0.132 0.064 0.029 0.001 0.    0.    0.   ]\n",
      "        15 [0.451 0.43  0.399 0.35  0.225 0.095 0.035 0.012 0.    0.    0.    0.   ]\n",
      "        20 [0.458 0.433 0.397 0.341 0.201 0.07  0.02  0.005 0.    0.    0.    0.   ]\n",
      "        25 [0.462 0.435 0.394 0.331 0.181 0.052 0.012 0.002 0.    0.    0.    0.   ]\n",
      "        30 [0.466 0.435 0.391 0.323 0.163 0.039 0.007 0.001 0.    0.    0.    0.   ]\n",
      "        40 [0.47  0.435 0.384 0.306 0.134 0.022 0.002 0.    0.    0.    0.    0.   ]\n",
      "        50 [0.473 0.434 0.377 0.291 0.11  0.013 0.001 0.    0.    0.    0.    0.   ]\n",
      "        75 [0.478 0.43  0.361 0.259 0.07  0.003 0.    0.    0.    0.    0.    0.   ]\n",
      "       100 [0.481 0.426 0.346 0.232 0.046 0.001 0.    0.    0.    0.    0.    0.   ]\n",
      "       150 [0.485 0.417 0.321 0.19  0.02  0.    0.    0.    0.    0.    0.    0.   ]\n",
      "       200 [0.487 0.408 0.3   0.158 0.009 0.    0.    0.    0.    0.    0.    0.   ]\n",
      "       300 [0.489 0.393 0.264 0.113 0.002 0.    0.    0.    0.    0.    0.    0.   ]\n",
      "       500 [0.492 0.369 0.212 0.06  0.    0.    0.    0.    0.    0.    0.    0.   ]\n",
      "       750 [0.493 0.344 0.166 0.029 0.    0.    0.    0.    0.    0.    0.    0.   ]\n",
      "      1000 [0.494 0.323 0.132 0.015 0.    0.    0.    0.    0.    0.    0.    0.   ]\n",
      "\n",
      "\n",
      "\n",
      "\n",
      "This table gives chi2/NDF values the integral to which from 0 corresponds to the probability at the top of the column for the NDF at the beginning of the row.\n",
      "N \\ prob [0.2   0.1   0.05  0.01  0.001]\n",
      "       1 [ 1.642  2.706  3.841  6.635 10.828]\n",
      "       2 [1.609 2.303 2.996 4.605 6.908]\n",
      "       3 [1.547 2.084 2.605 3.782 5.422]\n",
      "       4 [1.497 1.945 2.372 3.319 4.617]\n",
      "       5 [1.458 1.847 2.214 3.017 4.103]\n",
      "       6 [1.426 1.774 2.099 2.802 3.743]\n",
      "       7 [1.4   1.717 2.01  2.639 3.475]\n",
      "       8 [1.379 1.67  1.938 2.511 3.266]\n",
      "       9 [1.36  1.632 1.88  2.407 3.097]\n",
      "      10 [1.344 1.599 1.831 2.321 2.959]\n",
      "      15 [1.287 1.487 1.666 2.039 2.513]\n",
      "      20 [1.252 1.421 1.571 1.878 2.266]\n",
      "      25 [1.227 1.375 1.506 1.773 2.105]\n",
      "      30 [1.208 1.342 1.459 1.696 1.99 ]\n",
      "      40 [1.182 1.295 1.394 1.592 1.835]\n",
      "      50 [1.163 1.263 1.35  1.523 1.733]\n",
      "      75 [1.134 1.214 1.283 1.419 1.581]\n",
      "     100 [1.117 1.185 1.243 1.358 1.494]\n",
      "     150 [1.096 1.151 1.197 1.288 1.395]\n",
      "     200 [1.083 1.13  1.17  1.247 1.338]\n",
      "     300 [1.068 1.106 1.138 1.2   1.271]\n",
      "     500 [1.053 1.082 1.106 1.153 1.207]\n",
      "     750 [1.043 1.067 1.086 1.124 1.167]\n",
      "    1000 [1.037 1.058 1.075 1.107 1.144]\n"
     ]
    }
   ],
   "source": [
    "ndfs = np.array([1,2,3,4,5,6,7,8,9,10,15,20,25,30,40,50,75,100,150,200,300,500,750,1000])\n",
    "chi2Ns = np.array([1.0,1.02,1.05,1.1,1.25,1.5,1.75,2.0,3.0,5.0,7.5,10.0])\n",
    "\n",
    "np.set_printoptions(precision=2,suppress=True)\n",
    "print('This table gives probabilities for exceeding the chi2/NDF value at the top of the column for the NDF at the beginning of the row.')\n",
    "print('N \\ chi2/N',chi2Ns)\n",
    "\n",
    "np.set_printoptions(precision=3,suppress=True)\n",
    "for n in ndfs:\n",
    "    ps = []\n",
    "    for c in chi2Ns:\n",
    "        ps.append(1.-chi2.cdf(c*n, n))\n",
    "    ps = np.array(ps)\n",
    "    print('{0:10d}'.format(n),ps)\n",
    "    \n",
    "    \n",
    "ps = np.array([0.2,0.1,0.05,0.01,0.001])\n",
    "np.set_printoptions(precision=3,suppress=True)\n",
    "print('\\n\\n\\n')\n",
    "print('This table gives chi2/NDF values the integral to which from 0 corresponds to the probability at the top of the column for the NDF at the beginning of the row.')\n",
    "print('N \\ prob',ps)\n",
    "\n",
    "np.set_printoptions(precision=3,suppress=True)\n",
    "for n in ndfs:\n",
    "    cs = []\n",
    "    for p in ps:\n",
    "        cs.append(chi2.ppf(1.-p, n)/n)\n",
    "    cs = np.array(cs)\n",
    "    print('{0:8d}'.format(n),cs)"
   ]
  },
  {
   "cell_type": "markdown",
   "metadata": {},
   "source": [
    "### Problem 2: Comparing fit models\n",
    "\n",
    "Assess the following fit results according to both the Akaike and Bayesian Information Criteria. Determine the optimal model and judge which models would be acceptable at the $1\\%$ and $10\\%$ level.\n",
    "\n",
    "#### Problem 2.1\n",
    "\n",
    "You conduct a number of maximum likelihood fits to an unbinned dataset of 300 values, which have constant errors. The results are as follows:\n",
    "- A fit with a parabola returns a maximum log likelihood value of $\\ln{\\mathcal L}=-145$.\n",
    "- A fit with a constant returns a maximum log likelihood value of $\\ln{\\mathcal L}=-160$.\n",
    "- A fit with the sum of a Gaussian distribution and a linear function returns a maximum log likelihood value of $\\ln{\\mathcal L}=-144$.\n",
    "\n",
    "#### Problem 2.2\n",
    "\n",
    "You conduct a number of $\\chi^2$ fits to an unbinned dataset of 1000 values, which have constant errors. The results are as follows:\n",
    "- A fit with an exponential function returns a minimum $\\chi^2$ value of $\\chi^2=1050$.\n",
    "- A fit with the sum of an exponential function and a constant returns a minimum $\\chi^2$ value of $\\chi^2=980$.\n",
    "- A fit with a fourth-order polynommial returns a minimum $\\chi^2$ value of $\\chi^2=970$."
   ]
  },
  {
   "cell_type": "markdown",
   "metadata": {},
   "source": [
    "### Solution to Problem 2\n",
    "\n",
    "#### Solution to 2.1\n",
    "\n",
    "| Model &nbsp; | $-2\\ln{\\mathcal L}=\\chi^2$ | $k$ | $n$ | AIC | $\\exp((AIC_{\\rm min}-AIC_i)/2)$ | BIC | $\\exp((BIC_{\\rm min}-BIC_i)/2)$ |\n",
    "| :- | :- | :- | :- | :- | :- | :- | :- |\n",
    "| Parabola  | 290 | 4 | 300 | 298 | 1 | 318.8 | 1 |\n",
    "| Constant  | 320 | 2 | 300 | 324 | 0.000002 | 331.4 | 0.002 |\n",
    "| Gauss+lin | 288 | 6 | 300 | 300 | 0.37 | 322.2 | 0.18 |\n",
    "\n",
    "#### Solution to 2.2\n",
    "\n",
    "| Model &nbsp; | $-2\\ln{\\mathcal L}=\\chi^2$ | $k$ | $n$ | AIC | $\\exp((AIC_{\\rm min}-AIC_i)/2)$ | BIC | $\\exp((BIC_{\\rm min}-BIC_i)/2)$ |\n",
    "| :- | :- | :- | :- | :- | :- | :- | :- |\n",
    "| Exponential    | 1050 | 3 | 1000 | 1056 | $2\\times10^{-16}$ | 1070.7 | $2\\times10^{-14}$ |\n",
    "| Exp+const      |  980 | 4 | 1000 |  988 | 0.14 | 1007.6 | 1 |\n",
    "| 5th ord. poly. |  970 | 7 | 1000 |  984 | 1 | 1018.4 | 0.005 |"
   ]
  },
  {
   "cell_type": "markdown",
   "metadata": {
    "slideshow": {
     "slide_type": "slide"
    }
   },
   "source": [
    "### Problem 3: Two ensembles of measurements\n",
    "\n",
    "Assume that we have two ensembles with a known spread and we want to test the compatibility of their means. An example of this scenario is your exams, which should neither be too easy nor too hard.\n",
    "\n",
    "Let's assume one course has 310 students taking the exam and an average grade of $65.8\\%$. Another course has 55 students who achieve on average $72.3\\%$. Both distributions have a standard deviation of $8\\%$.\n",
    "\n",
    "Evaluate the statistical compatibility of the average grades. Discuss wheter this level of compatibility is acceptable. Are there any other aspects to be considered when making this comparison?"
   ]
  },
  {
   "cell_type": "markdown",
   "metadata": {},
   "source": [
    "### Solution to Problem 3\n",
    "\n",
    "The difference to assess is $6.5\\%$. \n",
    "\n",
    "The uncertainty on the mean of the first course is $8\\%/\\sqrt{310}=0.45\\%$ and for the second one it is $8\\%/\\sqrt{55}=1.08\\%$. Hence, the uncertainty on the difference is $1.17\\%$.\n",
    "\n",
    "The discrepancy is over 5 standard deviations and is therefore statistically significant.\n",
    "\n",
    "#### Additional information:\n",
    "\n",
    "However, also here **systematic uncertainties** apply. For example, the smaller course might have attracted students who, on average, tend to do better in exams. It is also not possible to set exams with the level of predictability suggested by the $1/\\sqrt{N}$ scaling of the large courses.\n",
    "\n",
    "Nevertheless, while the numbers here are made up, the rest of the discussion is definitely part of reality and exam outcomes are analysed very carefully and appropriate actions are taken where required."
   ]
  },
  {
   "cell_type": "markdown",
   "metadata": {},
   "source": [
    "### Problem 4: Kolmogorov-Smirnov test\n",
    "\n",
    "You are given the following test results for $D={\\rm max}|{\\rm cum}(x)-{\\rm cum}(y)|$ alongside the sample sizes involved. Where only one sample size is given, the test reflects a comparison of a sample with a function, otherwise it refers to a two-sample comparison.\n",
    "\n",
    "Evaluate whether you would accept or reject each sample at the $1\\%$, $5\\%$, and $10\\%$ level according to the table given in the lecture.\n",
    "\n",
    "| $D$ | $N_1$ | $N_2$ |\n",
    "| :- | -: | -: |\n",
    "|  0.256 | 30 | - |\n",
    "|  0.058 | 450 | - |\n",
    "|  0.249 | 30 | 300 |\n",
    "|  0.233 | 100 | 100 |\n",
    "|  0.066 | 1000 | 500 |"
   ]
  },
  {
   "cell_type": "markdown",
   "metadata": {},
   "source": [
    "### Solution to Problem 4\n",
    "\n",
    "Based on the fomula and table given in the lecture:\n",
    "\n",
    "$$d=\\sqrt{\\frac{N_xN_y}{N_x+N_y}}D.$$\n",
    "\n",
    "The critical values are:\n",
    "\n",
    "| &nbsp; $c(\\alpha)$ | $\\alpha$ |\n",
    "|-----|-----|\n",
    "|  1.63 | 0.01 |\n",
    "|  1.36 | 0.05 |\n",
    "|  1.22 | 0.10 |\n",
    "|  1.07 | 0.20 |\n",
    "\n",
    "we can evaluate the table as follows, where $\\checkmark$ implies accept and $\\times$ implies rejecting the result:\n",
    "\n",
    "| $D$ | $N_1$ | $N_2$ | $d$ | $\\alpha=0.10$ | $\\alpha=0.05$ | $\\alpha=0.01$ |\n",
    "| :- | -: | -: | :- | :-: | :-: | :-: |\n",
    "|  0.256 | 30 | - | 1.40 | $\\times$ | $\\times$ | $\\checkmark$ |\n",
    "|  0.058 | 450 | - | 1.23 | $\\times$ | $\\checkmark$ | $\\checkmark$ |\n",
    "|  0.249 | 30 | 300 | 1.30 | $\\times$ | $\\checkmark$ | $\\checkmark$ |\n",
    "|  0.233 | 100 | 100 | 1.65 | $\\times$ | $\\times$ | $\\times$ |\n",
    "|  0.066 | 1000 | 500 | 1.20 | $\\checkmark$ | $\\checkmark$ | $\\checkmark$ |"
   ]
  },
  {
   "cell_type": "markdown",
   "metadata": {},
   "source": [
    "<div class=\"well\" align=\"center\">\n",
    "    <div class=\"container-fluid\">\n",
    "        <div class=\"row\">\n",
    "            <div class=\"col-md-3\" align=\"center\">\n",
    "                <img align=\"center\" alt=\"Creative Commons License\" style=\"border-width:0\" src=\"https://i.creativecommons.org/l/by-nc-sa/4.0/88x31.png\" width=\"60%\">\n",
    "            </div>\n",
    "            <div class=\"col-md-8\">\n",
    "            This work is licensed under a <a href=\"http://creativecommons.org/licenses/by-nc-sa/4.0/\">Creative Commons Attribution-NonCommercial-ShareAlike 4.0 International License</a>).\n",
    "            </div>\n",
    "        </div>\n",
    "    </div>\n",
    "    <br>\n",
    "    <br>\n",
    "    <i>Note: The content of this Jupyter Notebook is provided for educational purposes only.</i>\n",
    "</div>"
   ]
  }
 ],
 "metadata": {
  "kernelspec": {
   "display_name": "Python 3",
   "language": "python",
   "name": "python3"
  },
  "language_info": {
   "codemirror_mode": {
    "name": "ipython",
    "version": 3
   },
   "file_extension": ".py",
   "mimetype": "text/x-python",
   "name": "python",
   "nbconvert_exporter": "python",
   "pygments_lexer": "ipython3",
   "version": "3.8.6"
  }
 },
 "nbformat": 4,
 "nbformat_minor": 4
}
