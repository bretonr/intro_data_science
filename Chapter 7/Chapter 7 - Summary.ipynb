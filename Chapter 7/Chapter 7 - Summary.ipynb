{
 "cells": [
  {
   "cell_type": "code",
   "execution_count": 1,
   "metadata": {},
   "outputs": [
    {
     "data": {
      "text/html": [
       "<style>.container { width:95% !important; }</style>"
      ],
      "text/plain": [
       "<IPython.core.display.HTML object>"
      ]
     },
     "metadata": {},
     "output_type": "display_data"
    },
    {
     "data": {
      "text/html": [
       "custom.css"
      ],
      "text/plain": [
       "<IPython.core.display.HTML object>"
      ]
     },
     "execution_count": 1,
     "metadata": {},
     "output_type": "execute_result"
    }
   ],
   "source": [
    "## Import required Python modules\n",
    "%matplotlib inline\n",
    "import matplotlib.pyplot as plt\n",
    "import numpy as np\n",
    "import scipy, scipy.stats\n",
    "import io\n",
    "import base64\n",
    "#from IPython.core.display import display\n",
    "from IPython.display import display, HTML, Image\n",
    "from urllib.request import urlopen\n",
    "\n",
    "try:\n",
    "    import astropy as apy\n",
    "    import astropy.table\n",
    "    _apy = True\n",
    "    #print('Loaded astropy')\n",
    "except:\n",
    "    _apy = False\n",
    "    #print('Could not load astropy')\n",
    "\n",
    "## Customising the font size of figures\n",
    "plt.rcParams.update({'font.size': 14})\n",
    "\n",
    "## Customising the look of the notebook\n",
    "display(HTML(\"<style>.container { width:95% !important; }</style>\"))\n",
    "## This custom file is adapted from https://github.com/lmarti/jupyter_custom/blob/master/custom.include\n",
    "HTML('custom.css')\n",
    "#HTML(urlopen('https://raw.githubusercontent.com/bretonr/intro_data_science/master/custom.css').read().decode('utf-8'))"
   ]
  },
  {
   "cell_type": "code",
   "execution_count": 2,
   "metadata": {},
   "outputs": [],
   "source": [
    "## Custom imports\n",
    "from scipy.stats import binom, poisson, chi2, norm, uniform\n",
    "from scipy.optimize import curve_fit\n",
    "from math import ceil, pi\n",
    "from numpy import exp\n",
    "from matplotlib.collections import PatchCollection\n",
    "from matplotlib.patches import Circle, Rectangle\n",
    "from matplotlib.colors import makeMappingArray"
   ]
  },
  {
   "cell_type": "code",
   "execution_count": 3,
   "metadata": {
    "scrolled": true
   },
   "outputs": [
    {
     "data": {
      "text/html": [
       "<script>\n",
       "code_show=true;\n",
       "function code_toggle() {\n",
       " if (code_show){\n",
       " $('div.input').hide();\n",
       " } else {\n",
       " $('div.input').show();\n",
       " }\n",
       " code_show = !code_show\n",
       "} \n",
       "$( document ).ready(code_toggle);\n",
       "</script>\n",
       "<form action=\"javascript:code_toggle()\"><input type=\"submit\" value=\"Click here to toggle on/off the Python code.\"></form>"
      ],
      "text/plain": [
       "<IPython.core.display.HTML object>"
      ]
     },
     "execution_count": 3,
     "metadata": {},
     "output_type": "execute_result"
    }
   ],
   "source": [
    "## Adding a button to hide the Python source code\n",
    "HTML('''<script>\n",
    "code_show=true;\n",
    "function code_toggle() {\n",
    " if (code_show){\n",
    " $('div.input').hide();\n",
    " } else {\n",
    " $('div.input').show();\n",
    " }\n",
    " code_show = !code_show\n",
    "} \n",
    "$( document ).ready(code_toggle);\n",
    "</script>\n",
    "<form action=\"javascript:code_toggle()\"><input type=\"submit\" value=\"Click here to toggle on/off the Python code.\"></form>''')"
   ]
  },
  {
   "cell_type": "markdown",
   "metadata": {},
   "source": [
    "<div class=\"container-fluid\">\n",
    "    <div class=\"row\">\n",
    "        <div class=\"col-md-9\" align=\"center\">\n",
    "            <h1>PHYS10791: Introduction to Data Science</h1>\n",
    "            <!--<h3>2019-2020 Academic Year</h3><br>-->\n",
    "        </div>\n",
    "        <div class=\"col-md-3\">\n",
    "            <img align='center' style=\"border-width:0\" src=\"images/UoM_logo.png\"/>\n",
    "        </div>\n",
    "    </div>\n",
    "</div>\n",
    "\n",
    "<div class=\"container-fluid\">\n",
    "    <div class=\"row\">\n",
    "        <div class=\"col-md-3\" align=\"right\">\n",
    "            <b>Course instructors:&nbsp;&nbsp;</b>\n",
    "        </div>\n",
    "        <div class=\"col-md-9\" align=\"left\">\n",
    "            <a href=\"http://www.renebreton.org\">Prof. Rene Breton</a> - Twitter <a href=\"https://twitter.com/BretonRene\">@BretonRene</a><br>\n",
    "            <a href=\"http://www.hep.manchester.ac.uk/u/gersabec\">Dr. Marco Gersabeck</a> - Twitter <a href=\"https://twitter.com/MarcoGersabeck\">@MarcoGersabeck</a>\n",
    "        </div>\n",
    "    </div>\n",
    "</div>"
   ]
  },
  {
   "cell_type": "markdown",
   "metadata": {},
   "source": [
    "# Chapter 7 - Summary Sheet"
   ]
  },
  {
   "cell_type": "markdown",
   "metadata": {},
   "source": [
    "## Topics\n",
    "\n",
    "**[7 Goodness of fit tests](#7-Goodness-of-fit-tests)**\n",
    "\n",
    "**[7.1 Introduction](#7.1-Introduction)**\n",
    "\n",
    "**[7.2 Chi-squared test](#7.2-Chi-squared-test)**\n",
    "- 7.2.1 General formulae\n",
    "- 7.2.2 Application\n",
    "- 7.2.3 Rescaling $\\chi^2$ distributions\n",
    "\n",
    "**[7.3 Comparing fit models](#7.3-Comparing-fit-models)**\n",
    "- 7.3.1 Definitions\n",
    "- 7.3.2 Interpretation\n",
    "- 7.3.3 Examples\n",
    "\n",
    "**[7.4 Two sample problem](#7.4-Two-sample-problem)**\n",
    "- 7.4.1 Comparing samples with known $\\sigma$\n",
    "\n",
    "**[7.5 Kolmogorov-Smirnov test and its application to the two-sample problem](#7.5-Kolmogorov-Smirnov-test-and-its-application-to-the-two-sample-problem)**\n",
    "- 7.5.1 The Kolmogorov-Smirnov test\n",
    "- 7.5.2 Kolmogorov-Smirnov test with two samples"
   ]
  },
  {
   "cell_type": "markdown",
   "metadata": {
    "slideshow": {
     "slide_type": "slide"
    }
   },
   "source": [
    "### 7.1 Introduction\n",
    "\n",
    "Goodness-of-fit tests assess and compare the quality of fits."
   ]
  },
  {
   "cell_type": "markdown",
   "metadata": {
    "slideshow": {
     "slide_type": "slide"
    }
   },
   "source": [
    "### 7.2 Chi-squared test\n",
    "\n",
    "#### 7.2.1 General formulae\n",
    "\n",
    "The formulae below are a recap from Chapter 5.\n",
    "\n",
    "Main formula to calculate $\\chi^2$:\n",
    "\n",
    "$$\\chi^2=\\sum_{i=1}^n\\frac{(y_i-f(x_i))^2}{\\sigma_i^2}.$$\n",
    "\n",
    "Main formula on which test is based:\n",
    "\n",
    "$${\\rm Prob}(\\chi^2;N)=\\int_{\\chi^2}^{\\infty}P(\\chi'^2;N)d\\chi'^2.$$\n",
    "\n",
    "Need to distinguish $n$ and $N$."
   ]
  },
  {
   "cell_type": "markdown",
   "metadata": {
    "slideshow": {
     "slide_type": "slide"
    }
   },
   "source": [
    "#### 7.2.2 Application\n",
    "\n",
    "Setting a threshold of $\\chi^2$ or $\\chi^2/N$ requires taking into account the corresponding probability.\n",
    "\n",
    "As a consequence, a unique $\\chi^2/N$ threshold for all $N$ does not make sense."
   ]
  },
  {
   "cell_type": "markdown",
   "metadata": {
    "slideshow": {
     "slide_type": "slide"
    }
   },
   "source": [
    "##### Example: fit to binned dataset\n",
    "\n",
    "When applying a $\\chi^2$ test to a binned data set, the number of measurements is the number of bins and the error is the error on the count rate within a bin, which in most cases is the Poisson error, i.e. the square root of the count rate."
   ]
  },
  {
   "cell_type": "markdown",
   "metadata": {
    "slideshow": {
     "slide_type": "slide"
    }
   },
   "source": [
    "#### 7.2.3 Rescaling $\\chi^2$ distributions\n",
    "\n",
    "[SECTION 7.2.3 WILL NOT BE COVERED IN THE LECTURE AND IS NOT EXAMINABLE]"
   ]
  },
  {
   "cell_type": "markdown",
   "metadata": {},
   "source": [
    "### 7.3 Comparing fit models\n",
    "\n",
    "The comparison of fit models discussed here is based on comparing the relative information loss of different models."
   ]
  },
  {
   "cell_type": "markdown",
   "metadata": {},
   "source": [
    "#### 7.3.1 Definitions\n",
    "\n",
    "##### The Akaike Information Criterion\n",
    "\n",
    "$$AIC \\equiv -2\\ln {\\mathcal L}(x|\\hat{a},M) + 2k,$$"
   ]
  },
  {
   "cell_type": "markdown",
   "metadata": {},
   "source": [
    "##### The Bayesian Information Criterion\n",
    "\n",
    "$$BIC \\equiv -2\\ln {\\mathcal L}(x|\\hat{a},M) + k\\ln n,$$"
   ]
  },
  {
   "cell_type": "markdown",
   "metadata": {},
   "source": [
    "#### 7.3.2 Interpretation\n",
    "\n",
    "In the case of a least-squares minimisation the two criteria can be written as\n",
    "\n",
    "$$AIC = \\chi^2 + 2k,$$\n",
    "\n",
    "and\n",
    "\n",
    "$$BIC = \\chi^2 + k\\ln n.$$\n",
    "\n",
    "The probability for a model $i$ minimising the information loss is proportional to\n",
    "\n",
    "$$e^{(AIC_{\\rm min} - AIC_i)/2}.$$"
   ]
  },
  {
   "cell_type": "markdown",
   "metadata": {
    "slideshow": {
     "slide_type": "slide"
    }
   },
   "source": [
    "### 7.4 Two-sample problem\n",
    "\n",
    "We often encounter situations where, rather than comparing a dataset to a fit curve, we need to compare two datasets. The questions asked can vary, from the comparison of a single parameter describing an aspect of their shape, e.g. mean or width, to a general comparison of whether two distributions agree with being drawn from a single parent distribution. "
   ]
  },
  {
   "cell_type": "markdown",
   "metadata": {
    "slideshow": {
     "slide_type": "slide"
    }
   },
   "source": [
    "#### 7.4.1 Comparing samples with known $\\sigma$\n",
    "\n",
    "$$x_1-x_2=0?$$ \n",
    "\n",
    "The variance of the difference is\n",
    "\n",
    "$$V_{12} = \\sigma_1^2 + \\sigma_2^2.$$\n",
    "\n",
    "Compare the difference, $x_1-x_2$, to the combined uncertainty $\\sigma_{12} = \\sqrt{V_{12}}$."
   ]
  },
  {
   "cell_type": "markdown",
   "metadata": {
    "slideshow": {
     "slide_type": "slide"
    }
   },
   "source": [
    "### 7.5 Kolmogorov-Smirnov test and its application to the two-sample problem\n",
    "\n",
    "#### 7.5.1 The Kolmogorov-Smirnov test\n",
    "\n",
    "The KS test is based on normalised cumulative distributions and evaluating their greatest difference.\n",
    "\n",
    "$$D=max|{\\rm cum}(x)-{\\rm cum}(P)|.$$\n",
    "\n",
    "This needs to be normalised for the sample size.\n",
    "\n",
    "$$d = D \\sqrt{N}.$$\n",
    "\n",
    "The value of $d$ then needs to be compared to a table of critical values, $c$, to determine the level, $\\alpha$, beyond which the statement that both distributions are compatible is rejected, i.e. you require $d<c(\\alpha)$. (The tabulated values for $c(\\alpha)$ do not need to be learned by heart)"
   ]
  },
  {
   "cell_type": "markdown",
   "metadata": {
    "slideshow": {
     "slide_type": "slide"
    }
   },
   "source": [
    "#### 7.5.2 The Kolmogorov-Smirnov test with two samples\n",
    "\n",
    "For a two-sample test the formula becomes\n",
    "\n",
    "$$D={\\rm max}|{\\rm cum}(x)-{\\rm cum}(y)|,$$\n",
    "\n",
    "with the normalisation\n",
    "\n",
    "$$d=\\sqrt{\\frac{N_xN_y}{N_x+N_y}}D.$$"
   ]
  },
  {
   "cell_type": "markdown",
   "metadata": {},
   "source": [
    "<div class=\"well\" align=\"center\">\n",
    "    <div class=\"container-fluid\">\n",
    "        <div class=\"row\">\n",
    "            <div class=\"col-md-3\" align=\"center\">\n",
    "                <img align=\"center\" alt=\"Creative Commons License\" style=\"border-width:0\" src=\"https://i.creativecommons.org/l/by-nc-sa/4.0/88x31.png\" width=\"60%\">\n",
    "            </div>\n",
    "            <div class=\"col-md-8\">\n",
    "            This work is licensed under a <a href=\"http://creativecommons.org/licenses/by-nc-sa/4.0/\">Creative Commons Attribution-NonCommercial-ShareAlike 4.0 International License</a>).\n",
    "            </div>\n",
    "        </div>\n",
    "    </div>\n",
    "    <br>\n",
    "    <br>\n",
    "    <i>Note: The content of this Jupyter Notebook is provided for educational purposes only.</i>\n",
    "</div>"
   ]
  }
 ],
 "metadata": {
  "kernelspec": {
   "display_name": "Python 3",
   "language": "python",
   "name": "python3"
  },
  "language_info": {
   "codemirror_mode": {
    "name": "ipython",
    "version": 3
   },
   "file_extension": ".py",
   "mimetype": "text/x-python",
   "name": "python",
   "nbconvert_exporter": "python",
   "pygments_lexer": "ipython3",
   "version": "3.8.6"
  }
 },
 "nbformat": 4,
 "nbformat_minor": 4
}
