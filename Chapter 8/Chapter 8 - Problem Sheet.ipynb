{
 "cells": [
  {
   "cell_type": "code",
   "execution_count": 1,
   "metadata": {
    "scrolled": true
   },
   "outputs": [
    {
     "data": {
      "text/html": [
       "<style>.container { width:95% !important; }</style>"
      ],
      "text/plain": [
       "<IPython.core.display.HTML object>"
      ]
     },
     "metadata": {},
     "output_type": "display_data"
    },
    {
     "data": {
      "text/html": [
       "custom.css"
      ],
      "text/plain": [
       "<IPython.core.display.HTML object>"
      ]
     },
     "execution_count": 1,
     "metadata": {},
     "output_type": "execute_result"
    }
   ],
   "source": [
    "## Import required Python modules\n",
    "%matplotlib inline\n",
    "import matplotlib.pyplot as plt\n",
    "import numpy as np\n",
    "import scipy, scipy.stats\n",
    "import io\n",
    "import base64\n",
    "#from IPython.core.display import display\n",
    "from IPython.display import display, HTML, Image\n",
    "from urllib.request import urlopen\n",
    "\n",
    "try:\n",
    "    import astropy as apy\n",
    "    import astropy.table\n",
    "    _apy = True\n",
    "    #print('Loaded astropy')\n",
    "except:\n",
    "    _apy = False\n",
    "    #print('Could not load astropy')\n",
    "\n",
    "## Customising the font size of figures\n",
    "plt.rcParams.update({'font.size': 14})\n",
    "\n",
    "## Customising the look of the notebook\n",
    "display(HTML(\"<style>.container { width:95% !important; }</style>\"))\n",
    "## This custom file is adapted from https://github.com/lmarti/jupyter_custom/blob/master/custom.include\n",
    "HTML('custom.css')\n",
    "#HTML(urlopen('https://raw.githubusercontent.com/bretonr/intro_data_science/master/custom.css').read().decode('utf-8'))"
   ]
  },
  {
   "cell_type": "code",
   "execution_count": 2,
   "metadata": {},
   "outputs": [],
   "source": [
    "## Custom imports\n",
    "from scipy.stats import binom, poisson, chi2, norm, uniform\n",
    "from scipy.optimize import curve_fit\n",
    "from math import ceil, pi\n",
    "from numpy import exp\n",
    "from matplotlib.collections import PatchCollection\n",
    "from matplotlib.patches import Circle, Rectangle\n",
    "from matplotlib.colors import makeMappingArray"
   ]
  },
  {
   "cell_type": "code",
   "execution_count": 3,
   "metadata": {
    "scrolled": true
   },
   "outputs": [
    {
     "data": {
      "text/html": [
       "<script>\n",
       "code_show=true;\n",
       "function code_toggle() {\n",
       " if (code_show){\n",
       " $('div.input').hide();\n",
       " } else {\n",
       " $('div.input').show();\n",
       " }\n",
       " code_show = !code_show\n",
       "} \n",
       "$( document ).ready(code_toggle);\n",
       "</script>\n",
       "<form action=\"javascript:code_toggle()\"><input type=\"submit\" value=\"Click here to toggle on/off the Python code.\"></form>"
      ],
      "text/plain": [
       "<IPython.core.display.HTML object>"
      ]
     },
     "execution_count": 3,
     "metadata": {},
     "output_type": "execute_result"
    }
   ],
   "source": [
    "## Adding a button to hide the Python source code\n",
    "HTML('''<script>\n",
    "code_show=true;\n",
    "function code_toggle() {\n",
    " if (code_show){\n",
    " $('div.input').hide();\n",
    " } else {\n",
    " $('div.input').show();\n",
    " }\n",
    " code_show = !code_show\n",
    "} \n",
    "$( document ).ready(code_toggle);\n",
    "</script>\n",
    "<form action=\"javascript:code_toggle()\"><input type=\"submit\" value=\"Click here to toggle on/off the Python code.\"></form>''')"
   ]
  },
  {
   "cell_type": "markdown",
   "metadata": {},
   "source": [
    "<div class=\"container-fluid\">\n",
    "    <div class=\"row\">\n",
    "        <div class=\"col-md-8\" align=\"center\">\n",
    "            <h1>PHYS 10791: Introduction to Data Science</h1>\n",
    "            <!--<h3>2019-2020 Academic Year</h3><br>-->\n",
    "        </div>\n",
    "        <div class=\"col-md-3\">\n",
    "            <img align='center' style=\"border-width:0\" src=\"images/UoM_logo.png\"/>\n",
    "        </div>\n",
    "    </div>\n",
    "</div>\n",
    "\n",
    "<div class=\"container-fluid\">\n",
    "    <div class=\"row\">\n",
    "        <div class=\"col-md-2\" align=\"right\">\n",
    "            <b>Course instructors:&nbsp;&nbsp;</b>\n",
    "        </div>\n",
    "        <div class=\"col-md-9\" align=\"left\">\n",
    "            <a href=\"http://www.renebreton.org\">Prof. Rene Breton</a> - Twitter <a href=\"https://twitter.com/BretonRene\">@BretonRene</a><br>\n",
    "            <a href=\"http://www.hep.manchester.ac.uk/u/gersabec\">Dr. Marco Gersabeck</a> - Twitter <a href=\"https://twitter.com/MarcoGersabeck\">@MarcoGersabeck</a>\n",
    "        </div>\n",
    "    </div>\n",
    "</div>"
   ]
  },
  {
   "cell_type": "markdown",
   "metadata": {},
   "source": [
    "# Chapter 8 - Problem Sheet"
   ]
  },
  {
   "cell_type": "markdown",
   "metadata": {},
   "source": [
    "### Problem 1: Type I and II errors\n",
    "\n",
    "Identify which statements are correct.\n",
    "\n",
    "- Type I error is the rate of acceptance of the hypothesis in a hypothesis test.\n",
    "- Type I error is the rate of rejection of the hypothesis in a hypothesis test.\n",
    "- Type I error is the rate of acceptance of the alternative hypothesis in a hypothesis test.\n",
    "- Type I error is the rate of rejection of the alternative hypothesis in a hypothesis test.\n",
    "- Type II error is the rate of acceptance of the hypothesis in a hypothesis test.\n",
    "- Type II error is the rate of rejection of the hypothesis in a hypothesis test.\n",
    "- Type II error is the rate of acceptance of the alternative hypothesis in a hypothesis test.\n",
    "- Type II error is the rate of rejection of the alternative hypothesis in a hypothesis test.\n"
   ]
  },
  {
   "cell_type": "markdown",
   "metadata": {},
   "source": [
    "### Solution to Problem 1\n",
    "\n",
    "The correct statements are\n",
    "- Type I error is the rate of rejection of the hypothesis in a hypothesis test.\n",
    "- Type II error is the rate of acceptance of the alternative hypothesis in a hypothesis test."
   ]
  },
  {
   "cell_type": "markdown",
   "metadata": {},
   "source": [
    "### Problem 2: The choice of significance and power\n",
    "\n",
    "#### Problem 2.1\n",
    "\n",
    "Describe in your words what are the relevant things to consider when choosing the acceptance point of a hypothesis test, which defines significance and power.\n",
    "\n",
    "#### Problem 2.2\n",
    "\n",
    "In a medical diagnostic test that aims to identify a disease the quantities discussed are often: \n",
    "- the sensitivity, i.e. the rate at which true positives are not overlooked, and\n",
    "- the specificity, i.e. the rate of candidates without a disease that are correctly identified as healthy.\n",
    "\n",
    "Relate these to Type I and Type II errors and to significance and power.\n",
    "\n",
    "#### Problem 2.3\n",
    "\n",
    "A medical diagnostic test has a rate of Type I errors of $20\\%$ and a rate of Type II errors of $0.01\\%$. The test is carried out on 100,000 candidates. It is expected that 1 in 1,000 people carry the disease. Based on these numbers calculate\n",
    "- the expected number of infected candidates,\n",
    "- the expected number of candidates returning a postive test,\n",
    "- the number of infected candidates not identified as such, and\n",
    "- the fraction of postive tests that were returned by healthy candidates.\n",
    "\n",
    "Based on the last number, discuss the usefulness of this test and what could be done to address this."
   ]
  },
  {
   "cell_type": "markdown",
   "metadata": {},
   "source": [
    "### Solution to Problem 2\n",
    "\n",
    "#### Solution 2.1\n",
    "The acceptance point of a hypothesis test should minimise significance and maximise power, i.e. maximise the integrals over the rejection region for the hypothesis and alternative hypothesis, respectively.\n",
    "\n",
    "Which of the two is more important depends on the expected rate of the two cases. For example, is it is expected that the hypothesis is false in the vast majority of cases then it is crucial to maximise the power to minimise the rate of false positives or Type II errors as otherwise the total number of false positives would be greater than the number of true positives.\n",
    "\n",
    "#### Solution 2.2\n",
    "\n",
    "The sensitivity is the acceptance rate in the case that the hypothesis is true, which is one minus the significance (rate of Type I errors).\n",
    "\n",
    "The specificity is the rejection rate in the case that the hypothesis is false, which is the power of the test or one minus the rate of Type II errors.\n",
    "\n",
    "#### Solution 2.3\n",
    "- $1/1000 \\times 100000 = 100$\n",
    "- $100\\times(1-0.2)+(100000-100)\\times 0.01\\% = 80 + 100 = 180$\n",
    "- $100\\times0.2 = 20$\n",
    "- $100/180=56\\%$\n",
    "\n",
    "The question of the usefulness depends very much on the consequences of the test. If a positive test would have as a consequence an invasive treatment, then this should clearly not end up being applied to a majority of healthy individuals. If on the other hand, this is mostly to assess the prevalence of the disease in a population, which could even be corrected for the known rate of false positives, the test would be fine.\n",
    "\n",
    "If the test was carried out twice on those positively identified, the picture changes dramatically:\n",
    "- of the 80 true positive cases, 64 would still be identified as such a second time, while\n",
    "- none of the false positive cases would be expected to return a second positive test ($100\\times 0.01\\% \\ll 1$).\n",
    "\n",
    "In this case one might even prefer a test with a greater rate of false positives if this would allow to reduce the number of false negatives."
   ]
  },
  {
   "cell_type": "markdown",
   "metadata": {
    "slideshow": {
     "slide_type": "slide"
    }
   },
   "source": [
    "### Problem 3: Hypothesis tests with Poisson and Gauss\n",
    "\n",
    "The last lecture video discussed an example in which a Poisson distribution was approximated by a Gaussian distribution. This problem aims to illustrate this further. In a counting experiment, assume that the hypothesis is that the expected count rate is 30. Make a table for counts 0 to 50 with the following columns (if you're not using a computer and calculate the numbers one-by-one, you may start at a count of 15; note also that one of the parts of the Poisson probability formula does not depend on the count):\n",
    "- The count (a running number from 0 to 50)\n",
    "- The Poisson probability for this count\n",
    "- The cumulative Poisson probability for counts from 0 to this value\n",
    "- The signed number of standard deviations corresponding to the deviation of this count from the mean when approximating the Poisson distribution by a Gaussian normal distribution.\n",
    "- The fractional integral of the Gaussian normal distribution up to the number of standard deviations calculated in the previous column\n",
    "- The ratio of the cumulative sum of Poisson probabilities to the fraction integral of the normal distribution, i.e. of the values in the third and fifth column."
   ]
  },
  {
   "cell_type": "markdown",
   "metadata": {},
   "source": [
    "### Solution to Problem 3\n",
    "\n",
    "The table below contains the number as described above. The last column shows that for counts above the mean of 30 the relative difference between the cumulative sum of Poisson probabilities and the integral over Gaussian probabilities is <10% and for counts greater than 37 the relative difference is <1%.\n",
    "\n",
    "n_sigma is calculated as $(N-\\mu)/\\sigma$ with $\\mu=30$ and $\\sigma=\\sqrt{30}$."
   ]
  },
  {
   "cell_type": "code",
   "execution_count": 18,
   "metadata": {},
   "outputs": [
    {
     "name": "stdout",
     "output_type": "stream",
     "text": [
      " N  P_Poiss   Cum_P      n_sigma   Cum_Gauss Poiss/Gauss\n",
      " 1  0.000000  0.000000  -5.294651  0.000000  0.000049\n",
      " 2  0.000000  0.000000  -5.112077  0.000000  0.000283\n",
      " 3  0.000000  0.000000  -4.929503  0.000000  0.001131\n",
      " 4  0.000000  0.000000  -4.746929  0.000001  0.003510\n",
      " 5  0.000000  0.000000  -4.564355  0.000003  0.009011\n",
      " 6  0.000000  0.000000  -4.381780  0.000006  0.019933\n",
      " 7  0.000000  0.000001  -4.199206  0.000013  0.039079\n",
      " 8  0.000002  0.000002  -4.016632  0.000030  0.069316\n",
      " 9  0.000005  0.000007  -3.834058  0.000063  0.113002\n",
      "10  0.000015  0.000022  -3.651484  0.000130  0.171433\n",
      "11  0.000042  0.000064  -3.468910  0.000261  0.244470\n",
      "12  0.000104  0.000168  -3.286335  0.000508  0.330438\n",
      "13  0.000240  0.000407  -3.103761  0.000955  0.426302\n",
      "14  0.000513  0.000921  -2.921187  0.001744  0.528065\n",
      "15  0.001027  0.001947  -2.738613  0.003085  0.631284\n",
      "16  0.001925  0.003873  -2.556039  0.005294  0.731591\n",
      "17  0.003397  0.007270  -2.373464  0.008811  0.825125\n",
      "18  0.005662  0.012933  -2.190890  0.014230  0.908842\n",
      "19  0.008941  0.021873  -2.008316  0.022305  0.980659\n",
      "20  0.013411  0.035285  -1.825742  0.033945  1.039477\n",
      "21  0.019159  0.054443  -1.643168  0.050174  1.085089\n",
      "22  0.026126  0.080569  -1.460593  0.072064  1.118028\n",
      "23  0.034077  0.114646  -1.278019  0.100621  1.139380\n",
      "24  0.042596  0.157242  -1.095445  0.136661  1.150600\n",
      "25  0.051115  0.208357  -0.912871  0.180655  1.153343\n",
      "26  0.058979  0.267337  -0.730297  0.232604  1.149319\n",
      "27  0.065532  0.332869  -0.547723  0.291941  1.140192\n",
      "28  0.070213  0.403082  -0.365148  0.357500  1.127502\n",
      "29  0.072635  0.475717  -0.182574  0.427566  1.112616\n",
      "30  0.072635  0.548352   0.000000  0.500000  1.096703\n",
      "31  0.070291  0.618643   0.182574  0.572434  1.080724\n",
      "32  0.065898  0.684541   0.365148  0.642500  1.065434\n",
      "33  0.059908  0.744449   0.547723  0.708059  1.051394\n",
      "34  0.052860  0.797308   0.730297  0.767396  1.038980\n",
      "35  0.045308  0.842617   0.912871  0.819345  1.028403\n",
      "36  0.037757  0.880373   1.095445  0.863339  1.019731\n",
      "37  0.030614  0.910987   1.278019  0.899379  1.012907\n",
      "38  0.024169  0.935156   1.460593  0.927936  1.007780\n",
      "39  0.018591  0.953747   1.643168  0.949826  1.004128\n",
      "40  0.013943  0.967690   1.825742  0.966055  1.001692\n",
      "41  0.010203  0.977893   2.008316  0.977695  1.000202\n",
      "42  0.007288  0.985180   2.190890  0.985770  0.999402\n",
      "43  0.005084  0.990265   2.373464  0.991189  0.999068\n",
      "44  0.003467  0.993731   2.556039  0.994706  0.999020\n",
      "45  0.002311  0.996042   2.738613  0.996915  0.999125\n",
      "46  0.001507  0.997550   2.921187  0.998256  0.999292\n",
      "47  0.000962  0.998512   3.103761  0.999045  0.999467\n",
      "48  0.000601  0.999113   3.286335  0.999492  0.999620\n",
      "49  0.000368  0.999481   3.468910  0.999739  0.999742\n",
      "50  0.000221  0.999702   3.651484  0.999870  0.999832\n"
     ]
    }
   ],
   "source": [
    "import numpy as np\n",
    "import scipy, scipy.stats\n",
    "from math import ceil, pi\n",
    "from scipy.stats import poisson, norm, binom\n",
    "np.set_printoptions(precision=5,suppress=True)\n",
    "\n",
    "mean = 30\n",
    "ks = np.array(range(0,51))\n",
    "\n",
    "rvp = poisson(mean)       # initialise poisson distribution\n",
    "p_probs = rvp.pmf(ks)      # calculate poisson probabilities for all values of x and return list\n",
    "p_ints = np.cumsum(p_probs, dtype=float) # calculate cumulative sum of probabilities\n",
    "\n",
    "g_sigmas = (ks-mean)/mean**0.5\n",
    "g_cumprob = norm.cdf(g_sigmas)\n",
    "\n",
    "ratios = p_ints / g_cumprob\n",
    "print(' N  P_Poiss   Cum_P      n_sigma   Cum_Gauss Poiss/Gauss')\n",
    "ratios = np.array(ratios)\n",
    "for a,b,c,d,e,f in zip(ks,p_probs,p_ints,g_sigmas,g_cumprob,ratios):\n",
    "    if a > 0:\n",
    "        print('{:2d}  {:f}  {:f}  {: f}  {:f}  {:f}'.format(a,b,c,d,e,f))"
   ]
  },
  {
   "cell_type": "markdown",
   "metadata": {},
   "source": [
    "<div class=\"well\" align=\"center\">\n",
    "    <div class=\"container-fluid\">\n",
    "        <div class=\"row\">\n",
    "            <div class=\"col-md-3\" align=\"center\">\n",
    "                <img align=\"center\" alt=\"Creative Commons License\" style=\"border-width:0\" src=\"https://i.creativecommons.org/l/by-nc-sa/4.0/88x31.png\" width=\"60%\">\n",
    "            </div>\n",
    "            <div class=\"col-md-8\">\n",
    "            This work is licensed under a <a href=\"http://creativecommons.org/licenses/by-nc-sa/4.0/\">Creative Commons Attribution-NonCommercial-ShareAlike 4.0 International License</a>).\n",
    "            </div>\n",
    "        </div>\n",
    "    </div>\n",
    "    <br>\n",
    "    <br>\n",
    "    <i>Note: The content of this Jupyter Notebook is provided for educational purposes only.</i>\n",
    "</div>"
   ]
  }
 ],
 "metadata": {
  "kernelspec": {
   "display_name": "Python 3",
   "language": "python",
   "name": "python3"
  },
  "language_info": {
   "codemirror_mode": {
    "name": "ipython",
    "version": 3
   },
   "file_extension": ".py",
   "mimetype": "text/x-python",
   "name": "python",
   "nbconvert_exporter": "python",
   "pygments_lexer": "ipython3",
   "version": "3.8.6"
  }
 },
 "nbformat": 4,
 "nbformat_minor": 4
}
