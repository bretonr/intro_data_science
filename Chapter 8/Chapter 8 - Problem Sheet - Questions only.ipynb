{
 "cells": [
  {
   "cell_type": "code",
   "execution_count": 1,
   "metadata": {
    "scrolled": true
   },
   "outputs": [
    {
     "data": {
      "text/html": [
       "<style>.container { width:95% !important; }</style>"
      ],
      "text/plain": [
       "<IPython.core.display.HTML object>"
      ]
     },
     "metadata": {},
     "output_type": "display_data"
    },
    {
     "data": {
      "text/html": [
       "custom.css"
      ],
      "text/plain": [
       "<IPython.core.display.HTML object>"
      ]
     },
     "execution_count": 1,
     "metadata": {},
     "output_type": "execute_result"
    }
   ],
   "source": [
    "## Import required Python modules\n",
    "%matplotlib inline\n",
    "import matplotlib.pyplot as plt\n",
    "import numpy as np\n",
    "import scipy, scipy.stats\n",
    "import io\n",
    "import base64\n",
    "#from IPython.core.display import display\n",
    "from IPython.display import display, HTML, Image\n",
    "from urllib.request import urlopen\n",
    "\n",
    "try:\n",
    "    import astropy as apy\n",
    "    import astropy.table\n",
    "    _apy = True\n",
    "    #print('Loaded astropy')\n",
    "except:\n",
    "    _apy = False\n",
    "    #print('Could not load astropy')\n",
    "\n",
    "## Customising the font size of figures\n",
    "plt.rcParams.update({'font.size': 14})\n",
    "\n",
    "## Customising the look of the notebook\n",
    "display(HTML(\"<style>.container { width:95% !important; }</style>\"))\n",
    "## This custom file is adapted from https://github.com/lmarti/jupyter_custom/blob/master/custom.include\n",
    "HTML('custom.css')\n",
    "#HTML(urlopen('https://raw.githubusercontent.com/bretonr/intro_data_science/master/custom.css').read().decode('utf-8'))"
   ]
  },
  {
   "cell_type": "code",
   "execution_count": 2,
   "metadata": {},
   "outputs": [],
   "source": [
    "## Custom imports\n",
    "from scipy.stats import binom, poisson, chi2, norm, uniform\n",
    "from scipy.optimize import curve_fit\n",
    "from math import ceil, pi\n",
    "from numpy import exp\n",
    "from matplotlib.collections import PatchCollection\n",
    "from matplotlib.patches import Circle, Rectangle\n",
    "from matplotlib.colors import makeMappingArray"
   ]
  },
  {
   "cell_type": "code",
   "execution_count": 3,
   "metadata": {
    "scrolled": true
   },
   "outputs": [
    {
     "data": {
      "text/html": [
       "<script>\n",
       "code_show=true;\n",
       "function code_toggle() {\n",
       " if (code_show){\n",
       " $('div.input').hide();\n",
       " } else {\n",
       " $('div.input').show();\n",
       " }\n",
       " code_show = !code_show\n",
       "} \n",
       "$( document ).ready(code_toggle);\n",
       "</script>\n",
       "<form action=\"javascript:code_toggle()\"><input type=\"submit\" value=\"Click here to toggle on/off the Python code.\"></form>"
      ],
      "text/plain": [
       "<IPython.core.display.HTML object>"
      ]
     },
     "execution_count": 3,
     "metadata": {},
     "output_type": "execute_result"
    }
   ],
   "source": [
    "## Adding a button to hide the Python source code\n",
    "HTML('''<script>\n",
    "code_show=true;\n",
    "function code_toggle() {\n",
    " if (code_show){\n",
    " $('div.input').hide();\n",
    " } else {\n",
    " $('div.input').show();\n",
    " }\n",
    " code_show = !code_show\n",
    "} \n",
    "$( document ).ready(code_toggle);\n",
    "</script>\n",
    "<form action=\"javascript:code_toggle()\"><input type=\"submit\" value=\"Click here to toggle on/off the Python code.\"></form>''')"
   ]
  },
  {
   "cell_type": "markdown",
   "metadata": {},
   "source": [
    "<div class=\"container-fluid\">\n",
    "    <div class=\"row\">\n",
    "        <div class=\"col-md-8\" align=\"center\">\n",
    "            <h1>PHYS 10791: Introduction to Data Science</h1>\n",
    "            <!--<h3>2019-2020 Academic Year</h3><br>-->\n",
    "        </div>\n",
    "        <div class=\"col-md-3\">\n",
    "            <img align='center' style=\"border-width:0\" src=\"images/UoM_logo.png\"/>\n",
    "        </div>\n",
    "    </div>\n",
    "</div>\n",
    "\n",
    "<div class=\"container-fluid\">\n",
    "    <div class=\"row\">\n",
    "        <div class=\"col-md-2\" align=\"right\">\n",
    "            <b>Course instructors:&nbsp;&nbsp;</b>\n",
    "        </div>\n",
    "        <div class=\"col-md-9\" align=\"left\">\n",
    "            <a href=\"http://www.renebreton.org\">Prof. Rene Breton</a> - Twitter <a href=\"https://twitter.com/BretonRene\">@BretonRene</a><br>\n",
    "            <a href=\"http://www.hep.manchester.ac.uk/u/gersabec\">Dr. Marco Gersabeck</a> - Twitter <a href=\"https://twitter.com/MarcoGersabeck\">@MarcoGersabeck</a>\n",
    "        </div>\n",
    "    </div>\n",
    "</div>"
   ]
  },
  {
   "cell_type": "markdown",
   "metadata": {},
   "source": [
    "# Chapter 8 - Problem Sheet"
   ]
  },
  {
   "cell_type": "markdown",
   "metadata": {},
   "source": [
    "### Problem 1: Type I and II errors\n",
    "\n",
    "Identify which statements are correct.\n",
    "\n",
    "- Type I error is the rate of acceptance of the hypothesis in a hypothesis test.\n",
    "- Type I error is the rate of rejection of the hypothesis in a hypothesis test.\n",
    "- Type I error is the rate of acceptance of the alternative hypothesis in a hypothesis test.\n",
    "- Type I error is the rate of rejection of the alternative hypothesis in a hypothesis test.\n",
    "- Type II error is the rate of acceptance of the hypothesis in a hypothesis test.\n",
    "- Type II error is the rate of rejection of the hypothesis in a hypothesis test.\n",
    "- Type II error is the rate of acceptance of the alternative hypothesis in a hypothesis test.\n",
    "- Type II error is the rate of rejection of the alternative hypothesis in a hypothesis test.\n"
   ]
  },
  {
   "cell_type": "markdown",
   "metadata": {},
   "source": [
    "### Solution to Problem 1\n",
    "\n",
    "The correct statements are\n",
    "- Type I error is the rate of rejection of the hypothesis in a hypothesis test.\n",
    "- Type II error is the rate of acceptance of the alternative hypothesis in a hypothesis test."
   ]
  },
  {
   "cell_type": "markdown",
   "metadata": {},
   "source": [
    "### Problem 2: The choice of significance and power\n",
    "\n",
    "#### Problem 2.1\n",
    "\n",
    "Describe in your words what are the relevant things to consider when choosing the acceptance point of a hypothesis test, which defines significance and power.\n",
    "\n",
    "#### Problem 2.2\n",
    "\n",
    "In a medical diagnostic test that aims to identify a disease the quantities discussed are often: \n",
    "- the sensitivity, i.e. the rate at which true positives are not overlooked, and\n",
    "- the specificity, i.e. the rate of candidates without a disease that are correctly identified as healthy.\n",
    "\n",
    "Relate these to Type I and Type II errors and to significance and power.\n",
    "\n",
    "#### Problem 2.3\n",
    "\n",
    "A medical diagnostic test has a rate of Type I errors of $20\\%$ and a rate of Type II errors of $0.01\\%$. The test is carried out on 100,000 candidates. It is expected that 1 in 1,000 people carry the disease. Based on these numbers calculate\n",
    "- the expected number of infected candidates,\n",
    "- the expected number of candidates returning a postive test,\n",
    "- the number of infected candidates not identified as such, and\n",
    "- the fraction of postive tests that were returned by healthy candidates.\n",
    "\n",
    "Based on the last number, discuss the usefulness of this test and what could be done to address this."
   ]
  },
  {
   "cell_type": "markdown",
   "metadata": {},
   "source": [
    "### Solution to Problem 2\n",
    "\n",
    "#### Solution 2.3\n",
    "- $1/1000 \\times 100000 = 100$\n",
    "- $100\\times(1-0.2)+(100000-100)\\times 0.01\\% = 80 + 100 = 180$\n",
    "- $100\\times0.2 = 20$\n",
    "- $100/180=56\\%$\n",
    "\n",
    "The question of the usefulness depends very much on the consequences of the test. If a positive test would have as a consequence an invasive treatment, then this should clearly not end up being applied to a majority of healthy individuals. If on the other hand, this is mostly to assess the prevalence of the disease in a population, which could even be corrected for the known rate of false positives, the test would be fine.\n",
    "\n",
    "If the test was carried out twice on those positively identified, the picture changes dramatically:\n",
    "- of the 80 true positive cases, 64 would still be identified as such a second time, while\n",
    "- none of the false positive cases would be expected to return a second positive test ($100\\times 0.01\\% \\ll 1$).\n",
    "\n",
    "In this case one might even prefer a test with a greater rate of false positives if this would allow to reduce the number of false negatives."
   ]
  },
  {
   "cell_type": "markdown",
   "metadata": {
    "slideshow": {
     "slide_type": "slide"
    }
   },
   "source": [
    "### Problem 3: Hypothesis tests with Poisson and Gauss\n",
    "\n",
    "The last lecture video discussed an example in which a Poisson distribution was approximated by a Gaussian distribution. This problem aims to illustrate this further. In a counting experiment, assume that the hypothesis is that the expected count rate is 30. Make a table for counts 0 to 50 with the following columns (if you're not using a computer and calculate the numbers one-by-one, you may start at a count of 15; note also that one of the parts of the Poisson probability formula does not depend on the count):\n",
    "- The count (a running number from 0 to 50)\n",
    "- The Poisson probability for this count\n",
    "- The cumulative Poisson probability for counts from 0 to this value\n",
    "- The signed number of standard deviations corresponding to the deviation of this count from the mean when approximating the Poisson distribution by a Gaussian normal distribution.\n",
    "- The fractional integral of the Gaussian normal distribution up to the number of standard deviations calculated in the previous column\n",
    "- The ratio of the cumulative sum of Poisson probabilities to the fraction integral of the normal distribution, i.e. of the values in the third and fifth column."
   ]
  },
  {
   "cell_type": "code",
   "execution_count": 18,
   "metadata": {},
   "outputs": [
    {
     "name": "stdout",
     "output_type": "stream",
     "text": [
      "0 9.357622968840175e-14 9.357622968840175e-14 -5.477225575051661 2.160231528913744e-08 4.331768536655691e-06\n",
      "1 2.807286890652049e-12 2.900863120340451e-12 -5.294651389216606 5.96218342720841e-08 4.86543756286056e-05\n",
      "2 4.210930335978075e-11 4.50101664801212e-11 -5.11207720338155 1.5931777314234595e-07 0.0002825181747921237\n",
      "3 4.21093033597808e-10 4.661032000779292e-10 -4.929503017546495 4.1219531191084066e-07 0.0011307823903119716\n",
      "4 3.1581977519835553e-09 3.6243009520614845e-09 -4.74692883171144 1.0326428980631015e-06 0.003509733092494493\n",
      "5 1.894918651190139e-08 2.2573487463962875e-08 -4.564354645876384 2.5051659781952214e-06 0.009010775198306552\n",
      "6 9.474593255950688e-08 1.1731942002346976e-07 -4.381780460041329 5.885669548807499e-06 0.019933062678865476\n",
      "7 4.0605399668360107e-07 5.233734167070708e-07 -4.199206274206274 1.3392611712705536e-05 0.0390792645926222\n",
      "8 1.522702487563499e-06 2.04607590427057e-06 -4.016632088371218 2.9517890247939978e-05 0.06931646832088087\n",
      "9 5.075674958544996e-06 7.121750862815566e-06 -3.8340579025361627 6.302322506040695e-05 0.11300200610155159\n",
      "10 1.522702487563506e-05 2.2348775738450625e-05 -3.6514837167011076 0.0001303648164276581 0.1714325716927802\n",
      "11 4.152824966082291e-05 6.387702539927353e-05 -3.468909530866052 0.00026128769756212327 0.24447008410752386\n",
      "12 0.000103820624152057 0.00016769764955133055 -3.2863353450309964 0.0005075004735565336 0.33043840999027096\n",
      "13 0.0002395860557355168 0.00040728370528684735 -3.1037611591959413 0.0009553875686822204 0.42630207743713844\n",
      "14 0.000513398690861821 0.0009206823961486683 -2.9211869733608857 0.0017435024460706946 0.5280648720760882\n",
      "15 0.0010267973817236365 0.0019474797778723048 -2.7386127875258306 0.00308494966027208 0.6312841350223345\n",
      "16 0.0019252450907318224 0.003872724868604127 -2.556038601690775 0.005293568667028473 0.731590560584542\n",
      "17 0.0033974913365855796 0.007270216205189707 -2.37346441585572 0.008811045481162216 0.8251252613249175\n",
      "18 0.005662485560975955 0.012932701766165662 -2.1908902300206643 0.014229868458155282 0.9088419758900722\n",
      "19 0.008940766675225198 0.02187346844139086 -2.008316044185609 0.022304859012469803 0.9806593455337347\n",
      "20 0.013411150012837837 0.0352846184542287 -1.8257418583505538 0.033944577430914495 1.0394773222922429\n",
      "21 0.019158785732625534 0.054443404186854234 -1.6431676725154982 0.050174123231145375 1.085089298641869\n",
      "22 0.026125616908125687 0.08056902109497992 -1.4605934866804429 0.07206351740800766 1.1180278730889026\n",
      "23 0.03407689161929397 0.11464591271427388 -1.2780193008453875 0.10062131047886197 1.139380039562873\n",
      "24 0.042596114524117726 0.1572420272383916 -1.0954451150103321 0.13666083914614907 1.1506004808753765\n",
      "25 0.05111533742894147 0.20835736466733307 -0.9128709291752769 0.18065521426308934 1.1533426561599318\n",
      "26 0.058979235494932516 0.26733660016226557 -0.7302967433402214 0.2326044092260709 1.1493187126235345\n",
      "27 0.06553248388325897 0.3328690840455245 -0.5477225575051661 0.2919412103851826 1.140192176384904\n",
      "28 0.07021337558920529 0.4030824596347298 -0.3651483716701107 0.35750032734404463 1.1275023511987408\n",
      "29 0.07263452647159181 0.47571698610632157 -0.18257418583505536 0.42756607029235294 1.1126163163064948\n",
      "30 0.07263452647159181 0.5483515125779134 0.0 0.5 1.0967030251558267\n",
      "31 0.07029147723057269 0.6186429898084861 0.18257418583505536 0.5724339297076471 1.0807238315248693\n",
      "32 0.06589825990366238 0.6845412497121485 0.3651483716701107 0.6424996726559553 1.06543439451479\n",
      "33 0.05990750900332832 0.7444487587154768 0.5477225575051661 0.7080587896148174 1.0513939938807277\n",
      "34 0.052859566767644015 0.7973083254831208 0.7302967433402214 0.7673955907739292 1.0389795498812082\n",
      "35 0.045308200086552224 0.842616525569673 0.9128709291752769 0.8193447857369107 1.0284028656041693\n",
      "36 0.03775683340545924 0.8803733589751322 1.0954451150103321 0.863339160853851 1.0197305982326046\n",
      "37 0.030613648707130018 0.9109870076822623 1.2780193008453875 0.899378689521138 1.0129070416014694\n",
      "38 0.024168670031944207 0.9351556777142065 1.4605934866804429 0.9279364825919924 1.007779837583332\n",
      "39 0.018591284639957045 0.9537469623541636 1.6431676725154982 0.9498258767688547 1.0041282151615492\n",
      "40 0.013943463479967897 0.9676904258341315 1.8257418583505538 0.9660554225690855 1.0016924528622777\n",
      "41 0.010202534253634987 0.9778929600877664 2.008316044185609 0.9776951409875302 1.000202332088954\n",
      "42 0.007287524466882295 0.9851804845546487 2.1908902300206643 0.9857701315418447 0.9994018412930875\n",
      "43 0.0050843193954991095 0.9902648039501478 2.37346441585572 0.9911889545188378 0.9990676343148531\n",
      "44 0.0034665814060222317 0.99373138535617 2.556038601690775 0.9947064313329715 0.9990197650823521\n",
      "45 0.002311054270681366 0.9960424396268514 2.7386127875258306 0.9969150503397279 0.9991246889967412\n",
      "46 0.0015072093069661626 0.9975496489338175 2.9211869733608857 0.9982564975539293 0.9992919168351583\n",
      "47 0.0009620484938081733 0.9985116974276257 3.1037611591959413 0.9990446124313178 0.9994665753690466\n",
      "48 0.0006012803086301152 0.9991129777362558 3.2863353450309964 0.9994924995264435 0.9996202855045261\n",
      "49 0.00036813080120212124 0.999481108537458 3.468909530866052 0.9997387123024378 0.9997423289087339\n",
      "50 0.00022087848072126846 0.9997019870181793 3.6514837167011076 0.9998696351835723 0.9998323299763351\n"
     ]
    }
   ],
   "source": [
    "import numpy as np\n",
    "import scipy, scipy.stats\n",
    "from math import ceil, pi\n",
    "from scipy.stats import poisson, norm, binom\n",
    "\n",
    "mean = 30\n",
    "ks = np.array(range(0,51))\n",
    "\n",
    "rvp = poisson(mean)       # initialise poisson distribution\n",
    "p_probs = rvp.pmf(ks)      # calculate poisson probabilities for all values of x and return list\n",
    "p_ints = np.cumsum(p_probs, dtype=float) # calculate cumulative sum of probabilities\n",
    "\n",
    "g_sigmas = (ks-mean)/mean**0.5\n",
    "g_cumprob = norm.cdf(g_sigmas)\n",
    "\n",
    "ratios = p_ints / g_cumprob\n",
    "\n",
    "np.set_printoptions(precision=5,suppress=True)\n",
    "for a,b,c,d,e,f in zip(ks,p_probs,p_ints,g_sigmas,g_cumprob,ratios):\n",
    "    print(a,b,c,d,e,f)"
   ]
  },
  {
   "cell_type": "markdown",
   "metadata": {},
   "source": [
    "<div class=\"well\" align=\"center\">\n",
    "    <div class=\"container-fluid\">\n",
    "        <div class=\"row\">\n",
    "            <div class=\"col-md-3\" align=\"center\">\n",
    "                <img align=\"center\" alt=\"Creative Commons License\" style=\"border-width:0\" src=\"https://i.creativecommons.org/l/by-nc-sa/4.0/88x31.png\" width=\"60%\">\n",
    "            </div>\n",
    "            <div class=\"col-md-8\">\n",
    "            This work is licensed under a <a href=\"http://creativecommons.org/licenses/by-nc-sa/4.0/\">Creative Commons Attribution-NonCommercial-ShareAlike 4.0 International License</a>).\n",
    "            </div>\n",
    "        </div>\n",
    "    </div>\n",
    "    <br>\n",
    "    <br>\n",
    "    <i>Note: The content of this Jupyter Notebook is provided for educational purposes only.</i>\n",
    "</div>"
   ]
  }
 ],
 "metadata": {
  "kernelspec": {
   "display_name": "Python 3",
   "language": "python",
   "name": "python3"
  },
  "language_info": {
   "codemirror_mode": {
    "name": "ipython",
    "version": 3
   },
   "file_extension": ".py",
   "mimetype": "text/x-python",
   "name": "python",
   "nbconvert_exporter": "python",
   "pygments_lexer": "ipython3",
   "version": "3.8.6"
  }
 },
 "nbformat": 4,
 "nbformat_minor": 4
}
